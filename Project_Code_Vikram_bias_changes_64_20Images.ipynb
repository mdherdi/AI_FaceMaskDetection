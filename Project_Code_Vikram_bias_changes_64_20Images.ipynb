{
 "cells": [
  {
   "cell_type": "markdown",
   "metadata": {},
   "source": [
    "<pre>\n",
    "<b>\n",
    "COMP-6721 | 2021-Winter\n",
    "Project | Part-1\n",
    "\n",
    "Pravesh Gupta | 40152506\n",
    "Vikramjeet Singh | 40134477\n",
    "Manjot Kaur Dherdi | 40107905\n",
    "</b>\n",
    "</pre>"
   ]
  },
  {
   "cell_type": "markdown",
   "metadata": {},
   "source": [
    "# 1. Data Loading"
   ]
  },
  {
   "cell_type": "markdown",
   "metadata": {},
   "source": [
    "## 1.1. Installing required python modules"
   ]
  },
  {
   "cell_type": "code",
   "execution_count": 1,
   "metadata": {},
   "outputs": [
    {
     "name": "stdout",
     "output_type": "stream",
     "text": [
      "Requirement already satisfied: torch in c:\\users\\vkrmj\\anaconda3\\lib\\site-packages (1.8.0)\n",
      "Requirement already satisfied: typing_extensions in c:\\users\\vkrmj\\anaconda3\\lib\\site-packages (from torch) (3.7.4.3)Note: you may need to restart the kernel to use updated packages.\n",
      "Requirement already satisfied: numpy in c:\\users\\vkrmj\\anaconda3\\lib\\site-packages (from torch) (1.19.2)\n",
      "\n"
     ]
    }
   ],
   "source": [
    "pip install torch"
   ]
  },
  {
   "cell_type": "code",
   "execution_count": 1,
   "metadata": {},
   "outputs": [
    {
     "name": "stdout",
     "output_type": "stream",
     "text": [
      "Requirement already satisfied: torchvision in c:\\users\\vkrmj\\anaconda3\\lib\\site-packages (0.9.0)\n",
      "Requirement already satisfied: numpy in c:\\users\\vkrmj\\anaconda3\\lib\\site-packages (from torchvision) (1.19.2)\n",
      "Requirement already satisfied: torch==1.8.0 in c:\\users\\vkrmj\\anaconda3\\lib\\site-packages (from torchvision) (1.8.0)\n",
      "Requirement already satisfied: pillow>=4.1.1 in c:\\users\\vkrmj\\anaconda3\\lib\\site-packages (from torchvision) (8.0.1)\n",
      "Requirement already satisfied: typing_extensions in c:\\users\\vkrmj\\anaconda3\\lib\\site-packages (from torch==1.8.0->torchvision) (3.7.4.3)\n",
      "Note: you may need to restart the kernel to use updated packages.\n"
     ]
    }
   ],
   "source": [
    "pip install torchvision"
   ]
  },
  {
   "cell_type": "code",
   "execution_count": 2,
   "metadata": {},
   "outputs": [
    {
     "name": "stdout",
     "output_type": "stream",
     "text": [
      "Requirement already satisfied: pandas in c:\\users\\vkrmj\\anaconda3\\lib\\site-packages (1.1.3)Note: you may need to restart the kernel to use updated packages.\n",
      "Requirement already satisfied: python-dateutil>=2.7.3 in c:\\users\\vkrmj\\anaconda3\\lib\\site-packages (from pandas) (2.8.1)\n",
      "Requirement already satisfied: numpy>=1.15.4 in c:\\users\\vkrmj\\anaconda3\\lib\\site-packages (from pandas) (1.19.2)\n",
      "\n",
      "Requirement already satisfied: pytz>=2017.2 in c:\\users\\vkrmj\\anaconda3\\lib\\site-packages (from pandas) (2020.1)\n",
      "Requirement already satisfied: six>=1.5 in c:\\users\\vkrmj\\appdata\\roaming\\python\\python38\\site-packages (from python-dateutil>=2.7.3->pandas) (1.14.0)\n"
     ]
    }
   ],
   "source": [
    "pip install pandas"
   ]
  },
  {
   "cell_type": "code",
   "execution_count": 3,
   "metadata": {},
   "outputs": [
    {
     "name": "stdout",
     "output_type": "stream",
     "text": [
      "Requirement already satisfied: torchvision in c:\\users\\vkrmj\\anaconda3\\lib\\site-packages (0.9.0)\n",
      "Requirement already satisfied: numpy in c:\\users\\vkrmj\\anaconda3\\lib\\site-packages (from torchvision) (1.19.2)\n",
      "Requirement already satisfied: torch==1.8.0 in c:\\users\\vkrmj\\anaconda3\\lib\\site-packages (from torchvision) (1.8.0)\n",
      "Requirement already satisfied: pillow>=4.1.1 in c:\\users\\vkrmj\\anaconda3\\lib\\site-packages (from torchvision) (8.0.1)\n",
      "Requirement already satisfied: typing_extensions in c:\\users\\vkrmj\\anaconda3\\lib\\site-packages (from torch==1.8.0->torchvision) (3.7.4.3)\n",
      "Note: you may need to restart the kernel to use updated packages.\n"
     ]
    }
   ],
   "source": [
    "pip install torchvision"
   ]
  },
  {
   "cell_type": "code",
   "execution_count": 4,
   "metadata": {},
   "outputs": [
    {
     "name": "stdout",
     "output_type": "stream",
     "text": [
      "Requirement already satisfied: scikit-image in c:\\users\\vkrmj\\anaconda3\\lib\\site-packages (0.17.2)\n",
      "Requirement already satisfied: numpy>=1.15.1 in c:\\users\\vkrmj\\anaconda3\\lib\\site-packages (from scikit-image) (1.19.2)\n",
      "Requirement already satisfied: scipy>=1.0.1 in c:\\users\\vkrmj\\anaconda3\\lib\\site-packages (from scikit-image) (1.5.2)\n",
      "Requirement already satisfied: matplotlib!=3.0.0,>=2.0.0 in c:\\users\\vkrmj\\anaconda3\\lib\\site-packages (from scikit-image) (3.3.2)\n",
      "Requirement already satisfied: networkx>=2.0 in c:\\users\\vkrmj\\anaconda3\\lib\\site-packages (from scikit-image) (2.5)\n",
      "Requirement already satisfied: pillow!=7.1.0,!=7.1.1,>=4.3.0 in c:\\users\\vkrmj\\anaconda3\\lib\\site-packages (from scikit-image) (8.0.1)\n",
      "Requirement already satisfied: imageio>=2.3.0 in c:\\users\\vkrmj\\anaconda3\\lib\\site-packages (from scikit-image) (2.9.0)\n",
      "Requirement already satisfied: tifffile>=2019.7.26 in c:\\users\\vkrmj\\anaconda3\\lib\\site-packages (from scikit-image) (2020.10.1)\n",
      "Requirement already satisfied: PyWavelets>=1.1.1 in c:\\users\\vkrmj\\anaconda3\\lib\\site-packages (from scikit-image) (1.1.1)\n",
      "Requirement already satisfied: python-dateutil>=2.1 in c:\\users\\vkrmj\\anaconda3\\lib\\site-packages (from matplotlib!=3.0.0,>=2.0.0->scikit-image) (2.8.1)\n",
      "Requirement already satisfied: kiwisolver>=1.0.1 in c:\\users\\vkrmj\\anaconda3\\lib\\site-packages (from matplotlib!=3.0.0,>=2.0.0->scikit-image) (1.3.0)\n",
      "Requirement already satisfied: pyparsing!=2.0.4,!=2.1.2,!=2.1.6,>=2.0.3 in c:\\users\\vkrmj\\anaconda3\\lib\\site-packages (from matplotlib!=3.0.0,>=2.0.0->scikit-image) (2.4.7)\n",
      "Requirement already satisfied: cycler>=0.10 in c:\\users\\vkrmj\\anaconda3\\lib\\site-packages (from matplotlib!=3.0.0,>=2.0.0->scikit-image) (0.10.0)\n",
      "Requirement already satisfied: certifi>=2020.06.20 in c:\\users\\vkrmj\\anaconda3\\lib\\site-packages (from matplotlib!=3.0.0,>=2.0.0->scikit-image) (2020.6.20)\n",
      "Requirement already satisfied: decorator>=4.3.0 in c:\\users\\vkrmj\\anaconda3\\lib\\site-packages (from networkx>=2.0->scikit-image) (4.4.2)\n",
      "Requirement already satisfied: six>=1.5 in c:\\users\\vkrmj\\appdata\\roaming\\python\\python38\\site-packages (from python-dateutil>=2.1->matplotlib!=3.0.0,>=2.0.0->scikit-image) (1.14.0)\n",
      "Note: you may need to restart the kernel to use updated packages.\n"
     ]
    }
   ],
   "source": [
    "pip install scikit-image"
   ]
  },
  {
   "cell_type": "code",
   "execution_count": 5,
   "metadata": {},
   "outputs": [
    {
     "name": "stdout",
     "output_type": "stream",
     "text": [
      "Requirement already satisfied: numpy in c:\\users\\vkrmj\\anaconda3\\lib\\site-packages (1.19.2)\n",
      "Note: you may need to restart the kernel to use updated packages.\n"
     ]
    }
   ],
   "source": [
    "pip install numpy"
   ]
  },
  {
   "cell_type": "code",
   "execution_count": 6,
   "metadata": {},
   "outputs": [
    {
     "name": "stdout",
     "output_type": "stream",
     "text": [
      "Requirement already satisfied: sklearn in c:\\users\\vkrmj\\anaconda3\\lib\\site-packages (0.0)\n",
      "Requirement already satisfied: scikit-learn in c:\\users\\vkrmj\\anaconda3\\lib\\site-packages (from sklearn) (0.23.2)\n",
      "Requirement already satisfied: numpy>=1.13.3 in c:\\users\\vkrmj\\anaconda3\\lib\\site-packages (from scikit-learn->sklearn) (1.19.2)\n",
      "Requirement already satisfied: threadpoolctl>=2.0.0 in c:\\users\\vkrmj\\anaconda3\\lib\\site-packages (from scikit-learn->sklearn) (2.1.0)\n",
      "Requirement already satisfied: joblib>=0.11 in c:\\users\\vkrmj\\anaconda3\\lib\\site-packages (from scikit-learn->sklearn) (0.17.0)\n",
      "Requirement already satisfied: scipy>=0.19.1 in c:\\users\\vkrmj\\anaconda3\\lib\\site-packages (from scikit-learn->sklearn) (1.5.2)\n",
      "Note: you may need to restart the kernel to use updated packages.\n"
     ]
    }
   ],
   "source": [
    "pip install sklearn"
   ]
  },
  {
   "cell_type": "code",
   "execution_count": 7,
   "metadata": {},
   "outputs": [
    {
     "name": "stdout",
     "output_type": "stream",
     "text": [
      "Requirement already satisfied: pillow in c:\\users\\vkrmj\\anaconda3\\lib\\site-packages (8.0.1)\n",
      "Note: you may need to restart the kernel to use updated packages.\n"
     ]
    }
   ],
   "source": [
    "pip install pillow"
   ]
  },
  {
   "cell_type": "markdown",
   "metadata": {},
   "source": [
    "### 1.2. Dataset Description"
   ]
  },
  {
   "cell_type": "markdown",
   "metadata": {},
   "source": [
    "\n",
    "Required Dataset Folder Heirarchy:\n",
    "<pre>\n",
    "{dataset_folder}\n",
    "--images\n",
    "----mask\n",
    "-------{mask images}\n",
    "----no_mask\n",
    "-------{no mask images}\n",
    "----not_person\n",
    "-------{not person images}\n",
    "</pre>"
   ]
  },
  {
   "cell_type": "markdown",
   "metadata": {},
   "source": [
    "### 1.3. Defining Pytorch dataset Representation and data transaformers"
   ]
  },
  {
   "cell_type": "code",
   "execution_count": 1,
   "metadata": {},
   "outputs": [],
   "source": [
    "from torchvision.datasets import VisionDataset\n",
    "import pandas as pd\n",
    "import os\n",
    "from skimage import io as sk_io, transform as sk_transform\n",
    "import numpy as np\n",
    "from sklearn.utils import shuffle\n",
    "from PIL import Image\n",
    "    \n",
    "class Rescale(object):\n",
    "    def __init__(self, output_size, debug=False, export_path=None):\n",
    "        assert isinstance(output_size, (int))\n",
    "        self.output_size = output_size\n",
    "\n",
    "    def __call__(self, img_data):\n",
    "        img_arr = np.array(img_data)\n",
    "        h, w, c = img_arr.shape\n",
    "        isAlreadyScaled = (h==self.output_size and w==self.output_size)\n",
    "        \n",
    "        if not isAlreadyScaled:\n",
    "            scale_factor = float(self.output_size)/img_arr.shape[0]\n",
    "            img_arr = (sk_transform.rescale(img_arr, (scale_factor, scale_factor, 1))*255).astype(np.uint8)\n",
    "\n",
    "            new_w = img_arr.shape[1]\n",
    "\n",
    "            # Clipping or filling\n",
    "            if new_w>self.output_size:\n",
    "                mid = new_w//2\n",
    "                new_w_start = mid-self.output_size//2\n",
    "                new_w_end = mid+self.output_size//2\n",
    "\n",
    "                if (new_w_end-new_w_start)<self.output_size:\n",
    "                    new_w_end += (self.output_size-(new_w_end-new_w_start))\n",
    "                elif (new_w_end-new_w_start)>self.output_size:\n",
    "                    new_w_end -= ((new_w_end-new_w_start)-self.output_size)\n",
    "                img_arr = img_arr[:, new_w_start:new_w_end]\n",
    "            elif new_w<self.output_size:\n",
    "                mid = new_w//2\n",
    "                new_w_start = self.output_size//2-mid\n",
    "                new_w_end = new_w_start+new_w\n",
    "                filled_img_arr = np.zeros((self.output_size, self.output_size, img_arr.shape[2]), dtype=np.uint8)\n",
    "                filled_img_arr[:, new_w_start:new_w_end] = img_arr[:, :]\n",
    "                img_arr = filled_img_arr\n",
    "        return Image.fromarray(img_arr)"
   ]
  },
  {
   "cell_type": "markdown",
   "metadata": {},
   "source": [
    "### 1.4. (Optional) Prior conversion of image to speed up training process"
   ]
  },
  {
   "cell_type": "code",
   "execution_count": 17,
   "metadata": {},
   "outputs": [
    {
     "name": "stdout",
     "output_type": "stream",
     "text": [
      "Dataset: size: 150, class labels: {'mask': 0, 'no_mask': 1, 'not_person': 2}\n",
      "done\n"
     ]
    }
   ],
   "source": [
    "from PIL import Image\n",
    "\n",
    "torch.manual_seed(6721)\n",
    "np.random.seed(6721)\n",
    "\n",
    "rescaled_size=64\n",
    "\n",
    "scaler = Rescale(rescaled_size)\n",
    "\n",
    "data_dir = 'D:/Courses/COMP 6721 Applied AI/Project/GitRepo/dataset_p_2_64/test_female/'\n",
    "copy_dir = 'D:/Courses/COMP 6721 Applied AI/Project/GitRepo/dataset_p_2_64/rescaled/test_female/'\n",
    "\n",
    "if not os.path.isdir(copy_dir):\n",
    "    os.mkdir(copy_dir)\n",
    "\n",
    "data_transform = Compose([\n",
    "    Rescale(rescaled_size)\n",
    "])\n",
    "\n",
    "dataset = ImageFolder(\n",
    "    root=data_dir\n",
    "    ,transform=data_transform\n",
    ")\n",
    "print(f'Dataset: size: {len(dataset)}, class labels: {dataset.class_to_idx}')\n",
    "\n",
    "label_to_class_dir = {}\n",
    "for class_name in dataset.class_to_idx:\n",
    "    label = dataset.class_to_idx[class_name]\n",
    "    class_dir = copy_dir + class_name + '/'\n",
    "    label_to_class_dir[label] = class_dir\n",
    "    if not os.path.isdir(class_dir):\n",
    "        os.mkdir(class_dir)\n",
    "\n",
    "for i in range(len(dataset.imgs)):\n",
    "    url, label = dataset.imgs[i]\n",
    "    img_name = url.split('\\\\')[1]\n",
    "    img_file_path = label_to_class_dir[label] + img_name\n",
    "    \n",
    "    if not os.path.isfile(img_file_path):\n",
    "        item = dataset.__getitem__(i)\n",
    "        rescaled_img = item[0]\n",
    "        rescaled_img.save(img_file_path, check_contrast=False)\n",
    "print('done')"
   ]
  },
  {
   "cell_type": "markdown",
   "metadata": {},
   "source": [
    "### 1.5. Creating dataset and data loaders for train and test"
   ]
  },
  {
   "cell_type": "markdown",
   "metadata": {},
   "source": [
    "From whole dataset, split and find train/test dataset data points"
   ]
  },
  {
   "cell_type": "code",
   "execution_count": 2,
   "metadata": {},
   "outputs": [],
   "source": [
    "train_images_per_class = 600\n",
    "test_images_per_class = 100\n",
    "\n",
    "def get_train_test_indices(dataset_targets):\n",
    "    test_indices_map = {}\n",
    "    for class_name in dataset.class_to_idx:\n",
    "        label = dataset.class_to_idx[class_name]\n",
    "        test_indices_map[label] = {'indices': np.array([], dtype=np.int32), 'count': 0}\n",
    "\n",
    "    train_indices_map = {}\n",
    "    for class_name in dataset.class_to_idx:\n",
    "        label = dataset.class_to_idx[class_name]\n",
    "        train_indices_map[label] = {'indices': np.array([], dtype=np.int32), 'count': 0}\n",
    "\n",
    "    targets = np.array(dataset.targets, dtype=np.int32)\n",
    "    target_indices = np.where(targets!=None)[0]\n",
    "    np.random.shuffle(target_indices)\n",
    "\n",
    "    for i in target_indices:\n",
    "        label = dataset.targets[i]\n",
    "        if test_indices_map[label]['count']<test_images_per_class:\n",
    "            test_indices_map[label]['indices'] = np.append(test_indices_map[label]['indices'], i)\n",
    "            test_indices_map[label]['count']+=1\n",
    "        elif train_indices_map[label]['count']<train_images_per_class:\n",
    "            train_indices_map[label]['indices'] = np.append(train_indices_map[label]['indices'], i)\n",
    "            train_indices_map[label]['count']+=1\n",
    "\n",
    "    test_indices = np.array([], dtype=np.int32)\n",
    "    train_indices = np.array([], dtype=np.int32)\n",
    "\n",
    "    for class_name in dataset.class_to_idx:\n",
    "        label = dataset.class_to_idx[class_name]\n",
    "        label_test_indices = test_indices_map[label]['indices']\n",
    "        test_indices = np.append(test_indices, label_test_indices)\n",
    "\n",
    "        label_train_indices = train_indices_map[label]['indices']\n",
    "        train_indices = np.append(train_indices, label_train_indices)\n",
    "    return train_indices, test_indices"
   ]
  },
  {
   "cell_type": "code",
   "execution_count": 3,
   "metadata": {},
   "outputs": [],
   "source": [
    "#For Bias Testing"
   ]
  },
  {
   "cell_type": "code",
   "execution_count": 10,
   "metadata": {},
   "outputs": [],
   "source": [
    "test_images_per_class = 260\n",
    "test_images_per_class = 50\n",
    "\n",
    "def get_train_test_indices(dataset_targets):\n",
    "    test_indices_map = {}\n",
    "    for class_name in dataset.class_to_idx:\n",
    "        label = dataset.class_to_idx[class_name]\n",
    "        test_indices_map[label] = {'indices': np.array([], dtype=np.int32), 'count': 0}\n",
    "\n",
    "    train_indices_map = {}\n",
    "    for class_name in dataset.class_to_idx:\n",
    "        label = dataset.class_to_idx[class_name]\n",
    "        train_indices_map[label] = {'indices': np.array([], dtype=np.int32), 'count': 0}\n",
    "\n",
    "    targets = np.array(dataset.targets, dtype=np.int32)\n",
    "    target_indices = np.where(targets!=None)[0]\n",
    "    np.random.shuffle(target_indices)\n",
    "\n",
    "    for i in target_indices:\n",
    "        label = dataset.targets[i]\n",
    "        if test_indices_map[label]['count']<test_images_per_class:\n",
    "            test_indices_map[label]['indices'] = np.append(test_indices_map[label]['indices'], i)\n",
    "            test_indices_map[label]['count']+=1\n",
    "        elif train_indices_map[label]['count']<train_images_per_class:\n",
    "            train_indices_map[label]['indices'] = np.append(train_indices_map[label]['indices'], i)\n",
    "            train_indices_map[label]['count']+=1\n",
    "\n",
    "    test_indices = np.array([], dtype=np.int32)\n",
    "    train_indices = np.array([], dtype=np.int32)\n",
    "\n",
    "    for class_name in dataset.class_to_idx:\n",
    "        label = dataset.class_to_idx[class_name]\n",
    "        label_test_indices = test_indices_map[label]['indices']\n",
    "        test_indices = np.append(test_indices, label_test_indices)\n",
    "\n",
    "        label_train_indices = train_indices_map[label]['indices']\n",
    "        train_indices = np.append(train_indices, label_train_indices)\n",
    "    return train_indices, test_indices"
   ]
  },
  {
   "cell_type": "markdown",
   "metadata": {},
   "source": [
    "Calculating mean and std for Normalization"
   ]
  },
  {
   "cell_type": "code",
   "execution_count": 3,
   "metadata": {},
   "outputs": [
    {
     "name": "stdout",
     "output_type": "stream",
     "text": [
      "Dataset: size: 1540, class labels: {'mask': 0, 'no_mask': 1, 'not_person': 2}\n",
      "Mean: tensor([0.4240, 0.3919, 0.3731])\n",
      "Std: tensor([0.2640, 0.2554, 0.2668])\n"
     ]
    }
   ],
   "source": [
    "from torchvision.transforms import ToTensor, Compose, Normalize\n",
    "import torch\n",
    "from torch.utils.data import DataLoader, Subset\n",
    "from torchvision.datasets import ImageFolder\n",
    "import gc\n",
    "\n",
    "torch.manual_seed(6721)\n",
    "np.random.seed(6721)\n",
    "\n",
    "rescaled_size=64\n",
    "train_data_dir = 'D:/Courses/COMP 6721 Applied AI/Project/GitRepo/dataset_p_2_64/rescaled/train/'\n",
    "\n",
    "data_transform = Compose([\n",
    "    Rescale(rescaled_size)\n",
    "    , ToTensor()\n",
    "])\n",
    "\n",
    "train_dataset = ImageFolder(\n",
    "    root=train_data_dir\n",
    "    ,transform=data_transform\n",
    ")\n",
    "print(f'Dataset: size: {len(train_dataset)}, class labels: {train_dataset.class_to_idx}')\n",
    "train_dataloader = DataLoader(train_dataset, batch_size=8, shuffle=False)\n",
    "\n",
    "means = torch.tensor([])\n",
    "stds = torch.tensor([])\n",
    "for i, (data, labels) in enumerate(train_dataloader):\n",
    "    gc.collect()\n",
    "    batch_mean = torch.mean(data, axis=(0, 2, 3))\n",
    "    batch_std = torch.std(data, axis=(0, 2, 3))\n",
    "    means = torch.cat((means, batch_mean.unsqueeze(0)))\n",
    "    stds = torch.cat((stds, batch_std.unsqueeze(0)))\n",
    "mean = torch.mean(means, axis=0)\n",
    "std = torch.mean(stds, axis=0)\n",
    "print(f'Mean: {mean}')\n",
    "print(f'Std: {std}')"
   ]
  },
  {
   "cell_type": "markdown",
   "metadata": {},
   "source": [
    "Creating train and test dataset and data loaders"
   ]
  },
  {
   "cell_type": "code",
   "execution_count": 4,
   "metadata": {},
   "outputs": [
    {
     "name": "stdout",
     "output_type": "stream",
     "text": [
      "Train dataset: size: 1540\n",
      "Train X | y batch shapes : (torch.Size([8, 3, 64, 64]), torch.Size([8]))\n"
     ]
    }
   ],
   "source": [
    "torch.manual_seed(6721)\n",
    "np.random.seed(6721)\n",
    "\n",
    "from torchvision.transforms import ToTensor, Compose, Normalize\n",
    "import torch\n",
    "from torch.utils.data import DataLoader, Subset\n",
    "from torchvision.datasets import ImageFolder\n",
    "\n",
    "data_transform = Compose([\n",
    "    Rescale(rescaled_size)\n",
    "    , ToTensor()\n",
    "    , Normalize(mean=mean, std=std)\n",
    "])\n",
    "\n",
    "train_dataset = ImageFolder(\n",
    "    root=train_data_dir\n",
    "    ,transform=data_transform\n",
    ")\n",
    "print(f'Train dataset: size: {len(train_dataset)}')\n",
    "\n",
    "train_dataloader = DataLoader(train_dataset, batch_size=8, shuffle=True)\n",
    "for data, labels in train_dataloader:\n",
    "    print(f'Train X | y batch shapes : {data.shape, labels.shape}')\n",
    "    break"
   ]
  },
  {
   "cell_type": "code",
   "execution_count": 5,
   "metadata": {},
   "outputs": [
    {
     "name": "stdout",
     "output_type": "stream",
     "text": [
      "Test dataset: size: 300\n",
      "Test X | y batch shapes : (torch.Size([8, 3, 64, 64]), torch.Size([8]))\n"
     ]
    }
   ],
   "source": [
    "data_dir_test = 'D:/Courses/COMP 6721 Applied AI/Project/GitRepo/dataset_p_2_64/rescaled/test_combined/'\n",
    "\n",
    "test_dataset = ImageFolder(\n",
    "    root=data_dir_test\n",
    "    ,transform=data_transform\n",
    ")\n",
    "print(f'Test dataset: size: {len(test_dataset)}')\n",
    "\n",
    "test_dataloader = DataLoader(test_dataset, batch_size=8, shuffle=True)\n",
    "for data, labels in test_dataloader:\n",
    "    print(f'Test X | y batch shapes : {data.shape, labels.shape}')\n",
    "    break"
   ]
  },
  {
   "cell_type": "markdown",
   "metadata": {},
   "source": [
    "# 2. Data Modelling"
   ]
  },
  {
   "cell_type": "markdown",
   "metadata": {},
   "source": [
    "### 2.1. Model Definition"
   ]
  },
  {
   "cell_type": "code",
   "execution_count": 6,
   "metadata": {},
   "outputs": [],
   "source": [
    "from torch.nn import Sequential, Module, Conv2d, MaxPool2d, Linear, ReLU, Dropout, BatchNorm2d, LeakyReLU, AdaptiveAvgPool2d, Flatten\n",
    "\n",
    "class ProjectModel(Module):\n",
    "    def __init__(self, num_classes=3):\n",
    "        super(ProjectModel, self).__init__()\n",
    "        self.module = Sequential(\n",
    "            Conv2d(3, 32, kernel_size=3, stride=1, padding=2)\n",
    "            , BatchNorm2d(32)\n",
    "            , LeakyReLU(inplace=True)\n",
    "            \n",
    "            , Conv2d(32, 32, kernel_size=3, stride=1, padding=0)\n",
    "            , BatchNorm2d(32)\n",
    "            , LeakyReLU(inplace=True)\n",
    "            \n",
    "            , MaxPool2d(kernel_size=2, stride=2)\n",
    "            \n",
    "            , Conv2d(32, 64, kernel_size=3, stride=1, padding=0)\n",
    "            , BatchNorm2d(64)\n",
    "            , LeakyReLU(inplace=True)\n",
    "            \n",
    "            , Conv2d(64, 64, kernel_size=3, stride=1, padding=0)\n",
    "            , BatchNorm2d(64)\n",
    "            , LeakyReLU(inplace=True)\n",
    "            \n",
    "            , MaxPool2d(kernel_size=2, stride=2)\n",
    "            \n",
    "            , AdaptiveAvgPool2d(output_size=(12, 12))\n",
    "            \n",
    "            , Flatten()\n",
    "            , Dropout(p=0.2, inplace=False)\n",
    "            , Linear(in_features=64*12*12, out_features=4096, bias=True)\n",
    "            , Dropout(p=0.2, inplace=False)\n",
    "            , Linear(in_features=4096, out_features=512, bias=True)\n",
    "            , Dropout(p=0.2, inplace=False)\n",
    "            , Linear(in_features=512, out_features=num_classes, bias=True)\n",
    "        )\n",
    "        \n",
    "    def forward(self, X):\n",
    "        return self.module(X)"
   ]
  },
  {
   "cell_type": "markdown",
   "metadata": {},
   "source": [
    "### 2.2. Integrity Test"
   ]
  },
  {
   "cell_type": "code",
   "execution_count": 7,
   "metadata": {},
   "outputs": [
    {
     "name": "stdout",
     "output_type": "stream",
     "text": [
      "tensor([[ 0.0682,  0.5049,  0.1347],\n",
      "        [ 0.1162, -0.3326, -0.0868],\n",
      "        [-0.0966, -0.3281, -0.0311],\n",
      "        [ 0.1623, -0.2086,  0.0403],\n",
      "        [-0.2789,  0.1044, -0.2707],\n",
      "        [ 0.1989, -0.2348, -0.0571],\n",
      "        [ 0.0495, -0.1118, -0.3001],\n",
      "        [ 0.0374,  0.0159,  0.1495]], grad_fn=<AddmmBackward>)\n",
      "tensor([1, 0, 2, 0, 1, 0, 0, 2])\n",
      "Accuracy: 12.5\n",
      "Model test passed.\n"
     ]
    }
   ],
   "source": [
    "torch.manual_seed(6721)\n",
    "np.random.seed(6721)\n",
    "\n",
    "net = ProjectModel()\n",
    "\n",
    "device = torch.device('cuda' if torch.cuda.is_available() else 'cpu')\n",
    "net = net.to(device)\n",
    "\n",
    "# Model Unit test\n",
    "total_labels = 0\n",
    "correct_labels = 0\n",
    "for data, labels in train_dataloader:\n",
    "    torch.cuda.empty_cache()\n",
    "    data, labels = data.to(device), labels.to(device)\n",
    "    outputs = net(data)\n",
    "    print(outputs)\n",
    "    y_pred = torch.argmax(outputs, dim=1)\n",
    "    print(y_pred)\n",
    "    total_labels+=labels.size(0)\n",
    "    correct_labels += (y_pred==labels).sum().item()\n",
    "    break\n",
    "\n",
    "print(f'Accuracy: {(correct_labels/total_labels)*100}')\n",
    "print('Model test passed.')"
   ]
  },
  {
   "cell_type": "markdown",
   "metadata": {},
   "source": [
    "### 2.3. Model Parameter Initializations"
   ]
  },
  {
   "cell_type": "code",
   "execution_count": 8,
   "metadata": {},
   "outputs": [
    {
     "data": {
      "text/plain": [
       "ProjectModel(\n",
       "  (module): Sequential(\n",
       "    (0): Conv2d(3, 32, kernel_size=(3, 3), stride=(1, 1), padding=(2, 2))\n",
       "    (1): BatchNorm2d(32, eps=1e-05, momentum=0.1, affine=True, track_running_stats=True)\n",
       "    (2): LeakyReLU(negative_slope=0.01, inplace=True)\n",
       "    (3): Conv2d(32, 32, kernel_size=(3, 3), stride=(1, 1))\n",
       "    (4): BatchNorm2d(32, eps=1e-05, momentum=0.1, affine=True, track_running_stats=True)\n",
       "    (5): LeakyReLU(negative_slope=0.01, inplace=True)\n",
       "    (6): MaxPool2d(kernel_size=2, stride=2, padding=0, dilation=1, ceil_mode=False)\n",
       "    (7): Conv2d(32, 64, kernel_size=(3, 3), stride=(1, 1))\n",
       "    (8): BatchNorm2d(64, eps=1e-05, momentum=0.1, affine=True, track_running_stats=True)\n",
       "    (9): LeakyReLU(negative_slope=0.01, inplace=True)\n",
       "    (10): Conv2d(64, 64, kernel_size=(3, 3), stride=(1, 1))\n",
       "    (11): BatchNorm2d(64, eps=1e-05, momentum=0.1, affine=True, track_running_stats=True)\n",
       "    (12): LeakyReLU(negative_slope=0.01, inplace=True)\n",
       "    (13): MaxPool2d(kernel_size=2, stride=2, padding=0, dilation=1, ceil_mode=False)\n",
       "    (14): AdaptiveAvgPool2d(output_size=(12, 12))\n",
       "    (15): Flatten(start_dim=1, end_dim=-1)\n",
       "    (16): Dropout(p=0.2, inplace=False)\n",
       "    (17): Linear(in_features=9216, out_features=4096, bias=True)\n",
       "    (18): Dropout(p=0.2, inplace=False)\n",
       "    (19): Linear(in_features=4096, out_features=512, bias=True)\n",
       "    (20): Dropout(p=0.2, inplace=False)\n",
       "    (21): Linear(in_features=512, out_features=3, bias=True)\n",
       "  )\n",
       ")"
      ]
     },
     "execution_count": 8,
     "metadata": {},
     "output_type": "execute_result"
    }
   ],
   "source": [
    "torch.manual_seed(6721)\n",
    "np.random.seed(6721)\n",
    "\n",
    "def initialize_linear_layer_weights(layer):\n",
    "    torch.nn.init.xavier_uniform_(layer.weight)\n",
    "    torch.nn.init.zeros_(layer.bias)\n",
    "        \n",
    "def initialize_conv2d_layer_weights(layer):\n",
    "    torch.nn.init.xavier_uniform_(layer.weight)\n",
    "    \n",
    "def initialize_model_weights(module):\n",
    "    if isinstance(module, ProjectModel):\n",
    "        return\n",
    "    elif isinstance(module, Sequential):\n",
    "        return\n",
    "    if isinstance(module, Conv2d):\n",
    "        initialize_conv2d_layer_weights(module)\n",
    "    if isinstance(module, Linear):\n",
    "        initialize_linear_layer_weights(module)\n",
    "\n",
    "\n",
    "net = ProjectModel()\n",
    "net.apply(initialize_model_weights)"
   ]
  },
  {
   "cell_type": "markdown",
   "metadata": {},
   "source": [
    "### 2.4. Training"
   ]
  },
  {
   "cell_type": "markdown",
   "metadata": {},
   "source": [
    "Training Parameter Configurations"
   ]
  },
  {
   "cell_type": "code",
   "execution_count": 9,
   "metadata": {},
   "outputs": [],
   "source": [
    "torch.manual_seed(6721)\n",
    "np.random.seed(6721)\n",
    "\n",
    "from torch.optim import SGD, Adam\n",
    "from torch.nn import CrossEntropyLoss\n",
    "import time\n",
    "\n",
    "num_epoch = 10\n",
    "lr = 1e-3\n",
    "momentum = 0.5\n",
    "\n",
    "loss_evaluater = CrossEntropyLoss()\n",
    "optimizer = Adam(net.parameters(), lr=lr)\n",
    "\n",
    "device = torch.device('cuda' if torch.cuda.is_available() else 'cpu')\n",
    "device = torch.device('cpu')\n",
    "net = net.to(device)"
   ]
  },
  {
   "cell_type": "markdown",
   "metadata": {},
   "source": [
    "Training"
   ]
  },
  {
   "cell_type": "code",
   "execution_count": 11,
   "metadata": {
    "scrolled": false
   },
   "outputs": [
    {
     "name": "stdout",
     "output_type": "stream",
     "text": [
      "Epoch: 1\n",
      "After 0 batches: [time:0.0m 0.6668112277984619s, Accuracy: 87.5]\n",
      "After 5 batches: [time:0.0m 5.4126973152160645s, Accuracy: 66.66666666666666]\n",
      "After 10 batches: [time:0.0m 10.076486349105835s, Accuracy: 62.5]\n",
      "After 15 batches: [time:0.0m 15.095276117324829s, Accuracy: 63.28125]\n",
      "After 20 batches: [time:0.0m 20.7802312374115s, Accuracy: 61.904761904761905]\n",
      "After 25 batches: [time:0.0m 26.82882070541382s, Accuracy: 61.53846153846154]\n",
      "After 30 batches: [time:0.0m 32.501583099365234s, Accuracy: 62.096774193548384]\n",
      "After 35 batches: [time:0.0m 36.97928857803345s, Accuracy: 62.5]\n",
      "After 40 batches: [time:0.0m 41.074453830718994s, Accuracy: 64.02439024390245]\n",
      "After 45 batches: [time:0.0m 44.58113503456116s, Accuracy: 64.94565217391305]\n",
      "After 50 batches: [time:0.0m 48.60524034500122s, Accuracy: 64.95098039215686]\n",
      "After 55 batches: [time:0.0m 52.75326728820801s, Accuracy: 65.40178571428571]\n",
      "After 60 batches: [time:0.0m 56.860716342926025s, Accuracy: 65.57377049180327]\n",
      "After 65 batches: [time:1.0m 3.4185969829559326s, Accuracy: 65.15151515151516]\n",
      "After 70 batches: [time:1.0m 7.498170375823975s, Accuracy: 65.66901408450704]\n",
      "After 75 batches: [time:1.0m 11.476473093032837s, Accuracy: 65.95394736842105]\n",
      "After 80 batches: [time:1.0m 15.368924379348755s, Accuracy: 66.35802469135803]\n",
      "After 85 batches: [time:1.0m 19.320820808410645s, Accuracy: 66.86046511627907]\n",
      "After 90 batches: [time:1.0m 23.381792783737183s, Accuracy: 66.62087912087912]\n",
      "After 95 batches: [time:1.0m 28.459306478500366s, Accuracy: 66.66666666666666]\n",
      "After 100 batches: [time:1.0m 34.74296045303345s, Accuracy: 66.95544554455446]\n",
      "After 105 batches: [time:1.0m 38.96129608154297s, Accuracy: 67.57075471698113]\n",
      "After 110 batches: [time:1.0m 42.730005502700806s, Accuracy: 67.9054054054054]\n",
      "After 115 batches: [time:1.0m 46.86844348907471s, Accuracy: 68.31896551724138]\n",
      "After 120 batches: [time:1.0m 51.64499378204346s, Accuracy: 68.28512396694215]\n",
      "After 125 batches: [time:1.0m 55.59073257446289s, Accuracy: 68.75]\n",
      "After 130 batches: [time:1.0m 59.49504494667053s, Accuracy: 68.79770992366412]\n",
      "After 135 batches: [time:2.0m 4.853778600692749s, Accuracy: 68.65808823529412]\n",
      "After 140 batches: [time:2.0m 9.986402750015259s, Accuracy: 69.06028368794325]\n",
      "After 145 batches: [time:2.0m 14.062130451202393s, Accuracy: 69.17808219178082]\n",
      "After 150 batches: [time:2.0m 18.134841442108154s, Accuracy: 69.28807947019867]\n",
      "After 155 batches: [time:2.0m 22.413828134536743s, Accuracy: 69.39102564102564]\n",
      "After 160 batches: [time:2.0m 26.518229961395264s, Accuracy: 69.17701863354037]\n",
      "After 165 batches: [time:2.0m 30.21366810798645s, Accuracy: 69.20180722891565]\n",
      "After 170 batches: [time:2.0m 34.089075803756714s, Accuracy: 68.78654970760235]\n",
      "After 175 batches: [time:2.0m 38.04080653190613s, Accuracy: 68.96306818181817]\n",
      "After 180 batches: [time:2.0m 42.089964389801025s, Accuracy: 68.853591160221]\n",
      "After 185 batches: [time:2.0m 46.26726770401001s, Accuracy: 68.95161290322581]\n",
      "After 190 batches: [time:2.0m 51.41431641578674s, Accuracy: 68.97905759162303]\n",
      "Epoch 1: [time:2.0m 53.23685264587402s, Accuracy: 69.02597402597402]\n",
      "\n",
      "Epoch: 2\n",
      "After 0 batches: [time:0.0m 0.7445728778839111s, Accuracy: 50.0]\n",
      "After 5 batches: [time:0.0m 4.83622670173645s, Accuracy: 72.91666666666666]\n",
      "After 10 batches: [time:0.0m 9.007834911346436s, Accuracy: 75.0]\n",
      "After 15 batches: [time:0.0m 13.266392469406128s, Accuracy: 74.21875]\n",
      "After 20 batches: [time:0.0m 19.500357627868652s, Accuracy: 74.40476190476191]\n",
      "After 25 batches: [time:0.0m 24.517926454544067s, Accuracy: 72.11538461538461]\n",
      "After 30 batches: [time:0.0m 32.59284210205078s, Accuracy: 74.19354838709677]\n",
      "After 35 batches: [time:0.0m 36.77035355567932s, Accuracy: 71.52777777777779]\n",
      "After 40 batches: [time:0.0m 40.63216257095337s, Accuracy: 71.03658536585365]\n",
      "After 45 batches: [time:0.0m 44.321024656295776s, Accuracy: 70.1086956521739]\n",
      "After 50 batches: [time:0.0m 47.94661259651184s, Accuracy: 70.83333333333334]\n",
      "After 55 batches: [time:0.0m 51.715521574020386s, Accuracy: 70.75892857142857]\n",
      "After 60 batches: [time:0.0m 55.38664793968201s, Accuracy: 71.31147540983606]\n",
      "After 65 batches: [time:0.0m 59.34771394729614s, Accuracy: 71.02272727272727]\n",
      "After 70 batches: [time:1.0m 2.971200466156006s, Accuracy: 71.83098591549296]\n",
      "After 75 batches: [time:1.0m 7.5268847942352295s, Accuracy: 71.2171052631579]\n",
      "After 80 batches: [time:1.0m 13.580264568328857s, Accuracy: 70.83333333333334]\n",
      "After 85 batches: [time:1.0m 17.3837947845459s, Accuracy: 70.93023255813954]\n",
      "After 90 batches: [time:1.0m 21.693132877349854s, Accuracy: 71.56593406593407]\n",
      "After 95 batches: [time:1.0m 25.53444480895996s, Accuracy: 71.22395833333334]\n",
      "After 100 batches: [time:1.0m 29.2544846534729s, Accuracy: 71.9059405940594]\n",
      "After 105 batches: [time:1.0m 33.42237067222595s, Accuracy: 71.69811320754717]\n",
      "After 110 batches: [time:1.0m 38.09398674964905s, Accuracy: 72.07207207207207]\n",
      "After 115 batches: [time:1.0m 42.05221080780029s, Accuracy: 71.44396551724138]\n",
      "After 120 batches: [time:1.0m 45.95256423950195s, Accuracy: 71.69421487603306]\n",
      "After 125 batches: [time:1.0m 50.47291660308838s, Accuracy: 71.32936507936508]\n",
      "After 130 batches: [time:1.0m 54.7408652305603s, Accuracy: 70.70610687022901]\n",
      "After 135 batches: [time:1.0m 58.92255663871765s, Accuracy: 70.77205882352942]\n",
      "After 140 batches: [time:2.0m 2.5440993309020996s, Accuracy: 70.83333333333334]\n",
      "After 145 batches: [time:2.0m 6.153319597244263s, Accuracy: 71.23287671232876]\n",
      "After 150 batches: [time:2.0m 9.764621019363403s, Accuracy: 71.1092715231788]\n",
      "After 155 batches: [time:2.0m 13.33529782295227s, Accuracy: 71.07371794871796]\n",
      "After 160 batches: [time:2.0m 16.919759273529053s, Accuracy: 70.72981366459628]\n",
      "After 165 batches: [time:2.0m 20.969632863998413s, Accuracy: 70.4066265060241]\n",
      "After 170 batches: [time:2.0m 24.94116234779358s, Accuracy: 70.32163742690058]\n",
      "After 175 batches: [time:2.0m 28.665411233901978s, Accuracy: 70.3125]\n",
      "After 180 batches: [time:2.0m 32.44281029701233s, Accuracy: 70.1657458563536]\n",
      "After 185 batches: [time:2.0m 36.14981722831726s, Accuracy: 70.56451612903226]\n",
      "After 190 batches: [time:2.0m 39.93242645263672s, Accuracy: 71.00785340314137]\n",
      "Epoch 2: [time:2.0m 41.31653356552124s, Accuracy: 70.97402597402598]\n",
      "\n",
      "Epoch: 3\n",
      "After 0 batches: [time:0.0m 0.7711200714111328s, Accuracy: 75.0]\n",
      "After 5 batches: [time:0.0m 4.652618885040283s, Accuracy: 77.08333333333334]\n",
      "After 10 batches: [time:0.0m 8.40402340888977s, Accuracy: 79.54545454545455]\n",
      "After 15 batches: [time:0.0m 12.084001541137695s, Accuracy: 79.6875]\n",
      "After 20 batches: [time:0.0m 15.832263708114624s, Accuracy: 79.76190476190477]\n",
      "After 25 batches: [time:0.0m 19.531314849853516s, Accuracy: 78.84615384615384]\n",
      "After 30 batches: [time:0.0m 23.194937229156494s, Accuracy: 75.40322580645162]\n",
      "After 35 batches: [time:0.0m 26.918890237808228s, Accuracy: 73.95833333333334]\n",
      "After 40 batches: [time:0.0m 30.697115182876587s, Accuracy: 74.39024390243902]\n",
      "After 45 batches: [time:0.0m 34.461182594299316s, Accuracy: 73.91304347826086]\n",
      "After 50 batches: [time:0.0m 38.435765743255615s, Accuracy: 74.26470588235294]\n",
      "After 55 batches: [time:0.0m 42.300130128860474s, Accuracy: 73.88392857142857]\n",
      "After 60 batches: [time:0.0m 46.05144906044006s, Accuracy: 73.97540983606558]\n",
      "After 65 batches: [time:0.0m 49.968969106674194s, Accuracy: 73.86363636363636]\n",
      "After 70 batches: [time:0.0m 53.769142866134644s, Accuracy: 73.41549295774648]\n",
      "After 75 batches: [time:0.0m 57.695337533950806s, Accuracy: 72.86184210526315]\n",
      "After 80 batches: [time:1.0m 1.4666848182678223s, Accuracy: 72.22222222222221]\n",
      "After 85 batches: [time:1.0m 5.257049083709717s, Accuracy: 72.38372093023256]\n",
      "After 90 batches: [time:1.0m 8.969096660614014s, Accuracy: 72.39010989010988]\n",
      "After 95 batches: [time:1.0m 12.674769163131714s, Accuracy: 72.39583333333334]\n",
      "After 100 batches: [time:1.0m 16.45458197593689s, Accuracy: 72.27722772277228]\n",
      "After 105 batches: [time:1.0m 20.233569383621216s, Accuracy: 72.40566037735849]\n",
      "After 110 batches: [time:1.0m 23.922468662261963s, Accuracy: 72.2972972972973]\n",
      "After 115 batches: [time:1.0m 27.70157027244568s, Accuracy: 72.41379310344827]\n",
      "After 120 batches: [time:1.0m 31.456123113632202s, Accuracy: 72.52066115702479]\n",
      "After 125 batches: [time:1.0m 35.292211055755615s, Accuracy: 72.91666666666666]\n"
     ]
    },
    {
     "name": "stdout",
     "output_type": "stream",
     "text": [
      "After 130 batches: [time:1.0m 39.05435371398926s, Accuracy: 72.99618320610686]\n",
      "After 135 batches: [time:1.0m 42.838587045669556s, Accuracy: 73.25367647058823]\n",
      "After 140 batches: [time:1.0m 46.59895205497742s, Accuracy: 73.22695035460993]\n",
      "After 145 batches: [time:1.0m 50.39105534553528s, Accuracy: 72.94520547945206]\n",
      "After 150 batches: [time:1.0m 54.12603187561035s, Accuracy: 72.59933774834437]\n",
      "After 155 batches: [time:1.0m 57.85822653770447s, Accuracy: 72.27564102564102]\n",
      "After 160 batches: [time:2.0m 1.6823182106018066s, Accuracy: 72.04968944099379]\n",
      "After 165 batches: [time:2.0m 5.541971921920776s, Accuracy: 71.83734939759037]\n",
      "After 170 batches: [time:2.0m 9.391921043395996s, Accuracy: 71.19883040935673]\n",
      "After 175 batches: [time:2.0m 13.158941745758057s, Accuracy: 70.73863636363636]\n",
      "After 180 batches: [time:2.0m 16.849560022354126s, Accuracy: 70.5110497237569]\n",
      "After 185 batches: [time:2.0m 20.43544864654541s, Accuracy: 70.63172043010752]\n",
      "After 190 batches: [time:2.0m 24.040510892868042s, Accuracy: 70.35340314136126]\n",
      "Epoch 3: [time:2.0m 25.432713270187378s, Accuracy: 70.25974025974025]\n",
      "\n",
      "Epoch: 4\n",
      "After 0 batches: [time:0.0m 0.6975998878479004s, Accuracy: 37.5]\n",
      "After 5 batches: [time:0.0m 4.817910194396973s, Accuracy: 54.166666666666664]\n",
      "After 10 batches: [time:0.0m 9.496021747589111s, Accuracy: 57.95454545454546]\n",
      "After 15 batches: [time:0.0m 13.840944051742554s, Accuracy: 62.5]\n",
      "After 20 batches: [time:0.0m 17.525052547454834s, Accuracy: 60.11904761904761]\n",
      "After 25 batches: [time:0.0m 21.15525221824646s, Accuracy: 58.65384615384615]\n",
      "After 30 batches: [time:0.0m 24.753395557403564s, Accuracy: 58.06451612903226]\n",
      "After 35 batches: [time:0.0m 28.403021335601807s, Accuracy: 59.375]\n",
      "After 40 batches: [time:0.0m 32.09298825263977s, Accuracy: 59.756097560975604]\n",
      "After 45 batches: [time:0.0m 35.83710265159607s, Accuracy: 61.141304347826086]\n",
      "After 50 batches: [time:0.0m 39.75973057746887s, Accuracy: 61.51960784313726]\n",
      "After 55 batches: [time:0.0m 43.48816657066345s, Accuracy: 61.16071428571429]\n",
      "After 60 batches: [time:0.0m 47.261189699172974s, Accuracy: 60.65573770491803]\n",
      "After 65 batches: [time:0.0m 51.11219072341919s, Accuracy: 62.121212121212125]\n",
      "After 70 batches: [time:0.0m 55.02283263206482s, Accuracy: 62.147887323943664]\n",
      "After 75 batches: [time:0.0m 58.86326742172241s, Accuracy: 61.67763157894737]\n",
      "After 80 batches: [time:1.0m 2.735090494155884s, Accuracy: 61.72839506172839]\n",
      "After 85 batches: [time:1.0m 6.533048152923584s, Accuracy: 61.337209302325576]\n",
      "After 90 batches: [time:1.0m 10.366853952407837s, Accuracy: 61.26373626373627]\n",
      "After 95 batches: [time:1.0m 14.105953216552734s, Accuracy: 61.328125]\n",
      "After 100 batches: [time:1.0m 17.814913272857666s, Accuracy: 61.26237623762376]\n",
      "After 105 batches: [time:1.0m 21.714023113250732s, Accuracy: 60.96698113207547]\n",
      "After 110 batches: [time:1.0m 26.495123624801636s, Accuracy: 61.48648648648649]\n",
      "After 115 batches: [time:1.0m 30.99141788482666s, Accuracy: 61.206896551724135]\n",
      "After 120 batches: [time:1.0m 34.57460021972656s, Accuracy: 61.8801652892562]\n",
      "After 125 batches: [time:1.0m 38.179840326309204s, Accuracy: 63.095238095238095]\n",
      "After 130 batches: [time:1.0m 41.78977966308594s, Accuracy: 63.358778625954194]\n",
      "After 135 batches: [time:1.0m 46.22002625465393s, Accuracy: 63.05147058823529]\n",
      "After 140 batches: [time:1.0m 54.358935594558716s, Accuracy: 62.85460992907801]\n",
      "After 145 batches: [time:1.0m 58.02883434295654s, Accuracy: 62.928082191780824]\n",
      "After 150 batches: [time:2.0m 1.6537537574768066s, Accuracy: 63.24503311258278]\n",
      "After 155 batches: [time:2.0m 6.640159368515015s, Accuracy: 63.30128205128205]\n",
      "After 160 batches: [time:2.0m 10.76093602180481s, Accuracy: 63.58695652173913]\n",
      "After 165 batches: [time:2.0m 14.992574453353882s, Accuracy: 63.32831325301205]\n",
      "After 170 batches: [time:2.0m 19.22455620765686s, Accuracy: 63.74269005847953]\n",
      "After 175 batches: [time:2.0m 23.169917106628418s, Accuracy: 63.49431818181818]\n",
      "After 180 batches: [time:2.0m 27.425176858901978s, Accuracy: 63.67403314917127]\n",
      "After 185 batches: [time:2.0m 31.65633797645569s, Accuracy: 63.97849462365591]\n",
      "After 190 batches: [time:2.0m 35.593079566955566s, Accuracy: 63.74345549738219]\n",
      "Epoch 4: [time:2.0m 37.15418457984924s, Accuracy: 63.701298701298704]\n",
      "\n",
      "Epoch: 5\n",
      "After 0 batches: [time:0.0m 0.8475124835968018s, Accuracy: 25.0]\n",
      "After 5 batches: [time:0.0m 4.733297824859619s, Accuracy: 64.58333333333334]\n",
      "After 10 batches: [time:0.0m 8.439968347549438s, Accuracy: 54.54545454545454]\n",
      "After 15 batches: [time:0.0m 12.329015731811523s, Accuracy: 54.6875]\n",
      "After 20 batches: [time:0.0m 16.051759481430054s, Accuracy: 58.333333333333336]\n",
      "After 25 batches: [time:0.0m 19.72834539413452s, Accuracy: 61.057692307692314]\n",
      "After 30 batches: [time:0.0m 23.449901342391968s, Accuracy: 62.903225806451616]\n",
      "After 35 batches: [time:0.0m 27.352399110794067s, Accuracy: 63.888888888888886]\n",
      "After 40 batches: [time:0.0m 31.7455792427063s, Accuracy: 64.02439024390245]\n",
      "After 45 batches: [time:0.0m 36.92358160018921s, Accuracy: 63.858695652173914]\n",
      "After 50 batches: [time:0.0m 41.00193738937378s, Accuracy: 64.70588235294117]\n",
      "After 55 batches: [time:0.0m 45.15434646606445s, Accuracy: 64.95535714285714]\n",
      "After 60 batches: [time:0.0m 48.98540663719177s, Accuracy: 64.95901639344262]\n",
      "After 65 batches: [time:0.0m 53.1816725730896s, Accuracy: 64.96212121212122]\n",
      "After 70 batches: [time:0.0m 57.447957277297974s, Accuracy: 65.14084507042254]\n",
      "After 75 batches: [time:1.0m 1.8039524555206299s, Accuracy: 65.95394736842105]\n",
      "After 80 batches: [time:1.0m 6.025129079818726s, Accuracy: 65.89506172839506]\n",
      "After 85 batches: [time:1.0m 9.957720756530762s, Accuracy: 66.56976744186046]\n",
      "After 90 batches: [time:1.0m 13.898976802825928s, Accuracy: 66.48351648351648]\n",
      "After 95 batches: [time:1.0m 18.16592836380005s, Accuracy: 66.66666666666666]\n",
      "After 100 batches: [time:1.0m 22.311113119125366s, Accuracy: 66.33663366336634]\n",
      "After 105 batches: [time:1.0m 27.545527696609497s, Accuracy: 66.27358490566037]\n",
      "After 110 batches: [time:1.0m 31.429898262023926s, Accuracy: 65.54054054054053]\n",
      "After 115 batches: [time:1.0m 35.09753203392029s, Accuracy: 65.625]\n",
      "After 120 batches: [time:1.0m 39.466633558273315s, Accuracy: 66.01239669421489]\n",
      "After 125 batches: [time:1.0m 44.37571573257446s, Accuracy: 66.36904761904762]\n",
      "After 130 batches: [time:1.0m 48.603291749954224s, Accuracy: 66.03053435114504]\n",
      "After 135 batches: [time:1.0m 53.0007746219635s, Accuracy: 66.26838235294117]\n",
      "After 140 batches: [time:1.0m 57.502368211746216s, Accuracy: 66.40070921985816]\n",
      "After 145 batches: [time:2.0m 1.1182961463928223s, Accuracy: 66.78082191780823]\n",
      "After 150 batches: [time:2.0m 4.671257972717285s, Accuracy: 66.80463576158941]\n",
      "After 155 batches: [time:2.0m 8.234232187271118s, Accuracy: 66.90705128205127]\n",
      "After 160 batches: [time:2.0m 11.87481689453125s, Accuracy: 67.08074534161491]\n",
      "After 165 batches: [time:2.0m 15.69038724899292s, Accuracy: 67.24397590361446]\n",
      "After 170 batches: [time:2.0m 19.772663831710815s, Accuracy: 66.95906432748538]\n",
      "After 175 batches: [time:2.0m 23.48870301246643s, Accuracy: 66.83238636363636]\n",
      "After 180 batches: [time:2.0m 27.155608654022217s, Accuracy: 66.36740331491713]\n",
      "After 185 batches: [time:2.0m 30.747021436691284s, Accuracy: 66.53225806451613]\n",
      "After 190 batches: [time:2.0m 34.347615003585815s, Accuracy: 66.49214659685863]\n",
      "Epoch 5: [time:2.0m 35.73489809036255s, Accuracy: 66.55844155844156]\n",
      "\n",
      "Epoch: 6\n",
      "After 0 batches: [time:0.0m 0.6735084056854248s, Accuracy: 50.0]\n",
      "After 5 batches: [time:0.0m 4.262625217437744s, Accuracy: 66.66666666666666]\n",
      "After 10 batches: [time:0.0m 7.907153367996216s, Accuracy: 69.31818181818183]\n",
      "After 15 batches: [time:0.0m 11.517778635025024s, Accuracy: 68.75]\n",
      "After 20 batches: [time:0.0m 15.125460386276245s, Accuracy: 66.07142857142857]\n",
      "After 25 batches: [time:0.0m 18.685651779174805s, Accuracy: 66.34615384615384]\n",
      "After 30 batches: [time:0.0m 22.304752588272095s, Accuracy: 64.11290322580645]\n",
      "After 35 batches: [time:0.0m 25.863574266433716s, Accuracy: 63.541666666666664]\n",
      "After 40 batches: [time:0.0m 29.444878578186035s, Accuracy: 64.32926829268293]\n",
      "After 45 batches: [time:0.0m 33.23811936378479s, Accuracy: 65.48913043478261]\n",
      "After 50 batches: [time:0.0m 37.90118050575256s, Accuracy: 65.93137254901961]\n"
     ]
    },
    {
     "name": "stdout",
     "output_type": "stream",
     "text": [
      "After 55 batches: [time:0.0m 41.40067768096924s, Accuracy: 66.29464285714286]\n",
      "After 60 batches: [time:0.0m 45.04586958885193s, Accuracy: 66.39344262295081]\n",
      "After 65 batches: [time:0.0m 48.734198808670044s, Accuracy: 66.66666666666666]\n",
      "After 70 batches: [time:0.0m 53.01617193222046s, Accuracy: 67.42957746478874]\n",
      "After 75 batches: [time:0.0m 57.457788705825806s, Accuracy: 67.59868421052632]\n",
      "After 80 batches: [time:1.0m 3.4525845050811768s, Accuracy: 68.3641975308642]\n",
      "After 85 batches: [time:1.0m 9.187296390533447s, Accuracy: 68.02325581395348]\n",
      "After 90 batches: [time:1.0m 15.086912393569946s, Accuracy: 68.26923076923077]\n",
      "After 95 batches: [time:1.0m 20.688700675964355s, Accuracy: 68.48958333333334]\n",
      "After 100 batches: [time:1.0m 25.700027465820312s, Accuracy: 68.8118811881188]\n",
      "After 105 batches: [time:1.0m 32.610787868499756s, Accuracy: 68.98584905660378]\n",
      "After 110 batches: [time:1.0m 43.971944093704224s, Accuracy: 69.48198198198197]\n",
      "After 115 batches: [time:1.0m 50.92399597167969s, Accuracy: 69.9353448275862]\n",
      "After 120 batches: [time:1.0m 58.645567893981934s, Accuracy: 70.14462809917356]\n",
      "After 125 batches: [time:2.0m 4.950952768325806s, Accuracy: 69.44444444444444]\n",
      "After 130 batches: [time:2.0m 8.978642463684082s, Accuracy: 69.65648854961832]\n",
      "After 135 batches: [time:2.0m 12.873409748077393s, Accuracy: 69.85294117647058]\n",
      "After 140 batches: [time:2.0m 16.713210105895996s, Accuracy: 69.68085106382979]\n",
      "After 145 batches: [time:2.0m 20.89281129837036s, Accuracy: 69.86301369863014]\n",
      "After 150 batches: [time:2.0m 25.471189975738525s, Accuracy: 69.78476821192054]\n",
      "After 155 batches: [time:2.0m 29.55384588241577s, Accuracy: 69.63141025641025]\n",
      "After 160 batches: [time:2.0m 33.63350582122803s, Accuracy: 69.56521739130434]\n",
      "After 165 batches: [time:2.0m 37.70317506790161s, Accuracy: 69.95481927710844]\n",
      "After 170 batches: [time:2.0m 41.53397607803345s, Accuracy: 69.88304093567251]\n",
      "After 175 batches: [time:2.0m 45.422746896743774s, Accuracy: 69.67329545454545]\n",
      "After 180 batches: [time:2.0m 49.30052423477173s, Accuracy: 70.30386740331491]\n",
      "After 185 batches: [time:2.0m 53.05637049674988s, Accuracy: 70.22849462365592]\n",
      "After 190 batches: [time:2.0m 57.031091928482056s, Accuracy: 69.9607329842932]\n",
      "Epoch 6: [time:2.0m 58.48425793647766s, Accuracy: 70.0]\n",
      "\n",
      "Epoch: 7\n",
      "After 0 batches: [time:0.0m 0.8285231590270996s, Accuracy: 87.5]\n",
      "After 5 batches: [time:0.0m 5.092078924179077s, Accuracy: 81.25]\n",
      "After 10 batches: [time:0.0m 8.9488685131073s, Accuracy: 73.86363636363636]\n",
      "After 15 batches: [time:0.0m 13.243404865264893s, Accuracy: 75.78125]\n",
      "After 20 batches: [time:0.0m 17.23311686515808s, Accuracy: 72.61904761904762]\n",
      "After 25 batches: [time:0.0m 21.57562756538391s, Accuracy: 72.11538461538461]\n",
      "After 30 batches: [time:0.0m 25.67527675628662s, Accuracy: 69.35483870967742]\n",
      "After 35 batches: [time:0.0m 29.448113203048706s, Accuracy: 69.09722222222221]\n",
      "After 40 batches: [time:0.0m 33.17497730255127s, Accuracy: 69.8170731707317]\n",
      "After 45 batches: [time:0.0m 36.89684176445007s, Accuracy: 70.1086956521739]\n",
      "After 50 batches: [time:0.0m 40.66168427467346s, Accuracy: 69.11764705882352]\n",
      "After 55 batches: [time:0.0m 44.54645562171936s, Accuracy: 69.86607142857143]\n",
      "After 60 batches: [time:0.0m 48.434226989746094s, Accuracy: 70.28688524590164]\n",
      "After 65 batches: [time:0.0m 52.26603126525879s, Accuracy: 70.64393939393939]\n",
      "After 70 batches: [time:0.0m 56.05785632133484s, Accuracy: 70.4225352112676]\n",
      "After 75 batches: [time:0.0m 59.92264008522034s, Accuracy: 70.55921052631578]\n",
      "After 80 batches: [time:1.0m 3.9403369426727295s, Accuracy: 70.5246913580247]\n",
      "After 85 batches: [time:1.0m 8.699607372283936s, Accuracy: 70.63953488372093]\n",
      "After 90 batches: [time:1.0m 12.776272773742676s, Accuracy: 70.6043956043956]\n",
      "After 95 batches: [time:1.0m 18.11620855331421s, Accuracy: 70.44270833333334]\n",
      "After 100 batches: [time:1.0m 22.270825624465942s, Accuracy: 69.92574257425743]\n",
      "After 105 batches: [time:1.0m 25.995689868927002s, Accuracy: 69.81132075471697]\n",
      "After 110 batches: [time:1.0m 29.722556591033936s, Accuracy: 70.38288288288288]\n",
      "After 115 batches: [time:1.0m 33.36046862602234s, Accuracy: 69.82758620689656]\n",
      "After 120 batches: [time:1.0m 37.13430380821228s, Accuracy: 69.73140495867769]\n",
      "After 125 batches: [time:1.0m 40.93712258338928s, Accuracy: 69.7420634920635]\n",
      "After 130 batches: [time:1.0m 44.72195219993591s, Accuracy: 69.65648854961832]\n",
      "After 135 batches: [time:1.0m 48.60872554779053s, Accuracy: 69.57720588235294]\n",
      "After 140 batches: [time:1.0m 52.587443351745605s, Accuracy: 69.76950354609929]\n",
      "After 145 batches: [time:1.0m 56.446229696273804s, Accuracy: 69.77739726027397]\n",
      "After 150 batches: [time:2.0m 0.23405814170837402s, Accuracy: 69.61920529801324]\n",
      "After 155 batches: [time:2.0m 4.324716806411743s, Accuracy: 69.55128205128204]\n",
      "After 160 batches: [time:2.0m 8.131529569625854s, Accuracy: 69.33229813664596]\n",
      "After 165 batches: [time:2.0m 11.993317127227783s, Accuracy: 69.57831325301204]\n",
      "After 170 batches: [time:2.0m 15.812127590179443s, Accuracy: 69.22514619883042]\n",
      "After 175 batches: [time:2.0m 19.458035469055176s, Accuracy: 69.74431818181817]\n",
      "After 180 batches: [time:2.0m 23.175904989242554s, Accuracy: 69.9585635359116]\n",
      "After 185 batches: [time:2.0m 26.988717555999756s, Accuracy: 70.22849462365592]\n",
      "After 190 batches: [time:2.0m 30.836511373519897s, Accuracy: 70.02617801047121]\n",
      "Epoch 7: [time:2.0m 32.217721700668335s, Accuracy: 69.93506493506494]\n",
      "\n",
      "Epoch: 8\n",
      "After 0 batches: [time:0.0m 0.7575690746307373s, Accuracy: 75.0]\n",
      "After 5 batches: [time:0.0m 4.4974212646484375s, Accuracy: 75.0]\n",
      "After 10 batches: [time:0.0m 8.207294464111328s, Accuracy: 77.27272727272727]\n",
      "After 15 batches: [time:0.0m 12.378902673721313s, Accuracy: 78.125]\n",
      "After 20 batches: [time:0.0m 16.811360836029053s, Accuracy: 75.59523809523809]\n",
      "After 25 batches: [time:0.0m 20.778090953826904s, Accuracy: 74.03846153846155]\n",
      "After 30 batches: [time:0.0m 24.535931825637817s, Accuracy: 75.40322580645162]\n",
      "After 35 batches: [time:0.0m 28.963393688201904s, Accuracy: 75.34722222222221]\n",
      "After 40 batches: [time:0.0m 32.74422836303711s, Accuracy: 73.47560975609755]\n",
      "After 45 batches: [time:0.0m 36.637994050979614s, Accuracy: 73.91304347826086]\n",
      "After 50 batches: [time:0.0m 40.44281268119812s, Accuracy: 73.2843137254902]\n",
      "After 55 batches: [time:0.0m 44.1336944103241s, Accuracy: 72.54464285714286]\n",
      "After 60 batches: [time:0.0m 48.22834658622742s, Accuracy: 72.74590163934425]\n",
      "After 65 batches: [time:0.0m 51.955209493637085s, Accuracy: 73.29545454545455]\n",
      "After 70 batches: [time:0.0m 55.75303554534912s, Accuracy: 73.06338028169014]\n",
      "After 75 batches: [time:0.0m 59.446914196014404s, Accuracy: 73.19078947368422]\n",
      "After 80 batches: [time:1.0m 3.0608444213867188s, Accuracy: 72.68518518518519]\n",
      "After 85 batches: [time:1.0m 6.692759990692139s, Accuracy: 73.11046511627907]\n",
      "After 90 batches: [time:1.0m 10.361656188964844s, Accuracy: 73.35164835164835]\n",
      "After 95 batches: [time:1.0m 14.04554796218872s, Accuracy: 73.4375]\n",
      "After 100 batches: [time:1.0m 17.88134741783142s, Accuracy: 73.63861386138613]\n",
      "After 105 batches: [time:1.0m 21.597214937210083s, Accuracy: 73.46698113207547]\n",
      "After 110 batches: [time:1.0m 25.369051218032837s, Accuracy: 74.09909909909909]\n",
      "After 115 batches: [time:1.0m 29.232836961746216s, Accuracy: 74.13793103448276]\n",
      "After 120 batches: [time:1.0m 33.146591901779175s, Accuracy: 74.17355371900827]\n",
      "After 125 batches: [time:1.0m 36.92842435836792s, Accuracy: 73.71031746031747]\n",
      "After 130 batches: [time:1.0m 40.70925831794739s, Accuracy: 73.95038167938931]\n",
      "After 135 batches: [time:1.0m 44.54105758666992s, Accuracy: 73.89705882352942]\n",
      "After 140 batches: [time:1.0m 48.414836406707764s, Accuracy: 74.02482269503547]\n",
      "After 145 batches: [time:1.0m 52.126708984375s, Accuracy: 74.22945205479452]\n",
      "After 150 batches: [time:1.0m 55.79460597038269s, Accuracy: 74.00662251655629]\n",
      "After 155 batches: [time:1.0m 59.44851112365723s, Accuracy: 74.11858974358975]\n",
      "After 160 batches: [time:2.0m 3.009467840194702s, Accuracy: 74.30124223602485]\n",
      "After 165 batches: [time:2.0m 6.65337872505188s, Accuracy: 74.54819277108435]\n",
      "After 170 batches: [time:2.0m 10.34026575088501s, Accuracy: 74.19590643274854]\n",
      "After 175 batches: [time:2.0m 13.9342041015625s, Accuracy: 74.00568181818183]\n",
      "After 180 batches: [time:2.0m 17.707041025161743s, Accuracy: 73.96408839779005]\n"
     ]
    },
    {
     "name": "stdout",
     "output_type": "stream",
     "text": [
      "After 185 batches: [time:2.0m 21.507863759994507s, Accuracy: 73.99193548387096]\n",
      "After 190 batches: [time:2.0m 25.151772260665894s, Accuracy: 73.82198952879581]\n",
      "Epoch 8: [time:2.0m 26.52298617362976s, Accuracy: 73.96103896103897]\n",
      "\n",
      "Epoch: 9\n",
      "After 0 batches: [time:0.0m 0.7145898342132568s, Accuracy: 62.5]\n",
      "After 5 batches: [time:0.0m 4.319522857666016s, Accuracy: 70.83333333333334]\n",
      "After 10 batches: [time:0.0m 7.9834229946136475s, Accuracy: 70.45454545454545]\n",
      "After 15 batches: [time:0.0m 11.557373046875s, Accuracy: 71.09375]\n",
      "After 20 batches: [time:0.0m 15.217275381088257s, Accuracy: 70.83333333333334]\n",
      "After 25 batches: [time:0.0m 19.00310444831848s, Accuracy: 73.07692307692307]\n",
      "After 30 batches: [time:0.0m 22.762948989868164s, Accuracy: 75.0]\n",
      "After 35 batches: [time:0.0m 26.51880121231079s, Accuracy: 74.65277777777779]\n",
      "After 40 batches: [time:0.0m 30.33760905265808s, Accuracy: 74.6951219512195]\n",
      "After 45 batches: [time:0.0m 34.134429931640625s, Accuracy: 74.45652173913044]\n",
      "After 50 batches: [time:0.0m 37.857295989990234s, Accuracy: 75.49019607843137]\n",
      "After 55 batches: [time:0.0m 41.70008945465088s, Accuracy: 73.88392857142857]\n",
      "After 60 batches: [time:0.0m 45.41995716094971s, Accuracy: 74.18032786885246]\n",
      "After 65 batches: [time:0.0m 49.050875186920166s, Accuracy: 74.0530303030303]\n",
      "After 70 batches: [time:0.0m 52.78773331642151s, Accuracy: 73.76760563380282]\n",
      "After 75 batches: [time:0.0m 56.55457401275635s, Accuracy: 73.19078947368422]\n",
      "After 80 batches: [time:1.0m 0.28143739700317383s, Accuracy: 72.8395061728395]\n",
      "After 85 batches: [time:1.0m 4.06326699256897s, Accuracy: 72.96511627906976]\n",
      "After 90 batches: [time:1.0m 7.702180862426758s, Accuracy: 73.07692307692307]\n",
      "After 95 batches: [time:1.0m 11.345092296600342s, Accuracy: 72.91666666666666]\n",
      "After 100 batches: [time:1.0m 15.081950426101685s, Accuracy: 72.89603960396039]\n",
      "After 105 batches: [time:1.0m 18.701873540878296s, Accuracy: 73.70283018867924]\n",
      "After 110 batches: [time:1.0m 22.26982808113098s, Accuracy: 73.53603603603604]\n",
      "After 115 batches: [time:1.0m 25.904743432998657s, Accuracy: 73.59913793103449]\n",
      "After 120 batches: [time:1.0m 29.453709602355957s, Accuracy: 73.55371900826447]\n",
      "After 125 batches: [time:1.0m 33.112611293792725s, Accuracy: 73.51190476190477]\n",
      "After 130 batches: [time:1.0m 36.70355153083801s, Accuracy: 73.18702290076335]\n",
      "After 135 batches: [time:1.0m 40.31947898864746s, Accuracy: 73.06985294117648]\n",
      "After 140 batches: [time:1.0m 43.990373849868774s, Accuracy: 73.04964539007092]\n",
      "After 145 batches: [time:1.0m 47.62828779220581s, Accuracy: 73.20205479452055]\n",
      "After 150 batches: [time:1.0m 51.443103075027466s, Accuracy: 73.01324503311258]\n",
      "After 155 batches: [time:1.0m 55.208943605422974s, Accuracy: 72.75641025641025]\n",
      "After 160 batches: [time:1.0m 58.95979070663452s, Accuracy: 72.51552795031056]\n",
      "After 165 batches: [time:2.0m 2.7466187477111816s, Accuracy: 72.59036144578313]\n",
      "After 170 batches: [time:2.0m 6.371545076370239s, Accuracy: 72.6608187134503]\n",
      "After 175 batches: [time:2.0m 10.141379594802856s, Accuracy: 72.65625]\n",
      "After 180 batches: [time:2.0m 13.888231039047241s, Accuracy: 72.92817679558011]\n",
      "After 185 batches: [time:2.0m 17.584113121032715s, Accuracy: 72.84946236559139]\n",
      "After 190 batches: [time:2.0m 22.964026927947998s, Accuracy: 72.97120418848168]\n",
      "Epoch 9: [time:2.0m 24.28727102279663s, Accuracy: 73.18181818181819]\n",
      "\n",
      "Epoch: 10\n",
      "After 0 batches: [time:0.0m 0.7295815944671631s, Accuracy: 100.0]\n",
      "After 5 batches: [time:0.0m 5.007130146026611s, Accuracy: 81.25]\n",
      "After 10 batches: [time:0.0m 9.011833667755127s, Accuracy: 77.27272727272727]\n",
      "After 15 batches: [time:0.0m 12.940580129623413s, Accuracy: 76.5625]\n",
      "After 20 batches: [time:0.0m 17.17569375038147s, Accuracy: 76.19047619047619]\n",
      "After 25 batches: [time:0.0m 22.6415593624115s, Accuracy: 77.88461538461539]\n",
      "After 30 batches: [time:0.0m 27.33386754989624s, Accuracy: 77.41935483870968]\n",
      "After 35 batches: [time:0.0m 31.445510149002075s, Accuracy: 77.43055555555556]\n",
      "After 40 batches: [time:0.0m 35.22834086418152s, Accuracy: 77.13414634146342]\n",
      "After 45 batches: [time:0.0m 39.163084745407104s, Accuracy: 76.90217391304348]\n",
      "After 50 batches: [time:0.0m 42.93292832374573s, Accuracy: 76.22549019607843]\n",
      "After 55 batches: [time:0.0m 46.58483409881592s, Accuracy: 77.00892857142857]\n",
      "After 60 batches: [time:0.0m 50.18676447868347s, Accuracy: 77.04918032786885]\n",
      "After 65 batches: [time:0.0m 54.144495248794556s, Accuracy: 77.46212121212122]\n",
      "After 70 batches: [time:0.0m 57.977299213409424s, Accuracy: 77.46478873239437]\n",
      "After 75 batches: [time:1.0m 1.7791175842285156s, Accuracy: 76.48026315789474]\n",
      "After 80 batches: [time:1.0m 5.621914863586426s, Accuracy: 76.5432098765432]\n",
      "After 85 batches: [time:1.0m 9.514687061309814s, Accuracy: 76.30813953488372]\n",
      "After 90 batches: [time:1.0m 13.29151701927185s, Accuracy: 75.82417582417582]\n",
      "After 95 batches: [time:1.0m 17.13231873512268s, Accuracy: 75.26041666666666]\n",
      "After 100 batches: [time:1.0m 20.963119983673096s, Accuracy: 75.4950495049505]\n",
      "After 105 batches: [time:1.0m 24.878880262374878s, Accuracy: 75.47169811320755]\n",
      "After 110 batches: [time:1.0m 28.589749097824097s, Accuracy: 74.43693693693693]\n",
      "After 115 batches: [time:1.0m 32.26963520050049s, Accuracy: 74.46120689655173]\n",
      "After 120 batches: [time:1.0m 35.94852614402771s, Accuracy: 74.27685950413223]\n",
      "After 125 batches: [time:1.0m 39.613423585891724s, Accuracy: 74.60317460317461]\n",
      "After 130 batches: [time:1.0m 43.36627173423767s, Accuracy: 74.52290076335878]\n",
      "After 135 batches: [time:1.0m 47.16209626197815s, Accuracy: 74.54044117647058]\n",
      "After 140 batches: [time:1.0m 50.85697674751282s, Accuracy: 74.64539007092199]\n",
      "After 145 batches: [time:1.0m 54.69178080558777s, Accuracy: 75.0]\n",
      "After 150 batches: [time:1.0m 58.28471851348877s, Accuracy: 75.33112582781457]\n",
      "After 155 batches: [time:2.0m 1.8976473808288574s, Accuracy: 75.40064102564102]\n",
      "After 160 batches: [time:2.0m 5.471596956253052s, Accuracy: 75.46583850931677]\n",
      "After 165 batches: [time:2.0m 9.170477390289307s, Accuracy: 75.6024096385542]\n",
      "After 170 batches: [time:2.0m 12.869358777999878s, Accuracy: 75.87719298245614]\n",
      "After 175 batches: [time:2.0m 16.53125548362732s, Accuracy: 76.13636363636364]\n",
      "After 180 batches: [time:2.0m 20.233134269714355s, Accuracy: 76.17403314917127]\n",
      "After 185 batches: [time:2.0m 23.95000195503235s, Accuracy: 76.0752688172043]\n",
      "After 190 batches: [time:2.0m 27.7408287525177s, Accuracy: 76.04712041884817]\n",
      "Epoch 10: [time:2.0m 29.144025325775146s, Accuracy: 76.03896103896103]\n",
      "\n",
      "Training time: 26.0m 3.5460638999938965s\n"
     ]
    }
   ],
   "source": [
    "torch.manual_seed(6721)\n",
    "np.random.seed(6721)\n",
    "\n",
    "net.train()\n",
    "\n",
    "t = time.time()\n",
    "for i in range(num_epoch):\n",
    "    print(f'Epoch: {i+1}')\n",
    "    t_epoch = time.time()\n",
    "    total_labels = 0\n",
    "    correctly_pred = 0\n",
    "    t_batch = time.time()\n",
    "    for j, (data, labels) in enumerate(train_dataloader):\n",
    "        torch.cuda.empty_cache()\n",
    "        gc.collect()\n",
    "        data, labels = data.to(device), labels.to(device)\n",
    "        X, y = data, labels\n",
    "        optimizer.zero_grad()\n",
    "        output = net(X)\n",
    "        loss = loss_evaluater(output, y)\n",
    "        loss.backward()\n",
    "        optimizer.step()\n",
    "        y_pred = torch.argmax(output, dim=1)\n",
    "        total_labels += y.size(0)\n",
    "        correctly_pred += (y_pred==y).sum().item()\n",
    "        current_acc = (correctly_pred/total_labels)\n",
    "        if j%5==0:\n",
    "            seconds_passed = time.time()-t_batch\n",
    "            print(f'After {j} batches: [time:{seconds_passed//60}m {seconds_passed%60}s, Accuracy: {current_acc*100}]')\n",
    "    epoch_acc = (correctly_pred/total_labels)\n",
    "    seconds_passed = time.time()-t_epoch\n",
    "    print(f'Epoch {i+1}: [time:{seconds_passed//60}m {seconds_passed%60}s, Accuracy: {epoch_acc*100}]')\n",
    "    print()\n",
    "seconds_passed = time.time()-t\n",
    "print(f'Training time: {seconds_passed//60}m {seconds_passed%60}s')"
   ]
  },
  {
   "cell_type": "markdown",
   "metadata": {},
   "source": [
    "### 2.5. Training Evaluation"
   ]
  },
  {
   "cell_type": "code",
   "execution_count": 12,
   "metadata": {},
   "outputs": [
    {
     "name": "stdout",
     "output_type": "stream",
     "text": [
      "After 0 batches: [time:0.0m 0.16588807106018066s, Accuracy: 62.5]\n",
      "After 5 batches: [time:0.0m 0.9934122562408447s, Accuracy: 70.83333333333334]\n",
      "After 10 batches: [time:0.0m 1.904888391494751s, Accuracy: 71.5909090909091]\n",
      "After 15 batches: [time:0.0m 2.7793891429901123s, Accuracy: 73.4375]\n",
      "After 20 batches: [time:0.0m 3.5699539184570312s, Accuracy: 74.40476190476191]\n",
      "After 25 batches: [time:0.0m 4.353486061096191s, Accuracy: 74.03846153846155]\n",
      "After 30 batches: [time:0.0m 5.118050813674927s, Accuracy: 75.40322580645162]\n",
      "After 35 batches: [time:0.0m 5.87661600112915s, Accuracy: 75.69444444444444]\n",
      "After 40 batches: [time:0.0m 6.604199171066284s, Accuracy: 77.13414634146342]\n",
      "After 45 batches: [time:0.0m 7.38376522064209s, Accuracy: 77.71739130434783]\n",
      "After 50 batches: [time:0.0m 8.155308723449707s, Accuracy: 77.94117647058823]\n",
      "After 55 batches: [time:0.0m 8.926866054534912s, Accuracy: 78.125]\n",
      "After 60 batches: [time:0.0m 9.6864333152771s, Accuracy: 78.48360655737704]\n",
      "After 65 batches: [time:0.0m 10.918720483779907s, Accuracy: 78.78787878787878]\n",
      "After 70 batches: [time:0.0m 12.112045288085938s, Accuracy: 79.5774647887324]\n",
      "After 75 batches: [time:0.0m 13.6131751537323s, Accuracy: 79.11184210526315]\n",
      "After 80 batches: [time:0.0m 14.436703205108643s, Accuracy: 79.01234567901234]\n",
      "After 85 batches: [time:0.0m 15.20626711845398s, Accuracy: 78.05232558139535]\n",
      "After 90 batches: [time:0.0m 15.954845190048218s, Accuracy: 78.02197802197803]\n",
      "After 95 batches: [time:0.0m 16.754375219345093s, Accuracy: 78.38541666666666]\n",
      "After 100 batches: [time:0.0m 17.531933307647705s, Accuracy: 78.83663366336634]\n",
      "After 105 batches: [time:0.0m 18.295491456985474s, Accuracy: 79.48113207547169]\n",
      "After 110 batches: [time:0.0m 19.04306960105896s, Accuracy: 79.5045045045045]\n",
      "After 115 batches: [time:0.0m 19.77964997291565s, Accuracy: 79.52586206896551]\n",
      "After 120 batches: [time:0.0m 20.57518482208252s, Accuracy: 79.64876033057851]\n",
      "After 125 batches: [time:0.0m 21.38172674179077s, Accuracy: 79.56349206349206]\n",
      "After 130 batches: [time:0.0m 22.17127537727356s, Accuracy: 79.29389312977099]\n",
      "After 135 batches: [time:0.0m 22.95082426071167s, Accuracy: 79.31985294117648]\n",
      "After 140 batches: [time:0.0m 23.77536702156067s, Accuracy: 79.34397163120568]\n",
      "After 145 batches: [time:0.0m 24.536916494369507s, Accuracy: 79.53767123287672]\n",
      "After 150 batches: [time:0.0m 25.304479360580444s, Accuracy: 79.47019867549669]\n",
      "After 155 batches: [time:0.0m 26.054046154022217s, Accuracy: 79.7275641025641]\n",
      "After 160 batches: [time:0.0m 26.81561017036438s, Accuracy: 79.5031055900621]\n",
      "After 165 batches: [time:0.0m 27.57616949081421s, Accuracy: 79.89457831325302]\n",
      "After 170 batches: [time:0.0m 28.389703273773193s, Accuracy: 79.45906432748538]\n",
      "After 175 batches: [time:0.0m 29.1822566986084s, Accuracy: 79.6875]\n",
      "After 180 batches: [time:0.0m 29.954806804656982s, Accuracy: 79.69613259668509]\n",
      "After 185 batches: [time:0.0m 30.714371919631958s, Accuracy: 79.90591397849462]\n",
      "After 190 batches: [time:0.0m 31.481931447982788s, Accuracy: 79.97382198952879]\n",
      "Training accuracy: 80.06493506493506\n",
      "Trainig evaluation time: 0.0m 31.769785165786743s\n"
     ]
    }
   ],
   "source": [
    "torch.manual_seed(6721)\n",
    "np.random.seed(6721)\n",
    "\n",
    "t = time.time()\n",
    "device = torch.device('cuda' if torch.cuda.is_available() else 'cpu')\n",
    "device = torch.device('cpu')\n",
    "\n",
    "net.eval()\n",
    "\n",
    "with torch.no_grad():\n",
    "    total_labels = 0\n",
    "    correctly_pred = 0\n",
    "    t_batch = time.time()\n",
    "    for i, (data, labels) in enumerate(train_dataloader):\n",
    "        data,labels = data.to(device), labels.to(device)\n",
    "        gc.collect()\n",
    "        X, y = data, labels\n",
    "        output = net(X)\n",
    "        y_pred = torch.argmax(output, dim=1)\n",
    "        total_labels += y.size(0)\n",
    "        correctly_pred += (y_pred==y).sum().item()\n",
    "        current_acc = (correctly_pred/total_labels)\n",
    "        if i%5==0:\n",
    "            seconds_passed = time.time()-t_batch\n",
    "            print(f'After {i} batches: [time:{seconds_passed//60}m {seconds_passed%60}s, Accuracy: {current_acc*100}]')\n",
    "    train_acc = (correctly_pred/total_labels)\n",
    "    print(f'Training accuracy: {train_acc*100}')\n",
    "seconds_passed = time.time()-t\n",
    "\n",
    "print(f'Trainig evaluation time: {seconds_passed//60}m {seconds_passed%60}s')"
   ]
  },
  {
   "cell_type": "markdown",
   "metadata": {},
   "source": [
    "### 2.6. Testing Evaluation"
   ]
  },
  {
   "cell_type": "code",
   "execution_count": 13,
   "metadata": {},
   "outputs": [
    {
     "name": "stdout",
     "output_type": "stream",
     "text": [
      "After 0 batches: [time:0.0m 0.22587180137634277s, Accuracy: 62.5]\n",
      "After 5 batches: [time:0.0m 1.4591624736785889s, Accuracy: 72.91666666666666]\n",
      "After 10 batches: [time:0.0m 2.55253529548645s, Accuracy: 73.86363636363636]\n",
      "After 15 batches: [time:0.0m 3.6149301528930664s, Accuracy: 72.65625]\n",
      "After 20 batches: [time:0.0m 4.8992226123809814s, Accuracy: 74.40476190476191]\n",
      "After 25 batches: [time:0.0m 5.962609767913818s, Accuracy: 73.5576923076923]\n",
      "After 30 batches: [time:0.0m 6.970036506652832s, Accuracy: 73.79032258064517]\n",
      "After 35 batches: [time:0.0m 7.931485652923584s, Accuracy: 72.56944444444444]\n",
      "Test accuracy: 72.0\n",
      "Test time: 0.0m 8.279285192489624s\n"
     ]
    }
   ],
   "source": [
    "torch.manual_seed(6721)\n",
    "np.random.seed(6721)\n",
    "\n",
    "net.eval()\n",
    "\n",
    "t = time.time()\n",
    "device = torch.device('cuda' if torch.cuda.is_available() else 'cpu')\n",
    "device = torch.device('cpu')\n",
    "\n",
    "total_labels = 0\n",
    "correctly_pred = 0\n",
    "t_batch = time.time()\n",
    "test_batch=[]\n",
    "pred_batch=[]\n",
    "\n",
    "for i, (data, labels) in enumerate(test_dataloader):\n",
    "    torch.cuda.empty_cache()\n",
    "    data, labels = data.to(device), labels.to(device)\n",
    "    gc.collect()\n",
    "    X, y = data, labels\n",
    "    test_batch.extend(y.tolist())\n",
    "    output = net(X)\n",
    "    y_pred = torch.argmax(output, dim=1)\n",
    "    pred_batch.extend(y_pred.tolist())\n",
    "    total_labels += y.size(0)\n",
    "    correctly_pred += (y_pred==y).sum().item()\n",
    "    current_acc = (correctly_pred/total_labels)\n",
    "    if i%5==0:\n",
    "        seconds_passed = time.time()-t_batch\n",
    "        print(f'After {i} batches: [time:{seconds_passed//60}m {seconds_passed%60}s, Accuracy: {current_acc*100}]')\n",
    "\n",
    "test_acc = (correctly_pred/total_labels)\n",
    "print(f'Test accuracy: {test_acc*100}')\n",
    "seconds_passed = time.time()-t\n",
    "print(f'Test time: {seconds_passed//60}m {seconds_passed%60}s')"
   ]
  },
  {
   "cell_type": "markdown",
   "metadata": {},
   "source": [
    "### 2.7. Saving pretrained Model"
   ]
  },
  {
   "cell_type": "code",
   "execution_count": 17,
   "metadata": {},
   "outputs": [],
   "source": [
    "torch.manual_seed(6721)\n",
    "np.random.seed(6721)\n",
    "\n",
    "file_path = 'C:/Users/vkrmj/model_64_2.pt'\n",
    "\n",
    "state = {\n",
    "    'epoch': num_epoch,\n",
    "    'state_dict': net.state_dict(),\n",
    "    'optimizer': optimizer.state_dict(),\n",
    "    'lr': lr\n",
    "}\n",
    "\n",
    "torch.save(state, file_path)\n",
    "print('done')"
   ]
  },
  {
   "cell_type": "markdown",
   "metadata": {},
   "source": [
    "### 2.8. Loading Pretrained Model"
   ]
  },
  {
   "cell_type": "markdown",
   "metadata": {},
   "source": [
    "Loading Pretrained Model"
   ]
  },
  {
   "cell_type": "code",
   "execution_count": 10,
   "metadata": {},
   "outputs": [
    {
     "name": "stdout",
     "output_type": "stream",
     "text": [
      "Model Loaded Successfully\n"
     ]
    }
   ],
   "source": [
    "import torch\n",
    "import numpy as np\n",
    "torch.manual_seed(6721)\n",
    "np.random.seed(6721)\n",
    "\n",
    "from torch.optim import SGD, Adam\n",
    "from torch.nn import CrossEntropyLoss\n",
    "import time\n",
    "from sklearn import metrics\n",
    "from torch.nn import Sequential, Module, Conv2d, MaxPool2d, Linear, ReLU, Dropout, BatchNorm2d, LeakyReLU, AdaptiveAvgPool2d, Flatten\n",
    "from torchvision.transforms import ToTensor, Compose, Normalize\n",
    "import torch\n",
    "from torch.utils.data import DataLoader, Subset\n",
    "from torchvision.datasets import ImageFolder\n",
    "from torchvision.transforms import ToTensor, Compose, Normalize\n",
    "from torch.utils.data import DataLoader, Subset\n",
    "from torchvision.datasets import ImageFolder\n",
    "import gc\n",
    "from PIL import Image\n",
    "from torchvision.datasets import VisionDataset\n",
    "import pandas as pd\n",
    "import os\n",
    "from skimage import io as sk_io, transform as sk_transform\n",
    "from sklearn.utils import shuffle\n",
    "from PIL import Image\n",
    "\n",
    "file_path = 'C:/Users/vkrmj/model_64_2.pt'\n",
    "\n",
    "state = torch.load(file_path)\n",
    "\n",
    "loaded_net = ProjectModel()\n",
    "loaded_net.load_state_dict(state['state_dict'])\n",
    "\n",
    "loaded_lr = state['lr']\n",
    "loaded_loss_evaluater = CrossEntropyLoss()\n",
    "loaded_optimizer = Adam(loaded_net.parameters(), lr=loaded_lr)\n",
    "loaded_optimizer.load_state_dict(state['optimizer'])\n",
    "\n",
    "loaded_num_epoch = state['epoch']\n",
    "print('Model Loaded Successfully')"
   ]
  },
  {
   "cell_type": "markdown",
   "metadata": {},
   "source": [
    "Testing loaded pretrained Model"
   ]
  },
  {
   "cell_type": "code",
   "execution_count": 11,
   "metadata": {},
   "outputs": [
    {
     "name": "stdout",
     "output_type": "stream",
     "text": [
      "Test dataset: size: 300\n",
      "Test X | y batch shapes : (torch.Size([8, 3, 64, 64]), torch.Size([8]))\n"
     ]
    }
   ],
   "source": [
    "data_dir_test_male = 'D:/Courses/COMP 6721 Applied AI/Project/GitRepo/dataset_p_2_64/rescaled/test_combined/'\n",
    "\n",
    "test_dataset_male = ImageFolder(\n",
    "    root=data_dir_test_male\n",
    "    ,transform=data_transform\n",
    ")\n",
    "print(f'Test dataset: size: {len(test_dataset_male)}')\n",
    "\n",
    "test_dataloader_male = DataLoader(test_dataset_male, batch_size=8, shuffle=True)\n",
    "for data, labels in test_dataloader:\n",
    "    print(f'Test X | y batch shapes : {data.shape, labels.shape}')\n",
    "    break"
   ]
  },
  {
   "cell_type": "code",
   "execution_count": 12,
   "metadata": {},
   "outputs": [
    {
     "name": "stdout",
     "output_type": "stream",
     "text": [
      "After 0 batches: [time:0.0m 0.5904943943023682s, Accuracy: 62.5]\n",
      "After 5 batches: [time:0.0m 1.8397774696350098s, Accuracy: 72.91666666666666]\n",
      "After 10 batches: [time:0.0m 2.9131622314453125s, Accuracy: 73.86363636363636]\n",
      "After 15 batches: [time:0.0m 3.9815495014190674s, Accuracy: 72.65625]\n",
      "After 20 batches: [time:0.0m 4.992968797683716s, Accuracy: 74.40476190476191]\n",
      "After 25 batches: [time:0.0m 6.051362752914429s, Accuracy: 73.5576923076923]\n",
      "After 30 batches: [time:0.0m 7.1297454833984375s, Accuracy: 73.79032258064517]\n",
      "After 35 batches: [time:0.0m 8.176144361495972s, Accuracy: 72.56944444444444]\n",
      "Test accuracy: 72.0\n",
      "Test time: 0.0m 8.559923648834229s\n"
     ]
    }
   ],
   "source": [
    "torch.manual_seed(6721)\n",
    "np.random.seed(6721)\n",
    "\n",
    "loaded_net.eval()\n",
    "\n",
    "t = time.time()\n",
    "\n",
    "total_labels = 0\n",
    "correctly_pred = 0\n",
    "t_batch = time.time()\n",
    "test_batch=[]\n",
    "pred_batch=[]\n",
    "\n",
    "for i, (data, labels) in enumerate(test_dataloader_male):\n",
    "    torch.cuda.empty_cache()\n",
    "    data, labels = data.to(device), labels.to(device)\n",
    "    gc.collect()\n",
    "    X, y = data, labels\n",
    "    test_batch.extend(y.tolist())\n",
    "    output = loaded_net(X)\n",
    "    y_pred = torch.argmax(output, dim=1)\n",
    "    pred_batch.extend(y_pred.tolist())\n",
    "    total_labels += y.size(0)\n",
    "    correctly_pred += (y_pred==y).sum().item()\n",
    "    current_acc = (correctly_pred/total_labels)\n",
    "    if i%5==0:\n",
    "        seconds_passed = time.time()-t_batch\n",
    "        print(f'After {i} batches: [time:{seconds_passed//60}m {seconds_passed%60}s, Accuracy: {current_acc*100}]')\n",
    "\n",
    "test_acc = (correctly_pred/total_labels)\n",
    "print(f'Test accuracy: {test_acc*100}')\n",
    "seconds_passed = time.time()-t\n",
    "print(f'Test time: {seconds_passed//60}m {seconds_passed%60}s')"
   ]
  },
  {
   "cell_type": "markdown",
   "metadata": {},
   "source": [
    "# 3. Model Evaluation"
   ]
  },
  {
   "cell_type": "markdown",
   "metadata": {},
   "source": [
    "### 3.1 Initialization"
   ]
  },
  {
   "cell_type": "code",
   "execution_count": 13,
   "metadata": {},
   "outputs": [],
   "source": [
    "torch.manual_seed(6721)\n",
    "np.random.seed(6721)\n",
    "\n",
    "from sklearn import metrics\n",
    "\n",
    "mask_index=test_dataset.class_to_idx['mask']\n",
    "no_mask_index=test_dataset.class_to_idx['no_mask']\n",
    "not_person_index=test_dataset.class_to_idx['not_person']\n",
    "\n",
    "confusion_metrics_final=metrics.confusion_matrix(test_batch,pred_batch)\n",
    "precision_final=metrics.precision_score(test_batch, pred_batch, average=None)\n",
    "recall_final=metrics.recall_score(test_batch, pred_batch, average=None)\n",
    "f1_final=metrics.f1_score(test_batch, pred_batch, average=None)"
   ]
  },
  {
   "cell_type": "markdown",
   "metadata": {},
   "source": [
    "### 3.2. Accuracy"
   ]
  },
  {
   "cell_type": "code",
   "execution_count": 14,
   "metadata": {},
   "outputs": [
    {
     "name": "stdout",
     "output_type": "stream",
     "text": [
      "Accuracy for the model is 72.0 %\n"
     ]
    }
   ],
   "source": [
    "print(f'Accuracy for the model is {test_acc*100} %')"
   ]
  },
  {
   "cell_type": "markdown",
   "metadata": {},
   "source": [
    "### 3.3. Precision"
   ]
  },
  {
   "cell_type": "code",
   "execution_count": 15,
   "metadata": {},
   "outputs": [
    {
     "name": "stdout",
     "output_type": "stream",
     "text": [
      "Precision for the class mask is 69.38775510204081 %\n",
      "Precision for the class no_mask is 68.88888888888889 %\n",
      "Precision for the class not_person is 76.78571428571429 %\n"
     ]
    }
   ],
   "source": [
    "print(f'Precision for the class mask is {precision_final[mask_index]*100} %')\n",
    "print(f'Precision for the class no_mask is {precision_final[no_mask_index]*100} %')\n",
    "print(f'Precision for the class not_person is {precision_final[not_person_index]*100} %')"
   ]
  },
  {
   "cell_type": "markdown",
   "metadata": {},
   "source": [
    "### 3.4. Recall"
   ]
  },
  {
   "cell_type": "code",
   "execution_count": 16,
   "metadata": {},
   "outputs": [
    {
     "name": "stdout",
     "output_type": "stream",
     "text": [
      "Recall for the class mask is 68.0 %\n",
      "Recall for the class no_mask is 62.0 %\n",
      "Recall for the class not_person is 86.0 %\n"
     ]
    }
   ],
   "source": [
    "print(f'Recall for the class mask is {recall_final[mask_index]*100} %')\n",
    "print(f'Recall for the class no_mask is {recall_final[no_mask_index]*100} %')\n",
    "print(f'Recall for the class not_person is {recall_final[not_person_index]*100} %')"
   ]
  },
  {
   "cell_type": "markdown",
   "metadata": {},
   "source": [
    "### 3.5. F1 Score"
   ]
  },
  {
   "cell_type": "code",
   "execution_count": 17,
   "metadata": {},
   "outputs": [
    {
     "name": "stdout",
     "output_type": "stream",
     "text": [
      "F1 Score for the class mask is 68.68686868686869 %\n",
      "F1 Score for the class no_mask is 65.26315789473685 %\n",
      "F1 Score for the class not_person is 81.13207547169812 %\n"
     ]
    }
   ],
   "source": [
    "print(f'F1 Score for the class mask is {f1_final[mask_index]*100} %')\n",
    "print(f'F1 Score for the class no_mask is {f1_final[no_mask_index]*100} %')\n",
    "print(f'F1 Score for the class not_person is {f1_final[not_person_index]*100} %')"
   ]
  },
  {
   "cell_type": "markdown",
   "metadata": {},
   "source": [
    "### 3.6. Confusion Matrix"
   ]
  },
  {
   "cell_type": "code",
   "execution_count": 18,
   "metadata": {},
   "outputs": [
    {
     "data": {
      "text/plain": [
       "<sklearn.metrics._plot.confusion_matrix.ConfusionMatrixDisplay at 0x23ff57fbb80>"
      ]
     },
     "execution_count": 18,
     "metadata": {},
     "output_type": "execute_result"
    },
    {
     "data": {
      "image/png": "[encoded data removed]",
      "text/plain": [
       "<Figure size 432x288 with 2 Axes>"
      ]
     },
     "metadata": {
      "needs_background": "light"
     },
     "output_type": "display_data"
    }
   ],
   "source": [
    "import matplotlib.pyplot as plt\n",
    "from sklearn.metrics import confusion_matrix, ConfusionMatrixDisplay\n",
    "torch.manual_seed(6721)\n",
    "np.random.seed(6721)\n",
    "\n",
    "cm = confusion_matrix(test_batch, pred_batch, normalize='all')*100\n",
    "cmd = ConfusionMatrixDisplay(cm, display_labels=['mask', 'no_mask', 'not_person'])\n",
    "fig = plt.figure()\n",
    "ax = fig.add_subplot(111)\n",
    "ax.set_title('Confusion Matrix(%)')\n",
    "cmd.plot(ax=ax)\n"
   ]
  },
  {
   "cell_type": "markdown",
   "metadata": {},
   "source": [
    "# == End =="
   ]
  },
  {
   "cell_type": "code",
   "execution_count": null,
   "metadata": {},
   "outputs": [],
   "source": []
  }
 ],
 "metadata": {
  "kernelspec": {
   "display_name": "Python 3",
   "language": "python",
   "name": "python3"
  },
  "language_info": {
   "codemirror_mode": {
    "name": "ipython",
    "version": 3
   },
   "file_extension": ".py",
   "mimetype": "text/x-python",
   "name": "python",
   "nbconvert_exporter": "python",
   "pygments_lexer": "ipython3",
   "version": "3.8.5"
  }
 },
 "nbformat": 4,
 "nbformat_minor": 4
}
