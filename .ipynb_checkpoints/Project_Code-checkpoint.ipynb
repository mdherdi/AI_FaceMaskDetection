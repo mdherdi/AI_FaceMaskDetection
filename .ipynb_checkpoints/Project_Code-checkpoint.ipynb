{
 "cells": [
  {
   "cell_type": "markdown",
   "metadata": {},
   "source": [
    "<pre>\n",
    "<b>\n",
    "COMP-6721 | 2021-Winter\n",
    "Project | Part-1\n",
    "\n",
    "Pravesh Gupta | 40152506\n",
    "Vikramjeet Singh | 40134477\n",
    "Manjot Kaur Dherdi | 40107905\n",
    "</b>\n",
    "</pre>"
   ]
  },
  {
   "cell_type": "markdown",
   "metadata": {},
   "source": [
    "# 1. Data Loading"
   ]
  },
  {
   "cell_type": "markdown",
   "metadata": {},
   "source": [
    "## 1.1. Installing required python modules"
   ]
  },
  {
   "cell_type": "code",
   "execution_count": 1,
   "metadata": {},
   "outputs": [
    {
     "name": "stdout",
     "output_type": "stream",
     "text": [
      "Requirement already satisfied: torch in d:\\installations\\anaconda3\\lib\\site-packages (1.7.0)\n",
      "Requirement already satisfied: future in d:\\installations\\anaconda3\\lib\\site-packages (from torch) (0.18.2)\n",
      "Requirement already satisfied: typing_extensions in d:\\installations\\anaconda3\\lib\\site-packages (from torch) (3.7.4.2)\n",
      "Requirement already satisfied: dataclasses in d:\\installations\\anaconda3\\lib\\site-packages (from torch) (0.6)\n",
      "Requirement already satisfied: numpy in d:\\installations\\anaconda3\\lib\\site-packages (from torch) (1.18.5)\n",
      "Note: you may need to restart the kernel to use updated packages.\n"
     ]
    }
   ],
   "source": [
    "pip install torch"
   ]
  },
  {
   "cell_type": "code",
   "execution_count": 2,
   "metadata": {},
   "outputs": [
    {
     "name": "stdout",
     "output_type": "stream",
     "text": [
      "Requirement already satisfied: torchvision in d:\\installations\\anaconda3\\lib\\site-packages (0.8.1)\n",
      "Requirement already satisfied: numpy in d:\\installations\\anaconda3\\lib\\site-packages (from torchvision) (1.18.5)\n",
      "Requirement already satisfied: torch==1.7.0 in d:\\installations\\anaconda3\\lib\\site-packages (from torchvision) (1.7.0)\n",
      "Requirement already satisfied: pillow>=4.1.1 in d:\\installations\\anaconda3\\lib\\site-packages (from torchvision) (7.2.0)\n",
      "Note: you may need to restart the kernel to use updated packages.\n",
      "Requirement already satisfied: future in d:\\installations\\anaconda3\\lib\\site-packages (from torch==1.7.0->torchvision) (0.18.2)\n",
      "Requirement already satisfied: typing_extensions in d:\\installations\\anaconda3\\lib\\site-packages (from torch==1.7.0->torchvision) (3.7.4.2)\n",
      "Requirement already satisfied: dataclasses in d:\\installations\\anaconda3\\lib\\site-packages (from torch==1.7.0->torchvision) (0.6)\n"
     ]
    }
   ],
   "source": [
    "pip install torchvision"
   ]
  },
  {
   "cell_type": "code",
   "execution_count": 3,
   "metadata": {},
   "outputs": [
    {
     "name": "stdout",
     "output_type": "stream",
     "text": [
      "Requirement already satisfied: pandas in d:\\installations\\anaconda3\\lib\\site-packages (1.0.5)\n",
      "Requirement already satisfied: numpy>=1.13.3 in d:\\installations\\anaconda3\\lib\\site-packages (from pandas) (1.18.5)\n",
      "Requirement already satisfied: python-dateutil>=2.6.1 in d:\\installations\\anaconda3\\lib\\site-packages (from pandas) (2.8.1)\n",
      "Requirement already satisfied: pytz>=2017.2 in d:\\installations\\anaconda3\\lib\\site-packages (from pandas) (2020.1)\n",
      "Requirement already satisfied: six>=1.5 in d:\\installations\\anaconda3\\lib\\site-packages (from python-dateutil>=2.6.1->pandas) (1.15.0)\n",
      "Note: you may need to restart the kernel to use updated packages.\n"
     ]
    }
   ],
   "source": [
    "pip install pandas"
   ]
  },
  {
   "cell_type": "code",
   "execution_count": 4,
   "metadata": {},
   "outputs": [
    {
     "name": "stdout",
     "output_type": "stream",
     "text": [
      "Requirement already satisfied: torchvision in d:\\installations\\anaconda3\\lib\\site-packages (0.8.1)\n",
      "Requirement already satisfied: numpy in d:\\installations\\anaconda3\\lib\\site-packages (from torchvision) (1.18.5)\n",
      "Requirement already satisfied: torch==1.7.0 in d:\\installations\\anaconda3\\lib\\site-packages (from torchvision) (1.7.0)\n",
      "Requirement already satisfied: pillow>=4.1.1 in d:\\installations\\anaconda3\\lib\\site-packages (from torchvision) (7.2.0)\n",
      "Requirement already satisfied: future in d:\\installations\\anaconda3\\lib\\site-packages (from torch==1.7.0->torchvision) (0.18.2)\n",
      "Requirement already satisfied: typing_extensions in d:\\installations\\anaconda3\\lib\\site-packages (from torch==1.7.0->torchvision) (3.7.4.2)\n",
      "Requirement already satisfied: dataclasses in d:\\installations\\anaconda3\\lib\\site-packages (from torch==1.7.0->torchvision) (0.6)\n",
      "Note: you may need to restart the kernel to use updated packages.\n"
     ]
    }
   ],
   "source": [
    "pip install torchvision"
   ]
  },
  {
   "cell_type": "code",
   "execution_count": 5,
   "metadata": {},
   "outputs": [
    {
     "name": "stdout",
     "output_type": "stream",
     "text": [
      "Requirement already satisfied: scikit-image in d:\\installations\\anaconda3\\lib\\site-packages (0.16.2)Note: you may need to restart the kernel to use updated packages.\n",
      "Requirement already satisfied: PyWavelets>=0.4.0 in d:\\installations\\anaconda3\\lib\\site-packages (from scikit-image) (1.1.1)\n",
      "Requirement already satisfied: pillow>=4.3.0 in d:\\installations\\anaconda3\\lib\\site-packages (from scikit-image) (7.2.0)\n",
      "Requirement already satisfied: imageio>=2.3.0 in d:\\installations\\anaconda3\\lib\\site-packages (from scikit-image) (2.9.0)\n",
      "Requirement already satisfied: matplotlib!=3.0.0,>=2.0.0 in d:\\installations\\anaconda3\\lib\\site-packages (from scikit-image) (3.2.2)\n",
      "Requirement already satisfied: scipy>=0.19.0 in d:\\installations\\anaconda3\\lib\\site-packages (from scikit-image) (1.5.0)\n",
      "Requirement already satisfied: networkx>=2.0 in d:\\installations\\anaconda3\\lib\\site-packages (from scikit-image) (2.4)\n",
      "Requirement already satisfied: numpy>=1.13.3 in d:\\installations\\anaconda3\\lib\\site-packages (from PyWavelets>=0.4.0->scikit-image) (1.18.5)\n",
      "Requirement already satisfied: kiwisolver>=1.0.1 in d:\\installations\\anaconda3\\lib\\site-packages (from matplotlib!=3.0.0,>=2.0.0->scikit-image) (1.2.0)\n",
      "Requirement already satisfied: cycler>=0.10 in d:\\installations\\anaconda3\\lib\\site-packages (from matplotlib!=3.0.0,>=2.0.0->scikit-image) (0.10.0)\n",
      "Requirement already satisfied: pyparsing!=2.0.4,!=2.1.2,!=2.1.6,>=2.0.1 in d:\\installations\\anaconda3\\lib\\site-packages (from matplotlib!=3.0.0,>=2.0.0->scikit-image) (2.4.7)\n",
      "Requirement already satisfied: python-dateutil>=2.1 in d:\\installations\\anaconda3\\lib\\site-packages (from matplotlib!=3.0.0,>=2.0.0->scikit-image) (2.8.1)\n",
      "Requirement already satisfied: decorator>=4.3.0 in d:\\installations\\anaconda3\\lib\\site-packages (from networkx>=2.0->scikit-image) (4.4.2)\n",
      "Requirement already satisfied: six in d:\\installations\\anaconda3\\lib\\site-packages (from cycler>=0.10->matplotlib!=3.0.0,>=2.0.0->scikit-image) (1.15.0)\n",
      "\n"
     ]
    }
   ],
   "source": [
    "pip install scikit-image"
   ]
  },
  {
   "cell_type": "code",
   "execution_count": 6,
   "metadata": {},
   "outputs": [
    {
     "name": "stdout",
     "output_type": "stream",
     "text": [
      "Requirement already satisfied: numpy in d:\\installations\\anaconda3\\lib\\site-packages (1.18.5)\n",
      "Note: you may need to restart the kernel to use updated packages.\n"
     ]
    }
   ],
   "source": [
    "pip install numpy"
   ]
  },
  {
   "cell_type": "code",
   "execution_count": 7,
   "metadata": {},
   "outputs": [
    {
     "name": "stdout",
     "output_type": "stream",
     "text": [
      "Requirement already satisfied: sklearn in d:\\installations\\anaconda3\\lib\\site-packages (0.0)\n",
      "Requirement already satisfied: scikit-learn in d:\\installations\\anaconda3\\lib\\site-packages (from sklearn) (0.23.1)\n",
      "Requirement already satisfied: joblib>=0.11 in d:\\installations\\anaconda3\\lib\\site-packages (from scikit-learn->sklearn) (0.16.0)\n",
      "Requirement already satisfied: numpy>=1.13.3 in d:\\installations\\anaconda3\\lib\\site-packages (from scikit-learn->sklearn) (1.18.5)\n",
      "Requirement already satisfied: threadpoolctl>=2.0.0 in d:\\installations\\anaconda3\\lib\\site-packages (from scikit-learn->sklearn) (2.1.0)\n",
      "Requirement already satisfied: scipy>=0.19.1 in d:\\installations\\anaconda3\\lib\\site-packages (from scikit-learn->sklearn) (1.5.0)\n",
      "Note: you may need to restart the kernel to use updated packages.\n"
     ]
    }
   ],
   "source": [
    "pip install sklearn"
   ]
  },
  {
   "cell_type": "code",
   "execution_count": 8,
   "metadata": {},
   "outputs": [
    {
     "name": "stdout",
     "output_type": "stream",
     "text": [
      "Requirement already satisfied: pillow in d:\\installations\\anaconda3\\lib\\site-packages (7.2.0)\n",
      "Note: you may need to restart the kernel to use updated packages.\n"
     ]
    }
   ],
   "source": [
    "pip install pillow"
   ]
  },
  {
   "cell_type": "markdown",
   "metadata": {},
   "source": [
    "### 1.2. Dataset Description"
   ]
  },
  {
   "cell_type": "markdown",
   "metadata": {},
   "source": [
    "\n",
    "Required Dataset Folder Heirarchy:\n",
    "<pre>\n",
    "{dataset_folder}\n",
    "--images\n",
    "----mask\n",
    "-------{mask images}\n",
    "----no_mask\n",
    "-------{no mask images}\n",
    "----not_person\n",
    "-------{not person images}\n",
    "</pre>"
   ]
  },
  {
   "cell_type": "markdown",
   "metadata": {},
   "source": [
    "### 1.3. Defining Pytorch dataset Representation and data transaformers"
   ]
  },
  {
   "cell_type": "code",
   "execution_count": 1,
   "metadata": {},
   "outputs": [],
   "source": [
    "from torchvision.datasets import VisionDataset\n",
    "import pandas as pd\n",
    "import os\n",
    "from skimage import io as sk_io, transform as sk_transform\n",
    "import numpy as np\n",
    "from sklearn.utils import shuffle\n",
    "from PIL import Image\n",
    "    \n",
    "class Rescale(object):\n",
    "    def __init__(self, output_size, debug=False, export_path=None):\n",
    "        assert isinstance(output_size, (int))\n",
    "        self.output_size = output_size\n",
    "\n",
    "    def __call__(self, img_data):\n",
    "        img_arr = np.array(img_data)\n",
    "        h, w, c = img_arr.shape\n",
    "        isAlreadyScaled = (h==self.output_size and w==self.output_size)\n",
    "        \n",
    "        if not isAlreadyScaled:\n",
    "            scale_factor = float(self.output_size)/img_arr.shape[0]\n",
    "            img_arr = (sk_transform.rescale(img_arr, (scale_factor, scale_factor, 1))*255).astype(np.uint8)\n",
    "\n",
    "            new_w = img_arr.shape[1]\n",
    "\n",
    "            # Clipping or filling\n",
    "            if new_w>self.output_size:\n",
    "                mid = new_w//2\n",
    "                new_w_start = mid-self.output_size//2\n",
    "                new_w_end = mid+self.output_size//2\n",
    "\n",
    "                if (new_w_end-new_w_start)<self.output_size:\n",
    "                    new_w_end += (self.output_size-(new_w_end-new_w_start))\n",
    "                elif (new_w_end-new_w_start)>self.output_size:\n",
    "                    new_w_end -= ((new_w_end-new_w_start)-self.output_size)\n",
    "                img_arr = img_arr[:, new_w_start:new_w_end]\n",
    "            elif new_w<self.output_size:\n",
    "                mid = new_w//2\n",
    "                new_w_start = self.output_size//2-mid\n",
    "                new_w_end = new_w_start+new_w\n",
    "                filled_img_arr = np.zeros((self.output_size, self.output_size, img_arr.shape[2]), dtype=np.uint8)\n",
    "                filled_img_arr[:, new_w_start:new_w_end] = img_arr[:, :]\n",
    "                img_arr = filled_img_arr\n",
    "        return Image.fromarray(img_arr)"
   ]
  },
  {
   "cell_type": "markdown",
   "metadata": {},
   "source": [
    "### 1.4. (Optional) Prior conversion of image to speed up training process"
   ]
  },
  {
   "cell_type": "code",
   "execution_count": 140,
   "metadata": {},
   "outputs": [
    {
     "name": "stdout",
     "output_type": "stream",
     "text": [
      "Dataset: size: 2055, class labels: {'mask': 0, 'no_mask': 1, 'not_person': 2}\n"
     ]
    }
   ],
   "source": [
    "from PIL import Image\n",
    "\n",
    "torch.manual_seed(6721)\n",
    "np.random.seed(6721)\n",
    "\n",
    "rescaled_size=512\n",
    "\n",
    "scaler = Rescale(rescaled_size)\n",
    "\n",
    "data_dir = './data/images_original/'\n",
    "copy_dir = './data/images_rescaled/'\n",
    "\n",
    "if not os.path.isdir(copy_dir):\n",
    "    os.mkdir(copy_dir)\n",
    "\n",
    "data_transform = Compose([\n",
    "    Rescale(rescaled_size)\n",
    "])\n",
    "\n",
    "dataset = ImageFolder(\n",
    "    root=data_dir\n",
    "    ,transform=data_transform\n",
    ")\n",
    "print(f'Dataset: size: {len(dataset)}, class labels: {dataset.class_to_idx}')\n",
    "\n",
    "label_to_class_dir = {}\n",
    "for class_name in dataset.class_to_idx:\n",
    "    label = dataset.class_to_idx[class_name]\n",
    "    class_dir = copy_dir + class_name + '/'\n",
    "    label_to_class_dir[label] = class_dir\n",
    "    if not os.path.isdir(class_dir):\n",
    "        os.mkdir(class_dir)\n",
    "\n",
    "for i in range(len(dataset.imgs)):\n",
    "    url, label = dataset.imgs[i]\n",
    "    img_name = url.split('\\\\')[1]\n",
    "    img_file_path = label_to_class_dir[label] + img_name\n",
    "    \n",
    "    if not os.path.isfile(img_file_path):\n",
    "        item = dataset.__getitem__(i)\n",
    "        rescaled_img = item[0]\n",
    "        rescaled_img.save(img_file_path, check_contrast=False)"
   ]
  },
  {
   "cell_type": "markdown",
   "metadata": {},
   "source": [
    "### 1.5. Creating dataset and data loaders for train and test"
   ]
  },
  {
   "cell_type": "markdown",
   "metadata": {},
   "source": [
    "From whole dataset, split and find train/test dataset data points"
   ]
  },
  {
   "cell_type": "code",
   "execution_count": 2,
   "metadata": {},
   "outputs": [],
   "source": [
    "train_images_per_class = 600\n",
    "test_images_per_class = 100\n",
    "\n",
    "def get_train_test_indices(dataset_targets):\n",
    "    test_indices_map = {}\n",
    "    for class_name in dataset.class_to_idx:\n",
    "        label = dataset.class_to_idx[class_name]\n",
    "        test_indices_map[label] = {'indices': np.array([], dtype=np.int32), 'count': 0}\n",
    "\n",
    "    train_indices_map = {}\n",
    "    for class_name in dataset.class_to_idx:\n",
    "        label = dataset.class_to_idx[class_name]\n",
    "        train_indices_map[label] = {'indices': np.array([], dtype=np.int32), 'count': 0}\n",
    "\n",
    "    targets = np.array(dataset.targets, dtype=np.int32)\n",
    "    target_indices = np.where(targets!=None)[0]\n",
    "    np.random.shuffle(target_indices)\n",
    "\n",
    "    for i in target_indices:\n",
    "        label = dataset.targets[i]\n",
    "        if test_indices_map[label]['count']<test_images_per_class:\n",
    "            test_indices_map[label]['indices'] = np.append(test_indices_map[label]['indices'], i)\n",
    "            test_indices_map[label]['count']+=1\n",
    "        elif train_indices_map[label]['count']<train_images_per_class:\n",
    "            train_indices_map[label]['indices'] = np.append(train_indices_map[label]['indices'], i)\n",
    "            train_indices_map[label]['count']+=1\n",
    "\n",
    "    test_indices = np.array([], dtype=np.int32)\n",
    "    train_indices = np.array([], dtype=np.int32)\n",
    "\n",
    "    for class_name in dataset.class_to_idx:\n",
    "        label = dataset.class_to_idx[class_name]\n",
    "        label_test_indices = test_indices_map[label]['indices']\n",
    "        test_indices = np.append(test_indices, label_test_indices)\n",
    "\n",
    "        label_train_indices = train_indices_map[label]['indices']\n",
    "        train_indices = np.append(train_indices, label_train_indices)\n",
    "    return train_indices, test_indices"
   ]
  },
  {
   "cell_type": "markdown",
   "metadata": {},
   "source": [
    "Calculating mean and std for Normalization"
   ]
  },
  {
   "cell_type": "code",
   "execution_count": 3,
   "metadata": {},
   "outputs": [
    {
     "name": "stdout",
     "output_type": "stream",
     "text": [
      "Dataset: size: 2140, class labels: {'mask': 0, 'no_mask': 1, 'not_person': 2}\n",
      "Selected dataset: size: 2100\n",
      "Mean: tensor([0.4237, 0.3920, 0.3737])\n",
      "Std: tensor([0.2833, 0.2734, 0.2842])\n"
     ]
    }
   ],
   "source": [
    "from torchvision.transforms import ToTensor, Compose, Normalize\n",
    "import torch\n",
    "from torch.utils.data import DataLoader, Subset\n",
    "from torchvision.datasets import ImageFolder\n",
    "import gc\n",
    "\n",
    "torch.manual_seed(6721)\n",
    "np.random.seed(6721)\n",
    "\n",
    "rescaled_size=512\n",
    "data_dir = './data/images/'\n",
    "\n",
    "data_transform = Compose([\n",
    "    Rescale(rescaled_size)\n",
    "    , ToTensor()\n",
    "])\n",
    "\n",
    "dataset = ImageFolder(\n",
    "    root=data_dir\n",
    "    ,transform=data_transform\n",
    ")\n",
    "print(f'Dataset: size: {len(dataset)}, class labels: {dataset.class_to_idx}')\n",
    "\n",
    "train_indices, test_indices = get_train_test_indices(dataset.targets)\n",
    "selected_indices = np.concatenate((train_indices, test_indices))\n",
    "\n",
    "selected_dataset = Subset(dataset, selected_indices)\n",
    "print(f'Selected dataset: size: {len(selected_dataset)}')\n",
    "selected_dataloader = DataLoader(selected_dataset, batch_size=8, shuffle=False)\n",
    "\n",
    "means = torch.tensor([])\n",
    "stds = torch.tensor([])\n",
    "for i, (data, labels) in enumerate(selected_dataloader):\n",
    "    gc.collect()\n",
    "    batch_mean = torch.mean(data, axis=(0, 2, 3))\n",
    "    batch_std = torch.std(data, axis=(0, 2, 3))\n",
    "    means = torch.cat((means, batch_mean.unsqueeze(0)))\n",
    "    stds = torch.cat((stds, batch_std.unsqueeze(0)))\n",
    "mean = torch.mean(means, axis=0)\n",
    "std = torch.mean(stds, axis=0)\n",
    "print(f'Mean: {mean}')\n",
    "print(f'Std: {std}')"
   ]
  },
  {
   "cell_type": "markdown",
   "metadata": {},
   "source": [
    "Creating train and test dataset and data loaders"
   ]
  },
  {
   "cell_type": "code",
   "execution_count": 4,
   "metadata": {},
   "outputs": [
    {
     "name": "stdout",
     "output_type": "stream",
     "text": [
      "Train dataset: size: 1800\n",
      "Train X | y batch shapes : (torch.Size([8, 3, 512, 512]), torch.Size([8]))\n",
      "Test dataset: size: 300\n",
      "Test X | y batch shapes : (torch.Size([8, 3, 512, 512]), torch.Size([8]))\n"
     ]
    }
   ],
   "source": [
    "torch.manual_seed(6721)\n",
    "np.random.seed(6721)\n",
    "\n",
    "from torchvision.transforms import ToTensor, Compose, Normalize\n",
    "import torch\n",
    "from torch.utils.data import DataLoader, Subset\n",
    "from torchvision.datasets import ImageFolder\n",
    "\n",
    "data_transform = Compose([\n",
    "    Rescale(rescaled_size)\n",
    "    , ToTensor()\n",
    "    , Normalize(mean=mean, std=std)\n",
    "])\n",
    "\n",
    "dataset = ImageFolder(\n",
    "    root=data_dir\n",
    "    ,transform=data_transform\n",
    ")\n",
    "\n",
    "train_dataset = Subset(dataset, train_indices)\n",
    "print(f'Train dataset: size: {len(train_dataset)}')\n",
    "\n",
    "train_dataloader = DataLoader(train_dataset, batch_size=8, shuffle=True)\n",
    "for data, labels in train_dataloader:\n",
    "    print(f'Train X | y batch shapes : {data.shape, labels.shape}')\n",
    "    break\n",
    "\n",
    "test_dataset = Subset(dataset, test_indices)\n",
    "print(f'Test dataset: size: {len(test_dataset)}')\n",
    "\n",
    "test_dataloader = DataLoader(test_dataset, batch_size=8, shuffle=True)\n",
    "for data, labels in test_dataloader:\n",
    "    print(f'Test X | y batch shapes : {data.shape, labels.shape}')\n",
    "    break"
   ]
  },
  {
   "cell_type": "markdown",
   "metadata": {},
   "source": [
    "# 2. Data Modelling"
   ]
  },
  {
   "cell_type": "code",
   "execution_count": 5,
   "metadata": {},
   "outputs": [],
   "source": [
    "from torch.nn import Sequential, Module, Conv2d, MaxPool2d, Linear, ReLU, Dropout, BatchNorm2d, LeakyReLU, AdaptiveAvgPool2d, Flatten\n",
    "\n",
    "class ProjectModel(Module):\n",
    "    def __init__(self, num_classes=3):\n",
    "        super(ProjectModel, self).__init__()\n",
    "        self.module = Sequential(\n",
    "            Conv2d(3, 32, kernel_size=3, stride=1, padding=2)\n",
    "            , BatchNorm2d(32)\n",
    "            , LeakyReLU(inplace=True)\n",
    "            \n",
    "            , Conv2d(32, 32, kernel_size=3, stride=1, padding=0)\n",
    "            , BatchNorm2d(32)\n",
    "            , LeakyReLU(inplace=True)\n",
    "            \n",
    "            , MaxPool2d(kernel_size=2, stride=2)\n",
    "            \n",
    "            , Conv2d(32, 64, kernel_size=3, stride=1, padding=0)\n",
    "            , BatchNorm2d(64)\n",
    "            , LeakyReLU(inplace=True)\n",
    "            \n",
    "            , Conv2d(64, 64, kernel_size=3, stride=1, padding=0)\n",
    "            , BatchNorm2d(64)\n",
    "            , LeakyReLU(inplace=True)\n",
    "            \n",
    "            , MaxPool2d(kernel_size=2, stride=2)\n",
    "            \n",
    "            , AdaptiveAvgPool2d(output_size=(12, 12))\n",
    "            \n",
    "            , Flatten()\n",
    "            , Dropout(p=0.2, inplace=False)\n",
    "            , Linear(in_features=64*12*12, out_features=4096, bias=True)\n",
    "            , Dropout(p=0.2, inplace=False)\n",
    "            , Linear(in_features=4096, out_features=512, bias=True)\n",
    "            , Dropout(p=0.2, inplace=False)\n",
    "            , Linear(in_features=512, out_features=num_classes, bias=True)\n",
    "        )\n",
    "        \n",
    "    def forward(self, X):\n",
    "        return self.module(X)"
   ]
  },
  {
   "cell_type": "markdown",
   "metadata": {},
   "source": [
    "### 2.1. Integrity Test"
   ]
  },
  {
   "cell_type": "code",
   "execution_count": 6,
   "metadata": {},
   "outputs": [
    {
     "name": "stdout",
     "output_type": "stream",
     "text": [
      "tensor([[ 0.0291,  0.1385, -0.1791],\n",
      "        [ 0.1165,  0.2465,  0.3920],\n",
      "        [ 0.0138,  0.0091, -0.1346],\n",
      "        [ 0.2905,  0.2465, -0.3496],\n",
      "        [-0.0359,  0.0934,  0.2980],\n",
      "        [ 0.0764, -0.0368, -0.2491],\n",
      "        [ 0.1002, -0.1506,  0.1074],\n",
      "        [ 0.0022, -0.0128, -0.2165]], grad_fn=<AddmmBackward>)\n",
      "tensor([1, 2, 0, 0, 2, 0, 2, 0])\n",
      "Accuracy: 25.0\n",
      "Model test passed.\n"
     ]
    }
   ],
   "source": [
    "torch.manual_seed(6721)\n",
    "np.random.seed(6721)\n",
    "\n",
    "# device = torch.device('cuda' if torch.cuda.is_available() else 'cpu')\n",
    "\n",
    "net = ProjectModel()\n",
    "\n",
    "# net = net.to(device)\n",
    "\n",
    "# Model Unit test\n",
    "total_labels = 0\n",
    "correct_labels = 0\n",
    "for data, labels in train_dataloader:\n",
    "#     torch.cuda.empty_cache()\n",
    "#     data, labels = data.to(device), labels.to(device)\n",
    "    outputs = net(data)\n",
    "    print(outputs)\n",
    "    y_pred = torch.argmax(outputs, dim=1)\n",
    "    print(y_pred)\n",
    "    total_labels+=labels.size(0)\n",
    "    correct_labels += (y_pred==labels).sum().item()\n",
    "    break\n",
    "\n",
    "print(f'Accuracy: {(correct_labels/total_labels)*100}')\n",
    "print('Model test passed.')"
   ]
  },
  {
   "cell_type": "markdown",
   "metadata": {},
   "source": [
    "### 2.2. Model Parameter Initializations"
   ]
  },
  {
   "cell_type": "code",
   "execution_count": 47,
   "metadata": {},
   "outputs": [
    {
     "data": {
      "text/plain": [
       "ProjectModel(\n",
       "  (module): Sequential(\n",
       "    (0): Conv2d(3, 32, kernel_size=(3, 3), stride=(1, 1), padding=(2, 2))\n",
       "    (1): BatchNorm2d(32, eps=1e-05, momentum=0.1, affine=True, track_running_stats=True)\n",
       "    (2): LeakyReLU(negative_slope=0.01, inplace=True)\n",
       "    (3): Conv2d(32, 32, kernel_size=(3, 3), stride=(1, 1))\n",
       "    (4): BatchNorm2d(32, eps=1e-05, momentum=0.1, affine=True, track_running_stats=True)\n",
       "    (5): LeakyReLU(negative_slope=0.01, inplace=True)\n",
       "    (6): MaxPool2d(kernel_size=2, stride=2, padding=0, dilation=1, ceil_mode=False)\n",
       "    (7): Conv2d(32, 64, kernel_size=(3, 3), stride=(1, 1))\n",
       "    (8): BatchNorm2d(64, eps=1e-05, momentum=0.1, affine=True, track_running_stats=True)\n",
       "    (9): LeakyReLU(negative_slope=0.01, inplace=True)\n",
       "    (10): Conv2d(64, 64, kernel_size=(3, 3), stride=(1, 1))\n",
       "    (11): BatchNorm2d(64, eps=1e-05, momentum=0.1, affine=True, track_running_stats=True)\n",
       "    (12): LeakyReLU(negative_slope=0.01, inplace=True)\n",
       "    (13): MaxPool2d(kernel_size=2, stride=2, padding=0, dilation=1, ceil_mode=False)\n",
       "    (14): AdaptiveAvgPool2d(output_size=(12, 12))\n",
       "    (15): Flatten(start_dim=1, end_dim=-1)\n",
       "    (16): Dropout(p=0.2, inplace=False)\n",
       "    (17): Linear(in_features=9216, out_features=4096, bias=True)\n",
       "    (18): Dropout(p=0.2, inplace=False)\n",
       "    (19): Linear(in_features=4096, out_features=512, bias=True)\n",
       "    (20): Dropout(p=0.2, inplace=False)\n",
       "    (21): Linear(in_features=512, out_features=3, bias=True)\n",
       "  )\n",
       ")"
      ]
     },
     "execution_count": 47,
     "metadata": {},
     "output_type": "execute_result"
    }
   ],
   "source": [
    "torch.manual_seed(6721)\n",
    "np.random.seed(6721)\n",
    "\n",
    "def initialize_linear_layer_weights(layer):\n",
    "    torch.nn.init.xavier_uniform_(layer.weight)\n",
    "    torch.nn.init.zeros_(layer.bias)\n",
    "        \n",
    "def initialize_conv2d_layer_weights(layer):\n",
    "    torch.nn.init.xavier_uniform_(layer.weight)\n",
    "    \n",
    "def initialize_model_weights(module):\n",
    "    if isinstance(module, ProjectModel):\n",
    "        return\n",
    "    elif isinstance(module, Sequential):\n",
    "        return\n",
    "    if isinstance(module, Conv2d):\n",
    "        initialize_conv2d_layer_weights(module)\n",
    "    if isinstance(module, Linear):\n",
    "        initialize_linear_layer_weights(module)\n",
    "\n",
    "\n",
    "net = ProjectModel()\n",
    "net.apply(initialize_model_weights)"
   ]
  },
  {
   "cell_type": "markdown",
   "metadata": {},
   "source": [
    "### 2.3. Training"
   ]
  },
  {
   "cell_type": "markdown",
   "metadata": {},
   "source": [
    "Training Parameter Configurations"
   ]
  },
  {
   "cell_type": "code",
   "execution_count": 48,
   "metadata": {},
   "outputs": [],
   "source": [
    "torch.manual_seed(6721)\n",
    "np.random.seed(6721)\n",
    "\n",
    "from torch.optim import SGD, Adam\n",
    "from torch.nn import CrossEntropyLoss\n",
    "import time\n",
    "\n",
    "num_epoch = 10\n",
    "lr = 1e-3\n",
    "momentum = 0.5\n",
    "\n",
    "loss_evaluater = CrossEntropyLoss()\n",
    "optimizer = Adam(net.parameters(), lr=lr)\n",
    "\n",
    "# device = torch.device('cuda' if torch.cuda.is_available() else 'cpu')\n",
    "# device = torch.device('cpu')\n",
    "# net = net.to(device)"
   ]
  },
  {
   "cell_type": "markdown",
   "metadata": {},
   "source": [
    "Training"
   ]
  },
  {
   "cell_type": "code",
   "execution_count": 10,
   "metadata": {
    "scrolled": false
   },
   "outputs": [
    {
     "name": "stdout",
     "output_type": "stream",
     "text": [
      "Epoch: 1\n",
      "After 0 batches: [time:0.0m 32.94046974182129s, Accuracy: 0.0]\n",
      "After 5 batches: [time:1.0m 8.83897852897644s, Accuracy: 25.0]\n",
      "After 10 batches: [time:1.0m 43.03180432319641s, Accuracy: 34.090909090909086]\n",
      "After 15 batches: [time:2.0m 16.116751194000244s, Accuracy: 33.59375]\n",
      "After 20 batches: [time:2.0m 51.74809646606445s, Accuracy: 37.5]\n",
      "After 25 batches: [time:3.0m 25.157641410827637s, Accuracy: 42.30769230769231]\n",
      "After 30 batches: [time:3.0m 59.26230573654175s, Accuracy: 40.725806451612904]\n",
      "After 35 batches: [time:4.0m 30.380687475204468s, Accuracy: 44.44444444444444]\n",
      "After 40 batches: [time:5.0m 1.4760255813598633s, Accuracy: 44.81707317073171]\n",
      "After 45 batches: [time:5.0m 32.665542125701904s, Accuracy: 44.29347826086957]\n",
      "After 50 batches: [time:6.0m 4.366930723190308s, Accuracy: 45.588235294117645]\n",
      "After 55 batches: [time:6.0m 34.826013803482056s, Accuracy: 46.651785714285715]\n",
      "After 60 batches: [time:7.0m 5.229649782180786s, Accuracy: 46.72131147540984]\n",
      "After 65 batches: [time:7.0m 35.76308298110962s, Accuracy: 46.78030303030303]\n",
      "After 70 batches: [time:8.0m 7.294474363327026s, Accuracy: 46.83098591549296]\n",
      "After 75 batches: [time:8.0m 37.688318490982056s, Accuracy: 46.381578947368425]\n",
      "After 80 batches: [time:9.0m 6.953084945678711s, Accuracy: 46.60493827160494]\n",
      "After 85 batches: [time:9.0m 36.815046310424805s, Accuracy: 47.52906976744186]\n",
      "After 90 batches: [time:10.0m 8.718328952789307s, Accuracy: 47.25274725274725]\n",
      "After 95 batches: [time:10.0m 40.43449687957764s, Accuracy: 48.17708333333333]\n",
      "After 100 batches: [time:11.0m 9.387511014938354s, Accuracy: 47.896039603960396]\n",
      "After 105 batches: [time:11.0m 38.39573884010315s, Accuracy: 48.46698113207547]\n",
      "After 110 batches: [time:12.0m 8.817818403244019s, Accuracy: 48.76126126126126]\n",
      "After 115 batches: [time:12.0m 38.1340970993042s, Accuracy: 48.599137931034484]\n",
      "After 120 batches: [time:13.0m 7.959949016571045s, Accuracy: 48.65702479338843]\n",
      "After 125 batches: [time:13.0m 37.35915970802307s, Accuracy: 48.80952380952381]\n",
      "After 130 batches: [time:14.0m 7.0420167446136475s, Accuracy: 49.04580152671756]\n",
      "After 135 batches: [time:14.0m 35.054115772247314s, Accuracy: 48.98897058823529]\n",
      "After 140 batches: [time:15.0m 3.253788948059082s, Accuracy: 48.58156028368794]\n",
      "After 145 batches: [time:15.0m 31.540239572525024s, Accuracy: 48.8013698630137]\n",
      "After 150 batches: [time:15.0m 59.79979610443115s, Accuracy: 48.758278145695364]\n",
      "After 155 batches: [time:16.0m 28.100104331970215s, Accuracy: 49.43910256410257]\n",
      "After 160 batches: [time:16.0m 57.91799306869507s, Accuracy: 49.14596273291926]\n",
      "After 165 batches: [time:17.0m 26.54247283935547s, Accuracy: 49.32228915662651]\n",
      "After 170 batches: [time:17.0m 54.72642374038696s, Accuracy: 49.26900584795322]\n",
      "After 175 batches: [time:18.0m 22.62881112098694s, Accuracy: 49.78693181818182]\n",
      "After 180 batches: [time:18.0m 50.66143560409546s, Accuracy: 49.65469613259669]\n",
      "After 185 batches: [time:19.0m 18.945232629776s, Accuracy: 49.596774193548384]\n",
      "After 190 batches: [time:19.0m 47.24906587600708s, Accuracy: 49.73821989528796]\n",
      "After 195 batches: [time:20.0m 15.606333017349243s, Accuracy: 49.744897959183675]\n",
      "After 200 batches: [time:20.0m 44.24718475341797s, Accuracy: 49.875621890547265]\n",
      "After 205 batches: [time:21.0m 12.482760429382324s, Accuracy: 50.12135922330098]\n",
      "After 210 batches: [time:21.0m 40.76381230354309s, Accuracy: 50.41469194312796]\n",
      "After 215 batches: [time:22.0m 8.939630031585693s, Accuracy: 50.75231481481482]\n",
      "After 220 batches: [time:22.0m 37.103368043899536s, Accuracy: 50.90497737556561]\n",
      "Epoch 1: [time:22.0m 59.638142108917236s, Accuracy: 50.94444444444445]\n",
      "\n",
      "Epoch: 2\n",
      "After 0 batches: [time:0.0m 5.580075979232788s, Accuracy: 75.0]\n",
      "After 5 batches: [time:0.0m 33.73879837989807s, Accuracy: 56.25]\n",
      "After 10 batches: [time:1.0m 2.1925394535064697s, Accuracy: 53.40909090909091]\n",
      "After 15 batches: [time:1.0m 30.24259638786316s, Accuracy: 52.34375]\n",
      "After 20 batches: [time:1.0m 58.23705315589905s, Accuracy: 54.761904761904766]\n",
      "After 25 batches: [time:2.0m 26.340317964553833s, Accuracy: 55.769230769230774]\n",
      "After 30 batches: [time:2.0m 54.49803113937378s, Accuracy: 57.66129032258065]\n",
      "After 35 batches: [time:3.0m 22.536538124084473s, Accuracy: 57.986111111111114]\n",
      "After 40 batches: [time:3.0m 50.621971130371094s, Accuracy: 58.231707317073166]\n",
      "After 45 batches: [time:4.0m 18.822179794311523s, Accuracy: 57.608695652173914]\n",
      "After 50 batches: [time:4.0m 46.879127502441406s, Accuracy: 57.35294117647059]\n",
      "After 55 batches: [time:5.0m 15.16199803352356s, Accuracy: 58.48214285714286]\n",
      "After 60 batches: [time:5.0m 43.1995313167572s, Accuracy: 58.19672131147541]\n",
      "After 65 batches: [time:6.0m 11.493158102035522s, Accuracy: 58.71212121212122]\n",
      "After 70 batches: [time:6.0m 39.59060502052307s, Accuracy: 59.154929577464785]\n",
      "After 75 batches: [time:7.0m 8.159671068191528s, Accuracy: 58.88157894736842]\n",
      "After 80 batches: [time:7.0m 36.24911665916443s, Accuracy: 58.17901234567901]\n",
      "After 85 batches: [time:8.0m 4.594902038574219s, Accuracy: 58.139534883720934]\n",
      "After 90 batches: [time:8.0m 32.64693880081177s, Accuracy: 58.104395604395606]\n",
      "After 95 batches: [time:9.0m 1.0903685092926025s, Accuracy: 58.203125]\n",
      "After 100 batches: [time:9.0m 29.30743098258972s, Accuracy: 58.415841584158414]\n",
      "After 105 batches: [time:9.0m 57.44670915603638s, Accuracy: 58.490566037735846]\n",
      "After 110 batches: [time:10.0m 25.42262840270996s, Accuracy: 57.770270270270274]\n",
      "After 115 batches: [time:10.0m 53.53408360481262s, Accuracy: 57.327586206896555]\n",
      "After 120 batches: [time:11.0m 21.301828145980835s, Accuracy: 57.231404958677686]\n",
      "After 125 batches: [time:11.0m 49.427656173706055s, Accuracy: 57.04365079365079]\n",
      "After 130 batches: [time:12.0m 52.499489545822144s, Accuracy: 57.44274809160306]\n",
      "After 135 batches: [time:13.0m 34.31355381011963s, Accuracy: 57.99632352941176]\n",
      "After 140 batches: [time:14.0m 4.618525505065918s, Accuracy: 58.24468085106383]\n",
      "After 145 batches: [time:14.0m 35.25867509841919s, Accuracy: 58.390410958904106]\n",
      "After 150 batches: [time:15.0m 5.973873615264893s, Accuracy: 58.1953642384106]\n",
      "After 155 batches: [time:15.0m 36.42887306213379s, Accuracy: 58.57371794871795]\n",
      "After 160 batches: [time:16.0m 6.727056503295898s, Accuracy: 58.69565217391305]\n",
      "After 165 batches: [time:16.0m 37.35766005516052s, Accuracy: 59.11144578313253]\n",
      "After 170 batches: [time:17.0m 7.585263729095459s, Accuracy: 59.1374269005848]\n",
      "After 175 batches: [time:17.0m 38.03941512107849s, Accuracy: 59.16193181818182]\n",
      "After 180 batches: [time:18.0m 8.391688346862793s, Accuracy: 59.11602209944752]\n",
      "After 185 batches: [time:18.0m 40.50084400177002s, Accuracy: 59.543010752688176]\n",
      "After 190 batches: [time:19.0m 11.761723518371582s, Accuracy: 59.620418848167546]\n",
      "After 195 batches: [time:19.0m 42.493212938308716s, Accuracy: 59.50255102040817]\n",
      "After 200 batches: [time:20.0m 13.664690256118774s, Accuracy: 59.5771144278607]\n",
      "After 205 batches: [time:20.0m 44.66792893409729s, Accuracy: 59.40533980582524]\n",
      "After 210 batches: [time:21.0m 15.987608194351196s, Accuracy: 59.12322274881517]\n",
      "After 215 batches: [time:21.0m 47.28759789466858s, Accuracy: 59.02777777777778]\n",
      "After 220 batches: [time:22.0m 18.443319082260132s, Accuracy: 59.276018099547514]\n",
      "Epoch 2: [time:22.0m 43.49053239822388s, Accuracy: 59.38888888888889]\n",
      "\n",
      "Epoch: 3\n",
      "After 0 batches: [time:0.0m 6.1020050048828125s, Accuracy: 87.5]\n",
      "After 5 batches: [time:0.0m 37.36933660507202s, Accuracy: 58.333333333333336]\n",
      "After 10 batches: [time:1.0m 8.396079301834106s, Accuracy: 61.36363636363637]\n",
      "After 15 batches: [time:1.0m 39.24786114692688s, Accuracy: 65.625]\n",
      "After 20 batches: [time:2.0m 9.891887426376343s, Accuracy: 64.28571428571429]\n",
      "After 25 batches: [time:2.0m 40.371663093566895s, Accuracy: 62.980769230769226]\n",
      "After 30 batches: [time:3.0m 11.466152667999268s, Accuracy: 62.096774193548384]\n",
      "After 35 batches: [time:3.0m 42.88124656677246s, Accuracy: 62.15277777777778]\n",
      "After 40 batches: [time:4.0m 13.933413028717041s, Accuracy: 62.5]\n",
      "After 45 batches: [time:4.0m 44.61193656921387s, Accuracy: 62.77173913043478]\n",
      "After 50 batches: [time:5.0m 15.279632329940796s, Accuracy: 61.029411764705884]\n",
      "After 55 batches: [time:5.0m 46.272910594940186s, Accuracy: 61.16071428571429]\n",
      "After 60 batches: [time:6.0m 17.278406381607056s, Accuracy: 61.270491803278695]\n"
     ]
    },
    {
     "name": "stdout",
     "output_type": "stream",
     "text": [
      "After 65 batches: [time:6.0m 48.173439741134644s, Accuracy: 60.60606060606061]\n",
      "After 70 batches: [time:7.0m 19.275644779205322s, Accuracy: 60.2112676056338]\n",
      "After 75 batches: [time:7.0m 50.09761619567871s, Accuracy: 59.86842105263158]\n",
      "After 80 batches: [time:8.0m 20.770132780075073s, Accuracy: 60.18518518518518]\n",
      "After 85 batches: [time:8.0m 50.86645245552063s, Accuracy: 60.90116279069767]\n",
      "After 90 batches: [time:9.0m 20.677722930908203s, Accuracy: 60.302197802197796]\n",
      "After 95 batches: [time:9.0m 50.97706317901611s, Accuracy: 59.635416666666664]\n",
      "After 100 batches: [time:10.0m 21.816177129745483s, Accuracy: 59.900990099009896]\n",
      "After 105 batches: [time:10.0m 53.07156729698181s, Accuracy: 60.259433962264154]\n",
      "After 110 batches: [time:11.0m 24.163336277008057s, Accuracy: 60.47297297297297]\n",
      "After 115 batches: [time:12.0m 0.3352515697479248s, Accuracy: 60.23706896551724]\n",
      "After 120 batches: [time:12.0m 36.40619730949402s, Accuracy: 59.917355371900825]\n",
      "After 125 batches: [time:13.0m 8.10727071762085s, Accuracy: 60.11904761904761]\n",
      "After 130 batches: [time:13.0m 39.51070427894592s, Accuracy: 59.44656488549618]\n",
      "After 135 batches: [time:14.0m 11.779750108718872s, Accuracy: 59.55882352941176]\n",
      "After 140 batches: [time:14.0m 42.03750252723694s, Accuracy: 60.0177304964539]\n",
      "After 145 batches: [time:15.0m 15.182613134384155s, Accuracy: 60.1027397260274]\n",
      "After 150 batches: [time:15.0m 47.21845364570618s, Accuracy: 60.264900662251655]\n",
      "After 155 batches: [time:16.0m 21.445454597473145s, Accuracy: 60.09615384615385]\n",
      "After 160 batches: [time:16.0m 54.30120348930359s, Accuracy: 60.48136645962733]\n",
      "After 165 batches: [time:17.0m 26.556297540664673s, Accuracy: 60.8433734939759]\n",
      "After 170 batches: [time:17.0m 59.256728649139404s, Accuracy: 61.111111111111114]\n",
      "After 175 batches: [time:18.0m 33.934122800827026s, Accuracy: 61.29261363636363]\n",
      "After 180 batches: [time:19.0m 4.971133708953857s, Accuracy: 61.25690607734806]\n",
      "After 185 batches: [time:19.0m 37.4993257522583s, Accuracy: 61.693548387096776]\n",
      "After 190 batches: [time:20.0m 10.268086433410645s, Accuracy: 61.976439790575924]\n",
      "After 195 batches: [time:20.0m 42.716702938079834s, Accuracy: 62.05357142857143]\n",
      "After 200 batches: [time:21.0m 14.884528636932373s, Accuracy: 61.940298507462686]\n",
      "After 205 batches: [time:21.0m 47.87096905708313s, Accuracy: 61.89320388349514]\n",
      "After 210 batches: [time:22.0m 21.75837516784668s, Accuracy: 62.32227488151659]\n",
      "After 215 batches: [time:22.0m 54.25145983695984s, Accuracy: 62.38425925925925]\n",
      "After 220 batches: [time:23.0m 28.346452474594116s, Accuracy: 62.55656108597285]\n",
      "Epoch 3: [time:23.0m 53.29369139671326s, Accuracy: 62.83333333333333]\n",
      "\n",
      "Epoch: 4\n",
      "After 0 batches: [time:0.0m 6.0499107837677s, Accuracy: 62.5]\n",
      "After 5 batches: [time:0.0m 36.44823670387268s, Accuracy: 64.58333333333334]\n",
      "After 10 batches: [time:1.0m 7.450117588043213s, Accuracy: 65.9090909090909]\n",
      "After 15 batches: [time:1.0m 37.43971276283264s, Accuracy: 66.40625]\n",
      "After 20 batches: [time:2.0m 7.282933473587036s, Accuracy: 67.26190476190477]\n",
      "After 25 batches: [time:2.0m 38.94021391868591s, Accuracy: 69.71153846153845]\n",
      "After 30 batches: [time:3.0m 10.398576498031616s, Accuracy: 70.96774193548387]\n",
      "After 35 batches: [time:3.0m 43.04941463470459s, Accuracy: 71.52777777777779]\n",
      "After 40 batches: [time:4.0m 14.000978708267212s, Accuracy: 71.03658536585365]\n",
      "After 45 batches: [time:4.0m 45.69631862640381s, Accuracy: 70.38043478260869]\n",
      "After 50 batches: [time:5.0m 15.827417612075806s, Accuracy: 69.6078431372549]\n",
      "After 55 batches: [time:5.0m 46.63260769844055s, Accuracy: 69.64285714285714]\n",
      "After 60 batches: [time:6.0m 19.82181191444397s, Accuracy: 68.0327868852459]\n",
      "After 65 batches: [time:6.0m 55.0679829120636s, Accuracy: 67.23484848484848]\n",
      "After 70 batches: [time:7.0m 27.14443278312683s, Accuracy: 65.84507042253522]\n",
      "After 75 batches: [time:7.0m 58.16947054862976s, Accuracy: 66.2828947368421]\n",
      "After 80 batches: [time:8.0m 30.57292079925537s, Accuracy: 66.82098765432099]\n",
      "After 85 batches: [time:9.0m 3.9839670658111572s, Accuracy: 66.56976744186046]\n",
      "After 90 batches: [time:9.0m 34.846515417099s, Accuracy: 67.03296703296702]\n",
      "After 95 batches: [time:10.0m 6.126981735229492s, Accuracy: 67.05729166666666]\n",
      "After 100 batches: [time:10.0m 37.01280355453491s, Accuracy: 66.70792079207921]\n",
      "After 105 batches: [time:11.0m 10.236595869064331s, Accuracy: 66.62735849056604]\n",
      "After 110 batches: [time:11.0m 40.10841679573059s, Accuracy: 66.77927927927928]\n",
      "After 115 batches: [time:12.0m 11.190938949584961s, Accuracy: 67.13362068965517]\n",
      "After 120 batches: [time:12.0m 42.69077181816101s, Accuracy: 66.83884297520662]\n",
      "After 125 batches: [time:13.0m 13.232196569442749s, Accuracy: 67.06349206349206]\n",
      "After 130 batches: [time:13.0m 45.64831304550171s, Accuracy: 67.4618320610687]\n",
      "After 135 batches: [time:14.0m 21.784752368927002s, Accuracy: 67.1875]\n",
      "After 140 batches: [time:14.0m 52.44732594490051s, Accuracy: 66.75531914893617]\n",
      "After 145 batches: [time:15.0m 23.674978971481323s, Accuracy: 67.2945205479452]\n",
      "After 150 batches: [time:15.0m 54.003050804138184s, Accuracy: 66.88741721854305]\n",
      "After 155 batches: [time:16.0m 28.021382570266724s, Accuracy: 67.2275641025641]\n",
      "After 160 batches: [time:16.0m 58.900519609451294s, Accuracy: 67.2360248447205]\n",
      "After 165 batches: [time:17.0m 32.160605907440186s, Accuracy: 67.46987951807229]\n",
      "After 170 batches: [time:18.0m 1.7835760116577148s, Accuracy: 67.54385964912281]\n",
      "After 175 batches: [time:18.0m 31.163015604019165s, Accuracy: 67.89772727272727]\n",
      "After 180 batches: [time:19.0m 0.4255056381225586s, Accuracy: 67.88674033149171]\n",
      "After 185 batches: [time:19.0m 29.6848304271698s, Accuracy: 68.14516129032258]\n",
      "After 190 batches: [time:19.0m 58.78506588935852s, Accuracy: 68.06282722513089]\n",
      "After 195 batches: [time:20.0m 28.174657583236694s, Accuracy: 68.30357142857143]\n",
      "After 200 batches: [time:20.0m 58.31830406188965s, Accuracy: 68.40796019900498]\n",
      "After 205 batches: [time:21.0m 27.66084909439087s, Accuracy: 68.38592233009709]\n",
      "After 210 batches: [time:21.0m 57.28120493888855s, Accuracy: 68.24644549763033]\n",
      "After 215 batches: [time:22.0m 26.44585680961609s, Accuracy: 68.57638888888889]\n",
      "After 220 batches: [time:22.0m 55.43837571144104s, Accuracy: 68.77828054298642]\n",
      "Epoch 4: [time:23.0m 18.99395489692688s, Accuracy: 68.61111111111111]\n",
      "\n",
      "Epoch: 5\n",
      "After 0 batches: [time:0.0m 5.986012697219849s, Accuracy: 87.5]\n",
      "After 5 batches: [time:0.0m 35.33010196685791s, Accuracy: 72.91666666666666]\n",
      "After 10 batches: [time:1.0m 4.5844886302948s, Accuracy: 72.72727272727273]\n",
      "After 15 batches: [time:1.0m 33.620890855789185s, Accuracy: 65.625]\n",
      "After 20 batches: [time:2.0m 3.502216100692749s, Accuracy: 66.66666666666666]\n",
      "After 25 batches: [time:2.0m 36.586268186569214s, Accuracy: 66.82692307692307]\n",
      "After 30 batches: [time:3.0m 5.645673036575317s, Accuracy: 64.91935483870968]\n",
      "After 35 batches: [time:3.0m 35.81598901748657s, Accuracy: 67.01388888888889]\n",
      "After 40 batches: [time:4.0m 7.342684268951416s, Accuracy: 69.20731707317073]\n",
      "After 45 batches: [time:4.0m 54.3620970249176s, Accuracy: 69.29347826086956]\n",
      "After 50 batches: [time:5.0m 49.60278367996216s, Accuracy: 68.87254901960785]\n",
      "After 55 batches: [time:6.0m 24.20783758163452s, Accuracy: 68.97321428571429]\n",
      "After 60 batches: [time:6.0m 55.16703200340271s, Accuracy: 68.0327868852459]\n",
      "After 65 batches: [time:7.0m 26.09959578514099s, Accuracy: 68.56060606060606]\n",
      "After 70 batches: [time:7.0m 57.19223117828369s, Accuracy: 68.13380281690141]\n",
      "After 75 batches: [time:8.0m 28.736052989959717s, Accuracy: 68.58552631578947]\n",
      "After 80 batches: [time:9.0m 0.12610101699829102s, Accuracy: 68.67283950617285]\n",
      "After 85 batches: [time:9.0m 31.286988019943237s, Accuracy: 68.8953488372093]\n",
      "After 90 batches: [time:10.0m 2.153994083404541s, Accuracy: 68.95604395604396]\n",
      "After 95 batches: [time:10.0m 32.990814447402954s, Accuracy: 69.140625]\n",
      "After 100 batches: [time:11.0m 3.8288798332214355s, Accuracy: 68.44059405940595]\n",
      "After 105 batches: [time:11.0m 34.488239765167236s, Accuracy: 68.98584905660378]\n",
      "After 110 batches: [time:12.0m 5.68219256401062s, Accuracy: 69.25675675675676]\n",
      "After 115 batches: [time:12.0m 37.62573838233948s, Accuracy: 69.07327586206897]\n",
      "After 120 batches: [time:13.0m 10.876177549362183s, Accuracy: 69.62809917355372]\n",
      "After 125 batches: [time:13.0m 42.08200740814209s, Accuracy: 69.64285714285714]\n"
     ]
    },
    {
     "name": "stdout",
     "output_type": "stream",
     "text": [
      "After 130 batches: [time:14.0m 14.266560077667236s, Accuracy: 70.22900763358778]\n",
      "After 135 batches: [time:14.0m 44.96000957489014s, Accuracy: 70.40441176470588]\n",
      "After 140 batches: [time:15.0m 15.604129791259766s, Accuracy: 70.2127659574468]\n",
      "After 145 batches: [time:15.0m 48.835861682891846s, Accuracy: 70.11986301369863]\n",
      "After 150 batches: [time:16.0m 21.020838499069214s, Accuracy: 69.86754966887418]\n",
      "After 155 batches: [time:16.0m 53.21913433074951s, Accuracy: 69.63141025641025]\n",
      "After 160 batches: [time:17.0m 24.92762780189514s, Accuracy: 69.40993788819875]\n",
      "After 165 batches: [time:17.0m 56.31476402282715s, Accuracy: 69.20180722891565]\n",
      "After 170 batches: [time:18.0m 27.465808868408203s, Accuracy: 69.15204678362574]\n",
      "After 175 batches: [time:19.0m 0.16424965858459473s, Accuracy: 69.17613636363636]\n",
      "After 180 batches: [time:19.0m 30.405619144439697s, Accuracy: 69.26795580110497]\n",
      "After 185 batches: [time:20.0m 0.6440286636352539s, Accuracy: 69.08602150537635]\n",
      "After 190 batches: [time:20.0m 30.85324263572693s, Accuracy: 69.17539267015707]\n",
      "After 195 batches: [time:21.0m 1.3469810485839844s, Accuracy: 69.19642857142857]\n",
      "After 200 batches: [time:21.0m 31.299737215042114s, Accuracy: 68.96766169154229]\n",
      "After 205 batches: [time:22.0m 2.26753830909729s, Accuracy: 69.05339805825243]\n",
      "After 210 batches: [time:22.0m 36.22631788253784s, Accuracy: 68.95734597156398]\n",
      "After 215 batches: [time:23.0m 7.490947008132935s, Accuracy: 68.92361111111111]\n",
      "After 220 batches: [time:23.0m 40.97044801712036s, Accuracy: 69.23076923076923]\n",
      "Epoch 5: [time:24.0m 7.229591131210327s, Accuracy: 69.33333333333334]\n",
      "\n",
      "Epoch: 6\n",
      "After 0 batches: [time:0.0m 5.829540967941284s, Accuracy: 100.0]\n",
      "After 5 batches: [time:0.0m 37.531129121780396s, Accuracy: 79.16666666666666]\n",
      "After 10 batches: [time:1.0m 7.289336681365967s, Accuracy: 73.86363636363636]\n",
      "After 15 batches: [time:1.0m 36.29790210723877s, Accuracy: 72.65625]\n",
      "After 20 batches: [time:2.0m 5.318354606628418s, Accuracy: 70.83333333333334]\n",
      "After 25 batches: [time:2.0m 34.23056888580322s, Accuracy: 70.1923076923077]\n",
      "After 30 batches: [time:3.0m 3.303027868270874s, Accuracy: 70.16129032258065]\n",
      "After 35 batches: [time:3.0m 34.931029081344604s, Accuracy: 69.79166666666666]\n",
      "After 40 batches: [time:4.0m 4.7110960483551025s, Accuracy: 70.1219512195122]\n",
      "After 45 batches: [time:4.0m 34.58441758155823s, Accuracy: 71.19565217391305]\n",
      "After 50 batches: [time:5.0m 4.377534627914429s, Accuracy: 72.54901960784314]\n",
      "After 55 batches: [time:5.0m 33.95476579666138s, Accuracy: 72.54464285714286]\n",
      "After 60 batches: [time:6.0m 3.761213779449463s, Accuracy: 72.74590163934425]\n",
      "After 65 batches: [time:6.0m 33.135955572128296s, Accuracy: 72.53787878787878]\n",
      "After 70 batches: [time:7.0m 4.056791543960571s, Accuracy: 73.06338028169014]\n",
      "After 75 batches: [time:7.0m 33.620274782180786s, Accuracy: 73.02631578947368]\n",
      "After 80 batches: [time:8.0m 4.517234563827515s, Accuracy: 72.68518518518519]\n",
      "After 85 batches: [time:8.0m 38.34510016441345s, Accuracy: 73.11046511627907]\n",
      "After 90 batches: [time:9.0m 14.26514458656311s, Accuracy: 73.21428571428571]\n",
      "After 95 batches: [time:9.0m 55.274497985839844s, Accuracy: 72.91666666666666]\n",
      "After 100 batches: [time:10.0m 37.973246812820435s, Accuracy: 73.26732673267327]\n",
      "After 105 batches: [time:11.0m 19.05365800857544s, Accuracy: 73.11320754716981]\n",
      "After 110 batches: [time:12.0m 1.9649548530578613s, Accuracy: 73.08558558558559]\n",
      "After 115 batches: [time:12.0m 43.391064167022705s, Accuracy: 72.73706896551724]\n",
      "After 120 batches: [time:13.0m 25.112070083618164s, Accuracy: 72.8305785123967]\n",
      "After 125 batches: [time:14.0m 1.3622517585754395s, Accuracy: 72.61904761904762]\n",
      "After 130 batches: [time:14.0m 37.66186738014221s, Accuracy: 72.42366412213741]\n",
      "After 135 batches: [time:15.0m 13.580419778823853s, Accuracy: 72.42647058823529]\n",
      "After 140 batches: [time:15.0m 49.286208391189575s, Accuracy: 72.4290780141844]\n",
      "After 145 batches: [time:16.0m 25.923333883285522s, Accuracy: 72.00342465753424]\n",
      "After 150 batches: [time:17.0m 1.6525120735168457s, Accuracy: 71.77152317880795]\n",
      "After 155 batches: [time:17.0m 37.33806586265564s, Accuracy: 71.875]\n",
      "After 160 batches: [time:18.0m 13.605646133422852s, Accuracy: 71.35093167701864]\n",
      "After 165 batches: [time:18.0m 49.827778339385986s, Accuracy: 71.61144578313254]\n",
      "After 170 batches: [time:19.0m 25.519749641418457s, Accuracy: 71.27192982456141]\n",
      "After 175 batches: [time:20.0m 1.2012042999267578s, Accuracy: 71.02272727272727]\n",
      "After 180 batches: [time:20.0m 36.24373817443848s, Accuracy: 71.20165745856355]\n",
      "After 185 batches: [time:21.0m 11.837516784667969s, Accuracy: 71.10215053763442]\n",
      "After 190 batches: [time:21.0m 47.10351276397705s, Accuracy: 71.07329842931938]\n",
      "After 195 batches: [time:22.0m 24.94928240776062s, Accuracy: 71.23724489795919]\n",
      "After 200 batches: [time:22.0m 56.87713432312012s, Accuracy: 71.0820895522388]\n",
      "After 205 batches: [time:23.0m 29.44704031944275s, Accuracy: 70.93446601941747]\n",
      "After 210 batches: [time:24.0m 1.0745806694030762s, Accuracy: 70.97156398104265]\n",
      "After 215 batches: [time:24.0m 36.67539930343628s, Accuracy: 71.18055555555556]\n",
      "After 220 batches: [time:25.0m 8.332538604736328s, Accuracy: 71.32352941176471]\n",
      "Epoch 6: [time:25.0m 32.53606700897217s, Accuracy: 71.22222222222221]\n",
      "\n",
      "Epoch: 7\n",
      "After 0 batches: [time:0.0m 6.174952507019043s, Accuracy: 87.5]\n",
      "After 5 batches: [time:0.0m 36.2607204914093s, Accuracy: 79.16666666666666]\n",
      "After 10 batches: [time:1.0m 6.200490474700928s, Accuracy: 75.0]\n",
      "After 15 batches: [time:1.0m 37.97817397117615s, Accuracy: 76.5625]\n",
      "After 20 batches: [time:2.0m 10.741093158721924s, Accuracy: 77.38095238095238]\n",
      "After 25 batches: [time:2.0m 40.643118143081665s, Accuracy: 78.36538461538461]\n",
      "After 30 batches: [time:3.0m 14.51908016204834s, Accuracy: 77.82258064516128]\n",
      "After 35 batches: [time:3.0m 48.0153169631958s, Accuracy: 77.43055555555556]\n",
      "After 40 batches: [time:4.0m 20.03536081314087s, Accuracy: 75.60975609756098]\n",
      "After 45 batches: [time:4.0m 58.988118410110474s, Accuracy: 76.08695652173914]\n",
      "After 50 batches: [time:6.0m 2.8559768199920654s, Accuracy: 75.49019607843137]\n",
      "After 55 batches: [time:6.0m 41.16138744354248s, Accuracy: 74.55357142857143]\n",
      "After 60 batches: [time:7.0m 14.959972143173218s, Accuracy: 74.79508196721312]\n",
      "After 65 batches: [time:7.0m 47.65142846107483s, Accuracy: 74.0530303030303]\n",
      "After 70 batches: [time:8.0m 20.39775252342224s, Accuracy: 73.23943661971832]\n",
      "After 75 batches: [time:8.0m 52.967106103897095s, Accuracy: 73.02631578947368]\n",
      "After 80 batches: [time:9.0m 26.375526428222656s, Accuracy: 73.30246913580247]\n",
      "After 85 batches: [time:9.0m 58.62393379211426s, Accuracy: 73.40116279069767]\n",
      "After 90 batches: [time:10.0m 30.077264547348022s, Accuracy: 72.93956043956044]\n",
      "After 95 batches: [time:11.0m 2.098963737487793s, Accuracy: 73.046875]\n",
      "After 100 batches: [time:11.0m 35.11211156845093s, Accuracy: 73.51485148514851]\n",
      "After 105 batches: [time:12.0m 16.16578698158264s, Accuracy: 73.23113207547169]\n",
      "After 110 batches: [time:12.0m 54.60364294052124s, Accuracy: 72.40990990990991]\n",
      "After 115 batches: [time:13.0m 36.06694531440735s, Accuracy: 72.73706896551724]\n",
      "After 120 batches: [time:14.0m 16.19451642036438s, Accuracy: 72.41735537190083]\n",
      "After 125 batches: [time:14.0m 53.30047082901001s, Accuracy: 72.22222222222221]\n",
      "After 130 batches: [time:15.0m 29.74501323699951s, Accuracy: 72.04198473282443]\n",
      "After 135 batches: [time:16.0m 4.73088526725769s, Accuracy: 72.42647058823529]\n",
      "After 140 batches: [time:16.0m 39.43673658370972s, Accuracy: 72.3404255319149]\n",
      "After 145 batches: [time:17.0m 15.216609001159668s, Accuracy: 71.91780821917808]\n",
      "After 150 batches: [time:17.0m 51.714181900024414s, Accuracy: 71.77152317880795]\n",
      "After 155 batches: [time:18.0m 26.530755758285522s, Accuracy: 71.875]\n",
      "After 160 batches: [time:19.0m 2.336277723312378s, Accuracy: 72.04968944099379]\n",
      "After 165 batches: [time:19.0m 38.26596665382385s, Accuracy: 71.91265060240963]\n",
      "After 170 batches: [time:20.0m 13.446455717086792s, Accuracy: 71.71052631578947]\n",
      "After 175 batches: [time:20.0m 48.86561989784241s, Accuracy: 71.16477272727273]\n",
      "After 180 batches: [time:21.0m 25.668506860733032s, Accuracy: 71.33977900552486]\n",
      "After 185 batches: [time:22.0m 3.5929179191589355s, Accuracy: 71.57258064516128]\n",
      "After 190 batches: [time:22.0m 39.6231107711792s, Accuracy: 71.53141361256544]\n"
     ]
    },
    {
     "name": "stdout",
     "output_type": "stream",
     "text": [
      "After 195 batches: [time:23.0m 17.867650270462036s, Accuracy: 71.875]\n",
      "After 200 batches: [time:23.0m 54.448935747146606s, Accuracy: 72.0771144278607]\n",
      "After 205 batches: [time:24.0m 31.87102770805359s, Accuracy: 71.84466019417476]\n",
      "After 210 batches: [time:25.0m 8.864978790283203s, Accuracy: 71.91943127962085]\n",
      "After 215 batches: [time:25.0m 44.307841062545776s, Accuracy: 71.99074074074075]\n",
      "After 220 batches: [time:26.0m 20.25233030319214s, Accuracy: 72.17194570135746]\n",
      "Epoch 7: [time:26.0m 47.72705602645874s, Accuracy: 72.16666666666667]\n",
      "\n",
      "Epoch: 8\n",
      "After 0 batches: [time:0.0m 7.290084600448608s, Accuracy: 87.5]\n",
      "After 5 batches: [time:0.0m 42.5640926361084s, Accuracy: 87.5]\n",
      "After 10 batches: [time:1.0m 14.47309923171997s, Accuracy: 81.81818181818183]\n",
      "After 15 batches: [time:1.0m 46.22891354560852s, Accuracy: 80.46875]\n",
      "After 20 batches: [time:2.0m 16.781379222869873s, Accuracy: 80.35714285714286]\n",
      "After 25 batches: [time:2.0m 48.75718569755554s, Accuracy: 78.36538461538461]\n",
      "After 30 batches: [time:3.0m 18.815767288208008s, Accuracy: 79.03225806451613]\n",
      "After 35 batches: [time:3.0m 48.26307702064514s, Accuracy: 79.16666666666666]\n",
      "After 40 batches: [time:4.0m 21.961397171020508s, Accuracy: 78.96341463414635]\n",
      "After 45 batches: [time:4.0m 54.95993375778198s, Accuracy: 77.98913043478261]\n",
      "After 50 batches: [time:5.0m 25.386857271194458s, Accuracy: 76.9607843137255]\n",
      "After 55 batches: [time:5.0m 59.86228060722351s, Accuracy: 76.33928571428571]\n",
      "After 60 batches: [time:6.0m 34.071104764938354s, Accuracy: 76.22950819672131]\n",
      "After 65 batches: [time:7.0m 5.960368394851685s, Accuracy: 75.56818181818183]\n",
      "After 70 batches: [time:7.0m 39.87047576904297s, Accuracy: 75.17605633802818]\n",
      "After 75 batches: [time:8.0m 14.150638580322266s, Accuracy: 75.0]\n",
      "After 80 batches: [time:8.0m 49.50905132293701s, Accuracy: 75.61728395061729]\n",
      "After 85 batches: [time:9.0m 27.429513216018677s, Accuracy: 75.43604651162791]\n",
      "After 90 batches: [time:10.0m 3.3254692554473877s, Accuracy: 75.41208791208791]\n",
      "After 95 batches: [time:10.0m 39.30690884590149s, Accuracy: 75.65104166666666]\n",
      "After 100 batches: [time:11.0m 15.794936895370483s, Accuracy: 75.86633663366337]\n",
      "After 105 batches: [time:11.0m 50.72468876838684s, Accuracy: 76.06132075471697]\n",
      "After 110 batches: [time:12.0m 30.34323811531067s, Accuracy: 76.12612612612612]\n",
      "After 115 batches: [time:13.0m 6.262161493301392s, Accuracy: 76.07758620689656]\n",
      "After 120 batches: [time:13.0m 40.219443798065186s, Accuracy: 76.2396694214876]\n",
      "After 125 batches: [time:14.0m 17.359110832214355s, Accuracy: 76.28968253968253]\n",
      "After 130 batches: [time:14.0m 55.989113330841064s, Accuracy: 76.33587786259542]\n",
      "After 135 batches: [time:15.0m 32.868343353271484s, Accuracy: 76.5625]\n",
      "After 140 batches: [time:16.0m 14.94081997871399s, Accuracy: 76.50709219858156]\n",
      "After 145 batches: [time:16.0m 58.77738380432129s, Accuracy: 76.28424657534246]\n",
      "After 150 batches: [time:17.0m 44.17204737663269s, Accuracy: 76.24172185430463]\n",
      "After 155 batches: [time:18.0m 26.807496070861816s, Accuracy: 76.36217948717949]\n",
      "After 160 batches: [time:19.0m 11.403358221054077s, Accuracy: 76.16459627329193]\n",
      "After 165 batches: [time:19.0m 52.58577227592468s, Accuracy: 75.90361445783132]\n",
      "After 170 batches: [time:20.0m 36.66967272758484s, Accuracy: 75.87719298245614]\n",
      "After 175 batches: [time:21.0m 14.640779972076416s, Accuracy: 75.92329545454545]\n",
      "After 180 batches: [time:21.0m 52.924333333969116s, Accuracy: 76.10497237569061]\n",
      "After 185 batches: [time:22.0m 35.03209376335144s, Accuracy: 75.94086021505376]\n",
      "After 190 batches: [time:23.0m 14.992000818252563s, Accuracy: 75.98167539267016]\n",
      "After 195 batches: [time:23.0m 54.26561951637268s, Accuracy: 76.0204081632653]\n",
      "After 200 batches: [time:24.0m 37.97523093223572s, Accuracy: 75.93283582089553]\n",
      "After 205 batches: [time:25.0m 21.744704723358154s, Accuracy: 76.15291262135922]\n",
      "After 210 batches: [time:25.0m 58.52351903915405s, Accuracy: 76.30331753554502]\n",
      "After 215 batches: [time:26.0m 34.51970624923706s, Accuracy: 76.33101851851852]\n",
      "After 220 batches: [time:27.0m 7.596841812133789s, Accuracy: 76.35746606334841]\n",
      "Epoch 8: [time:27.0m 44.65760946273804s, Accuracy: 76.33333333333333]\n",
      "\n",
      "Epoch: 9\n",
      "After 0 batches: [time:0.0m 8.020159244537354s, Accuracy: 62.5]\n",
      "After 5 batches: [time:0.0m 45.566723346710205s, Accuracy: 85.41666666666666]\n",
      "After 10 batches: [time:1.0m 21.945165395736694s, Accuracy: 79.54545454545455]\n",
      "After 15 batches: [time:1.0m 57.49508452415466s, Accuracy: 79.6875]\n",
      "After 20 batches: [time:2.0m 39.26123356819153s, Accuracy: 79.76190476190477]\n",
      "After 25 batches: [time:3.0m 20.207613229751587s, Accuracy: 79.8076923076923]\n",
      "After 30 batches: [time:3.0m 59.72034311294556s, Accuracy: 79.83870967741935]\n",
      "After 35 batches: [time:4.0m 37.51678943634033s, Accuracy: 80.20833333333334]\n",
      "After 40 batches: [time:5.0m 15.134835243225098s, Accuracy: 79.8780487804878]\n",
      "After 45 batches: [time:5.0m 55.00863599777222s, Accuracy: 79.8913043478261]\n",
      "After 50 batches: [time:6.0m 39.796791315078735s, Accuracy: 78.67647058823529]\n",
      "After 55 batches: [time:7.0m 18.719928741455078s, Accuracy: 79.46428571428571]\n",
      "After 60 batches: [time:7.0m 55.43980288505554s, Accuracy: 78.27868852459017]\n",
      "After 65 batches: [time:8.0m 29.4467670917511s, Accuracy: 78.21969696969697]\n",
      "After 70 batches: [time:9.0m 2.3794257640838623s, Accuracy: 78.69718309859155]\n",
      "After 75 batches: [time:9.0m 34.91537046432495s, Accuracy: 78.61842105263158]\n",
      "After 80 batches: [time:10.0m 10.448557376861572s, Accuracy: 78.08641975308642]\n",
      "After 85 batches: [time:10.0m 45.10540795326233s, Accuracy: 78.19767441860465]\n",
      "After 90 batches: [time:11.0m 18.271581649780273s, Accuracy: 78.2967032967033]\n",
      "After 95 batches: [time:11.0m 52.47592234611511s, Accuracy: 77.99479166666666]\n",
      "After 100 batches: [time:12.0m 26.04663395881653s, Accuracy: 77.97029702970298]\n",
      "After 105 batches: [time:12.0m 59.76445817947388s, Accuracy: 77.24056603773585]\n",
      "After 110 batches: [time:13.0m 34.79034686088562s, Accuracy: 76.8018018018018]\n",
      "After 115 batches: [time:14.0m 8.999951124191284s, Accuracy: 76.1853448275862]\n",
      "After 120 batches: [time:14.0m 42.1480598449707s, Accuracy: 76.44628099173553]\n",
      "After 125 batches: [time:15.0m 17.500582695007324s, Accuracy: 76.38888888888889]\n",
      "After 130 batches: [time:15.0m 54.93813943862915s, Accuracy: 76.43129770992367]\n",
      "After 135 batches: [time:16.0m 31.959135055541992s, Accuracy: 76.28676470588235]\n",
      "After 140 batches: [time:17.0m 8.666769981384277s, Accuracy: 76.24113475177306]\n",
      "After 145 batches: [time:17.0m 44.73133206367493s, Accuracy: 76.11301369863014]\n",
      "After 150 batches: [time:18.0m 27.849782466888428s, Accuracy: 75.99337748344371]\n",
      "After 155 batches: [time:19.0m 5.664957046508789s, Accuracy: 75.96153846153845]\n",
      "After 160 batches: [time:19.0m 43.50160622596741s, Accuracy: 75.85403726708074]\n",
      "After 165 batches: [time:20.0m 25.381143808364868s, Accuracy: 76.05421686746988]\n",
      "After 170 batches: [time:21.0m 37.21141529083252s, Accuracy: 76.24269005847954]\n",
      "After 175 batches: [time:22.0m 19.202976942062378s, Accuracy: 76.20738636363636]\n",
      "After 180 batches: [time:23.0m 1.5594055652618408s, Accuracy: 75.96685082872928]\n",
      "After 185 batches: [time:23.0m 38.885576486587524s, Accuracy: 75.94086021505376]\n",
      "After 190 batches: [time:24.0m 17.925405502319336s, Accuracy: 75.85078534031413]\n",
      "After 195 batches: [time:24.0m 54.41610860824585s, Accuracy: 75.95663265306123]\n",
      "After 200 batches: [time:25.0m 28.2130446434021s, Accuracy: 75.99502487562188]\n",
      "After 205 batches: [time:25.0m 59.49543833732605s, Accuracy: 76.03155339805825]\n",
      "After 210 batches: [time:26.0m 30.989807844161987s, Accuracy: 76.18483412322274]\n",
      "After 215 batches: [time:27.0m 2.8058509826660156s, Accuracy: 75.98379629629629]\n",
      "After 220 batches: [time:27.0m 34.72524952888489s, Accuracy: 76.13122171945702]\n",
      "Epoch 9: [time:28.0m 1.1508407592773438s, Accuracy: 76.05555555555556]\n",
      "\n",
      "Epoch: 10\n",
      "After 0 batches: [time:0.0m 6.711632490158081s, Accuracy: 62.5]\n",
      "After 5 batches: [time:0.0m 38.57529139518738s, Accuracy: 66.66666666666666]\n",
      "After 10 batches: [time:1.0m 9.900322675704956s, Accuracy: 70.45454545454545]\n",
      "After 15 batches: [time:1.0m 42.463967084884644s, Accuracy: 74.21875]\n",
      "After 20 batches: [time:2.0m 14.881630659103394s, Accuracy: 77.97619047619048]\n",
      "After 25 batches: [time:2.0m 48.46439266204834s, Accuracy: 79.8076923076923]\n"
     ]
    },
    {
     "name": "stdout",
     "output_type": "stream",
     "text": [
      "After 30 batches: [time:3.0m 18.59927272796631s, Accuracy: 79.43548387096774]\n",
      "After 35 batches: [time:3.0m 48.38613295555115s, Accuracy: 79.51388888888889]\n",
      "After 40 batches: [time:4.0m 18.178072690963745s, Accuracy: 79.8780487804878]\n",
      "After 45 batches: [time:4.0m 48.42274594306946s, Accuracy: 79.34782608695652]\n",
      "After 50 batches: [time:5.0m 20.530824661254883s, Accuracy: 79.41176470588235]\n",
      "After 55 batches: [time:5.0m 57.528960943222046s, Accuracy: 79.91071428571429]\n",
      "After 60 batches: [time:6.0m 32.54501819610596s, Accuracy: 80.12295081967213]\n",
      "After 65 batches: [time:7.0m 2.740436315536499s, Accuracy: 80.49242424242425]\n",
      "After 70 batches: [time:7.0m 31.7958083152771s, Accuracy: 80.98591549295774]\n",
      "After 75 batches: [time:8.0m 1.971583366394043s, Accuracy: 80.42763157894737]\n",
      "After 80 batches: [time:8.0m 31.5271315574646s, Accuracy: 80.24691358024691]\n",
      "After 85 batches: [time:9.0m 0.7751562595367432s, Accuracy: 80.23255813953489]\n",
      "After 90 batches: [time:9.0m 30.09040856361389s, Accuracy: 80.35714285714286]\n",
      "After 95 batches: [time:10.0m 0.7889063358306885s, Accuracy: 80.33854166666666]\n",
      "After 100 batches: [time:10.0m 30.1047101020813s, Accuracy: 80.07425742574257]\n",
      "After 105 batches: [time:10.0m 59.447322845458984s, Accuracy: 80.07075471698113]\n",
      "After 110 batches: [time:11.0m 30.626127243041992s, Accuracy: 80.51801801801803]\n",
      "After 115 batches: [time:12.0m 1.4268784523010254s, Accuracy: 80.0646551724138]\n",
      "After 120 batches: [time:12.0m 31.079315185546875s, Accuracy: 80.16528925619835]\n",
      "After 125 batches: [time:13.0m 0.8116035461425781s, Accuracy: 79.86111111111111]\n",
      "After 130 batches: [time:13.0m 30.277363061904907s, Accuracy: 79.86641221374046]\n",
      "After 135 batches: [time:13.0m 59.955422163009644s, Accuracy: 79.96323529411765]\n",
      "After 140 batches: [time:14.0m 29.12895369529724s, Accuracy: 79.9645390070922]\n",
      "After 145 batches: [time:14.0m 58.184958934783936s, Accuracy: 79.96575342465754]\n",
      "After 150 batches: [time:15.0m 27.247419834136963s, Accuracy: 80.04966887417218]\n",
      "After 155 batches: [time:15.0m 56.61417770385742s, Accuracy: 79.48717948717949]\n",
      "After 160 batches: [time:16.0m 26.774053812026978s, Accuracy: 79.42546583850931]\n",
      "After 165 batches: [time:16.0m 56.42932987213135s, Accuracy: 78.9909638554217]\n",
      "After 170 batches: [time:17.0m 25.42647385597229s, Accuracy: 78.80116959064327]\n",
      "After 175 batches: [time:17.0m 54.20523238182068s, Accuracy: 78.6221590909091]\n",
      "After 180 batches: [time:18.0m 23.157368898391724s, Accuracy: 78.59116022099447]\n",
      "After 185 batches: [time:18.0m 52.2675564289093s, Accuracy: 78.56182795698925]\n",
      "After 190 batches: [time:19.0m 21.6969952583313s, Accuracy: 78.79581151832461]\n",
      "After 195 batches: [time:19.0m 50.68602728843689s, Accuracy: 78.76275510204081]\n",
      "After 200 batches: [time:20.0m 19.988715887069702s, Accuracy: 78.79353233830845]\n",
      "After 205 batches: [time:20.0m 49.045183420181274s, Accuracy: 78.51941747572816]\n",
      "After 210 batches: [time:21.0m 18.222355604171753s, Accuracy: 78.19905213270142]\n",
      "After 215 batches: [time:21.0m 47.77775859832764s, Accuracy: 78.125]\n",
      "After 220 batches: [time:22.0m 18.694234371185303s, Accuracy: 78.22398190045249]\n",
      "Epoch 10: [time:22.0m 43.26640057563782s, Accuracy: 78.16666666666666]\n",
      "\n",
      "Training time: 247.0m 52.08970046043396s\n"
     ]
    }
   ],
   "source": [
    "torch.manual_seed(6721)\n",
    "np.random.seed(6721)\n",
    "\n",
    "net.train()\n",
    "\n",
    "t = time.time()\n",
    "for i in range(num_epoch):\n",
    "    print(f'Epoch: {i+1}')\n",
    "    t_epoch = time.time()\n",
    "    total_labels = 0\n",
    "    correctly_pred = 0\n",
    "    t_batch = time.time()\n",
    "    for j, (data, labels) in enumerate(train_dataloader):\n",
    "#         torch.cuda.empty_cache()\n",
    "        gc.collect()\n",
    "#         data, labels = data.to(device), labels.to(device)\n",
    "        X, y = data, labels\n",
    "        optimizer.zero_grad()\n",
    "        output = net(X)\n",
    "        loss = loss_evaluater(output, y)\n",
    "        loss.backward()\n",
    "        optimizer.step()\n",
    "        y_pred = torch.argmax(output, dim=1)\n",
    "        total_labels += y.size(0)\n",
    "        correctly_pred += (y_pred==y).sum().item()\n",
    "        current_acc = (correctly_pred/total_labels)\n",
    "        if j%5==0:\n",
    "            seconds_passed = time.time()-t_batch\n",
    "            print(f'After {j} batches: [time:{seconds_passed//60}m {seconds_passed%60}s, Accuracy: {current_acc*100}]')\n",
    "    epoch_acc = (correctly_pred/total_labels)\n",
    "    seconds_passed = time.time()-t_epoch\n",
    "    print(f'Epoch {i+1}: [time:{seconds_passed//60}m {seconds_passed%60}s, Accuracy: {epoch_acc*100}]')\n",
    "    print()\n",
    "seconds_passed = time.time()-t\n",
    "print(f'Training time: {seconds_passed//60}m {seconds_passed%60}s')"
   ]
  },
  {
   "cell_type": "markdown",
   "metadata": {},
   "source": [
    "### 2.4. Training Evaluation"
   ]
  },
  {
   "cell_type": "code",
   "execution_count": 11,
   "metadata": {},
   "outputs": [
    {
     "name": "stdout",
     "output_type": "stream",
     "text": [
      "After 0 batches: [time:0.0m 2.2898812294006348s, Accuracy: 62.5]\n",
      "After 5 batches: [time:0.0m 13.28598427772522s, Accuracy: 83.33333333333334]\n",
      "After 10 batches: [time:0.0m 23.75367259979248s, Accuracy: 77.27272727272727]\n",
      "After 15 batches: [time:0.0m 34.322410345077515s, Accuracy: 79.6875]\n",
      "After 20 batches: [time:0.0m 44.755594968795776s, Accuracy: 79.76190476190477]\n",
      "After 25 batches: [time:0.0m 55.32632064819336s, Accuracy: 82.6923076923077]\n",
      "After 30 batches: [time:1.0m 5.841709136962891s, Accuracy: 83.06451612903226]\n",
      "After 35 batches: [time:1.0m 16.541173934936523s, Accuracy: 81.94444444444444]\n",
      "After 40 batches: [time:1.0m 27.2585289478302s, Accuracy: 82.92682926829268]\n",
      "After 45 batches: [time:1.0m 37.807833194732666s, Accuracy: 81.52173913043478]\n",
      "After 50 batches: [time:1.0m 48.442392110824585s, Accuracy: 80.88235294117648]\n",
      "After 55 batches: [time:1.0m 58.936373710632324s, Accuracy: 81.91964285714286]\n",
      "After 60 batches: [time:2.0m 9.502629280090332s, Accuracy: 82.17213114754098]\n",
      "After 65 batches: [time:2.0m 20.067475080490112s, Accuracy: 82.38636363636364]\n",
      "After 70 batches: [time:2.0m 30.657769680023193s, Accuracy: 82.3943661971831]\n",
      "After 75 batches: [time:2.0m 42.32462239265442s, Accuracy: 82.56578947368422]\n",
      "After 80 batches: [time:2.0m 55.80312252044678s, Accuracy: 82.4074074074074]\n",
      "After 85 batches: [time:3.0m 8.522879123687744s, Accuracy: 81.54069767441861]\n",
      "After 90 batches: [time:3.0m 20.431737899780273s, Accuracy: 81.31868131868131]\n",
      "After 95 batches: [time:3.0m 32.98026895523071s, Accuracy: 81.25]\n",
      "After 100 batches: [time:3.0m 45.19900369644165s, Accuracy: 81.1881188118812]\n",
      "After 105 batches: [time:3.0m 58.55503606796265s, Accuracy: 81.60377358490565]\n",
      "After 110 batches: [time:4.0m 10.593944549560547s, Accuracy: 81.98198198198197]\n",
      "After 115 batches: [time:4.0m 23.2232346534729s, Accuracy: 81.35775862068965]\n",
      "After 120 batches: [time:4.0m 35.58244824409485s, Accuracy: 81.19834710743802]\n",
      "After 125 batches: [time:4.0m 47.62057399749756s, Accuracy: 81.54761904761905]\n",
      "After 130 batches: [time:5.0m 0.020206928253173828s, Accuracy: 81.58396946564885]\n",
      "After 135 batches: [time:5.0m 11.674289464950562s, Accuracy: 81.25]\n",
      "After 140 batches: [time:5.0m 23.479106664657593s, Accuracy: 81.38297872340425]\n",
      "After 145 batches: [time:5.0m 34.86311483383179s, Accuracy: 81.5068493150685]\n",
      "After 150 batches: [time:5.0m 46.87763023376465s, Accuracy: 81.45695364238411]\n",
      "After 155 batches: [time:5.0m 59.66323184967041s, Accuracy: 81.65064102564102]\n",
      "After 160 batches: [time:6.0m 11.190478801727295s, Accuracy: 81.67701863354037]\n",
      "After 165 batches: [time:6.0m 23.049373865127563s, Accuracy: 81.62650602409639]\n",
      "After 170 batches: [time:6.0m 35.83574414253235s, Accuracy: 81.65204678362574]\n",
      "After 175 batches: [time:6.0m 49.41688537597656s, Accuracy: 81.81818181818183]\n",
      "After 180 batches: [time:7.0m 2.4837892055511475s, Accuracy: 81.76795580110497]\n",
      "After 185 batches: [time:7.0m 14.767292261123657s, Accuracy: 81.58602150537635]\n",
      "After 190 batches: [time:7.0m 27.463687896728516s, Accuracy: 81.67539267015707]\n",
      "After 195 batches: [time:7.0m 38.83843398094177s, Accuracy: 81.69642857142857]\n",
      "After 200 batches: [time:7.0m 50.92911219596863s, Accuracy: 81.8407960199005]\n",
      "After 205 batches: [time:8.0m 3.230398654937744s, Accuracy: 81.85679611650485]\n",
      "After 210 batches: [time:8.0m 14.68586254119873s, Accuracy: 81.63507109004739]\n",
      "After 215 batches: [time:8.0m 25.863009691238403s, Accuracy: 81.6550925925926]\n",
      "After 220 batches: [time:8.0m 38.1362464427948s, Accuracy: 81.78733031674209]\n",
      "Training accuracy: 81.77777777777779\n",
      "Trainig evaluation time: 8.0m 48.066688537597656s\n"
     ]
    }
   ],
   "source": [
    "torch.manual_seed(6721)\n",
    "np.random.seed(6721)\n",
    "\n",
    "t = time.time()\n",
    "# device = torch.device('cuda' if torch.cuda.is_available() else 'cpu')\n",
    "# device = torch.device('cpu')\n",
    "\n",
    "net.eval()\n",
    "\n",
    "with torch.no_grad():\n",
    "    total_labels = 0\n",
    "    correctly_pred = 0\n",
    "    t_batch = time.time()\n",
    "    for i, (data, labels) in enumerate(train_dataloader):\n",
    "#         data,labels = data.to(device), labels.to(device)\n",
    "        gc.collect()\n",
    "        X, y = data, labels\n",
    "        output = net(X)\n",
    "        y_pred = torch.argmax(output, dim=1)\n",
    "        total_labels += y.size(0)\n",
    "        correctly_pred += (y_pred==y).sum().item()\n",
    "        current_acc = (correctly_pred/total_labels)\n",
    "        if i%5==0:\n",
    "            seconds_passed = time.time()-t_batch\n",
    "            print(f'After {i} batches: [time:{seconds_passed//60}m {seconds_passed%60}s, Accuracy: {current_acc*100}]')\n",
    "    train_acc = (correctly_pred/total_labels)\n",
    "    print(f'Training accuracy: {train_acc*100}')\n",
    "seconds_passed = time.time()-t\n",
    "\n",
    "print(f'Trainig evaluation time: {seconds_passed//60}m {seconds_passed%60}s')"
   ]
  },
  {
   "cell_type": "markdown",
   "metadata": {},
   "source": [
    "### 2.5. Testing Evaluation"
   ]
  },
  {
   "cell_type": "code",
   "execution_count": 10,
   "metadata": {},
   "outputs": [
    {
     "name": "stdout",
     "output_type": "stream",
     "text": [
      "After 0 batches: [time:0.0m 2.2839999198913574s, Accuracy: 87.5]\n",
      "After 5 batches: [time:0.0m 13.638270378112793s, Accuracy: 72.91666666666666]\n",
      "After 10 batches: [time:0.0m 24.395268440246582s, Accuracy: 77.27272727272727]\n",
      "After 15 batches: [time:0.0m 35.51371502876282s, Accuracy: 78.90625]\n",
      "After 20 batches: [time:0.0m 46.86592411994934s, Accuracy: 78.57142857142857]\n",
      "After 25 batches: [time:0.0m 58.227649211883545s, Accuracy: 78.36538461538461]\n",
      "After 30 batches: [time:1.0m 10.134474277496338s, Accuracy: 79.03225806451613]\n",
      "After 35 batches: [time:1.0m 22.719993114471436s, Accuracy: 79.16666666666666]\n",
      "Test accuracy: 79.33333333333333\n",
      "Test time: 1.0m 26.04461407661438s\n"
     ]
    }
   ],
   "source": [
    "torch.manual_seed(6721)\n",
    "np.random.seed(6721)\n",
    "\n",
    "net.eval()\n",
    "\n",
    "t = time.time()\n",
    "# device = torch.device('cuda' if torch.cuda.is_available() else 'cpu')\n",
    "# device = torch.device('cpu')\n",
    "\n",
    "total_labels = 0\n",
    "correctly_pred = 0\n",
    "t_batch = time.time()\n",
    "test_batch=[]\n",
    "pred_batch=[]\n",
    "\n",
    "for i, (data, labels) in enumerate(test_dataloader):\n",
    "#     torch.cuda.empty_cache()\n",
    "#     data, labels = data.to(device), labels.to(device)\n",
    "    gc.collect()\n",
    "    X, y = data, labels\n",
    "    test_batch.extend(y.tolist())\n",
    "    output = net(X)\n",
    "    y_pred = torch.argmax(output, dim=1)\n",
    "    pred_batch.extend(y_pred.tolist())\n",
    "    total_labels += y.size(0)\n",
    "    correctly_pred += (y_pred==y).sum().item()\n",
    "    current_acc = (correctly_pred/total_labels)\n",
    "    if i%5==0:\n",
    "        seconds_passed = time.time()-t_batch\n",
    "        print(f'After {i} batches: [time:{seconds_passed//60}m {seconds_passed%60}s, Accuracy: {current_acc*100}]')\n",
    "\n",
    "test_acc = (correctly_pred/total_labels)\n",
    "print(f'Test accuracy: {test_acc*100}')\n",
    "seconds_passed = time.time()-t\n",
    "print(f'Test time: {seconds_passed//60}m {seconds_passed%60}s')"
   ]
  },
  {
   "cell_type": "markdown",
   "metadata": {},
   "source": [
    "### 2.6. Saving pretrained Model"
   ]
  },
  {
   "cell_type": "code",
   "execution_count": 13,
   "metadata": {},
   "outputs": [],
   "source": [
    "torch.manual_seed(6721)\n",
    "np.random.seed(6721)\n",
    "\n",
    "file_path = './temp/net.pt'\n",
    "\n",
    "state = {\n",
    "    'epoch': num_epoch,\n",
    "    'state_dict': net.state_dict(),\n",
    "    'optimizer': optimizer.state_dict(),\n",
    "    'lr': lr\n",
    "}\n",
    "\n",
    "torch.save(state, file_path)"
   ]
  },
  {
   "cell_type": "markdown",
   "metadata": {},
   "source": [
    "### 2.7. Loading Pretrained Model"
   ]
  },
  {
   "cell_type": "markdown",
   "metadata": {},
   "source": [
    "Loading Pretrained Model"
   ]
  },
  {
   "cell_type": "code",
   "execution_count": 7,
   "metadata": {},
   "outputs": [
    {
     "name": "stdout",
     "output_type": "stream",
     "text": [
      "Model Loaded Successfully\n"
     ]
    }
   ],
   "source": [
    "torch.manual_seed(6721)\n",
    "np.random.seed(6721)\n",
    "\n",
    "from torch.optim import SGD, Adam\n",
    "from torch.nn import CrossEntropyLoss\n",
    "import time\n",
    "from sklearn import metrics\n",
    "from torch.nn import Sequential, Module, Conv2d, MaxPool2d, Linear, ReLU, Dropout, BatchNorm2d, LeakyReLU, AdaptiveAvgPool2d, Flatten\n",
    "from torchvision.transforms import ToTensor, Compose, Normalize\n",
    "import torch\n",
    "from torch.utils.data import DataLoader, Subset\n",
    "from torchvision.datasets import ImageFolder\n",
    "from torchvision.transforms import ToTensor, Compose, Normalize\n",
    "from torch.utils.data import DataLoader, Subset\n",
    "from torchvision.datasets import ImageFolder\n",
    "import gc\n",
    "from PIL import Image\n",
    "from torchvision.datasets import VisionDataset\n",
    "import pandas as pd\n",
    "import os\n",
    "from skimage import io as sk_io, transform as sk_transform\n",
    "import numpy as np\n",
    "from sklearn.utils import shuffle\n",
    "from PIL import Image\n",
    "\n",
    "file_path = './temp/net.pt'\n",
    "\n",
    "state = torch.load(file_path)\n",
    "\n",
    "loaded_net = ProjectModel()\n",
    "loaded_net.load_state_dict(state['state_dict'])\n",
    "\n",
    "loaded_lr = state['lr']\n",
    "loaded_loss_evaluater = CrossEntropyLoss()\n",
    "loaded_optimizer = Adam(loaded_net.parameters(), lr=loaded_lr)\n",
    "loaded_optimizer.load_state_dict(state['optimizer'])\n",
    "\n",
    "loaded_num_epoch = state['epoch']\n",
    "print('Model Loaded Successfully')"
   ]
  },
  {
   "cell_type": "markdown",
   "metadata": {},
   "source": [
    "Testing loaded pretrained Model"
   ]
  },
  {
   "cell_type": "code",
   "execution_count": 8,
   "metadata": {},
   "outputs": [
    {
     "name": "stdout",
     "output_type": "stream",
     "text": [
      "After 0 batches: [time:0.0m 4.486730337142944s, Accuracy: 87.5]\n",
      "After 5 batches: [time:0.0m 56.63129281997681s, Accuracy: 72.91666666666666]\n",
      "After 10 batches: [time:1.0m 15.77672815322876s, Accuracy: 77.27272727272727]\n",
      "After 15 batches: [time:1.0m 27.282719373703003s, Accuracy: 78.90625]\n",
      "After 20 batches: [time:1.0m 38.31579399108887s, Accuracy: 78.57142857142857]\n",
      "After 25 batches: [time:1.0m 50.291762590408325s, Accuracy: 78.36538461538461]\n",
      "After 30 batches: [time:2.0m 2.352581262588501s, Accuracy: 79.03225806451613]\n",
      "After 35 batches: [time:2.0m 13.51013445854187s, Accuracy: 79.16666666666666]\n",
      "Test accuracy: 79.33333333333333\n",
      "Test time: 2.0m 17.30062699317932s\n"
     ]
    }
   ],
   "source": [
    "torch.manual_seed(6721)\n",
    "np.random.seed(6721)\n",
    "\n",
    "loaded_net.eval()\n",
    "\n",
    "t = time.time()\n",
    "\n",
    "total_labels = 0\n",
    "correctly_pred = 0\n",
    "t_batch = time.time()\n",
    "test_batch=[]\n",
    "pred_batch=[]\n",
    "\n",
    "for i, (data, labels) in enumerate(test_dataloader):\n",
    "#     torch.cuda.empty_cache()\n",
    "#     data, labels = data.to(device), labels.to(device)\n",
    "    gc.collect()\n",
    "    X, y = data, labels\n",
    "    test_batch.extend(y.tolist())\n",
    "    output = loaded_net(X)\n",
    "    y_pred = torch.argmax(output, dim=1)\n",
    "    pred_batch.extend(y_pred.tolist())\n",
    "    total_labels += y.size(0)\n",
    "    correctly_pred += (y_pred==y).sum().item()\n",
    "    current_acc = (correctly_pred/total_labels)\n",
    "    if i%5==0:\n",
    "        seconds_passed = time.time()-t_batch\n",
    "        print(f'After {i} batches: [time:{seconds_passed//60}m {seconds_passed%60}s, Accuracy: {current_acc*100}]')\n",
    "\n",
    "test_acc = (correctly_pred/total_labels)\n",
    "print(f'Test accuracy: {test_acc*100}')\n",
    "seconds_passed = time.time()-t\n",
    "print(f'Test time: {seconds_passed//60}m {seconds_passed%60}s')"
   ]
  },
  {
   "cell_type": "markdown",
   "metadata": {},
   "source": [
    "# 3. Model Evaluation"
   ]
  },
  {
   "cell_type": "markdown",
   "metadata": {},
   "source": [
    "### 3.0 Initialization"
   ]
  },
  {
   "cell_type": "code",
   "execution_count": 51,
   "metadata": {},
   "outputs": [],
   "source": [
    "torch.manual_seed(6721)\n",
    "np.random.seed(6721)\n",
    "\n",
    "mask_index=dataset.class_to_idx['mask']\n",
    "no_mask_index=dataset.class_to_idx['no_mask']\n",
    "not_person_index=dataset.class_to_idx['not_person']\n",
    "\n",
    "confusion_metrics_final=metrics.confusion_matrix(test_batch,pred_batch)\n",
    "precision_final=metrics.precision_score(test_batch, pred_batch, average=None)\n",
    "recall_final=metrics.recall_score(test_batch, pred_batch, average=None)\n",
    "f1_final=metrics.f1_score(test_batch, pred_batch, average=None)"
   ]
  },
  {
   "cell_type": "markdown",
   "metadata": {},
   "source": [
    "### 3.1. Accuracy"
   ]
  },
  {
   "cell_type": "code",
   "execution_count": 52,
   "metadata": {},
   "outputs": [
    {
     "name": "stdout",
     "output_type": "stream",
     "text": [
      "Accuracy for the model is 80.0 %\n"
     ]
    }
   ],
   "source": [
    "print(f'Accuracy for the model is {test_acc*100} %')"
   ]
  },
  {
   "cell_type": "markdown",
   "metadata": {},
   "source": [
    "### 3.2 Precision"
   ]
  },
  {
   "cell_type": "code",
   "execution_count": 53,
   "metadata": {},
   "outputs": [
    {
     "name": "stdout",
     "output_type": "stream",
     "text": [
      "Precision for the class mask is 68.25396825396825 %\n",
      "Precision for the class no_mask is 84.72222222222221 %\n",
      "Precision for the class not_person is 91.17647058823529 %\n"
     ]
    }
   ],
   "source": [
    "print(f'Precision for the class mask is {precision_final[mask_index]*100} %')\n",
    "print(f'Precision for the class no_mask is {precision_final[no_mask_index]*100} %')\n",
    "print(f'Precision for the class not_person is {precision_final[not_person_index]*100} %')"
   ]
  },
  {
   "cell_type": "markdown",
   "metadata": {},
   "source": [
    "### 3.3 Recall"
   ]
  },
  {
   "cell_type": "code",
   "execution_count": 54,
   "metadata": {},
   "outputs": [
    {
     "name": "stdout",
     "output_type": "stream",
     "text": [
      "Recall for the class mask is 86.0 %\n",
      "Recall for the class no_mask is 61.0 %\n",
      "Recall for the class not_person is 93.0 %\n"
     ]
    }
   ],
   "source": [
    "print(f'Recall for the class mask is {recall_final[mask_index]*100} %')\n",
    "print(f'Recall for the class no_mask is {recall_final[no_mask_index]*100} %')\n",
    "print(f'Recall for the class not_person is {recall_final[not_person_index]*100} %')"
   ]
  },
  {
   "cell_type": "markdown",
   "metadata": {},
   "source": [
    "### 3.4 F1 Score"
   ]
  },
  {
   "cell_type": "code",
   "execution_count": 55,
   "metadata": {},
   "outputs": [
    {
     "name": "stdout",
     "output_type": "stream",
     "text": [
      "F1 Score for the class mask is 76.10619469026547 %\n",
      "F1 Score for the class no_mask is 70.93023255813952 %\n",
      "F1 Score for the class not_person is 92.07920792079209 %\n"
     ]
    }
   ],
   "source": [
    "print(f'F1 Score for the class mask is {f1_final[mask_index]*100} %')\n",
    "print(f'F1 Score for the class no_mask is {f1_final[no_mask_index]*100} %')\n",
    "print(f'F1 Score for the class not_person is {f1_final[not_person_index]*100} %')"
   ]
  },
  {
   "cell_type": "markdown",
   "metadata": {},
   "source": [
    "### 3.5 Confusion Matrix"
   ]
  },
  {
   "cell_type": "code",
   "execution_count": 56,
   "metadata": {},
   "outputs": [
    {
     "data": {
      "text/plain": [
       "<sklearn.metrics._plot.confusion_matrix.ConfusionMatrixDisplay at 0x26da26cae80>"
      ]
     },
     "execution_count": 56,
     "metadata": {},
     "output_type": "execute_result"
    },
    {
     "data": {
      "image/png": "[encoded data removed]",
      "text/plain": [
       "<Figure size 432x288 with 2 Axes>"
      ]
     },
     "metadata": {
      "needs_background": "light"
     },
     "output_type": "display_data"
    }
   ],
   "source": [
    "import matplotlib.pyplot as plt\n",
    "from sklearn.metrics import confusion_matrix, ConfusionMatrixDisplay\n",
    "torch.manual_seed(6721)\n",
    "np.random.seed(6721)\n",
    "\n",
    "cm = confusion_matrix(test_batch, pred_batch, normalize='all')*100\n",
    "cmd = ConfusionMatrixDisplay(cm, display_labels=['mask', 'no_mask', 'not_person'])\n",
    "fig = plt.figure()\n",
    "ax = fig.add_subplot(111)\n",
    "ax.set_title('Confusion Matrix(%)')\n",
    "cmd.plot(ax=ax)\n"
   ]
  },
  {
   "cell_type": "code",
   "execution_count": null,
   "metadata": {},
   "outputs": [],
   "source": []
  }
 ],
 "metadata": {
  "kernelspec": {
   "display_name": "Python 3",
   "language": "python",
   "name": "python3"
  },
  "language_info": {
   "codemirror_mode": {
    "name": "ipython",
    "version": 3
   },
   "file_extension": ".py",
   "mimetype": "text/x-python",
   "name": "python",
   "nbconvert_exporter": "python",
   "pygments_lexer": "ipython3",
   "version": "3.8.3"
  }
 },
 "nbformat": 4,
 "nbformat_minor": 4
}
