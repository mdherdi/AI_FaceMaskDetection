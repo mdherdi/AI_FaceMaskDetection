{
 "cells": [
  {
   "cell_type": "markdown",
   "metadata": {},
   "source": [
    "# Convert to csv"
   ]
  },
  {
   "cell_type": "code",
   "execution_count": 60,
   "metadata": {},
   "outputs": [
    {
     "name": "stdout",
     "output_type": "stream",
     "text": [
      "2642\n"
     ]
    }
   ],
   "source": [
    "import pandas as pd\n",
    "import csv\n",
    "import os\n",
    "import json\n",
    "'''\n",
    "LABEL 0 : NON - MASKED PERSON\n",
    "LABEL 1: MASKED PERSON\n",
    "\n",
    "'''\n",
    "person_no_mask_labels = {'eyeglasses','face_no_mask','face_other_covering','hat','sunglasses','turban'}\n",
    "not_person = 'not_person'\n",
    "\n",
    "with open('Labels.csv','w',newline='') as file:\n",
    "    wr = csv.writer(file,delimiter=',')    \n",
    "    wr.writerow(['ImageNo','Label','Tags'])\n",
    "    \n",
    "\n",
    "path_to_dataset = 'D:\\pravesh\\\\Concordia\\\\2021-Winter\\\\COMP-6721-Intro_To_AI\\\\project\\\\1\\dataset\\\\'\n",
    "image_file_names= [i for i in os.listdir(path_to_dataset+'images')]\n",
    "\n",
    "rows = []\n",
    "for index, image_name  in enumerate(image_file_names):\n",
    "    path_to_json = path_to_dataset + 'annotations\\\\' + image_name + '.json'\n",
    "    data = json.load(open(path_to_json))\n",
    "    image_tags = set()\n",
    "    label = 0\n",
    "    for item in data['Annotations']:\n",
    "        image_tags.add(item['classname'])\n",
    "    rows.append((image_name, image_tags))\n",
    "\n",
    "print(len(rows))\n",
    "\n",
    "with open('Labels.csv','a',newline='') as file:\n",
    "    for image_name, image_tags in rows:\n",
    "        label = 0\n",
    "        if not_person in image_tags:\n",
    "            label = 2\n",
    "        elif len(image_tags & person_no_mask_labels)>0:\n",
    "            label = 1\n",
    "        else:\n",
    "            label = 0\n",
    "        wr = csv.writer(file,delimiter=',') \n",
    "        wr.writerow([image_name, label, ','.join(image_tags)])"
   ]
  },
  {
   "cell_type": "code",
   "execution_count": null,
   "metadata": {},
   "outputs": [],
   "source": [
    "# List down categories"
   ]
  },
  {
   "cell_type": "code",
   "execution_count": 32,
   "metadata": {},
   "outputs": [
    {
     "name": "stdout",
     "output_type": "stream",
     "text": [
      "Column names are 6435.jpg, 1, {'face_with_mask_incorrect', 'mask_surgical'}\n",
      "Processed 1700 lines.\n",
      "{'mask_surgical', 'face_with_mask_incorrect', 'goggles', 'hair_net', 'balaclava_ski_mask', 'eyeglasses', 'sunglasses', 'other', 'hijab_niqab', 'face_other_covering', 'hood', 'helmet', 'mask_colorful', 'face_shield', 'hat', 'turban', 'face_with_mask', 'face_no_mask', 'scarf_bandana', 'gas_mask'}\n"
     ]
    }
   ],
   "source": [
    "import csv\n",
    "\n",
    "tags = set()\n",
    "\n",
    "with open('Labels.csv') as csv_file:\n",
    "    csv_reader = csv.reader(csv_file, delimiter=',')\n",
    "    line_count = 0\n",
    "    for (name, label, image_tags) in csv_reader:\n",
    "        if line_count == 0:\n",
    "            print(f'Column names are {\", \".join(row)}')\n",
    "            line_count += 1\n",
    "        else:\n",
    "#             print(f'{name}, {label}, {image_tags}')\n",
    "            tags = tags | set(image_tags.split(','))\n",
    "            line_count += 1\n",
    "    print(f'Processed {line_count} lines.')\n",
    "print(tags)"
   ]
  },
  {
   "cell_type": "code",
   "execution_count": null,
   "metadata": {},
   "outputs": [],
   "source": [
    "# Segregate with categories"
   ]
  },
  {
   "cell_type": "code",
   "execution_count": 57,
   "metadata": {},
   "outputs": [
    {
     "name": "stdout",
     "output_type": "stream",
     "text": [
      "Column names are ImageNo, Label, Tags\n",
      "Processed 3649 lines.\n",
      "3648\n"
     ]
    }
   ],
   "source": [
    "import csv\n",
    "\n",
    "tags = {'mask_surgical', 'face_with_mask_incorrect', 'goggles', 'hair_net'\n",
    "        , 'balaclava_ski_mask', 'eyeglasses', 'sunglasses', 'other'\n",
    "        , 'hijab_niqab', 'face_other_covering', 'hood', 'helmet'\n",
    "        , 'mask_colorful', 'face_shield', 'hat', 'turban', 'face_with_mask'\n",
    "        , 'face_no_mask', 'scarf_bandana', 'gas_mask'}\n",
    "\n",
    "rows = []\n",
    "\n",
    "path_to_dataset = 'D:\\pravesh\\\\Concordia\\\\2021-Winter\\\\COMP-6721-Intro_To_AI\\\\project\\\\1\\dataset\\\\'\n",
    "\n",
    "with open('Labels.csv') as csv_file:\n",
    "    csv_reader = csv.reader(csv_file, delimiter=',')\n",
    "    line_count = 0\n",
    "    for row in csv_reader:\n",
    "        if line_count == 0:\n",
    "            print(f'Column names are {\", \".join(row)}')\n",
    "            line_count += 1\n",
    "        else:\n",
    "#             print(f'{name}, {label}, {image_tags}')\n",
    "            rows.append(row)\n",
    "            line_count += 1\n",
    "    print(f'Processed {line_count} lines.')\n",
    "\n",
    "print(len(rows))\n",
    "\n",
    "for tag in tags:\n",
    "    path_to_tag_directory = path_to_dataset + 'images\\\\' + tag\n",
    "    if not os.path.isdir(path_to_tag_directory):\n",
    "        os.mkdir(path_to_tag_directory)\n",
    "    for (name, _, image_tags) in rows:\n",
    "        path_to_file = path_to_dataset + 'images\\\\' + name\n",
    "#         print(path_to_file)\n",
    "#         print(os.path.isfile(path_to_file))\n",
    "        if os.path.isfile(path_to_file):\n",
    "            if tag in image_tags:\n",
    "                new_file_path = path_to_tag_directory+'\\\\'+ name\n",
    "#                 print(path_to_file, new_file_path)\n",
    "                os.rename(path_to_file, new_file_path)\n",
    "#         break\n",
    "#     break"
   ]
  },
  {
   "cell_type": "code",
   "execution_count": null,
   "metadata": {},
   "outputs": [],
   "source": []
  },
  {
   "cell_type": "code",
   "execution_count": 77,
   "metadata": {},
   "outputs": [
    {
     "name": "stdout",
     "output_type": "stream",
     "text": [
      "mask 1749 1749\n",
      "not_person 450 2199\n",
      "no_mask 892 3091\n",
      "3091\n"
     ]
    }
   ],
   "source": [
    "import pandas as pd\n",
    "import csv\n",
    "import os\n",
    "import json\n",
    "'''\n",
    "LABEL 0 : NON - MASKED PERSON\n",
    "LABEL 1: MASKED PERSON\n",
    "\n",
    "'''\n",
    "person_no_mask_labels = {'eyeglasses','face_no_mask','face_other_covering','hat','sunglasses','turban'}\n",
    "label_map = {'mask': 0,\n",
    "            'no_mask': 1,\n",
    "            'not_person': 2}\n",
    "\n",
    "with open('Labels.csv','w',newline='') as file:\n",
    "    wr = csv.writer(file,delimiter=',')    \n",
    "    wr.writerow(['ImageNo','Label','Tags'])\n",
    "    \n",
    "\n",
    "path_to_dataset = 'D:\\pravesh\\\\Concordia\\\\2021-Winter\\\\COMP-6721-Intro_To_AI\\\\project\\\\1\\dataset\\\\'\n",
    "\n",
    "images_dir = path_to_dataset+'images\\\\'\n",
    "\n",
    "dir_names= [i for i in os.listdir(images_dir)]\n",
    "\n",
    "rows = []\n",
    "for index, dir_name in enumerate(dir_names):\n",
    "    count=0\n",
    "    label = label_map[dir_name]\n",
    "    dir_path = images_dir + dir_name + '\\\\'\n",
    "    image_names= [i for i in os.listdir(dir_path)]\n",
    "    for index, image_name  in enumerate(image_names):\n",
    "        path_to_json = path_to_dataset + 'annotations\\\\' + image_name + '.json'\n",
    "        data = json.load(open(path_to_json))\n",
    "        image_tags = set()\n",
    "        for item in data['Annotations']:\n",
    "            image_tags.add(item['classname'])\n",
    "        rows.append((dir_name+'\\\\'+image_name, label, image_tags))\n",
    "        count+=1\n",
    "    print(dir_name, count, len(rows))\n",
    "        \n",
    "print(len(rows))\n",
    "\n",
    "with open('label_info.csv','a',newline='') as file:\n",
    "    for image, label, image_tags in rows:\n",
    "        wr = csv.writer(file,delimiter=',') \n",
    "        wr.writerow([image, label])"
   ]
  },
  {
   "cell_type": "code",
   "execution_count": null,
   "metadata": {},
   "outputs": [],
   "source": []
  },
  {
   "cell_type": "code",
   "execution_count": null,
   "metadata": {},
   "outputs": [],
   "source": []
  }
 ],
 "metadata": {
  "kernelspec": {
   "display_name": "Python [conda env:comp6721]",
   "language": "python",
   "name": "conda-env-comp6721-py"
  },
  "language_info": {
   "codemirror_mode": {
    "name": "ipython",
    "version": 3
   },
   "file_extension": ".py",
   "mimetype": "text/x-python",
   "name": "python",
   "nbconvert_exporter": "python",
   "pygments_lexer": "ipython3",
   "version": "3.6.12"
  }
 },
 "nbformat": 4,
 "nbformat_minor": 4
}
