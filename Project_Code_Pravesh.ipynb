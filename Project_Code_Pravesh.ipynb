{
 "cells": [
  {
   "cell_type": "markdown",
   "metadata": {},
   "source": [
    "<pre>\n",
    "<b>\n",
    "COMP-6721 | 2021-Winter\n",
    "Project | Part-1\n",
    "\n",
    "Pravesh Gupta | 40152506\n",
    "Vikramjeet Singh | 40134477\n",
    "Manjot Kaur Dherdi | 40107905\n",
    "</b>\n",
    "</pre>"
   ]
  },
  {
   "cell_type": "markdown",
   "metadata": {},
   "source": [
    "# 1. Data Loading"
   ]
  },
  {
   "cell_type": "markdown",
   "metadata": {},
   "source": [
    "## 1.1. Installing required python modules"
   ]
  },
  {
   "cell_type": "code",
   "execution_count": 2,
   "metadata": {},
   "outputs": [
    {
     "name": "stdout",
     "output_type": "stream",
     "text": [
      "Requirement already satisfied: torch in d:\\installations\\anaconda3\\envs\\comp6721\\lib\\site-packages (1.8.1)\n",
      "Requirement already satisfied: typing-extensions in d:\\installations\\anaconda3\\envs\\comp6721\\lib\\site-packages (from torch) (3.7.4.3)\n",
      "Requirement already satisfied: numpy in d:\\installations\\anaconda3\\envs\\comp6721\\lib\\site-packages (from torch) (1.20.2)\n",
      "Note: you may need to restart the kernel to use updated packages.\n"
     ]
    }
   ],
   "source": [
    "pip install torch"
   ]
  },
  {
   "cell_type": "code",
   "execution_count": 4,
   "metadata": {},
   "outputs": [
    {
     "name": "stdout",
     "output_type": "stream",
     "text": [
      "Collecting torchvision\n",
      "  Downloading torchvision-0.9.1-cp39-cp39-win_amd64.whl (852 kB)\n",
      "Requirement already satisfied: numpy in d:\\installations\\anaconda3\\envs\\comp6721\\lib\\site-packages (from torchvision) (1.20.2)\n",
      "Requirement already satisfied: torch==1.8.1 in d:\\installations\\anaconda3\\envs\\comp6721\\lib\\site-packages (from torchvision) (1.8.1)\n",
      "Collecting pillow>=4.1.1\n",
      "  Downloading Pillow-8.2.0-cp39-cp39-win_amd64.whl (2.2 MB)\n",
      "Requirement already satisfied: typing-extensions in d:\\installations\\anaconda3\\envs\\comp6721\\lib\\site-packages (from torch==1.8.1->torchvision) (3.7.4.3)\n",
      "Installing collected packages: pillow, torchvision\n",
      "Successfully installed pillow-8.2.0 torchvision-0.9.1\n",
      "Note: you may need to restart the kernel to use updated packages.\n"
     ]
    }
   ],
   "source": [
    "pip install torchvision"
   ]
  },
  {
   "cell_type": "code",
   "execution_count": 5,
   "metadata": {},
   "outputs": [
    {
     "name": "stdout",
     "output_type": "stream",
     "text": [
      "Collecting pandas\n",
      "  Downloading pandas-1.2.4-cp39-cp39-win_amd64.whl (9.3 MB)\n",
      "Collecting pytz>=2017.3\n",
      "  Using cached pytz-2021.1-py2.py3-none-any.whl (510 kB)\n",
      "Requirement already satisfied: python-dateutil>=2.7.3 in d:\\installations\\anaconda3\\envs\\comp6721\\lib\\site-packages (from pandas) (2.8.1)\n",
      "Requirement already satisfied: numpy>=1.16.5 in d:\\installations\\anaconda3\\envs\\comp6721\\lib\\site-packages (from pandas) (1.20.2)\n",
      "Requirement already satisfied: six>=1.5 in d:\\installations\\anaconda3\\envs\\comp6721\\lib\\site-packages (from python-dateutil>=2.7.3->pandas) (1.15.0)\n",
      "Installing collected packages: pytz, pandas\n",
      "Successfully installed pandas-1.2.4 pytz-2021.1\n",
      "Note: you may need to restart the kernel to use updated packages.\n"
     ]
    }
   ],
   "source": [
    "pip install pandas"
   ]
  },
  {
   "cell_type": "code",
   "execution_count": 6,
   "metadata": {},
   "outputs": [
    {
     "name": "stdout",
     "output_type": "stream",
     "text": [
      "Requirement already satisfied: torchvision in d:\\installations\\anaconda3\\envs\\comp6721\\lib\\site-packages (0.9.1)\n",
      "Requirement already satisfied: torch==1.8.1 in d:\\installations\\anaconda3\\envs\\comp6721\\lib\\site-packages (from torchvision) (1.8.1)\n",
      "Requirement already satisfied: numpy in d:\\installations\\anaconda3\\envs\\comp6721\\lib\\site-packages (from torchvision) (1.20.2)\n",
      "Requirement already satisfied: pillow>=4.1.1 in d:\\installations\\anaconda3\\envs\\comp6721\\lib\\site-packages (from torchvision) (8.2.0)\n",
      "Requirement already satisfied: typing-extensions in d:\\installations\\anaconda3\\envs\\comp6721\\lib\\site-packages (from torch==1.8.1->torchvision) (3.7.4.3)\n",
      "Note: you may need to restart the kernel to use updated packages.\n"
     ]
    }
   ],
   "source": [
    "pip install torchvision"
   ]
  },
  {
   "cell_type": "code",
   "execution_count": 7,
   "metadata": {},
   "outputs": [
    {
     "name": "stdout",
     "output_type": "stream",
     "text": [
      "Collecting scikit-image\n",
      "  Downloading scikit_image-0.18.1-cp39-cp39-win_amd64.whl (12.2 MB)\n",
      "Requirement already satisfied: pillow!=7.1.0,!=7.1.1,>=4.3.0 in d:\\installations\\anaconda3\\envs\\comp6721\\lib\\site-packages (from scikit-image) (8.2.0)\n",
      "Collecting scipy>=1.0.1\n",
      "  Downloading scipy-1.6.2-cp39-cp39-win_amd64.whl (32.7 MB)\n",
      "Collecting PyWavelets>=1.1.1\n",
      "  Downloading PyWavelets-1.1.1-cp39-cp39-win_amd64.whl (4.2 MB)\n",
      "Collecting networkx>=2.0\n",
      "  Using cached networkx-2.5.1-py3-none-any.whl (1.6 MB)\n",
      "Collecting imageio>=2.3.0\n",
      "  Using cached imageio-2.9.0-py3-none-any.whl (3.3 MB)\n",
      "Collecting matplotlib!=3.0.0,>=2.0.0\n",
      "  Downloading matplotlib-3.4.1-cp39-cp39-win_amd64.whl (7.1 MB)\n",
      "Requirement already satisfied: numpy>=1.16.5 in d:\\installations\\anaconda3\\envs\\comp6721\\lib\\site-packages (from scikit-image) (1.20.2)\n",
      "Collecting tifffile>=2019.7.26\n",
      "  Downloading tifffile-2021.4.8-py3-none-any.whl (165 kB)\n",
      "Collecting pyparsing>=2.2.1\n",
      "  Using cached pyparsing-2.4.7-py2.py3-none-any.whl (67 kB)\n",
      "Collecting kiwisolver>=1.0.1\n",
      "  Downloading kiwisolver-1.3.1-cp39-cp39-win_amd64.whl (51 kB)\n",
      "Requirement already satisfied: python-dateutil>=2.7 in d:\\installations\\anaconda3\\envs\\comp6721\\lib\\site-packages (from matplotlib!=3.0.0,>=2.0.0->scikit-image) (2.8.1)\n",
      "Collecting cycler>=0.10\n",
      "  Using cached cycler-0.10.0-py2.py3-none-any.whl (6.5 kB)\n",
      "Requirement already satisfied: six in d:\\installations\\anaconda3\\envs\\comp6721\\lib\\site-packages (from cycler>=0.10->matplotlib!=3.0.0,>=2.0.0->scikit-image) (1.15.0)\n",
      "Collecting decorator<5,>=4.3\n",
      "  Using cached decorator-4.4.2-py2.py3-none-any.whl (9.2 kB)\n",
      "Installing collected packages: pyparsing, kiwisolver, decorator, cycler, tifffile, scipy, PyWavelets, networkx, matplotlib, imageio, scikit-image\n",
      "  Attempting uninstall: decorator\n",
      "    Found existing installation: decorator 5.0.6\n",
      "    Uninstalling decorator-5.0.6:\n",
      "      Successfully uninstalled decorator-5.0.6\n",
      "Successfully installed PyWavelets-1.1.1 cycler-0.10.0 decorator-4.4.2 imageio-2.9.0 kiwisolver-1.3.1 matplotlib-3.4.1 networkx-2.5.1 pyparsing-2.4.7 scikit-image-0.18.1 scipy-1.6.2 tifffile-2021.4.8\n",
      "Note: you may need to restart the kernel to use updated packages.\n"
     ]
    }
   ],
   "source": [
    "pip install scikit-image"
   ]
  },
  {
   "cell_type": "code",
   "execution_count": 8,
   "metadata": {},
   "outputs": [
    {
     "name": "stdout",
     "output_type": "stream",
     "text": [
      "Requirement already satisfied: numpy in d:\\installations\\anaconda3\\envs\\comp6721\\lib\\site-packages (1.20.2)\n",
      "Note: you may need to restart the kernel to use updated packages.\n"
     ]
    }
   ],
   "source": [
    "pip install numpy"
   ]
  },
  {
   "cell_type": "code",
   "execution_count": 9,
   "metadata": {},
   "outputs": [
    {
     "name": "stdout",
     "output_type": "stream",
     "text": [
      "Collecting sklearn\n",
      "  Using cached sklearn-0.0.tar.gz (1.1 kB)\n",
      "Collecting scikit-learn\n",
      "  Downloading scikit_learn-0.24.1-cp39-cp39-win_amd64.whl (6.9 MB)\n",
      "Collecting threadpoolctl>=2.0.0\n",
      "  Using cached threadpoolctl-2.1.0-py3-none-any.whl (12 kB)\n",
      "Requirement already satisfied: numpy>=1.13.3 in d:\\installations\\anaconda3\\envs\\comp6721\\lib\\site-packages (from scikit-learn->sklearn) (1.20.2)\n",
      "Requirement already satisfied: scipy>=0.19.1 in d:\\installations\\anaconda3\\envs\\comp6721\\lib\\site-packages (from scikit-learn->sklearn) (1.6.2)\n",
      "Collecting joblib>=0.11\n",
      "  Using cached joblib-1.0.1-py3-none-any.whl (303 kB)\n",
      "Building wheels for collected packages: sklearn\n",
      "  Building wheel for sklearn (setup.py): started\n",
      "  Building wheel for sklearn (setup.py): finished with status 'done'\n",
      "  Created wheel for sklearn: filename=sklearn-0.0-py2.py3-none-any.whl size=1316 sha256=bf0934a3f7dbcc9738c51cc3154cb2c13be8934cf9161489ab7765da733fd710\n",
      "Note: you may need to restart the kernel to use updated packages.  Stored in directory: c:\\users\\prave\\appdata\\local\\pip\\cache\\wheels\\e4\\7b\\98\\b6466d71b8d738a0c547008b9eb39bf8676d1ff6ca4b22af1c\n",
      "\n",
      "Successfully built sklearn\n",
      "Installing collected packages: threadpoolctl, joblib, scikit-learn, sklearn\n",
      "Successfully installed joblib-1.0.1 scikit-learn-0.24.1 sklearn-0.0 threadpoolctl-2.1.0\n"
     ]
    }
   ],
   "source": [
    "pip install sklearn"
   ]
  },
  {
   "cell_type": "code",
   "execution_count": 10,
   "metadata": {},
   "outputs": [
    {
     "name": "stdout",
     "output_type": "stream",
     "text": [
      "Requirement already satisfied: pillow in d:\\installations\\anaconda3\\envs\\comp6721\\lib\\site-packages (8.2.0)\n",
      "Note: you may need to restart the kernel to use updated packages.\n"
     ]
    }
   ],
   "source": [
    "pip install pillow"
   ]
  },
  {
   "cell_type": "markdown",
   "metadata": {},
   "source": [
    "### 1.2. Dataset Description"
   ]
  },
  {
   "cell_type": "markdown",
   "metadata": {},
   "source": [
    "\n",
    "Required Dataset Folder Heirarchy:\n",
    "<pre>\n",
    "{dataset_folder}\n",
    "--images\n",
    "----mask\n",
    "-------{mask images}\n",
    "----no_mask\n",
    "-------{no mask images}\n",
    "----not_person\n",
    "-------{not person images}\n",
    "</pre>"
   ]
  },
  {
   "cell_type": "markdown",
   "metadata": {},
   "source": [
    "### 1.3. Defining Pytorch dataset Representation and data transaformers"
   ]
  },
  {
   "cell_type": "code",
   "execution_count": 20,
   "metadata": {},
   "outputs": [],
   "source": [
    "from torchvision.datasets import VisionDataset\n",
    "import pandas as pd\n",
    "import os\n",
    "from skimage import io as sk_io, transform as sk_transform\n",
    "import numpy as np\n",
    "from sklearn.utils import shuffle\n",
    "from PIL import Image\n",
    "    \n",
    "class Rescale(object):\n",
    "    def __init__(self, output_size, debug=False, export_path=None):\n",
    "        assert isinstance(output_size, (int))\n",
    "        self.output_size = output_size\n",
    "\n",
    "    def __call__(self, img_data):\n",
    "        img_arr = np.array(img_data)\n",
    "        h, w, c = img_arr.shape\n",
    "        isAlreadyScaled = (h==self.output_size and w==self.output_size)\n",
    "        \n",
    "        if not isAlreadyScaled:\n",
    "            scale_factor = float(self.output_size)/img_arr.shape[0]\n",
    "            img_arr = (sk_transform.rescale(img_arr, (scale_factor, scale_factor, 1))*255).astype(np.uint8)\n",
    "\n",
    "            new_w = img_arr.shape[1]\n",
    "\n",
    "            # Clipping or filling\n",
    "            if new_w>self.output_size:\n",
    "                mid = new_w//2\n",
    "                new_w_start = mid-self.output_size//2\n",
    "                new_w_end = mid+self.output_size//2\n",
    "\n",
    "                if (new_w_end-new_w_start)<self.output_size:\n",
    "                    new_w_end += (self.output_size-(new_w_end-new_w_start))\n",
    "                elif (new_w_end-new_w_start)>self.output_size:\n",
    "                    new_w_end -= ((new_w_end-new_w_start)-self.output_size)\n",
    "                img_arr = img_arr[:, new_w_start:new_w_end]\n",
    "            elif new_w<self.output_size:\n",
    "                mid = new_w//2\n",
    "                new_w_start = self.output_size//2-mid\n",
    "                new_w_end = new_w_start+new_w\n",
    "                filled_img_arr = np.zeros((self.output_size, self.output_size, img_arr.shape[2]), dtype=np.uint8)\n",
    "                filled_img_arr[:, new_w_start:new_w_end] = img_arr[:, :]\n",
    "                img_arr = filled_img_arr\n",
    "        return Image.fromarray(img_arr)"
   ]
  },
  {
   "cell_type": "markdown",
   "metadata": {},
   "source": [
    "### 1.4. (Optional) Prior conversion of image to speed up training process"
   ]
  },
  {
   "cell_type": "code",
   "execution_count": null,
   "metadata": {},
   "outputs": [],
   "source": [
    "from PIL import Image\n",
    "\n",
    "torch.manual_seed(6721)\n",
    "np.random.seed(6721)\n",
    "\n",
    "rescaled_size=512\n",
    "\n",
    "scaler = Rescale(rescaled_size)\n",
    "\n",
    "data_dir = './data/images_original/'\n",
    "copy_dir = './data/images_rescaled/'\n",
    "\n",
    "if not os.path.isdir(copy_dir):\n",
    "    os.mkdir(copy_dir)\n",
    "\n",
    "data_transform = Compose([\n",
    "    Rescale(rescaled_size)\n",
    "])\n",
    "\n",
    "dataset = ImageFolder(\n",
    "    root=data_dir\n",
    "    ,transform=data_transform\n",
    ")\n",
    "print(f'Dataset: size: {len(dataset)}, class labels: {dataset.class_to_idx}')\n",
    "\n",
    "label_to_class_dir = {}\n",
    "for class_name in dataset.class_to_idx:\n",
    "    label = dataset.class_to_idx[class_name]\n",
    "    class_dir = copy_dir + class_name + '/'\n",
    "    label_to_class_dir[label] = class_dir\n",
    "    if not os.path.isdir(class_dir):\n",
    "        os.mkdir(class_dir)\n",
    "\n",
    "for i in range(len(dataset.imgs)):\n",
    "    url, label = dataset.imgs[i]\n",
    "    img_name = url.split('\\\\')[1]\n",
    "    img_file_path = label_to_class_dir[label] + img_name\n",
    "    \n",
    "    if not os.path.isfile(img_file_path):\n",
    "        item = dataset.__getitem__(i)\n",
    "        rescaled_img = item[0]\n",
    "        rescaled_img.save(img_file_path, check_contrast=False)"
   ]
  },
  {
   "cell_type": "markdown",
   "metadata": {},
   "source": [
    "### 1.5. Creating dataset and data loaders for train and test"
   ]
  },
  {
   "cell_type": "markdown",
   "metadata": {},
   "source": [
    "From whole dataset, split and find train/test dataset data points"
   ]
  },
  {
   "cell_type": "code",
   "execution_count": 2,
   "metadata": {},
   "outputs": [],
   "source": [
    "train_images_per_class = 600\n",
    "test_images_per_class = 100\n",
    "\n",
    "def get_train_test_indices(dataset_targets):\n",
    "    test_indices_map = {}\n",
    "    for class_name in dataset.class_to_idx:\n",
    "        label = dataset.class_to_idx[class_name]\n",
    "        test_indices_map[label] = {'indices': np.array([], dtype=np.int32), 'count': 0}\n",
    "\n",
    "    train_indices_map = {}\n",
    "    for class_name in dataset.class_to_idx:\n",
    "        label = dataset.class_to_idx[class_name]\n",
    "        train_indices_map[label] = {'indices': np.array([], dtype=np.int32), 'count': 0}\n",
    "\n",
    "    targets = np.array(dataset.targets, dtype=np.int32)\n",
    "    target_indices = np.where(targets!=None)[0]\n",
    "    np.random.shuffle(target_indices)\n",
    "\n",
    "    for i in target_indices:\n",
    "        label = dataset.targets[i]\n",
    "        if test_indices_map[label]['count']<test_images_per_class:\n",
    "            test_indices_map[label]['indices'] = np.append(test_indices_map[label]['indices'], i)\n",
    "            test_indices_map[label]['count']+=1\n",
    "        elif train_indices_map[label]['count']<train_images_per_class:\n",
    "            train_indices_map[label]['indices'] = np.append(train_indices_map[label]['indices'], i)\n",
    "            train_indices_map[label]['count']+=1\n",
    "\n",
    "    test_indices = np.array([], dtype=np.int32)\n",
    "    train_indices = np.array([], dtype=np.int32)\n",
    "\n",
    "    for class_name in dataset.class_to_idx:\n",
    "        label = dataset.class_to_idx[class_name]\n",
    "        label_test_indices = test_indices_map[label]['indices']\n",
    "        test_indices = np.append(test_indices, label_test_indices)\n",
    "\n",
    "        label_train_indices = train_indices_map[label]['indices']\n",
    "        train_indices = np.append(train_indices, label_train_indices)\n",
    "    return train_indices, test_indices"
   ]
  },
  {
   "cell_type": "code",
   "execution_count": 3,
   "metadata": {},
   "outputs": [],
   "source": [
    "#For Bias Testing"
   ]
  },
  {
   "cell_type": "code",
   "execution_count": 2,
   "metadata": {},
   "outputs": [],
   "source": [
    "test_images_per_class = 260\n",
    "test_images_per_class = 50\n",
    "\n",
    "def get_train_test_indices(dataset_targets):\n",
    "    test_indices_map = {}\n",
    "    for class_name in dataset.class_to_idx:\n",
    "        label = dataset.class_to_idx[class_name]\n",
    "        test_indices_map[label] = {'indices': np.array([], dtype=np.int32), 'count': 0}\n",
    "\n",
    "    train_indices_map = {}\n",
    "    for class_name in dataset.class_to_idx:\n",
    "        label = dataset.class_to_idx[class_name]\n",
    "        train_indices_map[label] = {'indices': np.array([], dtype=np.int32), 'count': 0}\n",
    "\n",
    "    targets = np.array(dataset.targets, dtype=np.int32)\n",
    "    target_indices = np.where(targets!=None)[0]\n",
    "    np.random.shuffle(target_indices)\n",
    "\n",
    "    for i in target_indices:\n",
    "        label = dataset.targets[i]\n",
    "        if test_indices_map[label]['count']<test_images_per_class:\n",
    "            test_indices_map[label]['indices'] = np.append(test_indices_map[label]['indices'], i)\n",
    "            test_indices_map[label]['count']+=1\n",
    "        elif train_indices_map[label]['count']<train_images_per_class:\n",
    "            train_indices_map[label]['indices'] = np.append(train_indices_map[label]['indices'], i)\n",
    "            train_indices_map[label]['count']+=1\n",
    "\n",
    "    test_indices = np.array([], dtype=np.int32)\n",
    "    train_indices = np.array([], dtype=np.int32)\n",
    "\n",
    "    for class_name in dataset.class_to_idx:\n",
    "        label = dataset.class_to_idx[class_name]\n",
    "        label_test_indices = test_indices_map[label]['indices']\n",
    "        test_indices = np.append(test_indices, label_test_indices)\n",
    "\n",
    "        label_train_indices = train_indices_map[label]['indices']\n",
    "        train_indices = np.append(train_indices, label_train_indices)\n",
    "    return train_indices, test_indices"
   ]
  },
  {
   "cell_type": "markdown",
   "metadata": {},
   "source": [
    "Calculating mean and std for Normalization"
   ]
  },
  {
   "cell_type": "code",
   "execution_count": 21,
   "metadata": {},
   "outputs": [
    {
     "name": "stdout",
     "output_type": "stream",
     "text": [
      "Dataset: size: 1560, class labels: {'mask': 0, 'no_mask': 1, 'not_person': 2}\n",
      "Mean: tensor([0.4298, 0.3975, 0.3782])\n",
      "Std: tensor([0.2825, 0.2726, 0.2829])\n"
     ]
    }
   ],
   "source": [
    "from torchvision.transforms import ToTensor, Compose, Normalize\n",
    "import torch\n",
    "from torch.utils.data import DataLoader, Subset\n",
    "from torchvision.datasets import ImageFolder\n",
    "import gc\n",
    "\n",
    "torch.manual_seed(6721)\n",
    "np.random.seed(6721)\n",
    "\n",
    "rescaled_size=512\n",
    "train_data_dir = './data/2/train/'\n",
    "\n",
    "data_transform = Compose([\n",
    "    Rescale(rescaled_size)\n",
    "    , ToTensor()\n",
    "])\n",
    "\n",
    "train_dataset = ImageFolder(\n",
    "    root=train_data_dir\n",
    "    ,transform=data_transform\n",
    ")\n",
    "print(f'Dataset: size: {len(train_dataset)}, class labels: {train_dataset.class_to_idx}')\n",
    "train_dataloader = DataLoader(train_dataset, batch_size=8, shuffle=False)\n",
    "\n",
    "means = torch.tensor([])\n",
    "stds = torch.tensor([])\n",
    "for i, (data, labels) in enumerate(train_dataloader):\n",
    "    gc.collect()\n",
    "    batch_mean = torch.mean(data, axis=(0, 2, 3))\n",
    "    batch_std = torch.std(data, axis=(0, 2, 3))\n",
    "    means = torch.cat((means, batch_mean.unsqueeze(0)))\n",
    "    stds = torch.cat((stds, batch_std.unsqueeze(0)))\n",
    "mean = torch.mean(means, axis=0)\n",
    "std = torch.mean(stds, axis=0)\n",
    "print(f'Mean: {mean}')\n",
    "print(f'Std: {std}')"
   ]
  },
  {
   "cell_type": "markdown",
   "metadata": {},
   "source": [
    "Creating train and test dataset and data loaders"
   ]
  },
  {
   "cell_type": "code",
   "execution_count": 22,
   "metadata": {},
   "outputs": [
    {
     "name": "stdout",
     "output_type": "stream",
     "text": [
      "Train dataset: size: 1560\n",
      "Train X | y batch shapes : (torch.Size([8, 3, 512, 512]), torch.Size([8]))\n"
     ]
    }
   ],
   "source": [
    "torch.manual_seed(6721)\n",
    "np.random.seed(6721)\n",
    "\n",
    "from torchvision.transforms import ToTensor, Compose, Normalize\n",
    "import torch\n",
    "from torch.utils.data import DataLoader, Subset\n",
    "from torchvision.datasets import ImageFolder\n",
    "\n",
    "data_transform = Compose([\n",
    "    Rescale(rescaled_size)\n",
    "    , ToTensor()\n",
    "    , Normalize(mean=mean, std=std)\n",
    "])\n",
    "\n",
    "train_dataset = ImageFolder(\n",
    "    root=train_data_dir\n",
    "    ,transform=data_transform\n",
    ")\n",
    "print(f'Train dataset: size: {len(train_dataset)}')\n",
    "\n",
    "train_dataloader = DataLoader(train_dataset, batch_size=8, shuffle=True)\n",
    "for data, labels in train_dataloader:\n",
    "    print(f'Train X | y batch shapes : {data.shape, labels.shape}')\n",
    "    break"
   ]
  },
  {
   "cell_type": "code",
   "execution_count": 24,
   "metadata": {},
   "outputs": [
    {
     "name": "stdout",
     "output_type": "stream",
     "text": [
      "Test dataset: size: 300\n",
      "Test X | y batch shapes : (torch.Size([8, 3, 512, 512]), torch.Size([8]))\n"
     ]
    }
   ],
   "source": [
    "data_dir_test = './data/2/test_combined/'\n",
    "\n",
    "test_dataset = ImageFolder(\n",
    "    root=data_dir_test\n",
    "    ,transform=data_transform\n",
    ")\n",
    "print(f'Test dataset: size: {len(test_dataset)}')\n",
    "\n",
    "test_dataloader = DataLoader(test_dataset, batch_size=8, shuffle=True)\n",
    "for data, labels in test_dataloader:\n",
    "    print(f'Test X | y batch shapes : {data.shape, labels.shape}')\n",
    "    break"
   ]
  },
  {
   "cell_type": "markdown",
   "metadata": {},
   "source": [
    "# 2. Data Modelling"
   ]
  },
  {
   "cell_type": "markdown",
   "metadata": {},
   "source": [
    "### 2.1. Model Definition"
   ]
  },
  {
   "cell_type": "code",
   "execution_count": 25,
   "metadata": {},
   "outputs": [],
   "source": [
    "from torch.nn import Sequential, Module, Conv2d, MaxPool2d, Linear, ReLU, Dropout, BatchNorm2d, LeakyReLU, AdaptiveAvgPool2d, Flatten\n",
    "\n",
    "class ProjectModel(Module):\n",
    "    def __init__(self, num_classes=3):\n",
    "        super(ProjectModel, self).__init__()\n",
    "        self.module = Sequential(\n",
    "            Conv2d(3, 32, kernel_size=3, stride=1, padding=2)\n",
    "            , BatchNorm2d(32)\n",
    "            , LeakyReLU(inplace=True)\n",
    "            \n",
    "            , Conv2d(32, 32, kernel_size=3, stride=1, padding=0)\n",
    "            , BatchNorm2d(32)\n",
    "            , LeakyReLU(inplace=True)\n",
    "            \n",
    "            , MaxPool2d(kernel_size=2, stride=2)\n",
    "            \n",
    "            , Conv2d(32, 64, kernel_size=3, stride=1, padding=0)\n",
    "            , BatchNorm2d(64)\n",
    "            , LeakyReLU(inplace=True)\n",
    "            \n",
    "            , Conv2d(64, 64, kernel_size=3, stride=1, padding=0)\n",
    "            , BatchNorm2d(64)\n",
    "            , LeakyReLU(inplace=True)\n",
    "            \n",
    "            , MaxPool2d(kernel_size=2, stride=2)\n",
    "            \n",
    "            , AdaptiveAvgPool2d(output_size=(12, 12))\n",
    "            \n",
    "            , Flatten()\n",
    "            , Dropout(p=0.2, inplace=False)\n",
    "            , Linear(in_features=64*12*12, out_features=4096, bias=True)\n",
    "            , Dropout(p=0.2, inplace=False)\n",
    "            , Linear(in_features=4096, out_features=512, bias=True)\n",
    "            , Dropout(p=0.2, inplace=False)\n",
    "            , Linear(in_features=512, out_features=num_classes, bias=True)\n",
    "        )\n",
    "        \n",
    "    def forward(self, X):\n",
    "        return self.module(X)"
   ]
  },
  {
   "cell_type": "markdown",
   "metadata": {},
   "source": [
    "### 2.2. Integrity Test"
   ]
  },
  {
   "cell_type": "code",
   "execution_count": 26,
   "metadata": {},
   "outputs": [
    {
     "name": "stdout",
     "output_type": "stream",
     "text": [
      "tensor([[-0.0616,  0.1143,  0.0773],\n",
      "        [ 0.0836,  0.3023,  0.0085],\n",
      "        [-0.2261, -0.1108, -0.1475],\n",
      "        [-0.2124,  0.0901,  0.0820],\n",
      "        [-0.1941, -0.3585, -0.0777],\n",
      "        [-0.0666,  0.2809, -0.1820],\n",
      "        [-0.0859,  0.0528,  0.1173],\n",
      "        [-0.1550, -0.1460, -0.0233]], grad_fn=<AddmmBackward>)\n",
      "tensor([1, 1, 1, 1, 2, 1, 2, 2])\n",
      "Accuracy: 25.0\n",
      "Model test passed.\n"
     ]
    }
   ],
   "source": [
    "torch.manual_seed(6721)\n",
    "np.random.seed(6721)\n",
    "\n",
    "net = ProjectModel()\n",
    "\n",
    "device = torch.device('cuda' if torch.cuda.is_available() else 'cpu')\n",
    "net = net.to(device)\n",
    "\n",
    "# Model Unit test\n",
    "total_labels = 0\n",
    "correct_labels = 0\n",
    "for data, labels in train_dataloader:\n",
    "    torch.cuda.empty_cache()\n",
    "    data, labels = data.to(device), labels.to(device)\n",
    "    outputs = net(data)\n",
    "    print(outputs)\n",
    "    y_pred = torch.argmax(outputs, dim=1)\n",
    "    print(y_pred)\n",
    "    total_labels+=labels.size(0)\n",
    "    correct_labels += (y_pred==labels).sum().item()\n",
    "    break\n",
    "\n",
    "print(f'Accuracy: {(correct_labels/total_labels)*100}')\n",
    "print('Model test passed.')"
   ]
  },
  {
   "cell_type": "markdown",
   "metadata": {},
   "source": [
    "### 2.3. Model Parameter Initializations"
   ]
  },
  {
   "cell_type": "code",
   "execution_count": 27,
   "metadata": {},
   "outputs": [
    {
     "data": {
      "text/plain": [
       "ProjectModel(\n",
       "  (module): Sequential(\n",
       "    (0): Conv2d(3, 32, kernel_size=(3, 3), stride=(1, 1), padding=(2, 2))\n",
       "    (1): BatchNorm2d(32, eps=1e-05, momentum=0.1, affine=True, track_running_stats=True)\n",
       "    (2): LeakyReLU(negative_slope=0.01, inplace=True)\n",
       "    (3): Conv2d(32, 32, kernel_size=(3, 3), stride=(1, 1))\n",
       "    (4): BatchNorm2d(32, eps=1e-05, momentum=0.1, affine=True, track_running_stats=True)\n",
       "    (5): LeakyReLU(negative_slope=0.01, inplace=True)\n",
       "    (6): MaxPool2d(kernel_size=2, stride=2, padding=0, dilation=1, ceil_mode=False)\n",
       "    (7): Conv2d(32, 64, kernel_size=(3, 3), stride=(1, 1))\n",
       "    (8): BatchNorm2d(64, eps=1e-05, momentum=0.1, affine=True, track_running_stats=True)\n",
       "    (9): LeakyReLU(negative_slope=0.01, inplace=True)\n",
       "    (10): Conv2d(64, 64, kernel_size=(3, 3), stride=(1, 1))\n",
       "    (11): BatchNorm2d(64, eps=1e-05, momentum=0.1, affine=True, track_running_stats=True)\n",
       "    (12): LeakyReLU(negative_slope=0.01, inplace=True)\n",
       "    (13): MaxPool2d(kernel_size=2, stride=2, padding=0, dilation=1, ceil_mode=False)\n",
       "    (14): AdaptiveAvgPool2d(output_size=(12, 12))\n",
       "    (15): Flatten(start_dim=1, end_dim=-1)\n",
       "    (16): Dropout(p=0.2, inplace=False)\n",
       "    (17): Linear(in_features=9216, out_features=4096, bias=True)\n",
       "    (18): Dropout(p=0.2, inplace=False)\n",
       "    (19): Linear(in_features=4096, out_features=512, bias=True)\n",
       "    (20): Dropout(p=0.2, inplace=False)\n",
       "    (21): Linear(in_features=512, out_features=3, bias=True)\n",
       "  )\n",
       ")"
      ]
     },
     "execution_count": 27,
     "metadata": {},
     "output_type": "execute_result"
    }
   ],
   "source": [
    "torch.manual_seed(6721)\n",
    "np.random.seed(6721)\n",
    "\n",
    "def initialize_linear_layer_weights(layer):\n",
    "    torch.nn.init.xavier_uniform_(layer.weight)\n",
    "    torch.nn.init.zeros_(layer.bias)\n",
    "        \n",
    "def initialize_conv2d_layer_weights(layer):\n",
    "    torch.nn.init.xavier_uniform_(layer.weight)\n",
    "    \n",
    "def initialize_model_weights(module):\n",
    "    if isinstance(module, ProjectModel):\n",
    "        return\n",
    "    elif isinstance(module, Sequential):\n",
    "        return\n",
    "    if isinstance(module, Conv2d):\n",
    "        initialize_conv2d_layer_weights(module)\n",
    "    if isinstance(module, Linear):\n",
    "        initialize_linear_layer_weights(module)\n",
    "\n",
    "\n",
    "net = ProjectModel()\n",
    "net.apply(initialize_model_weights)"
   ]
  },
  {
   "cell_type": "markdown",
   "metadata": {},
   "source": [
    "### 2.4. Training"
   ]
  },
  {
   "cell_type": "markdown",
   "metadata": {},
   "source": [
    "Training Parameter Configurations"
   ]
  },
  {
   "cell_type": "code",
   "execution_count": 28,
   "metadata": {},
   "outputs": [],
   "source": [
    "torch.manual_seed(6721)\n",
    "np.random.seed(6721)\n",
    "\n",
    "from torch.optim import SGD, Adam\n",
    "from torch.nn import CrossEntropyLoss\n",
    "import time\n",
    "\n",
    "num_epoch = 10\n",
    "lr = 1e-3\n",
    "momentum = 0.5\n",
    "\n",
    "loss_evaluater = CrossEntropyLoss()\n",
    "optimizer = Adam(net.parameters(), lr=lr)\n",
    "\n",
    "device = torch.device('cuda' if torch.cuda.is_available() else 'cpu')\n",
    "device = torch.device('cpu')\n",
    "net = net.to(device)"
   ]
  },
  {
   "cell_type": "markdown",
   "metadata": {},
   "source": [
    "Training"
   ]
  },
  {
   "cell_type": "code",
   "execution_count": 29,
   "metadata": {
    "scrolled": false
   },
   "outputs": [
    {
     "name": "stdout",
     "output_type": "stream",
     "text": [
      "Epoch: 1\n",
      "After 0 batches: [time:2.0m 59.58349394798279s, Accuracy: 37.5]\n",
      "After 5 batches: [time:4.0m 42.62408638000488s, Accuracy: 50.0]\n",
      "After 10 batches: [time:5.0m 14.414398670196533s, Accuracy: 44.31818181818182]\n",
      "After 15 batches: [time:5.0m 46.93415880203247s, Accuracy: 42.96875]\n",
      "After 20 batches: [time:6.0m 17.672120571136475s, Accuracy: 46.42857142857143]\n",
      "After 25 batches: [time:6.0m 48.797943353652954s, Accuracy: 50.480769230769226]\n",
      "After 30 batches: [time:7.0m 23.14226222038269s, Accuracy: 50.0]\n",
      "After 35 batches: [time:7.0m 56.27888560295105s, Accuracy: 49.65277777777778]\n",
      "After 40 batches: [time:8.0m 30.098169326782227s, Accuracy: 48.78048780487805]\n",
      "After 45 batches: [time:9.0m 3.5703039169311523s, Accuracy: 48.09782608695652]\n",
      "After 50 batches: [time:9.0m 36.68409729003906s, Accuracy: 46.568627450980394]\n",
      "After 55 batches: [time:10.0m 5.638491868972778s, Accuracy: 47.098214285714285]\n",
      "After 60 batches: [time:10.0m 36.30461525917053s, Accuracy: 46.51639344262295]\n",
      "After 65 batches: [time:11.0m 6.251622200012207s, Accuracy: 46.21212121212121]\n",
      "After 70 batches: [time:11.0m 37.87343645095825s, Accuracy: 47.183098591549296]\n",
      "After 75 batches: [time:12.0m 10.39857792854309s, Accuracy: 47.53289473684211]\n",
      "After 80 batches: [time:12.0m 42.492029666900635s, Accuracy: 47.376543209876544]\n",
      "After 85 batches: [time:13.0m 14.42134404182434s, Accuracy: 47.383720930232556]\n",
      "After 90 batches: [time:13.0m 43.89968490600586s, Accuracy: 47.8021978021978]\n",
      "After 95 batches: [time:14.0m 14.338220119476318s, Accuracy: 47.13541666666667]\n",
      "After 100 batches: [time:14.0m 46.2185742855072s, Accuracy: 47.524752475247524]\n",
      "After 105 batches: [time:15.0m 16.693844318389893s, Accuracy: 47.759433962264154]\n",
      "After 110 batches: [time:15.0m 45.78533720970154s, Accuracy: 47.74774774774775]\n",
      "After 115 batches: [time:16.0m 17.758517026901245s, Accuracy: 48.168103448275865]\n",
      "After 120 batches: [time:16.0m 49.68687200546265s, Accuracy: 48.760330578512395]\n",
      "After 125 batches: [time:17.0m 21.81740641593933s, Accuracy: 49.404761904761905]\n",
      "After 130 batches: [time:17.0m 54.94577622413635s, Accuracy: 48.95038167938932]\n",
      "After 135 batches: [time:18.0m 25.317365884780884s, Accuracy: 49.26470588235294]\n",
      "After 140 batches: [time:18.0m 55.37724757194519s, Accuracy: 48.847517730496456]\n",
      "After 145 batches: [time:19.0m 25.72346329689026s, Accuracy: 48.715753424657535]\n",
      "After 150 batches: [time:19.0m 57.9935405254364s, Accuracy: 49.25496688741722]\n",
      "After 155 batches: [time:20.0m 29.406175136566162s, Accuracy: 49.519230769230774]\n",
      "After 160 batches: [time:20.0m 59.543144941329956s, Accuracy: 49.61180124223603]\n",
      "After 165 batches: [time:21.0m 30.148895978927612s, Accuracy: 49.32228915662651]\n",
      "After 170 batches: [time:22.0m 2.677363157272339s, Accuracy: 49.63450292397661]\n",
      "After 175 batches: [time:22.0m 33.58688569068909s, Accuracy: 50.21306818181818]\n",
      "After 180 batches: [time:23.0m 3.3570938110351562s, Accuracy: 50.89779005524861]\n",
      "After 185 batches: [time:23.0m 33.79794764518738s, Accuracy: 51.20967741935484]\n",
      "After 190 batches: [time:24.0m 5.159198760986328s, Accuracy: 51.57068062827225]\n",
      "Epoch 1: [time:24.0m 30.81576108932495s, Accuracy: 52.05128205128206]\n",
      "\n",
      "Epoch: 2\n",
      "After 0 batches: [time:0.0m 6.895991325378418s, Accuracy: 50.0]\n",
      "After 5 batches: [time:0.0m 45.325214862823486s, Accuracy: 64.58333333333334]\n",
      "After 10 batches: [time:1.0m 58.43868541717529s, Accuracy: 64.77272727272727]\n",
      "After 15 batches: [time:2.0m 36.234543323516846s, Accuracy: 59.375]\n",
      "After 20 batches: [time:3.0m 9.004501104354858s, Accuracy: 58.333333333333336]\n",
      "After 25 batches: [time:3.0m 43.19868540763855s, Accuracy: 59.13461538461539]\n",
      "After 30 batches: [time:4.0m 15.959420680999756s, Accuracy: 60.483870967741936]\n",
      "After 35 batches: [time:4.0m 48.88374853134155s, Accuracy: 58.68055555555556]\n",
      "After 40 batches: [time:5.0m 24.591800212860107s, Accuracy: 59.756097560975604]\n",
      "After 45 batches: [time:5.0m 58.4517822265625s, Accuracy: 60.05434782608695]\n",
      "After 50 batches: [time:6.0m 34.65018963813782s, Accuracy: 61.029411764705884]\n",
      "After 55 batches: [time:7.0m 8.658818483352661s, Accuracy: 61.16071428571429]\n",
      "After 60 batches: [time:7.0m 41.73976373672485s, Accuracy: 60.86065573770492]\n",
      "After 65 batches: [time:8.0m 17.466103553771973s, Accuracy: 60.984848484848484]\n",
      "After 70 batches: [time:8.0m 51.81996488571167s, Accuracy: 61.61971830985915]\n",
      "After 75 batches: [time:9.0m 28.074504613876343s, Accuracy: 61.18421052631579]\n",
      "After 80 batches: [time:10.0m 3.7028913497924805s, Accuracy: 59.72222222222222]\n",
      "After 85 batches: [time:10.0m 38.55764150619507s, Accuracy: 59.44767441860465]\n",
      "After 90 batches: [time:11.0m 13.622379779815674s, Accuracy: 59.47802197802198]\n",
      "After 95 batches: [time:11.0m 47.287895917892456s, Accuracy: 59.895833333333336]\n",
      "After 100 batches: [time:12.0m 21.363056898117065s, Accuracy: 59.4059405940594]\n",
      "After 105 batches: [time:12.0m 57.20889401435852s, Accuracy: 59.31603773584906]\n",
      "After 110 batches: [time:13.0m 32.206000328063965s, Accuracy: 59.68468468468468]\n",
      "After 115 batches: [time:14.0m 11.718692541122437s, Accuracy: 59.375]\n",
      "After 120 batches: [time:14.0m 46.45891308784485s, Accuracy: 59.917355371900825]\n",
      "After 125 batches: [time:15.0m 21.26563024520874s, Accuracy: 60.019841269841265]\n",
      "After 130 batches: [time:15.0m 55.87399673461914s, Accuracy: 60.20992366412214]\n",
      "After 135 batches: [time:16.0m 28.20875573158264s, Accuracy: 61.12132352941176]\n",
      "After 140 batches: [time:17.0m 1.3163790702819824s, Accuracy: 61.702127659574465]\n",
      "After 145 batches: [time:17.0m 33.55029797554016s, Accuracy: 61.215753424657535]\n",
      "After 150 batches: [time:18.0m 7.879183530807495s, Accuracy: 61.258278145695364]\n",
      "After 155 batches: [time:18.0m 40.23524761199951s, Accuracy: 61.29807692307693]\n",
      "After 160 batches: [time:19.0m 14.196535348892212s, Accuracy: 61.33540372670807]\n",
      "After 165 batches: [time:19.0m 51.05469989776611s, Accuracy: 61.44578313253012]\n",
      "After 170 batches: [time:20.0m 24.324041843414307s, Accuracy: 61.33040935672515]\n",
      "After 175 batches: [time:20.0m 59.824686765670776s, Accuracy: 61.29261363636363]\n",
      "After 180 batches: [time:21.0m 34.32463574409485s, Accuracy: 61.11878453038674]\n",
      "After 185 batches: [time:22.0m 5.412989616394043s, Accuracy: 60.752688172043015]\n",
      "After 190 batches: [time:22.0m 35.00522756576538s, Accuracy: 60.6020942408377]\n",
      "Epoch 2: [time:22.0m 58.84521555900574s, Accuracy: 60.57692307692307]\n",
      "\n",
      "Epoch: 3\n",
      "After 0 batches: [time:0.0m 5.9968507289886475s, Accuracy: 75.0]\n",
      "After 5 batches: [time:0.0m 35.76905083656311s, Accuracy: 68.75]\n",
      "After 10 batches: [time:1.0m 6.518868923187256s, Accuracy: 61.36363636363637]\n",
      "After 15 batches: [time:1.0m 36.40337324142456s, Accuracy: 67.96875]\n",
      "After 20 batches: [time:2.0m 6.146754264831543s, Accuracy: 67.85714285714286]\n",
      "After 25 batches: [time:2.0m 36.30287742614746s, Accuracy: 67.78846153846155]\n",
      "After 30 batches: [time:3.0m 7.790998697280884s, Accuracy: 66.12903225806451]\n",
      "After 35 batches: [time:3.0m 41.606327533721924s, Accuracy: 67.70833333333334]\n",
      "After 40 batches: [time:4.0m 14.424704551696777s, Accuracy: 67.6829268292683]\n",
      "After 45 batches: [time:4.0m 45.03125810623169s, Accuracy: 67.11956521739131]\n",
      "After 50 batches: [time:5.0m 14.584470748901367s, Accuracy: 67.15686274509804]\n",
      "After 55 batches: [time:5.0m 43.93982172012329s, Accuracy: 65.84821428571429]\n",
      "After 60 batches: [time:6.0m 11.461809873580933s, Accuracy: 64.54918032786885]\n",
      "After 65 batches: [time:6.0m 39.038498401641846s, Accuracy: 64.39393939393939]\n",
      "After 70 batches: [time:7.0m 8.141676187515259s, Accuracy: 64.43661971830986]\n",
      "After 75 batches: [time:7.0m 35.94497871398926s, Accuracy: 64.30921052631578]\n",
      "After 80 batches: [time:8.0m 3.7963998317718506s, Accuracy: 64.50617283950618]\n",
      "After 85 batches: [time:8.0m 33.00891876220703s, Accuracy: 64.09883720930233]\n",
      "After 90 batches: [time:9.0m 1.2458057403564453s, Accuracy: 65.10989010989012]\n",
      "After 95 batches: [time:9.0m 30.040767669677734s, Accuracy: 65.36458333333334]\n",
      "After 100 batches: [time:9.0m 58.84089684486389s, Accuracy: 65.71782178217822]\n",
      "After 105 batches: [time:10.0m 28.50329327583313s, Accuracy: 65.56603773584906]\n",
      "After 110 batches: [time:10.0m 57.111079692840576s, Accuracy: 65.31531531531532]\n",
      "After 115 batches: [time:11.0m 25.192603588104248s, Accuracy: 65.625]\n",
      "After 120 batches: [time:11.0m 54.5697238445282s, Accuracy: 65.70247933884298]\n"
     ]
    },
    {
     "name": "stdout",
     "output_type": "stream",
     "text": [
      "After 125 batches: [time:12.0m 23.396141052246094s, Accuracy: 65.57539682539682]\n",
      "After 130 batches: [time:12.0m 52.52419424057007s, Accuracy: 65.45801526717557]\n",
      "After 135 batches: [time:13.0m 21.91526436805725s, Accuracy: 64.88970588235294]\n",
      "After 140 batches: [time:13.0m 49.99482822418213s, Accuracy: 65.1595744680851]\n",
      "After 145 batches: [time:14.0m 19.09364938735962s, Accuracy: 64.8972602739726]\n",
      "After 150 batches: [time:14.0m 46.874212980270386s, Accuracy: 64.90066225165563]\n",
      "After 155 batches: [time:15.0m 14.614579439163208s, Accuracy: 65.38461538461539]\n",
      "After 160 batches: [time:15.0m 42.50739336013794s, Accuracy: 65.6055900621118]\n",
      "After 165 batches: [time:16.0m 12.100231647491455s, Accuracy: 65.4367469879518]\n",
      "After 170 batches: [time:16.0m 42.6214120388031s, Accuracy: 65.49707602339181]\n",
      "After 175 batches: [time:17.0m 14.155717372894287s, Accuracy: 65.76704545454545]\n",
      "After 180 batches: [time:17.0m 45.21960759162903s, Accuracy: 65.88397790055248]\n",
      "After 185 batches: [time:18.0m 15.564580917358398s, Accuracy: 65.7258064516129]\n",
      "After 190 batches: [time:18.0m 46.83865404129028s, Accuracy: 65.90314136125654]\n",
      "Epoch 3: [time:19.0m 12.78810167312622s, Accuracy: 65.7051282051282]\n",
      "\n",
      "Epoch: 4\n",
      "After 0 batches: [time:0.0m 6.866096019744873s, Accuracy: 87.5]\n",
      "After 5 batches: [time:0.0m 36.89175057411194s, Accuracy: 72.91666666666666]\n",
      "After 10 batches: [time:1.0m 7.058382749557495s, Accuracy: 72.72727272727273]\n",
      "After 15 batches: [time:1.0m 37.946453332901s, Accuracy: 70.3125]\n",
      "After 20 batches: [time:2.0m 6.56049108505249s, Accuracy: 66.66666666666666]\n",
      "After 25 batches: [time:2.0m 37.7598192691803s, Accuracy: 67.78846153846155]\n",
      "After 30 batches: [time:3.0m 9.931581497192383s, Accuracy: 68.14516129032258]\n",
      "After 35 batches: [time:4.0m 5.785365104675293s, Accuracy: 68.05555555555556]\n",
      "After 40 batches: [time:5.0m 9.379180431365967s, Accuracy: 66.46341463414635]\n",
      "After 45 batches: [time:5.0m 47.93644857406616s, Accuracy: 66.30434782608695]\n",
      "After 50 batches: [time:6.0m 24.83336353302002s, Accuracy: 66.91176470588235]\n",
      "After 55 batches: [time:6.0m 55.29536247253418s, Accuracy: 67.41071428571429]\n",
      "After 60 batches: [time:7.0m 25.498226404190063s, Accuracy: 68.23770491803278]\n",
      "After 65 batches: [time:7.0m 56.11466360092163s, Accuracy: 68.56060606060606]\n",
      "After 70 batches: [time:8.0m 26.271151065826416s, Accuracy: 67.95774647887323]\n",
      "After 75 batches: [time:8.0m 56.5567684173584s, Accuracy: 67.92763157894737]\n",
      "After 80 batches: [time:9.0m 27.224589824676514s, Accuracy: 67.5925925925926]\n",
      "After 85 batches: [time:18.0m 1.8100507259368896s, Accuracy: 66.13372093023256]\n",
      "After 90 batches: [time:18.0m 46.222044706344604s, Accuracy: 64.97252747252747]\n",
      "After 95 batches: [time:19.0m 16.87694549560547s, Accuracy: 65.625]\n",
      "After 100 batches: [time:19.0m 45.77838206291199s, Accuracy: 65.47029702970298]\n",
      "After 105 batches: [time:20.0m 14.609653949737549s, Accuracy: 65.44811320754717]\n",
      "After 110 batches: [time:20.0m 42.176987171173096s, Accuracy: 65.76576576576578]\n",
      "After 115 batches: [time:21.0m 10.187749862670898s, Accuracy: 65.625]\n",
      "After 120 batches: [time:21.0m 39.998432636260986s, Accuracy: 65.599173553719]\n",
      "After 125 batches: [time:22.0m 8.059420347213745s, Accuracy: 66.36904761904762]\n",
      "After 130 batches: [time:22.0m 35.28377819061279s, Accuracy: 66.41221374045801]\n",
      "After 135 batches: [time:23.0m 2.3316659927368164s, Accuracy: 66.91176470588235]\n",
      "After 140 batches: [time:23.0m 30.067609786987305s, Accuracy: 67.19858156028369]\n",
      "After 145 batches: [time:23.0m 57.26188945770264s, Accuracy: 66.86643835616438]\n",
      "After 150 batches: [time:24.0m 27.93747854232788s, Accuracy: 66.63907284768213]\n",
      "After 155 batches: [time:24.0m 58.69577240943909s, Accuracy: 66.90705128205127]\n",
      "After 160 batches: [time:25.0m 27.49299144744873s, Accuracy: 66.92546583850931]\n",
      "After 165 batches: [time:25.0m 56.24421143531799s, Accuracy: 67.01807228915662]\n",
      "After 170 batches: [time:26.0m 23.95142412185669s, Accuracy: 66.73976608187134]\n",
      "After 175 batches: [time:26.0m 53.58692908287048s, Accuracy: 66.76136363636364]\n",
      "After 180 batches: [time:27.0m 26.279128074645996s, Accuracy: 66.78176795580112]\n",
      "After 185 batches: [time:27.0m 58.20522618293762s, Accuracy: 67.20430107526882]\n",
      "After 190 batches: [time:28.0m 29.53490662574768s, Accuracy: 67.27748691099477]\n",
      "Epoch 4: [time:28.0m 54.436676263809204s, Accuracy: 67.11538461538461]\n",
      "\n",
      "Epoch: 5\n",
      "After 0 batches: [time:0.0m 6.284794330596924s, Accuracy: 62.5]\n",
      "After 5 batches: [time:0.0m 36.77056407928467s, Accuracy: 56.25]\n",
      "After 10 batches: [time:1.0m 7.106659173965454s, Accuracy: 59.09090909090909]\n",
      "After 15 batches: [time:1.0m 36.05034518241882s, Accuracy: 63.28125]\n",
      "After 20 batches: [time:2.0m 6.1244797706604s, Accuracy: 62.5]\n",
      "After 25 batches: [time:2.0m 34.571146726608276s, Accuracy: 62.980769230769226]\n",
      "After 30 batches: [time:3.0m 3.2233004570007324s, Accuracy: 65.32258064516128]\n",
      "After 35 batches: [time:3.0m 32.385517597198486s, Accuracy: 63.541666666666664]\n",
      "After 40 batches: [time:4.0m 2.7915797233581543s, Accuracy: 62.5]\n",
      "After 45 batches: [time:4.0m 35.24518823623657s, Accuracy: 63.315217391304344]\n",
      "After 50 batches: [time:5.0m 8.462690353393555s, Accuracy: 62.5]\n",
      "After 55 batches: [time:5.0m 39.591373443603516s, Accuracy: 63.16964285714286]\n",
      "After 60 batches: [time:6.0m 16.668525457382202s, Accuracy: 64.75409836065575]\n",
      "After 65 batches: [time:6.0m 47.88253116607666s, Accuracy: 65.3409090909091]\n",
      "After 70 batches: [time:7.0m 18.321823120117188s, Accuracy: 65.3169014084507]\n",
      "After 75 batches: [time:7.0m 50.54177165031433s, Accuracy: 65.13157894736842]\n",
      "After 80 batches: [time:8.0m 21.68967890739441s, Accuracy: 66.35802469135803]\n",
      "After 85 batches: [time:8.0m 53.59126114845276s, Accuracy: 67.15116279069767]\n",
      "After 90 batches: [time:9.0m 28.282883644104004s, Accuracy: 67.58241758241759]\n",
      "After 95 batches: [time:10.0m 6.74404501914978s, Accuracy: 67.44791666666666]\n",
      "After 100 batches: [time:10.0m 46.202542304992676s, Accuracy: 67.94554455445545]\n",
      "After 105 batches: [time:11.0m 18.26744771003723s, Accuracy: 68.27830188679245]\n",
      "After 110 batches: [time:11.0m 52.10945987701416s, Accuracy: 68.58108108108108]\n",
      "After 115 batches: [time:12.0m 25.140822172164917s, Accuracy: 68.21120689655173]\n",
      "After 120 batches: [time:12.0m 57.332342863082886s, Accuracy: 68.59504132231406]\n",
      "After 125 batches: [time:13.0m 29.277560472488403s, Accuracy: 68.15476190476191]\n",
      "After 130 batches: [time:14.0m 11.321792840957642s, Accuracy: 68.12977099236642]\n",
      "After 135 batches: [time:14.0m 54.15443396568298s, Accuracy: 68.19852941176471]\n",
      "After 140 batches: [time:15.0m 29.446974515914917s, Accuracy: 68.70567375886525]\n",
      "After 145 batches: [time:16.0m 0.26656341552734375s, Accuracy: 68.83561643835617]\n",
      "After 150 batches: [time:16.0m 33.13904356956482s, Accuracy: 69.03973509933775]\n",
      "After 155 batches: [time:17.0m 4.124957084655762s, Accuracy: 69.15064102564102]\n",
      "After 160 batches: [time:17.0m 34.85459613800049s, Accuracy: 69.25465838509317]\n",
      "After 165 batches: [time:18.0m 5.263475179672241s, Accuracy: 69.27710843373494]\n",
      "After 170 batches: [time:18.0m 34.57154560089111s, Accuracy: 69.5906432748538]\n",
      "After 175 batches: [time:19.0m 5.282013893127441s, Accuracy: 69.46022727272727]\n",
      "After 180 batches: [time:19.0m 35.84106087684631s, Accuracy: 69.47513812154696]\n",
      "After 185 batches: [time:20.0m 7.370722055435181s, Accuracy: 69.75806451612904]\n",
      "After 190 batches: [time:20.0m 41.58018970489502s, Accuracy: 69.89528795811518]\n",
      "Epoch 5: [time:21.0m 24.190509796142578s, Accuracy: 69.93589743589743]\n",
      "\n",
      "Epoch: 6\n",
      "After 0 batches: [time:0.0m 6.8158838748931885s, Accuracy: 75.0]\n",
      "After 5 batches: [time:0.0m 39.84625601768494s, Accuracy: 64.58333333333334]\n",
      "After 10 batches: [time:1.0m 24.700116634368896s, Accuracy: 64.77272727272727]\n",
      "After 15 batches: [time:2.0m 0.11931705474853516s, Accuracy: 60.15625]\n",
      "After 20 batches: [time:2.0m 31.801029682159424s, Accuracy: 66.66666666666666]\n",
      "After 25 batches: [time:3.0m 3.0244672298431396s, Accuracy: 66.82692307692307]\n",
      "After 30 batches: [time:3.0m 33.19495391845703s, Accuracy: 68.54838709677419]\n",
      "After 35 batches: [time:4.0m 5.652002334594727s, Accuracy: 69.09722222222221]\n",
      "After 40 batches: [time:4.0m 35.608598947525024s, Accuracy: 68.90243902439023]\n",
      "After 45 batches: [time:5.0m 7.055908203125s, Accuracy: 70.38043478260869]\n",
      "After 50 batches: [time:5.0m 39.998040199279785s, Accuracy: 70.34313725490196]\n"
     ]
    },
    {
     "name": "stdout",
     "output_type": "stream",
     "text": [
      "After 55 batches: [time:6.0m 10.44183087348938s, Accuracy: 70.98214285714286]\n",
      "After 60 batches: [time:6.0m 41.33217215538025s, Accuracy: 71.31147540983606]\n",
      "After 65 batches: [time:7.0m 9.225536823272705s, Accuracy: 71.5909090909091]\n",
      "After 70 batches: [time:7.0m 39.172667026519775s, Accuracy: 71.65492957746478]\n",
      "After 75 batches: [time:8.0m 9.681456804275513s, Accuracy: 71.05263157894737]\n",
      "After 80 batches: [time:8.0m 41.25171089172363s, Accuracy: 71.4506172839506]\n",
      "After 85 batches: [time:9.0m 9.931779623031616s, Accuracy: 71.80232558139535]\n",
      "After 90 batches: [time:9.0m 40.54375386238098s, Accuracy: 72.52747252747253]\n",
      "After 95 batches: [time:10.0m 11.502325534820557s, Accuracy: 72.78645833333334]\n",
      "After 100 batches: [time:10.0m 41.397173166275024s, Accuracy: 73.01980198019803]\n",
      "After 105 batches: [time:11.0m 9.430092334747314s, Accuracy: 72.75943396226415]\n",
      "After 110 batches: [time:11.0m 38.329649209976196s, Accuracy: 72.63513513513513]\n",
      "After 115 batches: [time:12.0m 8.542711973190308s, Accuracy: 73.0603448275862]\n",
      "After 120 batches: [time:12.0m 41.470184087753296s, Accuracy: 72.93388429752066]\n",
      "After 125 batches: [time:13.0m 11.591565370559692s, Accuracy: 72.42063492063492]\n",
      "After 130 batches: [time:13.0m 43.73002576828003s, Accuracy: 72.42366412213741]\n",
      "After 135 batches: [time:14.0m 13.85313105583191s, Accuracy: 72.15073529411765]\n",
      "After 140 batches: [time:14.0m 55.805588483810425s, Accuracy: 71.98581560283688]\n",
      "After 145 batches: [time:16.0m 0.3156888484954834s, Accuracy: 71.91780821917808]\n",
      "After 150 batches: [time:16.0m 46.72907066345215s, Accuracy: 72.01986754966887]\n",
      "After 155 batches: [time:17.0m 29.433337450027466s, Accuracy: 72.03525641025641]\n",
      "After 160 batches: [time:18.0m 10.625404357910156s, Accuracy: 72.28260869565217]\n",
      "After 165 batches: [time:18.0m 54.66504883766174s, Accuracy: 72.28915662650603]\n",
      "After 170 batches: [time:19.0m 38.93584871292114s, Accuracy: 72.44152046783626]\n",
      "After 175 batches: [time:20.0m 22.518160104751587s, Accuracy: 72.58522727272727]\n",
      "After 180 batches: [time:21.0m 5.564496278762817s, Accuracy: 72.37569060773481]\n",
      "After 185 batches: [time:21.0m 51.87629151344299s, Accuracy: 72.24462365591397]\n",
      "After 190 batches: [time:22.0m 32.16456317901611s, Accuracy: 72.4476439790576]\n",
      "Epoch 6: [time:23.0m 7.491718530654907s, Accuracy: 72.37179487179488]\n",
      "\n",
      "Epoch: 7\n",
      "After 0 batches: [time:0.0m 9.192312479019165s, Accuracy: 100.0]\n",
      "After 5 batches: [time:0.0m 51.467092514038086s, Accuracy: 81.25]\n",
      "After 10 batches: [time:1.0m 33.43160915374756s, Accuracy: 80.68181818181817]\n",
      "After 15 batches: [time:2.0m 15.76636028289795s, Accuracy: 78.90625]\n",
      "After 20 batches: [time:2.0m 57.22307848930359s, Accuracy: 79.16666666666666]\n",
      "After 25 batches: [time:3.0m 40.555933713912964s, Accuracy: 80.28846153846155]\n",
      "After 30 batches: [time:4.0m 23.671632766723633s, Accuracy: 80.24193548387096]\n",
      "After 35 batches: [time:5.0m 5.5614094734191895s, Accuracy: 79.51388888888889]\n",
      "After 40 batches: [time:5.0m 46.17299723625183s, Accuracy: 79.57317073170732]\n",
      "After 45 batches: [time:6.0m 27.257720708847046s, Accuracy: 78.80434782608695]\n",
      "After 50 batches: [time:7.0m 10.546790599822998s, Accuracy: 78.67647058823529]\n",
      "After 55 batches: [time:7.0m 53.02004885673523s, Accuracy: 78.34821428571429]\n",
      "After 60 batches: [time:8.0m 33.8249728679657s, Accuracy: 76.63934426229508]\n",
      "After 65 batches: [time:9.0m 16.05999994277954s, Accuracy: 75.9469696969697]\n",
      "After 70 batches: [time:9.0m 57.87928295135498s, Accuracy: 77.11267605633803]\n",
      "After 75 batches: [time:10.0m 40.03770208358765s, Accuracy: 77.13815789473685]\n",
      "After 80 batches: [time:11.0m 20.74321722984314s, Accuracy: 77.1604938271605]\n",
      "After 85 batches: [time:12.0m 4.685899257659912s, Accuracy: 77.18023255813954]\n",
      "After 90 batches: [time:12.0m 44.59839224815369s, Accuracy: 76.92307692307693]\n",
      "After 95 batches: [time:13.0m 26.469680309295654s, Accuracy: 76.82291666666666]\n",
      "After 100 batches: [time:14.0m 6.90488076210022s, Accuracy: 76.85643564356435]\n",
      "After 105 batches: [time:15.0m 2.160921812057495s, Accuracy: 77.35849056603774]\n",
      "After 110 batches: [time:15.0m 37.98656988143921s, Accuracy: 77.7027027027027]\n",
      "After 115 batches: [time:16.0m 10.250657796859741s, Accuracy: 77.15517241379311]\n",
      "After 120 batches: [time:16.0m 46.62915754318237s, Accuracy: 76.75619834710744]\n",
      "After 125 batches: [time:17.0m 19.66959857940674s, Accuracy: 76.98412698412699]\n",
      "After 130 batches: [time:17.0m 52.73166751861572s, Accuracy: 76.81297709923665]\n",
      "After 135 batches: [time:18.0m 24.870476961135864s, Accuracy: 76.5625]\n",
      "After 140 batches: [time:19.0m 2.0490355491638184s, Accuracy: 76.32978723404256]\n",
      "After 145 batches: [time:19.0m 35.699692249298096s, Accuracy: 76.28424657534246]\n",
      "After 150 batches: [time:20.0m 12.491127729415894s, Accuracy: 76.49006622516556]\n",
      "After 155 batches: [time:20.0m 45.206589460372925s, Accuracy: 76.4423076923077]\n",
      "After 160 batches: [time:21.0m 17.72049880027771s, Accuracy: 76.08695652173914]\n",
      "After 165 batches: [time:21.0m 53.59178829193115s, Accuracy: 75.75301204819277]\n",
      "After 170 batches: [time:22.0m 30.507017135620117s, Accuracy: 75.51169590643275]\n",
      "After 175 batches: [time:23.0m 5.404850006103516s, Accuracy: 75.4971590909091]\n",
      "After 180 batches: [time:23.0m 48.282543420791626s, Accuracy: 75.62154696132598]\n",
      "After 185 batches: [time:24.0m 23.95301604270935s, Accuracy: 75.20161290322581]\n",
      "After 190 batches: [time:24.0m 56.40021729469299s, Accuracy: 75.0]\n",
      "Epoch 7: [time:25.0m 23.956263303756714s, Accuracy: 75.12820512820512]\n",
      "\n",
      "Epoch: 8\n",
      "After 0 batches: [time:0.0m 8.329578399658203s, Accuracy: 75.0]\n",
      "After 5 batches: [time:1.0m 0.0941002368927002s, Accuracy: 72.91666666666666]\n",
      "After 10 batches: [time:1.0m 35.04732537269592s, Accuracy: 75.0]\n",
      "After 15 batches: [time:2.0m 8.955380201339722s, Accuracy: 75.0]\n",
      "After 20 batches: [time:2.0m 37.71592426300049s, Accuracy: 73.80952380952381]\n",
      "After 25 batches: [time:3.0m 9.784985065460205s, Accuracy: 71.63461538461539]\n",
      "After 30 batches: [time:3.0m 39.06233763694763s, Accuracy: 72.58064516129032]\n",
      "After 35 batches: [time:4.0m 8.592519044876099s, Accuracy: 74.30555555555556]\n",
      "After 40 batches: [time:4.0m 37.5677604675293s, Accuracy: 74.6951219512195]\n",
      "After 45 batches: [time:5.0m 6.150871992111206s, Accuracy: 75.54347826086956]\n",
      "After 50 batches: [time:5.0m 34.18149781227112s, Accuracy: 75.49019607843137]\n",
      "After 55 batches: [time:6.0m 1.9870076179504395s, Accuracy: 75.0]\n",
      "After 60 batches: [time:6.0m 30.868382453918457s, Accuracy: 75.0]\n",
      "After 65 batches: [time:6.0m 59.47555875778198s, Accuracy: 74.43181818181817]\n",
      "After 70 batches: [time:7.0m 27.600250720977783s, Accuracy: 74.64788732394366]\n",
      "After 75 batches: [time:7.0m 56.59891390800476s, Accuracy: 75.16447368421053]\n",
      "After 80 batches: [time:8.0m 24.60282850265503s, Accuracy: 75.61728395061729]\n",
      "After 85 batches: [time:8.0m 52.261866092681885s, Accuracy: 75.87209302325581]\n",
      "After 90 batches: [time:9.0m 20.879984617233276s, Accuracy: 75.82417582417582]\n",
      "After 95 batches: [time:9.0m 50.617547273635864s, Accuracy: 76.5625]\n",
      "After 100 batches: [time:10.0m 20.677690505981445s, Accuracy: 76.36138613861387]\n",
      "After 105 batches: [time:10.0m 49.82969355583191s, Accuracy: 75.8254716981132]\n",
      "After 110 batches: [time:11.0m 18.847334146499634s, Accuracy: 76.01351351351352]\n",
      "After 115 batches: [time:11.0m 48.0337233543396s, Accuracy: 76.50862068965517]\n",
      "After 120 batches: [time:12.0m 15.630035161972046s, Accuracy: 76.2396694214876]\n",
      "After 125 batches: [time:12.0m 44.63255715370178s, Accuracy: 76.19047619047619]\n",
      "After 130 batches: [time:13.0m 14.002310752868652s, Accuracy: 76.04961832061069]\n",
      "After 135 batches: [time:13.0m 43.31364107131958s, Accuracy: 76.37867647058823]\n",
      "After 140 batches: [time:14.0m 13.145735025405884s, Accuracy: 76.32978723404256]\n",
      "After 145 batches: [time:14.0m 43.266119956970215s, Accuracy: 76.28424657534246]\n",
      "After 150 batches: [time:15.0m 14.338183879852295s, Accuracy: 76.40728476821192]\n",
      "After 155 batches: [time:15.0m 44.2797315120697s, Accuracy: 76.36217948717949]\n",
      "After 160 batches: [time:16.0m 13.974539756774902s, Accuracy: 76.63043478260869]\n",
      "After 165 batches: [time:16.0m 44.92585110664368s, Accuracy: 76.50602409638554]\n",
      "After 170 batches: [time:17.0m 15.817974090576172s, Accuracy: 76.24269005847954]\n",
      "After 175 batches: [time:17.0m 45.94637417793274s, Accuracy: 75.92329545454545]\n"
     ]
    },
    {
     "name": "stdout",
     "output_type": "stream",
     "text": [
      "After 180 batches: [time:18.0m 16.867635011672974s, Accuracy: 75.75966850828729]\n",
      "After 185 batches: [time:18.0m 47.06124424934387s, Accuracy: 75.8736559139785]\n",
      "After 190 batches: [time:19.0m 19.063306093215942s, Accuracy: 75.98167539267016]\n",
      "Epoch 8: [time:19.0m 43.919371604919434s, Accuracy: 76.15384615384615]\n",
      "\n",
      "Epoch: 9\n",
      "After 0 batches: [time:0.0m 6.200443506240845s, Accuracy: 87.5]\n",
      "After 5 batches: [time:0.0m 36.25352168083191s, Accuracy: 79.16666666666666]\n",
      "After 10 batches: [time:1.0m 8.67574691772461s, Accuracy: 79.54545454545455]\n",
      "After 15 batches: [time:1.0m 42.566551208496094s, Accuracy: 78.125]\n",
      "After 20 batches: [time:2.0m 17.60834765434265s, Accuracy: 77.97619047619048]\n",
      "After 25 batches: [time:2.0m 52.383620262145996s, Accuracy: 77.40384615384616]\n",
      "After 30 batches: [time:3.0m 26.336663722991943s, Accuracy: 78.62903225806451]\n",
      "After 35 batches: [time:4.0m 0.008447647094726562s, Accuracy: 78.81944444444444]\n",
      "After 40 batches: [time:4.0m 34.67208242416382s, Accuracy: 78.04878048780488]\n",
      "After 45 batches: [time:5.0m 23.53468894958496s, Accuracy: 77.17391304347827]\n",
      "After 50 batches: [time:5.0m 59.004119873046875s, Accuracy: 77.20588235294117]\n",
      "After 55 batches: [time:6.0m 34.1095986366272s, Accuracy: 76.78571428571429]\n",
      "After 60 batches: [time:7.0m 6.045661926269531s, Accuracy: 77.25409836065575]\n",
      "After 65 batches: [time:7.0m 39.062020778656006s, Accuracy: 76.70454545454545]\n",
      "After 70 batches: [time:8.0m 15.453649759292603s, Accuracy: 76.05633802816901]\n",
      "After 75 batches: [time:8.0m 48.50454115867615s, Accuracy: 76.31578947368422]\n",
      "After 80 batches: [time:9.0m 20.572139024734497s, Accuracy: 76.5432098765432]\n",
      "After 85 batches: [time:9.0m 52.65975642204285s, Accuracy: 76.59883720930233]\n",
      "After 90 batches: [time:10.0m 27.654996871948242s, Accuracy: 76.0989010989011]\n",
      "After 95 batches: [time:11.0m 38.31094717979431s, Accuracy: 75.91145833333334]\n",
      "After 100 batches: [time:12.0m 20.80770969390869s, Accuracy: 75.74257425742574]\n",
      "After 105 batches: [time:12.0m 51.90811467170715s, Accuracy: 75.8254716981132]\n",
      "After 110 batches: [time:13.0m 23.67391586303711s, Accuracy: 76.01351351351352]\n",
      "After 115 batches: [time:13.0m 56.41050839424133s, Accuracy: 75.53879310344827]\n",
      "After 120 batches: [time:14.0m 29.41731548309326s, Accuracy: 76.13636363636364]\n",
      "After 125 batches: [time:15.0m 1.1432430744171143s, Accuracy: 76.09126984126983]\n",
      "After 130 batches: [time:15.0m 33.76428937911987s, Accuracy: 76.04961832061069]\n",
      "After 135 batches: [time:16.0m 6.469680309295654s, Accuracy: 75.82720588235294]\n",
      "After 140 batches: [time:16.0m 38.85315275192261s, Accuracy: 75.62056737588652]\n",
      "After 145 batches: [time:17.0m 10.896133661270142s, Accuracy: 75.85616438356165]\n",
      "After 150 batches: [time:17.0m 43.73763084411621s, Accuracy: 75.82781456953643]\n",
      "After 155 batches: [time:18.0m 15.553280115127563s, Accuracy: 75.96153846153845]\n",
      "After 160 batches: [time:18.0m 48.90172457695007s, Accuracy: 75.93167701863354]\n",
      "After 165 batches: [time:19.0m 23.228150367736816s, Accuracy: 76.20481927710844]\n",
      "After 170 batches: [time:19.0m 57.44074773788452s, Accuracy: 75.87719298245614]\n",
      "After 175 batches: [time:20.0m 33.602445125579834s, Accuracy: 75.92329545454545]\n",
      "After 180 batches: [time:21.0m 25.02255630493164s, Accuracy: 75.82872928176796]\n",
      "After 185 batches: [time:22.0m 1.1800086498260498s, Accuracy: 75.80645161290323]\n",
      "After 190 batches: [time:22.0m 35.6159930229187s, Accuracy: 75.78534031413614]\n",
      "Epoch 9: [time:23.0m 3.1314892768859863s, Accuracy: 76.02564102564102]\n",
      "\n",
      "Epoch: 10\n",
      "After 0 batches: [time:0.0m 6.824336767196655s, Accuracy: 87.5]\n",
      "After 5 batches: [time:0.0m 40.337865114212036s, Accuracy: 81.25]\n",
      "After 10 batches: [time:1.0m 13.48888111114502s, Accuracy: 85.22727272727273]\n",
      "After 15 batches: [time:1.0m 45.82984924316406s, Accuracy: 83.59375]\n",
      "After 20 batches: [time:2.0m 17.412235260009766s, Accuracy: 83.92857142857143]\n",
      "After 25 batches: [time:2.0m 49.91646432876587s, Accuracy: 81.25]\n",
      "After 30 batches: [time:3.0m 22.082658052444458s, Accuracy: 81.45161290322581]\n",
      "After 35 batches: [time:3.0m 53.52141880989075s, Accuracy: 81.94444444444444]\n",
      "After 40 batches: [time:4.0m 23.420788764953613s, Accuracy: 82.3170731707317]\n",
      "After 45 batches: [time:4.0m 53.97136211395264s, Accuracy: 83.15217391304348]\n",
      "After 50 batches: [time:5.0m 23.571667671203613s, Accuracy: 82.35294117647058]\n",
      "After 55 batches: [time:5.0m 52.92709422111511s, Accuracy: 81.91964285714286]\n",
      "After 60 batches: [time:6.0m 22.67725658416748s, Accuracy: 80.73770491803278]\n",
      "After 65 batches: [time:6.0m 53.5867657661438s, Accuracy: 80.49242424242425]\n",
      "After 70 batches: [time:7.0m 23.782639026641846s, Accuracy: 80.28169014084507]\n",
      "After 75 batches: [time:7.0m 52.737760066986084s, Accuracy: 79.93421052631578]\n",
      "After 80 batches: [time:8.0m 22.369122982025146s, Accuracy: 79.16666666666666]\n",
      "After 85 batches: [time:8.0m 53.435343742370605s, Accuracy: 78.77906976744185]\n",
      "After 90 batches: [time:9.0m 23.915664196014404s, Accuracy: 78.70879120879121]\n",
      "After 95 batches: [time:9.0m 54.65168237686157s, Accuracy: 78.64583333333334]\n",
      "After 100 batches: [time:10.0m 25.32032561302185s, Accuracy: 78.96039603960396]\n",
      "After 105 batches: [time:10.0m 55.7410249710083s, Accuracy: 78.89150943396226]\n",
      "After 110 batches: [time:11.0m 25.658570289611816s, Accuracy: 79.16666666666666]\n",
      "After 115 batches: [time:11.0m 58.52992630004883s, Accuracy: 78.66379310344827]\n",
      "After 120 batches: [time:12.0m 30.967982530593872s, Accuracy: 78.20247933884298]\n",
      "After 125 batches: [time:13.0m 2.6783103942871094s, Accuracy: 78.37301587301587]\n",
      "After 130 batches: [time:13.0m 31.9756338596344s, Accuracy: 78.2442748091603]\n",
      "After 135 batches: [time:14.0m 2.981191873550415s, Accuracy: 77.84926470588235]\n",
      "After 140 batches: [time:14.0m 34.11928844451904s, Accuracy: 77.92553191489363]\n",
      "After 145 batches: [time:15.0m 5.528009414672852s, Accuracy: 77.91095890410958]\n",
      "After 150 batches: [time:15.0m 39.11965537071228s, Accuracy: 78.31125827814569]\n",
      "After 155 batches: [time:16.0m 10.039372205734253s, Accuracy: 78.36538461538461]\n",
      "After 160 batches: [time:16.0m 42.49305272102356s, Accuracy: 78.26086956521739]\n",
      "After 165 batches: [time:17.0m 13.914384841918945s, Accuracy: 77.78614457831326]\n",
      "After 170 batches: [time:17.0m 43.39789962768555s, Accuracy: 77.85087719298247]\n",
      "After 175 batches: [time:18.0m 16.11602807044983s, Accuracy: 77.6278409090909]\n",
      "After 180 batches: [time:18.0m 47.060686349868774s, Accuracy: 77.4171270718232]\n",
      "After 185 batches: [time:19.0m 17.89787793159485s, Accuracy: 77.21774193548387]\n",
      "After 190 batches: [time:19.0m 49.149717807769775s, Accuracy: 77.09424083769633]\n",
      "Epoch 10: [time:20.0m 13.432175159454346s, Accuracy: 77.24358974358975]\n",
      "\n",
      "Training time: 228.0m 33.49583959579468s\n"
     ]
    }
   ],
   "source": [
    "torch.manual_seed(6721)\n",
    "np.random.seed(6721)\n",
    "\n",
    "net.train()\n",
    "\n",
    "t = time.time()\n",
    "for i in range(num_epoch):\n",
    "    print(f'Epoch: {i+1}')\n",
    "    t_epoch = time.time()\n",
    "    total_labels = 0\n",
    "    correctly_pred = 0\n",
    "    t_batch = time.time()\n",
    "    for j, (data, labels) in enumerate(train_dataloader):\n",
    "        torch.cuda.empty_cache()\n",
    "        gc.collect()\n",
    "        data, labels = data.to(device), labels.to(device)\n",
    "        X, y = data, labels\n",
    "        optimizer.zero_grad()\n",
    "        output = net(X)\n",
    "        loss = loss_evaluater(output, y)\n",
    "        loss.backward()\n",
    "        optimizer.step()\n",
    "        y_pred = torch.argmax(output, dim=1)\n",
    "        total_labels += y.size(0)\n",
    "        correctly_pred += (y_pred==y).sum().item()\n",
    "        current_acc = (correctly_pred/total_labels)\n",
    "        if j%5==0:\n",
    "            seconds_passed = time.time()-t_batch\n",
    "            print(f'After {j} batches: [time:{seconds_passed//60}m {seconds_passed%60}s, Accuracy: {current_acc*100}]')\n",
    "    epoch_acc = (correctly_pred/total_labels)\n",
    "    seconds_passed = time.time()-t_epoch\n",
    "    print(f'Epoch {i+1}: [time:{seconds_passed//60}m {seconds_passed%60}s, Accuracy: {epoch_acc*100}]')\n",
    "    print()\n",
    "seconds_passed = time.time()-t\n",
    "print(f'Training time: {seconds_passed//60}m {seconds_passed%60}s')"
   ]
  },
  {
   "cell_type": "markdown",
   "metadata": {},
   "source": [
    "### 2.5. Training Evaluation"
   ]
  },
  {
   "cell_type": "code",
   "execution_count": 30,
   "metadata": {},
   "outputs": [
    {
     "name": "stdout",
     "output_type": "stream",
     "text": [
      "After 0 batches: [time:0.0m 2.6489315032958984s, Accuracy: 75.0]\n",
      "After 5 batches: [time:0.0m 13.286618709564209s, Accuracy: 77.08333333333334]\n",
      "After 10 batches: [time:0.0m 24.04541563987732s, Accuracy: 75.0]\n",
      "After 15 batches: [time:0.0m 34.79422211647034s, Accuracy: 76.5625]\n",
      "After 20 batches: [time:0.0m 45.0060031414032s, Accuracy: 73.80952380952381]\n",
      "After 25 batches: [time:0.0m 55.46375322341919s, Accuracy: 77.40384615384616]\n",
      "After 30 batches: [time:1.0m 6.74517297744751s, Accuracy: 75.80645161290323]\n",
      "After 35 batches: [time:1.0m 17.610028505325317s, Accuracy: 76.04166666666666]\n",
      "After 40 batches: [time:1.0m 28.0586256980896s, Accuracy: 75.91463414634147]\n",
      "After 45 batches: [time:1.0m 43.79409337043762s, Accuracy: 76.08695652173914]\n",
      "After 50 batches: [time:1.0m 57.05754494667053s, Accuracy: 75.98039215686273]\n",
      "After 55 batches: [time:2.0m 9.766397476196289s, Accuracy: 76.11607142857143]\n",
      "After 60 batches: [time:2.0m 20.79744267463684s, Accuracy: 76.22950819672131]\n",
      "After 65 batches: [time:2.0m 34.19149303436279s, Accuracy: 77.08333333333334]\n",
      "After 70 batches: [time:2.0m 45.83711290359497s, Accuracy: 77.8169014084507]\n",
      "After 75 batches: [time:2.0m 56.82466745376587s, Accuracy: 78.125]\n",
      "After 80 batches: [time:3.0m 7.397914886474609s, Accuracy: 77.62345679012346]\n",
      "After 85 batches: [time:3.0m 17.83839440345764s, Accuracy: 77.61627906976744]\n",
      "After 90 batches: [time:3.0m 27.969650506973267s, Accuracy: 77.1978021978022]\n",
      "After 95 batches: [time:3.0m 39.905439138412476s, Accuracy: 76.953125]\n",
      "After 100 batches: [time:3.0m 51.98891806602478s, Accuracy: 76.60891089108911]\n",
      "After 105 batches: [time:4.0m 2.4764535427093506s, Accuracy: 77.00471698113208]\n",
      "After 110 batches: [time:4.0m 13.393787622451782s, Accuracy: 77.36486486486487]\n",
      "After 115 batches: [time:4.0m 23.56758689880371s, Accuracy: 77.80172413793103]\n",
      "After 120 batches: [time:4.0m 33.98320484161377s, Accuracy: 77.1694214876033]\n",
      "After 125 batches: [time:4.0m 44.601418256759644s, Accuracy: 76.48809523809523]\n",
      "After 130 batches: [time:4.0m 54.994704723358154s, Accuracy: 76.7175572519084]\n",
      "After 135 batches: [time:5.0m 8.27840805053711s, Accuracy: 76.65441176470588]\n",
      "After 140 batches: [time:5.0m 18.669816493988037s, Accuracy: 76.68439716312056]\n",
      "After 145 batches: [time:5.0m 28.471503973007202s, Accuracy: 76.36986301369863]\n",
      "After 150 batches: [time:5.0m 38.85675358772278s, Accuracy: 76.65562913907284]\n",
      "After 155 batches: [time:5.0m 49.161149978637695s, Accuracy: 76.6826923076923]\n",
      "After 160 batches: [time:5.0m 59.28784656524658s, Accuracy: 76.63043478260869]\n",
      "After 165 batches: [time:6.0m 10.575872659683228s, Accuracy: 76.88253012048193]\n",
      "After 170 batches: [time:6.0m 23.149957180023193s, Accuracy: 77.3391812865497]\n",
      "After 175 batches: [time:6.0m 34.7178738117218s, Accuracy: 77.41477272727273]\n",
      "After 180 batches: [time:6.0m 47.7591118812561s, Accuracy: 77.69337016574586]\n",
      "After 185 batches: [time:7.0m 0.4343142509460449s, Accuracy: 77.88978494623656]\n",
      "After 190 batches: [time:7.0m 12.072916984558105s, Accuracy: 78.20680628272252]\n",
      "Training accuracy: 78.2051282051282\n",
      "Trainig evaluation time: 7.0m 21.029361963272095s\n"
     ]
    }
   ],
   "source": [
    "torch.manual_seed(6721)\n",
    "np.random.seed(6721)\n",
    "\n",
    "t = time.time()\n",
    "device = torch.device('cuda' if torch.cuda.is_available() else 'cpu')\n",
    "device = torch.device('cpu')\n",
    "\n",
    "net.eval()\n",
    "\n",
    "with torch.no_grad():\n",
    "    total_labels = 0\n",
    "    correctly_pred = 0\n",
    "    t_batch = time.time()\n",
    "    for i, (data, labels) in enumerate(train_dataloader):\n",
    "        data,labels = data.to(device), labels.to(device)\n",
    "        gc.collect()\n",
    "        X, y = data, labels\n",
    "        output = net(X)\n",
    "        y_pred = torch.argmax(output, dim=1)\n",
    "        total_labels += y.size(0)\n",
    "        correctly_pred += (y_pred==y).sum().item()\n",
    "        current_acc = (correctly_pred/total_labels)\n",
    "        if i%5==0:\n",
    "            seconds_passed = time.time()-t_batch\n",
    "            print(f'After {i} batches: [time:{seconds_passed//60}m {seconds_passed%60}s, Accuracy: {current_acc*100}]')\n",
    "    train_acc = (correctly_pred/total_labels)\n",
    "    print(f'Training accuracy: {train_acc*100}')\n",
    "seconds_passed = time.time()-t\n",
    "\n",
    "print(f'Trainig evaluation time: {seconds_passed//60}m {seconds_passed%60}s')"
   ]
  },
  {
   "cell_type": "markdown",
   "metadata": {},
   "source": [
    "### 2.6. Testing Evaluation"
   ]
  },
  {
   "cell_type": "code",
   "execution_count": null,
   "metadata": {},
   "outputs": [
    {
     "name": "stdout",
     "output_type": "stream",
     "text": [
      "After 0 batches: [time:0.0m 2.414398193359375s, Accuracy: 50.0]\n",
      "After 5 batches: [time:5.0m 33.909783601760864s, Accuracy: 64.58333333333334]\n"
     ]
    }
   ],
   "source": [
    "torch.manual_seed(6721)\n",
    "np.random.seed(6721)\n",
    "\n",
    "net.eval()\n",
    "\n",
    "t = time.time()\n",
    "device = torch.device('cuda' if torch.cuda.is_available() else 'cpu')\n",
    "device = torch.device('cpu')\n",
    "\n",
    "total_labels = 0\n",
    "correctly_pred = 0\n",
    "t_batch = time.time()\n",
    "test_batch=[]\n",
    "pred_batch=[]\n",
    "\n",
    "for i, (data, labels) in enumerate(test_dataloader):\n",
    "    torch.cuda.empty_cache()\n",
    "    data, labels = data.to(device), labels.to(device)\n",
    "    gc.collect()\n",
    "    X, y = data, labels\n",
    "    test_batch.extend(y.tolist())\n",
    "    output = net(X)\n",
    "    y_pred = torch.argmax(output, dim=1)\n",
    "    pred_batch.extend(y_pred.tolist())\n",
    "    total_labels += y.size(0)\n",
    "    correctly_pred += (y_pred==y).sum().item()\n",
    "    current_acc = (correctly_pred/total_labels)\n",
    "    if i%5==0:\n",
    "        seconds_passed = time.time()-t_batch\n",
    "        print(f'After {i} batches: [time:{seconds_passed//60}m {seconds_passed%60}s, Accuracy: {current_acc*100}]')\n",
    "\n",
    "test_acc = (correctly_pred/total_labels)\n",
    "print(f'Test accuracy: {test_acc*100}')\n",
    "seconds_passed = time.time()-t\n",
    "print(f'Test time: {seconds_passed//60}m {seconds_passed%60}s')"
   ]
  },
  {
   "cell_type": "markdown",
   "metadata": {},
   "source": [
    "### 2.7. Saving pretrained Model"
   ]
  },
  {
   "cell_type": "code",
   "execution_count": 13,
   "metadata": {},
   "outputs": [],
   "source": [
    "torch.manual_seed(6721)\n",
    "np.random.seed(6721)\n",
    "\n",
    "file_path = './temp/net.pt'\n",
    "\n",
    "state = {\n",
    "    'epoch': num_epoch,\n",
    "    'state_dict': net.state_dict(),\n",
    "    'optimizer': optimizer.state_dict(),\n",
    "    'lr': lr\n",
    "}\n",
    "\n",
    "torch.save(state, file_path)"
   ]
  },
  {
   "cell_type": "markdown",
   "metadata": {},
   "source": [
    "### 2.8. Loading Pretrained Model"
   ]
  },
  {
   "cell_type": "markdown",
   "metadata": {},
   "source": [
    "Loading Pretrained Model"
   ]
  },
  {
   "cell_type": "code",
   "execution_count": 7,
   "metadata": {},
   "outputs": [
    {
     "name": "stdout",
     "output_type": "stream",
     "text": [
      "Model Loaded Successfully\n"
     ]
    }
   ],
   "source": [
    "torch.manual_seed(6721)\n",
    "np.random.seed(6721)\n",
    "\n",
    "from torch.optim import SGD, Adam\n",
    "from torch.nn import CrossEntropyLoss\n",
    "import time\n",
    "from sklearn import metrics\n",
    "from torch.nn import Sequential, Module, Conv2d, MaxPool2d, Linear, ReLU, Dropout, BatchNorm2d, LeakyReLU, AdaptiveAvgPool2d, Flatten\n",
    "from torchvision.transforms import ToTensor, Compose, Normalize\n",
    "import torch\n",
    "from torch.utils.data import DataLoader, Subset\n",
    "from torchvision.datasets import ImageFolder\n",
    "from torchvision.transforms import ToTensor, Compose, Normalize\n",
    "from torch.utils.data import DataLoader, Subset\n",
    "from torchvision.datasets import ImageFolder\n",
    "import gc\n",
    "from PIL import Image\n",
    "from torchvision.datasets import VisionDataset\n",
    "import pandas as pd\n",
    "import os\n",
    "from skimage import io as sk_io, transform as sk_transform\n",
    "import numpy as np\n",
    "from sklearn.utils import shuffle\n",
    "from PIL import Image\n",
    "\n",
    "file_path = './temp/net.pt'\n",
    "\n",
    "state = torch.load(file_path)\n",
    "\n",
    "loaded_net = ProjectModel()\n",
    "loaded_net.load_state_dict(state['state_dict'])\n",
    "\n",
    "loaded_lr = state['lr']\n",
    "loaded_loss_evaluater = CrossEntropyLoss()\n",
    "loaded_optimizer = Adam(loaded_net.parameters(), lr=loaded_lr)\n",
    "loaded_optimizer.load_state_dict(state['optimizer'])\n",
    "\n",
    "loaded_num_epoch = state['epoch']\n",
    "print('Model Loaded Successfully')"
   ]
  },
  {
   "cell_type": "markdown",
   "metadata": {},
   "source": [
    "Testing loaded pretrained Model"
   ]
  },
  {
   "cell_type": "code",
   "execution_count": 8,
   "metadata": {},
   "outputs": [
    {
     "name": "stdout",
     "output_type": "stream",
     "text": [
      "After 0 batches: [time:0.0m 4.486730337142944s, Accuracy: 87.5]\n",
      "After 5 batches: [time:0.0m 56.63129281997681s, Accuracy: 72.91666666666666]\n",
      "After 10 batches: [time:1.0m 15.77672815322876s, Accuracy: 77.27272727272727]\n",
      "After 15 batches: [time:1.0m 27.282719373703003s, Accuracy: 78.90625]\n",
      "After 20 batches: [time:1.0m 38.31579399108887s, Accuracy: 78.57142857142857]\n",
      "After 25 batches: [time:1.0m 50.291762590408325s, Accuracy: 78.36538461538461]\n",
      "After 30 batches: [time:2.0m 2.352581262588501s, Accuracy: 79.03225806451613]\n",
      "After 35 batches: [time:2.0m 13.51013445854187s, Accuracy: 79.16666666666666]\n",
      "Test accuracy: 79.33333333333333\n",
      "Test time: 2.0m 17.30062699317932s\n"
     ]
    }
   ],
   "source": [
    "torch.manual_seed(6721)\n",
    "np.random.seed(6721)\n",
    "\n",
    "loaded_net.eval()\n",
    "\n",
    "t = time.time()\n",
    "\n",
    "total_labels = 0\n",
    "correctly_pred = 0\n",
    "t_batch = time.time()\n",
    "test_batch=[]\n",
    "pred_batch=[]\n",
    "\n",
    "for i, (data, labels) in enumerate(test_dataloader):\n",
    "#     torch.cuda.empty_cache()\n",
    "#     data, labels = data.to(device), labels.to(device)\n",
    "    gc.collect()\n",
    "    X, y = data, labels\n",
    "    test_batch.extend(y.tolist())\n",
    "    output = loaded_net(X)\n",
    "    y_pred = torch.argmax(output, dim=1)\n",
    "    pred_batch.extend(y_pred.tolist())\n",
    "    total_labels += y.size(0)\n",
    "    correctly_pred += (y_pred==y).sum().item()\n",
    "    current_acc = (correctly_pred/total_labels)\n",
    "    if i%5==0:\n",
    "        seconds_passed = time.time()-t_batch\n",
    "        print(f'After {i} batches: [time:{seconds_passed//60}m {seconds_passed%60}s, Accuracy: {current_acc*100}]')\n",
    "\n",
    "test_acc = (correctly_pred/total_labels)\n",
    "print(f'Test accuracy: {test_acc*100}')\n",
    "seconds_passed = time.time()-t\n",
    "print(f'Test time: {seconds_passed//60}m {seconds_passed%60}s')"
   ]
  },
  {
   "cell_type": "markdown",
   "metadata": {},
   "source": [
    "# 3. Model Evaluation"
   ]
  },
  {
   "cell_type": "markdown",
   "metadata": {},
   "source": [
    "### 3.1 Initialization"
   ]
  },
  {
   "cell_type": "code",
   "execution_count": 13,
   "metadata": {},
   "outputs": [],
   "source": [
    "torch.manual_seed(6721)\n",
    "np.random.seed(6721)\n",
    "\n",
    "from sklearn import metrics\n",
    "\n",
    "mask_index=dataset.class_to_idx['mask']\n",
    "no_mask_index=dataset.class_to_idx['no_mask']\n",
    "not_person_index=dataset.class_to_idx['not_person']\n",
    "\n",
    "confusion_metrics_final=metrics.confusion_matrix(test_batch,pred_batch)\n",
    "precision_final=metrics.precision_score(test_batch, pred_batch, average=None)\n",
    "recall_final=metrics.recall_score(test_batch, pred_batch, average=None)\n",
    "f1_final=metrics.f1_score(test_batch, pred_batch, average=None)"
   ]
  },
  {
   "cell_type": "markdown",
   "metadata": {},
   "source": [
    "### 3.2. Accuracy"
   ]
  },
  {
   "cell_type": "code",
   "execution_count": 14,
   "metadata": {},
   "outputs": [
    {
     "name": "stdout",
     "output_type": "stream",
     "text": [
      "Accuracy for the model is 78.66666666666666 %\n"
     ]
    }
   ],
   "source": [
    "print(f'Accuracy for the model is {test_acc*100} %')"
   ]
  },
  {
   "cell_type": "markdown",
   "metadata": {},
   "source": [
    "### 3.3. Precision"
   ]
  },
  {
   "cell_type": "code",
   "execution_count": 15,
   "metadata": {},
   "outputs": [
    {
     "name": "stdout",
     "output_type": "stream",
     "text": [
      "Precision for the class mask is 80.48780487804879 %\n",
      "Precision for the class no_mask is 69.81132075471697 %\n",
      "Precision for the class not_person is 85.71428571428571 %\n"
     ]
    }
   ],
   "source": [
    "print(f'Precision for the class mask is {precision_final[mask_index]*100} %')\n",
    "print(f'Precision for the class no_mask is {precision_final[no_mask_index]*100} %')\n",
    "print(f'Precision for the class not_person is {precision_final[not_person_index]*100} %')"
   ]
  },
  {
   "cell_type": "markdown",
   "metadata": {},
   "source": [
    "### 3.4. Recall"
   ]
  },
  {
   "cell_type": "code",
   "execution_count": 16,
   "metadata": {},
   "outputs": [
    {
     "name": "stdout",
     "output_type": "stream",
     "text": [
      "Recall for the class mask is 66.0 %\n",
      "Recall for the class no_mask is 74.0 %\n",
      "Recall for the class not_person is 96.0 %\n"
     ]
    }
   ],
   "source": [
    "print(f'Recall for the class mask is {recall_final[mask_index]*100} %')\n",
    "print(f'Recall for the class no_mask is {recall_final[no_mask_index]*100} %')\n",
    "print(f'Recall for the class not_person is {recall_final[not_person_index]*100} %')"
   ]
  },
  {
   "cell_type": "markdown",
   "metadata": {},
   "source": [
    "### 3.5. F1 Score"
   ]
  },
  {
   "cell_type": "code",
   "execution_count": 17,
   "metadata": {},
   "outputs": [
    {
     "name": "stdout",
     "output_type": "stream",
     "text": [
      "F1 Score for the class mask is 72.52747252747254 %\n",
      "F1 Score for the class no_mask is 71.84466019417476 %\n",
      "F1 Score for the class not_person is 90.56603773584904 %\n"
     ]
    }
   ],
   "source": [
    "print(f'F1 Score for the class mask is {f1_final[mask_index]*100} %')\n",
    "print(f'F1 Score for the class no_mask is {f1_final[no_mask_index]*100} %')\n",
    "print(f'F1 Score for the class not_person is {f1_final[not_person_index]*100} %')"
   ]
  },
  {
   "cell_type": "markdown",
   "metadata": {},
   "source": [
    "### 3.6. Confusion Matrix"
   ]
  },
  {
   "cell_type": "code",
   "execution_count": 18,
   "metadata": {},
   "outputs": [
    {
     "data": {
      "text/plain": [
       "<sklearn.metrics._plot.confusion_matrix.ConfusionMatrixDisplay at 0x2899f150fa0>"
      ]
     },
     "execution_count": 18,
     "metadata": {},
     "output_type": "execute_result"
    },
    {
     "data": {
      "image/png": "[encoded data removed]",
      "text/plain": [
       "<Figure size 432x288 with 2 Axes>"
      ]
     },
     "metadata": {
      "needs_background": "light"
     },
     "output_type": "display_data"
    }
   ],
   "source": [
    "import matplotlib.pyplot as plt\n",
    "from sklearn.metrics import confusion_matrix, ConfusionMatrixDisplay\n",
    "torch.manual_seed(6721)\n",
    "np.random.seed(6721)\n",
    "\n",
    "cm = confusion_matrix(test_batch, pred_batch, normalize='all')*100\n",
    "cmd = ConfusionMatrixDisplay(cm, display_labels=['mask', 'no_mask', 'not_person'])\n",
    "fig = plt.figure()\n",
    "ax = fig.add_subplot(111)\n",
    "ax.set_title('Confusion Matrix(%)')\n",
    "cmd.plot(ax=ax)\n"
   ]
  },
  {
   "cell_type": "markdown",
   "metadata": {},
   "source": [
    "# == End =="
   ]
  },
  {
   "cell_type": "code",
   "execution_count": null,
   "metadata": {},
   "outputs": [],
   "source": []
  }
 ],
 "metadata": {
  "kernelspec": {
   "display_name": "Python [conda env:comp6721]",
   "language": "python",
   "name": "conda-env-comp6721-py"
  },
  "language_info": {
   "codemirror_mode": {
    "name": "ipython",
    "version": 3
   },
   "file_extension": ".py",
   "mimetype": "text/x-python",
   "name": "python",
   "nbconvert_exporter": "python",
   "pygments_lexer": "ipython3",
   "version": "3.9.4"
  }
 },
 "nbformat": 4,
 "nbformat_minor": 4
}
