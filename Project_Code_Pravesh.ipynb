{
 "cells": [
  {
   "cell_type": "markdown",
   "metadata": {},
   "source": [
    "<pre>\n",
    "<b>\n",
    "COMP-6721 | 2021-Winter\n",
    "Project | Part-1\n",
    "\n",
    "Pravesh Gupta | 40152506\n",
    "Vikramjeet Singh | 40134477\n",
    "Manjot Kaur Dherdi | 40107905\n",
    "</b>\n",
    "</pre>"
   ]
  },
  {
   "cell_type": "markdown",
   "metadata": {},
   "source": [
    "# 1. Data Loading"
   ]
  },
  {
   "cell_type": "markdown",
   "metadata": {},
   "source": [
    "## 1.1. Installing required python modules"
   ]
  },
  {
   "cell_type": "code",
   "execution_count": 2,
   "metadata": {},
   "outputs": [
    {
     "name": "stdout",
     "output_type": "stream",
     "text": [
      "Requirement already satisfied: torch in d:\\installations\\anaconda3\\envs\\comp6721\\lib\\site-packages (1.8.1)\n",
      "Requirement already satisfied: typing-extensions in d:\\installations\\anaconda3\\envs\\comp6721\\lib\\site-packages (from torch) (3.7.4.3)\n",
      "Requirement already satisfied: numpy in d:\\installations\\anaconda3\\envs\\comp6721\\lib\\site-packages (from torch) (1.20.2)\n",
      "Note: you may need to restart the kernel to use updated packages.\n"
     ]
    }
   ],
   "source": [
    "pip install torch"
   ]
  },
  {
   "cell_type": "code",
   "execution_count": 4,
   "metadata": {},
   "outputs": [
    {
     "name": "stdout",
     "output_type": "stream",
     "text": [
      "Collecting torchvision\n",
      "  Downloading torchvision-0.9.1-cp39-cp39-win_amd64.whl (852 kB)\n",
      "Requirement already satisfied: numpy in d:\\installations\\anaconda3\\envs\\comp6721\\lib\\site-packages (from torchvision) (1.20.2)\n",
      "Requirement already satisfied: torch==1.8.1 in d:\\installations\\anaconda3\\envs\\comp6721\\lib\\site-packages (from torchvision) (1.8.1)\n",
      "Collecting pillow>=4.1.1\n",
      "  Downloading Pillow-8.2.0-cp39-cp39-win_amd64.whl (2.2 MB)\n",
      "Requirement already satisfied: typing-extensions in d:\\installations\\anaconda3\\envs\\comp6721\\lib\\site-packages (from torch==1.8.1->torchvision) (3.7.4.3)\n",
      "Installing collected packages: pillow, torchvision\n",
      "Successfully installed pillow-8.2.0 torchvision-0.9.1\n",
      "Note: you may need to restart the kernel to use updated packages.\n"
     ]
    }
   ],
   "source": [
    "pip install torchvision"
   ]
  },
  {
   "cell_type": "code",
   "execution_count": 5,
   "metadata": {},
   "outputs": [
    {
     "name": "stdout",
     "output_type": "stream",
     "text": [
      "Collecting pandas\n",
      "  Downloading pandas-1.2.4-cp39-cp39-win_amd64.whl (9.3 MB)\n",
      "Collecting pytz>=2017.3\n",
      "  Using cached pytz-2021.1-py2.py3-none-any.whl (510 kB)\n",
      "Requirement already satisfied: python-dateutil>=2.7.3 in d:\\installations\\anaconda3\\envs\\comp6721\\lib\\site-packages (from pandas) (2.8.1)\n",
      "Requirement already satisfied: numpy>=1.16.5 in d:\\installations\\anaconda3\\envs\\comp6721\\lib\\site-packages (from pandas) (1.20.2)\n",
      "Requirement already satisfied: six>=1.5 in d:\\installations\\anaconda3\\envs\\comp6721\\lib\\site-packages (from python-dateutil>=2.7.3->pandas) (1.15.0)\n",
      "Installing collected packages: pytz, pandas\n",
      "Successfully installed pandas-1.2.4 pytz-2021.1\n",
      "Note: you may need to restart the kernel to use updated packages.\n"
     ]
    }
   ],
   "source": [
    "pip install pandas"
   ]
  },
  {
   "cell_type": "code",
   "execution_count": 6,
   "metadata": {},
   "outputs": [
    {
     "name": "stdout",
     "output_type": "stream",
     "text": [
      "Requirement already satisfied: torchvision in d:\\installations\\anaconda3\\envs\\comp6721\\lib\\site-packages (0.9.1)\n",
      "Requirement already satisfied: torch==1.8.1 in d:\\installations\\anaconda3\\envs\\comp6721\\lib\\site-packages (from torchvision) (1.8.1)\n",
      "Requirement already satisfied: numpy in d:\\installations\\anaconda3\\envs\\comp6721\\lib\\site-packages (from torchvision) (1.20.2)\n",
      "Requirement already satisfied: pillow>=4.1.1 in d:\\installations\\anaconda3\\envs\\comp6721\\lib\\site-packages (from torchvision) (8.2.0)\n",
      "Requirement already satisfied: typing-extensions in d:\\installations\\anaconda3\\envs\\comp6721\\lib\\site-packages (from torch==1.8.1->torchvision) (3.7.4.3)\n",
      "Note: you may need to restart the kernel to use updated packages.\n"
     ]
    }
   ],
   "source": [
    "pip install torchvision"
   ]
  },
  {
   "cell_type": "code",
   "execution_count": 7,
   "metadata": {},
   "outputs": [
    {
     "name": "stdout",
     "output_type": "stream",
     "text": [
      "Collecting scikit-image\n",
      "  Downloading scikit_image-0.18.1-cp39-cp39-win_amd64.whl (12.2 MB)\n",
      "Requirement already satisfied: pillow!=7.1.0,!=7.1.1,>=4.3.0 in d:\\installations\\anaconda3\\envs\\comp6721\\lib\\site-packages (from scikit-image) (8.2.0)\n",
      "Collecting scipy>=1.0.1\n",
      "  Downloading scipy-1.6.2-cp39-cp39-win_amd64.whl (32.7 MB)\n",
      "Collecting PyWavelets>=1.1.1\n",
      "  Downloading PyWavelets-1.1.1-cp39-cp39-win_amd64.whl (4.2 MB)\n",
      "Collecting networkx>=2.0\n",
      "  Using cached networkx-2.5.1-py3-none-any.whl (1.6 MB)\n",
      "Collecting imageio>=2.3.0\n",
      "  Using cached imageio-2.9.0-py3-none-any.whl (3.3 MB)\n",
      "Collecting matplotlib!=3.0.0,>=2.0.0\n",
      "  Downloading matplotlib-3.4.1-cp39-cp39-win_amd64.whl (7.1 MB)\n",
      "Requirement already satisfied: numpy>=1.16.5 in d:\\installations\\anaconda3\\envs\\comp6721\\lib\\site-packages (from scikit-image) (1.20.2)\n",
      "Collecting tifffile>=2019.7.26\n",
      "  Downloading tifffile-2021.4.8-py3-none-any.whl (165 kB)\n",
      "Collecting pyparsing>=2.2.1\n",
      "  Using cached pyparsing-2.4.7-py2.py3-none-any.whl (67 kB)\n",
      "Collecting kiwisolver>=1.0.1\n",
      "  Downloading kiwisolver-1.3.1-cp39-cp39-win_amd64.whl (51 kB)\n",
      "Requirement already satisfied: python-dateutil>=2.7 in d:\\installations\\anaconda3\\envs\\comp6721\\lib\\site-packages (from matplotlib!=3.0.0,>=2.0.0->scikit-image) (2.8.1)\n",
      "Collecting cycler>=0.10\n",
      "  Using cached cycler-0.10.0-py2.py3-none-any.whl (6.5 kB)\n",
      "Requirement already satisfied: six in d:\\installations\\anaconda3\\envs\\comp6721\\lib\\site-packages (from cycler>=0.10->matplotlib!=3.0.0,>=2.0.0->scikit-image) (1.15.0)\n",
      "Collecting decorator<5,>=4.3\n",
      "  Using cached decorator-4.4.2-py2.py3-none-any.whl (9.2 kB)\n",
      "Installing collected packages: pyparsing, kiwisolver, decorator, cycler, tifffile, scipy, PyWavelets, networkx, matplotlib, imageio, scikit-image\n",
      "  Attempting uninstall: decorator\n",
      "    Found existing installation: decorator 5.0.6\n",
      "    Uninstalling decorator-5.0.6:\n",
      "      Successfully uninstalled decorator-5.0.6\n",
      "Successfully installed PyWavelets-1.1.1 cycler-0.10.0 decorator-4.4.2 imageio-2.9.0 kiwisolver-1.3.1 matplotlib-3.4.1 networkx-2.5.1 pyparsing-2.4.7 scikit-image-0.18.1 scipy-1.6.2 tifffile-2021.4.8\n",
      "Note: you may need to restart the kernel to use updated packages.\n"
     ]
    }
   ],
   "source": [
    "pip install scikit-image"
   ]
  },
  {
   "cell_type": "code",
   "execution_count": 8,
   "metadata": {},
   "outputs": [
    {
     "name": "stdout",
     "output_type": "stream",
     "text": [
      "Requirement already satisfied: numpy in d:\\installations\\anaconda3\\envs\\comp6721\\lib\\site-packages (1.20.2)\n",
      "Note: you may need to restart the kernel to use updated packages.\n"
     ]
    }
   ],
   "source": [
    "pip install numpy"
   ]
  },
  {
   "cell_type": "code",
   "execution_count": 9,
   "metadata": {},
   "outputs": [
    {
     "name": "stdout",
     "output_type": "stream",
     "text": [
      "Collecting sklearn\n",
      "  Using cached sklearn-0.0.tar.gz (1.1 kB)\n",
      "Collecting scikit-learn\n",
      "  Downloading scikit_learn-0.24.1-cp39-cp39-win_amd64.whl (6.9 MB)\n",
      "Collecting threadpoolctl>=2.0.0\n",
      "  Using cached threadpoolctl-2.1.0-py3-none-any.whl (12 kB)\n",
      "Requirement already satisfied: numpy>=1.13.3 in d:\\installations\\anaconda3\\envs\\comp6721\\lib\\site-packages (from scikit-learn->sklearn) (1.20.2)\n",
      "Requirement already satisfied: scipy>=0.19.1 in d:\\installations\\anaconda3\\envs\\comp6721\\lib\\site-packages (from scikit-learn->sklearn) (1.6.2)\n",
      "Collecting joblib>=0.11\n",
      "  Using cached joblib-1.0.1-py3-none-any.whl (303 kB)\n",
      "Building wheels for collected packages: sklearn\n",
      "  Building wheel for sklearn (setup.py): started\n",
      "  Building wheel for sklearn (setup.py): finished with status 'done'\n",
      "  Created wheel for sklearn: filename=sklearn-0.0-py2.py3-none-any.whl size=1316 sha256=bf0934a3f7dbcc9738c51cc3154cb2c13be8934cf9161489ab7765da733fd710\n",
      "Note: you may need to restart the kernel to use updated packages.  Stored in directory: c:\\users\\prave\\appdata\\local\\pip\\cache\\wheels\\e4\\7b\\98\\b6466d71b8d738a0c547008b9eb39bf8676d1ff6ca4b22af1c\n",
      "\n",
      "Successfully built sklearn\n",
      "Installing collected packages: threadpoolctl, joblib, scikit-learn, sklearn\n",
      "Successfully installed joblib-1.0.1 scikit-learn-0.24.1 sklearn-0.0 threadpoolctl-2.1.0\n"
     ]
    }
   ],
   "source": [
    "pip install sklearn"
   ]
  },
  {
   "cell_type": "code",
   "execution_count": 10,
   "metadata": {},
   "outputs": [
    {
     "name": "stdout",
     "output_type": "stream",
     "text": [
      "Requirement already satisfied: pillow in d:\\installations\\anaconda3\\envs\\comp6721\\lib\\site-packages (8.2.0)\n",
      "Note: you may need to restart the kernel to use updated packages.\n"
     ]
    }
   ],
   "source": [
    "pip install pillow"
   ]
  },
  {
   "cell_type": "markdown",
   "metadata": {},
   "source": [
    "### 1.2. Dataset Description"
   ]
  },
  {
   "cell_type": "markdown",
   "metadata": {},
   "source": [
    "\n",
    "Required Dataset Folder Heirarchy:\n",
    "<pre>\n",
    "{dataset_folder}\n",
    "--images\n",
    "----mask\n",
    "-------{mask images}\n",
    "----no_mask\n",
    "-------{no mask images}\n",
    "----not_person\n",
    "-------{not person images}\n",
    "</pre>"
   ]
  },
  {
   "cell_type": "markdown",
   "metadata": {},
   "source": [
    "### 1.3. Defining Pytorch dataset Representation and data transaformers"
   ]
  },
  {
   "cell_type": "code",
   "execution_count": 4,
   "metadata": {},
   "outputs": [],
   "source": [
    "from torchvision.datasets import VisionDataset\n",
    "import pandas as pd\n",
    "import os\n",
    "from skimage import io as sk_io, transform as sk_transform\n",
    "import numpy as np\n",
    "from sklearn.utils import shuffle\n",
    "from PIL import Image\n",
    "    \n",
    "class Rescale(object):\n",
    "    def __init__(self, output_size, debug=False, export_path=None):\n",
    "        assert isinstance(output_size, (int))\n",
    "        self.output_size = output_size\n",
    "\n",
    "    def __call__(self, img_data):\n",
    "        img_arr = np.array(img_data)\n",
    "        h, w, c = img_arr.shape\n",
    "        isAlreadyScaled = (h==self.output_size and w==self.output_size)\n",
    "        \n",
    "        if not isAlreadyScaled:\n",
    "            scale_factor = float(self.output_size)/img_arr.shape[0]\n",
    "            img_arr = (sk_transform.rescale(img_arr, (scale_factor, scale_factor, 1))*255).astype(np.uint8)\n",
    "\n",
    "            new_w = img_arr.shape[1]\n",
    "\n",
    "            # Clipping or filling\n",
    "            if new_w>self.output_size:\n",
    "                mid = new_w//2\n",
    "                new_w_start = mid-self.output_size//2\n",
    "                new_w_end = mid+self.output_size//2\n",
    "\n",
    "                if (new_w_end-new_w_start)<self.output_size:\n",
    "                    new_w_end += (self.output_size-(new_w_end-new_w_start))\n",
    "                elif (new_w_end-new_w_start)>self.output_size:\n",
    "                    new_w_end -= ((new_w_end-new_w_start)-self.output_size)\n",
    "                img_arr = img_arr[:, new_w_start:new_w_end]\n",
    "            elif new_w<self.output_size:\n",
    "                mid = new_w//2\n",
    "                new_w_start = self.output_size//2-mid\n",
    "                new_w_end = new_w_start+new_w\n",
    "                filled_img_arr = np.zeros((self.output_size, self.output_size, img_arr.shape[2]), dtype=np.uint8)\n",
    "                filled_img_arr[:, new_w_start:new_w_end] = img_arr[:, :]\n",
    "                img_arr = filled_img_arr\n",
    "        return Image.fromarray(img_arr)"
   ]
  },
  {
   "cell_type": "markdown",
   "metadata": {},
   "source": [
    "### 1.4. (Optional) Prior conversion of image to speed up training process"
   ]
  },
  {
   "cell_type": "code",
   "execution_count": null,
   "metadata": {},
   "outputs": [],
   "source": [
    "from PIL import Image\n",
    "\n",
    "torch.manual_seed(6721)\n",
    "np.random.seed(6721)\n",
    "\n",
    "rescaled_size=512\n",
    "\n",
    "scaler = Rescale(rescaled_size)\n",
    "\n",
    "data_dir = './data/images_original/'\n",
    "copy_dir = './data/images_rescaled/'\n",
    "\n",
    "if not os.path.isdir(copy_dir):\n",
    "    os.mkdir(copy_dir)\n",
    "\n",
    "data_transform = Compose([\n",
    "    Rescale(rescaled_size)\n",
    "])\n",
    "\n",
    "dataset = ImageFolder(\n",
    "    root=data_dir\n",
    "    ,transform=data_transform\n",
    ")\n",
    "print(f'Dataset: size: {len(dataset)}, class labels: {dataset.class_to_idx}')\n",
    "\n",
    "label_to_class_dir = {}\n",
    "for class_name in dataset.class_to_idx:\n",
    "    label = dataset.class_to_idx[class_name]\n",
    "    class_dir = copy_dir + class_name + '/'\n",
    "    label_to_class_dir[label] = class_dir\n",
    "    if not os.path.isdir(class_dir):\n",
    "        os.mkdir(class_dir)\n",
    "\n",
    "for i in range(len(dataset.imgs)):\n",
    "    url, label = dataset.imgs[i]\n",
    "    img_name = url.split('\\\\')[1]\n",
    "    img_file_path = label_to_class_dir[label] + img_name\n",
    "    \n",
    "    if not os.path.isfile(img_file_path):\n",
    "        item = dataset.__getitem__(i)\n",
    "        rescaled_img = item[0]\n",
    "        rescaled_img.save(img_file_path, check_contrast=False)"
   ]
  },
  {
   "cell_type": "markdown",
   "metadata": {},
   "source": [
    "### 1.5. Creating dataset and data loaders for train and test"
   ]
  },
  {
   "cell_type": "markdown",
   "metadata": {},
   "source": [
    "From whole dataset, split and find train/test dataset data points"
   ]
  },
  {
   "cell_type": "code",
   "execution_count": 2,
   "metadata": {},
   "outputs": [],
   "source": [
    "train_images_per_class = 600\n",
    "test_images_per_class = 100\n",
    "\n",
    "def get_train_test_indices(dataset_targets):\n",
    "    test_indices_map = {}\n",
    "    for class_name in dataset.class_to_idx:\n",
    "        label = dataset.class_to_idx[class_name]\n",
    "        test_indices_map[label] = {'indices': np.array([], dtype=np.int32), 'count': 0}\n",
    "\n",
    "    train_indices_map = {}\n",
    "    for class_name in dataset.class_to_idx:\n",
    "        label = dataset.class_to_idx[class_name]\n",
    "        train_indices_map[label] = {'indices': np.array([], dtype=np.int32), 'count': 0}\n",
    "\n",
    "    targets = np.array(dataset.targets, dtype=np.int32)\n",
    "    target_indices = np.where(targets!=None)[0]\n",
    "    np.random.shuffle(target_indices)\n",
    "\n",
    "    for i in target_indices:\n",
    "        label = dataset.targets[i]\n",
    "        if test_indices_map[label]['count']<test_images_per_class:\n",
    "            test_indices_map[label]['indices'] = np.append(test_indices_map[label]['indices'], i)\n",
    "            test_indices_map[label]['count']+=1\n",
    "        elif train_indices_map[label]['count']<train_images_per_class:\n",
    "            train_indices_map[label]['indices'] = np.append(train_indices_map[label]['indices'], i)\n",
    "            train_indices_map[label]['count']+=1\n",
    "\n",
    "    test_indices = np.array([], dtype=np.int32)\n",
    "    train_indices = np.array([], dtype=np.int32)\n",
    "\n",
    "    for class_name in dataset.class_to_idx:\n",
    "        label = dataset.class_to_idx[class_name]\n",
    "        label_test_indices = test_indices_map[label]['indices']\n",
    "        test_indices = np.append(test_indices, label_test_indices)\n",
    "\n",
    "        label_train_indices = train_indices_map[label]['indices']\n",
    "        train_indices = np.append(train_indices, label_train_indices)\n",
    "    return train_indices, test_indices"
   ]
  },
  {
   "cell_type": "code",
   "execution_count": 3,
   "metadata": {},
   "outputs": [],
   "source": [
    "#For Bias Testing"
   ]
  },
  {
   "cell_type": "code",
   "execution_count": 2,
   "metadata": {},
   "outputs": [],
   "source": [
    "test_images_per_class = 260\n",
    "test_images_per_class = 50\n",
    "\n",
    "def get_train_test_indices(dataset_targets):\n",
    "    test_indices_map = {}\n",
    "    for class_name in dataset.class_to_idx:\n",
    "        label = dataset.class_to_idx[class_name]\n",
    "        test_indices_map[label] = {'indices': np.array([], dtype=np.int32), 'count': 0}\n",
    "\n",
    "    train_indices_map = {}\n",
    "    for class_name in dataset.class_to_idx:\n",
    "        label = dataset.class_to_idx[class_name]\n",
    "        train_indices_map[label] = {'indices': np.array([], dtype=np.int32), 'count': 0}\n",
    "\n",
    "    targets = np.array(dataset.targets, dtype=np.int32)\n",
    "    target_indices = np.where(targets!=None)[0]\n",
    "    np.random.shuffle(target_indices)\n",
    "\n",
    "    for i in target_indices:\n",
    "        label = dataset.targets[i]\n",
    "        if test_indices_map[label]['count']<test_images_per_class:\n",
    "            test_indices_map[label]['indices'] = np.append(test_indices_map[label]['indices'], i)\n",
    "            test_indices_map[label]['count']+=1\n",
    "        elif train_indices_map[label]['count']<train_images_per_class:\n",
    "            train_indices_map[label]['indices'] = np.append(train_indices_map[label]['indices'], i)\n",
    "            train_indices_map[label]['count']+=1\n",
    "\n",
    "    test_indices = np.array([], dtype=np.int32)\n",
    "    train_indices = np.array([], dtype=np.int32)\n",
    "\n",
    "    for class_name in dataset.class_to_idx:\n",
    "        label = dataset.class_to_idx[class_name]\n",
    "        label_test_indices = test_indices_map[label]['indices']\n",
    "        test_indices = np.append(test_indices, label_test_indices)\n",
    "\n",
    "        label_train_indices = train_indices_map[label]['indices']\n",
    "        train_indices = np.append(train_indices, label_train_indices)\n",
    "    return train_indices, test_indices"
   ]
  },
  {
   "cell_type": "markdown",
   "metadata": {},
   "source": [
    "Calculating mean and std for Normalization"
   ]
  },
  {
   "cell_type": "code",
   "execution_count": 5,
   "metadata": {},
   "outputs": [
    {
     "name": "stdout",
     "output_type": "stream",
     "text": [
      "Dataset: size: 1560, class labels: {'mask': 0, 'no_mask': 1, 'not_person': 2}\n",
      "Mean: tensor([0.4298, 0.3975, 0.3782])\n",
      "Std: tensor([0.2825, 0.2726, 0.2829])\n"
     ]
    }
   ],
   "source": [
    "from torchvision.transforms import ToTensor, Compose, Normalize\n",
    "import torch\n",
    "from torch.utils.data import DataLoader, Subset\n",
    "from torchvision.datasets import ImageFolder\n",
    "import gc\n",
    "\n",
    "torch.manual_seed(6721)\n",
    "np.random.seed(6721)\n",
    "\n",
    "rescaled_size=512\n",
    "train_data_dir = './data/2/train/'\n",
    "\n",
    "data_transform = Compose([\n",
    "    Rescale(rescaled_size)\n",
    "    , ToTensor()\n",
    "])\n",
    "\n",
    "train_dataset = ImageFolder(\n",
    "    root=train_data_dir\n",
    "    ,transform=data_transform\n",
    ")\n",
    "print(f'Dataset: size: {len(train_dataset)}, class labels: {train_dataset.class_to_idx}')\n",
    "train_dataloader = DataLoader(train_dataset, batch_size=8, shuffle=False)\n",
    "\n",
    "means = torch.tensor([])\n",
    "stds = torch.tensor([])\n",
    "for i, (data, labels) in enumerate(train_dataloader):\n",
    "    gc.collect()\n",
    "    batch_mean = torch.mean(data, axis=(0, 2, 3))\n",
    "    batch_std = torch.std(data, axis=(0, 2, 3))\n",
    "    means = torch.cat((means, batch_mean.unsqueeze(0)))\n",
    "    stds = torch.cat((stds, batch_std.unsqueeze(0)))\n",
    "mean = torch.mean(means, axis=0)\n",
    "std = torch.mean(stds, axis=0)\n",
    "print(f'Mean: {mean}')\n",
    "print(f'Std: {std}')"
   ]
  },
  {
   "cell_type": "markdown",
   "metadata": {},
   "source": [
    "Creating train and test dataset and data loaders"
   ]
  },
  {
   "cell_type": "code",
   "execution_count": 6,
   "metadata": {},
   "outputs": [
    {
     "name": "stdout",
     "output_type": "stream",
     "text": [
      "Train dataset: size: 1560\n",
      "Train X | y batch shapes : (torch.Size([8, 3, 512, 512]), torch.Size([8]))\n"
     ]
    }
   ],
   "source": [
    "torch.manual_seed(6721)\n",
    "np.random.seed(6721)\n",
    "\n",
    "from torchvision.transforms import ToTensor, Compose, Normalize\n",
    "import torch\n",
    "from torch.utils.data import DataLoader, Subset\n",
    "from torchvision.datasets import ImageFolder\n",
    "\n",
    "data_transform = Compose([\n",
    "    Rescale(rescaled_size)\n",
    "    , ToTensor()\n",
    "    , Normalize(mean=mean, std=std)\n",
    "])\n",
    "\n",
    "train_dataset = ImageFolder(\n",
    "    root=train_data_dir\n",
    "    ,transform=data_transform\n",
    ")\n",
    "print(f'Train dataset: size: {len(train_dataset)}')\n",
    "\n",
    "train_dataloader = DataLoader(train_dataset, batch_size=8, shuffle=True)\n",
    "for data, labels in train_dataloader:\n",
    "    print(f'Train X | y batch shapes : {data.shape, labels.shape}')\n",
    "    break"
   ]
  },
  {
   "cell_type": "code",
   "execution_count": 7,
   "metadata": {},
   "outputs": [
    {
     "name": "stdout",
     "output_type": "stream",
     "text": [
      "Test dataset: size: 300\n",
      "Test X | y batch shapes : (torch.Size([8, 3, 512, 512]), torch.Size([8]))\n"
     ]
    }
   ],
   "source": [
    "data_dir_test = './data/2/test_combined/'\n",
    "\n",
    "test_dataset = ImageFolder(\n",
    "    root=data_dir_test\n",
    "    ,transform=data_transform\n",
    ")\n",
    "print(f'Test dataset: size: {len(test_dataset)}')\n",
    "\n",
    "test_dataloader = DataLoader(test_dataset, batch_size=8, shuffle=True)\n",
    "for data, labels in test_dataloader:\n",
    "    print(f'Test X | y batch shapes : {data.shape, labels.shape}')\n",
    "    break"
   ]
  },
  {
   "cell_type": "markdown",
   "metadata": {},
   "source": [
    "# 2. Data Modelling"
   ]
  },
  {
   "cell_type": "markdown",
   "metadata": {},
   "source": [
    "### 2.1. Model Definition"
   ]
  },
  {
   "cell_type": "code",
   "execution_count": 8,
   "metadata": {},
   "outputs": [],
   "source": [
    "from torch.nn import Sequential, Module, Conv2d, MaxPool2d, Linear, ReLU, Dropout, BatchNorm2d, LeakyReLU, AdaptiveAvgPool2d, Flatten\n",
    "\n",
    "class ProjectModel(Module):\n",
    "    def __init__(self, num_classes=3):\n",
    "        super(ProjectModel, self).__init__()\n",
    "        self.module = Sequential(\n",
    "            Conv2d(3, 32, kernel_size=3, stride=1, padding=2)\n",
    "            , BatchNorm2d(32)\n",
    "            , LeakyReLU(inplace=True)\n",
    "            \n",
    "            , Conv2d(32, 32, kernel_size=3, stride=1, padding=0)\n",
    "            , BatchNorm2d(32)\n",
    "            , LeakyReLU(inplace=True)\n",
    "            \n",
    "            , MaxPool2d(kernel_size=2, stride=2)\n",
    "            \n",
    "            , Conv2d(32, 64, kernel_size=3, stride=1, padding=0)\n",
    "            , BatchNorm2d(64)\n",
    "            , LeakyReLU(inplace=True)\n",
    "            \n",
    "            , Conv2d(64, 64, kernel_size=3, stride=1, padding=0)\n",
    "            , BatchNorm2d(64)\n",
    "            , LeakyReLU(inplace=True)\n",
    "            \n",
    "            , MaxPool2d(kernel_size=2, stride=2)\n",
    "            \n",
    "            , AdaptiveAvgPool2d(output_size=(12, 12))\n",
    "            \n",
    "            , Flatten()\n",
    "            , Dropout(p=0.2, inplace=False)\n",
    "            , Linear(in_features=64*12*12, out_features=4096, bias=True)\n",
    "            , Dropout(p=0.2, inplace=False)\n",
    "            , Linear(in_features=4096, out_features=512, bias=True)\n",
    "            , Dropout(p=0.2, inplace=False)\n",
    "            , Linear(in_features=512, out_features=num_classes, bias=True)\n",
    "        )\n",
    "        \n",
    "    def forward(self, X):\n",
    "        return self.module(X)"
   ]
  },
  {
   "cell_type": "markdown",
   "metadata": {},
   "source": [
    "### 2.2. Integrity Test"
   ]
  },
  {
   "cell_type": "code",
   "execution_count": 9,
   "metadata": {},
   "outputs": [
    {
     "name": "stdout",
     "output_type": "stream",
     "text": [
      "tensor([[-0.0616,  0.1143,  0.0773],\n",
      "        [ 0.0836,  0.3023,  0.0085],\n",
      "        [-0.2261, -0.1108, -0.1475],\n",
      "        [-0.2124,  0.0901,  0.0820],\n",
      "        [-0.1941, -0.3585, -0.0777],\n",
      "        [-0.0666,  0.2809, -0.1820],\n",
      "        [-0.0859,  0.0528,  0.1173],\n",
      "        [-0.1550, -0.1460, -0.0233]], grad_fn=<AddmmBackward>)\n",
      "tensor([1, 1, 1, 1, 2, 1, 2, 2])\n",
      "Accuracy: 25.0\n",
      "Model test passed.\n"
     ]
    }
   ],
   "source": [
    "torch.manual_seed(6721)\n",
    "np.random.seed(6721)\n",
    "\n",
    "net = ProjectModel()\n",
    "\n",
    "device = torch.device('cuda' if torch.cuda.is_available() else 'cpu')\n",
    "net = net.to(device)\n",
    "\n",
    "# Model Unit test\n",
    "total_labels = 0\n",
    "correct_labels = 0\n",
    "for data, labels in train_dataloader:\n",
    "    torch.cuda.empty_cache()\n",
    "    data, labels = data.to(device), labels.to(device)\n",
    "    outputs = net(data)\n",
    "    print(outputs)\n",
    "    y_pred = torch.argmax(outputs, dim=1)\n",
    "    print(y_pred)\n",
    "    total_labels+=labels.size(0)\n",
    "    correct_labels += (y_pred==labels).sum().item()\n",
    "    break\n",
    "\n",
    "print(f'Accuracy: {(correct_labels/total_labels)*100}')\n",
    "print('Model test passed.')"
   ]
  },
  {
   "cell_type": "markdown",
   "metadata": {},
   "source": [
    "### 2.3. Model Parameter Initializations"
   ]
  },
  {
   "cell_type": "code",
   "execution_count": 10,
   "metadata": {},
   "outputs": [
    {
     "data": {
      "text/plain": [
       "ProjectModel(\n",
       "  (module): Sequential(\n",
       "    (0): Conv2d(3, 32, kernel_size=(3, 3), stride=(1, 1), padding=(2, 2))\n",
       "    (1): BatchNorm2d(32, eps=1e-05, momentum=0.1, affine=True, track_running_stats=True)\n",
       "    (2): LeakyReLU(negative_slope=0.01, inplace=True)\n",
       "    (3): Conv2d(32, 32, kernel_size=(3, 3), stride=(1, 1))\n",
       "    (4): BatchNorm2d(32, eps=1e-05, momentum=0.1, affine=True, track_running_stats=True)\n",
       "    (5): LeakyReLU(negative_slope=0.01, inplace=True)\n",
       "    (6): MaxPool2d(kernel_size=2, stride=2, padding=0, dilation=1, ceil_mode=False)\n",
       "    (7): Conv2d(32, 64, kernel_size=(3, 3), stride=(1, 1))\n",
       "    (8): BatchNorm2d(64, eps=1e-05, momentum=0.1, affine=True, track_running_stats=True)\n",
       "    (9): LeakyReLU(negative_slope=0.01, inplace=True)\n",
       "    (10): Conv2d(64, 64, kernel_size=(3, 3), stride=(1, 1))\n",
       "    (11): BatchNorm2d(64, eps=1e-05, momentum=0.1, affine=True, track_running_stats=True)\n",
       "    (12): LeakyReLU(negative_slope=0.01, inplace=True)\n",
       "    (13): MaxPool2d(kernel_size=2, stride=2, padding=0, dilation=1, ceil_mode=False)\n",
       "    (14): AdaptiveAvgPool2d(output_size=(12, 12))\n",
       "    (15): Flatten(start_dim=1, end_dim=-1)\n",
       "    (16): Dropout(p=0.2, inplace=False)\n",
       "    (17): Linear(in_features=9216, out_features=4096, bias=True)\n",
       "    (18): Dropout(p=0.2, inplace=False)\n",
       "    (19): Linear(in_features=4096, out_features=512, bias=True)\n",
       "    (20): Dropout(p=0.2, inplace=False)\n",
       "    (21): Linear(in_features=512, out_features=3, bias=True)\n",
       "  )\n",
       ")"
      ]
     },
     "execution_count": 10,
     "metadata": {},
     "output_type": "execute_result"
    }
   ],
   "source": [
    "torch.manual_seed(6721)\n",
    "np.random.seed(6721)\n",
    "\n",
    "def initialize_linear_layer_weights(layer):\n",
    "    torch.nn.init.xavier_uniform_(layer.weight)\n",
    "    torch.nn.init.zeros_(layer.bias)\n",
    "        \n",
    "def initialize_conv2d_layer_weights(layer):\n",
    "    torch.nn.init.xavier_uniform_(layer.weight)\n",
    "    \n",
    "def initialize_model_weights(module):\n",
    "    if isinstance(module, ProjectModel):\n",
    "        return\n",
    "    elif isinstance(module, Sequential):\n",
    "        return\n",
    "    if isinstance(module, Conv2d):\n",
    "        initialize_conv2d_layer_weights(module)\n",
    "    if isinstance(module, Linear):\n",
    "        initialize_linear_layer_weights(module)\n",
    "\n",
    "\n",
    "net = ProjectModel()\n",
    "net.apply(initialize_model_weights)"
   ]
  },
  {
   "cell_type": "markdown",
   "metadata": {},
   "source": [
    "### 2.4. Training"
   ]
  },
  {
   "cell_type": "markdown",
   "metadata": {},
   "source": [
    "Training Parameter Configurations"
   ]
  },
  {
   "cell_type": "code",
   "execution_count": 11,
   "metadata": {},
   "outputs": [],
   "source": [
    "torch.manual_seed(6721)\n",
    "np.random.seed(6721)\n",
    "\n",
    "from torch.optim import SGD, Adam\n",
    "from torch.nn import CrossEntropyLoss\n",
    "import time\n",
    "\n",
    "num_epoch = 10\n",
    "lr = 1e-3\n",
    "momentum = 0.5\n",
    "\n",
    "loss_evaluater = CrossEntropyLoss()\n",
    "optimizer = Adam(net.parameters(), lr=lr)\n",
    "\n",
    "device = torch.device('cuda' if torch.cuda.is_available() else 'cpu')\n",
    "device = torch.device('cpu')\n",
    "net = net.to(device)"
   ]
  },
  {
   "cell_type": "markdown",
   "metadata": {},
   "source": [
    "Training"
   ]
  },
  {
   "cell_type": "code",
   "execution_count": 12,
   "metadata": {
    "scrolled": false
   },
   "outputs": [
    {
     "name": "stdout",
     "output_type": "stream",
     "text": [
      "Epoch: 1\n",
      "After 0 batches: [time:0.0m 22.319515466690063s, Accuracy: 37.5]\n",
      "After 5 batches: [time:0.0m 57.09776520729065s, Accuracy: 50.0]\n",
      "After 10 batches: [time:1.0m 26.76083540916443s, Accuracy: 44.31818181818182]\n",
      "After 15 batches: [time:1.0m 56.708576917648315s, Accuracy: 42.96875]\n",
      "After 20 batches: [time:2.0m 27.10187554359436s, Accuracy: 46.42857142857143]\n",
      "After 25 batches: [time:2.0m 56.68959164619446s, Accuracy: 50.480769230769226]\n",
      "After 30 batches: [time:3.0m 26.20580816268921s, Accuracy: 50.0]\n",
      "After 35 batches: [time:3.0m 56.57453155517578s, Accuracy: 49.65277777777778]\n",
      "After 40 batches: [time:4.0m 25.77860927581787s, Accuracy: 48.78048780487805]\n",
      "After 45 batches: [time:4.0m 55.04775428771973s, Accuracy: 48.09782608695652]\n",
      "After 50 batches: [time:5.0m 24.435781002044678s, Accuracy: 46.568627450980394]\n",
      "After 55 batches: [time:5.0m 53.58734655380249s, Accuracy: 47.098214285714285]\n",
      "After 60 batches: [time:6.0m 23.66875386238098s, Accuracy: 46.51639344262295]\n",
      "After 65 batches: [time:6.0m 52.76764440536499s, Accuracy: 46.21212121212121]\n",
      "After 70 batches: [time:7.0m 22.477644205093384s, Accuracy: 47.183098591549296]\n",
      "After 75 batches: [time:7.0m 51.70620131492615s, Accuracy: 47.53289473684211]\n",
      "After 80 batches: [time:8.0m 21.629308700561523s, Accuracy: 47.376543209876544]\n",
      "After 85 batches: [time:8.0m 51.55110287666321s, Accuracy: 47.383720930232556]\n",
      "After 90 batches: [time:9.0m 23.134733200073242s, Accuracy: 47.8021978021978]\n",
      "After 95 batches: [time:9.0m 53.39037799835205s, Accuracy: 47.13541666666667]\n",
      "After 100 batches: [time:10.0m 26.673622369766235s, Accuracy: 47.524752475247524]\n",
      "After 105 batches: [time:10.0m 58.31381297111511s, Accuracy: 47.759433962264154]\n",
      "After 110 batches: [time:11.0m 31.751371383666992s, Accuracy: 47.74774774774775]\n",
      "After 115 batches: [time:12.0m 4.595003843307495s, Accuracy: 48.168103448275865]\n",
      "After 120 batches: [time:12.0m 35.253584146499634s, Accuracy: 48.760330578512395]\n",
      "After 125 batches: [time:13.0m 6.186625003814697s, Accuracy: 49.404761904761905]\n",
      "After 130 batches: [time:13.0m 36.88314199447632s, Accuracy: 48.95038167938932]\n",
      "After 135 batches: [time:14.0m 7.528554439544678s, Accuracy: 49.26470588235294]\n",
      "After 140 batches: [time:14.0m 41.49596953392029s, Accuracy: 48.847517730496456]\n",
      "After 145 batches: [time:15.0m 15.06709623336792s, Accuracy: 48.715753424657535]\n",
      "After 150 batches: [time:15.0m 48.58121204376221s, Accuracy: 49.25496688741722]\n",
      "After 155 batches: [time:16.0m 19.478886127471924s, Accuracy: 49.519230769230774]\n",
      "After 160 batches: [time:16.0m 51.70501637458801s, Accuracy: 49.61180124223603]\n",
      "After 165 batches: [time:17.0m 22.058489561080933s, Accuracy: 49.32228915662651]\n",
      "After 170 batches: [time:17.0m 54.635427474975586s, Accuracy: 49.63450292397661]\n",
      "After 175 batches: [time:18.0m 22.909666299819946s, Accuracy: 50.21306818181818]\n",
      "After 180 batches: [time:18.0m 51.852211713790894s, Accuracy: 50.89779005524861]\n",
      "After 185 batches: [time:19.0m 20.383765935897827s, Accuracy: 51.20967741935484]\n",
      "After 190 batches: [time:19.0m 49.13348412513733s, Accuracy: 51.57068062827225]\n",
      "Epoch 1: [time:20.0m 12.106850862503052s, Accuracy: 52.05128205128206]\n",
      "\n",
      "Epoch: 2\n",
      "After 0 batches: [time:0.0m 5.680931329727173s, Accuracy: 50.0]\n",
      "After 5 batches: [time:0.0m 33.728251218795776s, Accuracy: 64.58333333333334]\n",
      "After 10 batches: [time:1.0m 2.493662118911743s, Accuracy: 64.77272727272727]\n",
      "After 15 batches: [time:1.0m 31.219660997390747s, Accuracy: 59.375]\n",
      "After 20 batches: [time:2.0m 0.11529660224914551s, Accuracy: 58.333333333333336]\n",
      "After 25 batches: [time:2.0m 34.82796502113342s, Accuracy: 59.13461538461539]\n",
      "After 30 batches: [time:3.0m 6.2365052700042725s, Accuracy: 60.483870967741936]\n",
      "After 35 batches: [time:3.0m 38.51436519622803s, Accuracy: 58.68055555555556]\n",
      "After 40 batches: [time:4.0m 10.41141152381897s, Accuracy: 59.756097560975604]\n",
      "After 45 batches: [time:4.0m 40.53234839439392s, Accuracy: 60.05434782608695]\n",
      "After 50 batches: [time:5.0m 15.235074996948242s, Accuracy: 61.029411764705884]\n",
      "After 55 batches: [time:5.0m 49.63273024559021s, Accuracy: 61.16071428571429]\n",
      "After 60 batches: [time:6.0m 18.819921493530273s, Accuracy: 60.86065573770492]\n",
      "After 65 batches: [time:6.0m 47.33574438095093s, Accuracy: 60.984848484848484]\n",
      "After 70 batches: [time:7.0m 16.405803442001343s, Accuracy: 61.61971830985915]\n",
      "After 75 batches: [time:7.0m 44.98681163787842s, Accuracy: 61.18421052631579]\n",
      "After 80 batches: [time:8.0m 13.47539234161377s, Accuracy: 59.72222222222222]\n",
      "After 85 batches: [time:8.0m 42.39414620399475s, Accuracy: 59.44767441860465]\n",
      "After 90 batches: [time:9.0m 10.71870756149292s, Accuracy: 59.47802197802198]\n",
      "After 95 batches: [time:9.0m 39.33929967880249s, Accuracy: 59.895833333333336]\n",
      "After 100 batches: [time:10.0m 8.860578060150146s, Accuracy: 59.4059405940594]\n",
      "After 105 batches: [time:10.0m 39.560351848602295s, Accuracy: 59.31603773584906]\n",
      "After 110 batches: [time:11.0m 24.790650606155396s, Accuracy: 59.68468468468468]\n",
      "After 115 batches: [time:12.0m 12.971128463745117s, Accuracy: 59.375]\n",
      "After 120 batches: [time:12.0m 45.96150302886963s, Accuracy: 59.917355371900825]\n",
      "After 125 batches: [time:13.0m 15.68068242073059s, Accuracy: 60.019841269841265]\n",
      "After 130 batches: [time:13.0m 47.53339409828186s, Accuracy: 60.20992366412214]\n",
      "After 135 batches: [time:14.0m 17.767472505569458s, Accuracy: 61.12132352941176]\n",
      "After 140 batches: [time:14.0m 46.36320114135742s, Accuracy: 61.702127659574465]\n",
      "After 145 batches: [time:15.0m 14.985764741897583s, Accuracy: 61.215753424657535]\n",
      "After 150 batches: [time:15.0m 42.42201781272888s, Accuracy: 61.258278145695364]\n",
      "After 155 batches: [time:16.0m 10.988832950592041s, Accuracy: 61.29807692307693]\n",
      "After 160 batches: [time:16.0m 39.717066049575806s, Accuracy: 61.33540372670807]\n",
      "After 165 batches: [time:17.0m 6.397764205932617s, Accuracy: 61.44578313253012]\n",
      "After 170 batches: [time:17.0m 33.290655851364136s, Accuracy: 61.33040935672515]\n",
      "After 175 batches: [time:18.0m 1.759963035583496s, Accuracy: 61.29261363636363]\n",
      "After 180 batches: [time:18.0m 30.664557218551636s, Accuracy: 61.11878453038674]\n",
      "After 185 batches: [time:18.0m 57.898751974105835s, Accuracy: 60.752688172043015]\n",
      "After 190 batches: [time:19.0m 26.80368208885193s, Accuracy: 60.6020942408377]\n",
      "Epoch 2: [time:19.0m 50.75467133522034s, Accuracy: 60.57692307692307]\n",
      "\n",
      "Epoch: 3\n",
      "After 0 batches: [time:0.0m 5.133301496505737s, Accuracy: 75.0]\n",
      "After 5 batches: [time:0.0m 31.25954508781433s, Accuracy: 68.75]\n",
      "After 10 batches: [time:0.0m 58.97445893287659s, Accuracy: 61.36363636363637]\n",
      "After 15 batches: [time:1.0m 28.479260206222534s, Accuracy: 67.96875]\n",
      "After 20 batches: [time:1.0m 57.12257742881775s, Accuracy: 67.85714285714286]\n",
      "After 25 batches: [time:2.0m 24.97798180580139s, Accuracy: 67.78846153846155]\n",
      "After 30 batches: [time:2.0m 50.84283256530762s, Accuracy: 66.12903225806451]\n",
      "After 35 batches: [time:3.0m 16.467880487442017s, Accuracy: 67.70833333333334]\n",
      "After 40 batches: [time:3.0m 42.607959032058716s, Accuracy: 67.6829268292683]\n",
      "After 45 batches: [time:4.0m 8.289334774017334s, Accuracy: 67.11956521739131]\n",
      "After 50 batches: [time:4.0m 33.89992713928223s, Accuracy: 67.15686274509804]\n",
      "After 55 batches: [time:4.0m 59.5484094619751s, Accuracy: 65.84821428571429]\n",
      "After 60 batches: [time:5.0m 25.309534549713135s, Accuracy: 64.54918032786885]\n",
      "After 65 batches: [time:5.0m 50.976950883865356s, Accuracy: 64.39393939393939]\n",
      "After 70 batches: [time:6.0m 17.027350187301636s, Accuracy: 64.43661971830986]\n",
      "After 75 batches: [time:6.0m 42.91924715042114s, Accuracy: 64.30921052631578]\n",
      "After 80 batches: [time:7.0m 8.880655288696289s, Accuracy: 64.50617283950618]\n",
      "After 85 batches: [time:7.0m 35.803635597229004s, Accuracy: 64.09883720930233]\n",
      "After 90 batches: [time:8.0m 1.6343185901641846s, Accuracy: 65.10989010989012]\n",
      "After 95 batches: [time:8.0m 29.75066304206848s, Accuracy: 65.36458333333334]\n",
      "After 100 batches: [time:8.0m 58.38154077529907s, Accuracy: 65.71782178217822]\n",
      "After 105 batches: [time:9.0m 27.40367293357849s, Accuracy: 65.56603773584906]\n",
      "After 110 batches: [time:9.0m 53.47338104248047s, Accuracy: 65.31531531531532]\n",
      "After 115 batches: [time:10.0m 19.724202871322632s, Accuracy: 65.625]\n",
      "After 120 batches: [time:10.0m 45.41600489616394s, Accuracy: 65.70247933884298]\n"
     ]
    },
    {
     "name": "stdout",
     "output_type": "stream",
     "text": [
      "After 125 batches: [time:11.0m 13.53137469291687s, Accuracy: 65.57539682539682]\n",
      "After 130 batches: [time:11.0m 40.49973106384277s, Accuracy: 65.45801526717557]\n",
      "After 135 batches: [time:12.0m 10.059223890304565s, Accuracy: 64.88970588235294]\n",
      "After 140 batches: [time:12.0m 38.70466423034668s, Accuracy: 65.1595744680851]\n",
      "After 145 batches: [time:13.0m 4.571072816848755s, Accuracy: 64.8972602739726]\n",
      "After 150 batches: [time:13.0m 31.082085847854614s, Accuracy: 64.90066225165563]\n",
      "After 155 batches: [time:13.0m 56.94801878929138s, Accuracy: 65.38461538461539]\n",
      "After 160 batches: [time:14.0m 23.7987802028656s, Accuracy: 65.6055900621118]\n",
      "After 165 batches: [time:14.0m 49.199352979660034s, Accuracy: 65.4367469879518]\n",
      "After 170 batches: [time:15.0m 16.604214668273926s, Accuracy: 65.49707602339181]\n",
      "After 175 batches: [time:15.0m 42.98229956626892s, Accuracy: 65.76704545454545]\n",
      "After 180 batches: [time:16.0m 10.733662605285645s, Accuracy: 65.88397790055248]\n",
      "After 185 batches: [time:16.0m 38.953582525253296s, Accuracy: 65.7258064516129]\n",
      "After 190 batches: [time:17.0m 7.695366621017456s, Accuracy: 65.90314136125654]\n",
      "Epoch 3: [time:17.0m 28.2738618850708s, Accuracy: 65.7051282051282]\n",
      "\n",
      "Epoch: 4\n",
      "After 0 batches: [time:0.0m 5.5740861892700195s, Accuracy: 87.5]\n",
      "After 5 batches: [time:0.0m 31.725144624710083s, Accuracy: 72.91666666666666]\n",
      "After 10 batches: [time:0.0m 57.63349223136902s, Accuracy: 72.72727272727273]\n",
      "After 15 batches: [time:1.0m 23.67046809196472s, Accuracy: 70.3125]\n",
      "After 20 batches: [time:1.0m 55.56702733039856s, Accuracy: 66.66666666666666]\n",
      "After 25 batches: [time:2.0m 24.115116357803345s, Accuracy: 67.78846153846155]\n",
      "After 30 batches: [time:2.0m 51.99966335296631s, Accuracy: 68.14516129032258]\n",
      "After 35 batches: [time:3.0m 18.80940556526184s, Accuracy: 68.05555555555556]\n",
      "After 40 batches: [time:3.0m 46.51076531410217s, Accuracy: 66.46341463414635]\n",
      "After 45 batches: [time:4.0m 14.91897463798523s, Accuracy: 66.30434782608695]\n",
      "After 50 batches: [time:4.0m 42.39006519317627s, Accuracy: 66.91176470588235]\n",
      "After 55 batches: [time:5.0m 8.205631971359253s, Accuracy: 67.41071428571429]\n",
      "After 60 batches: [time:5.0m 33.764835357666016s, Accuracy: 68.23770491803278]\n",
      "After 65 batches: [time:5.0m 59.67496919631958s, Accuracy: 68.56060606060606]\n",
      "After 70 batches: [time:6.0m 25.671684741973877s, Accuracy: 67.95774647887323]\n",
      "After 75 batches: [time:6.0m 52.98012185096741s, Accuracy: 67.92763157894737]\n",
      "After 80 batches: [time:7.0m 19.35965085029602s, Accuracy: 67.5925925925926]\n",
      "After 85 batches: [time:7.0m 45.800753116607666s, Accuracy: 66.13372093023256]\n",
      "After 90 batches: [time:8.0m 11.940991878509521s, Accuracy: 64.97252747252747]\n",
      "After 95 batches: [time:8.0m 41.077149391174316s, Accuracy: 65.625]\n",
      "After 100 batches: [time:9.0m 11.533783435821533s, Accuracy: 65.47029702970298]\n",
      "After 105 batches: [time:9.0m 42.14132070541382s, Accuracy: 65.44811320754717]\n",
      "After 110 batches: [time:10.0m 11.091480255126953s, Accuracy: 65.76576576576578]\n",
      "After 115 batches: [time:10.0m 39.662198305130005s, Accuracy: 65.625]\n",
      "After 120 batches: [time:11.0m 9.128807067871094s, Accuracy: 65.599173553719]\n",
      "After 125 batches: [time:11.0m 37.34544086456299s, Accuracy: 66.36904761904762]\n",
      "After 130 batches: [time:12.0m 6.948341131210327s, Accuracy: 66.41221374045801]\n",
      "After 135 batches: [time:12.0m 38.09794282913208s, Accuracy: 66.91176470588235]\n",
      "After 140 batches: [time:13.0m 8.322098016738892s, Accuracy: 67.19858156028369]\n",
      "After 145 batches: [time:13.0m 37.16158127784729s, Accuracy: 66.86643835616438]\n",
      "After 150 batches: [time:14.0m 8.659628868103027s, Accuracy: 66.63907284768213]\n",
      "After 155 batches: [time:14.0m 37.511656045913696s, Accuracy: 66.90705128205127]\n",
      "After 160 batches: [time:15.0m 5.601492166519165s, Accuracy: 66.92546583850931]\n",
      "After 165 batches: [time:15.0m 33.70040535926819s, Accuracy: 67.01807228915662]\n",
      "After 170 batches: [time:16.0m 1.9050233364105225s, Accuracy: 66.73976608187134]\n",
      "After 175 batches: [time:16.0m 30.34095525741577s, Accuracy: 66.76136363636364]\n",
      "After 180 batches: [time:16.0m 58.22251558303833s, Accuracy: 66.78176795580112]\n",
      "After 185 batches: [time:17.0m 26.048598051071167s, Accuracy: 67.20430107526882]\n",
      "After 190 batches: [time:17.0m 54.01087141036987s, Accuracy: 67.27748691099477]\n",
      "Epoch 4: [time:18.0m 16.35762310028076s, Accuracy: 67.11538461538461]\n",
      "\n",
      "Epoch: 5\n",
      "After 0 batches: [time:0.0m 5.532704830169678s, Accuracy: 62.5]\n",
      "After 5 batches: [time:0.0m 33.416629791259766s, Accuracy: 56.25]\n",
      "After 10 batches: [time:1.0m 1.3180034160614014s, Accuracy: 59.09090909090909]\n",
      "After 15 batches: [time:1.0m 31.059018850326538s, Accuracy: 63.28125]\n",
      "After 20 batches: [time:2.0m 2.895977735519409s, Accuracy: 62.5]\n",
      "After 25 batches: [time:2.0m 34.70068287849426s, Accuracy: 62.980769230769226]\n",
      "After 30 batches: [time:3.0m 4.73647141456604s, Accuracy: 65.32258064516128]\n",
      "After 35 batches: [time:3.0m 33.73448610305786s, Accuracy: 63.541666666666664]\n",
      "After 40 batches: [time:4.0m 5.201859474182129s, Accuracy: 62.5]\n",
      "After 45 batches: [time:5.0m 9.276613235473633s, Accuracy: 63.315217391304344]\n",
      "After 50 batches: [time:5.0m 58.528462648391724s, Accuracy: 62.5]\n",
      "After 55 batches: [time:6.0m 45.88508200645447s, Accuracy: 63.16964285714286]\n",
      "After 60 batches: [time:7.0m 33.37840247154236s, Accuracy: 64.75409836065575]\n",
      "After 65 batches: [time:8.0m 20.189311742782593s, Accuracy: 65.3409090909091]\n",
      "After 70 batches: [time:9.0m 7.354959726333618s, Accuracy: 65.3169014084507]\n",
      "After 75 batches: [time:9.0m 54.80042219161987s, Accuracy: 65.13157894736842]\n",
      "After 80 batches: [time:10.0m 41.919538497924805s, Accuracy: 66.35802469135803]\n",
      "After 85 batches: [time:11.0m 29.419255018234253s, Accuracy: 67.15116279069767]\n",
      "After 90 batches: [time:12.0m 17.063283681869507s, Accuracy: 67.58241758241759]\n",
      "After 95 batches: [time:13.0m 4.456652641296387s, Accuracy: 67.44791666666666]\n",
      "After 100 batches: [time:13.0m 51.97957158088684s, Accuracy: 67.94554455445545]\n",
      "After 105 batches: [time:14.0m 40.4581663608551s, Accuracy: 68.27830188679245]\n",
      "After 110 batches: [time:15.0m 27.51590847969055s, Accuracy: 68.58108108108108]\n",
      "After 115 batches: [time:16.0m 12.535521984100342s, Accuracy: 68.21120689655173]\n",
      "After 120 batches: [time:16.0m 59.85109233856201s, Accuracy: 68.59504132231406]\n",
      "After 125 batches: [time:17.0m 47.00166630744934s, Accuracy: 68.15476190476191]\n",
      "After 130 batches: [time:18.0m 34.21179008483887s, Accuracy: 68.12977099236642]\n",
      "After 135 batches: [time:19.0m 20.745410203933716s, Accuracy: 68.19852941176471]\n",
      "After 140 batches: [time:20.0m 9.322130918502808s, Accuracy: 68.70567375886525]\n",
      "After 145 batches: [time:20.0m 54.48671054840088s, Accuracy: 68.83561643835617]\n",
      "After 150 batches: [time:21.0m 37.273812770843506s, Accuracy: 69.03973509933775]\n",
      "After 155 batches: [time:22.0m 24.588859796524048s, Accuracy: 69.15064102564102]\n",
      "After 160 batches: [time:23.0m 6.382165193557739s, Accuracy: 69.25465838509317]\n",
      "After 165 batches: [time:23.0m 49.506757974624634s, Accuracy: 69.27710843373494]\n",
      "After 170 batches: [time:24.0m 30.328871488571167s, Accuracy: 69.5906432748538]\n",
      "After 175 batches: [time:25.0m 11.557862997055054s, Accuracy: 69.46022727272727]\n",
      "After 180 batches: [time:25.0m 55.46100902557373s, Accuracy: 69.47513812154696]\n",
      "After 185 batches: [time:26.0m 41.60979962348938s, Accuracy: 69.75806451612904]\n",
      "After 190 batches: [time:27.0m 26.18675208091736s, Accuracy: 69.89528795811518]\n",
      "Epoch 5: [time:28.0m 5.986266613006592s, Accuracy: 69.93589743589743]\n",
      "\n",
      "Epoch: 6\n",
      "After 0 batches: [time:0.0m 13.154914855957031s, Accuracy: 75.0]\n",
      "After 5 batches: [time:1.0m 5.46443772315979s, Accuracy: 64.58333333333334]\n",
      "After 10 batches: [time:1.0m 49.489351987838745s, Accuracy: 64.77272727272727]\n",
      "After 15 batches: [time:2.0m 34.10386347770691s, Accuracy: 60.15625]\n",
      "After 20 batches: [time:3.0m 17.68799352645874s, Accuracy: 66.66666666666666]\n",
      "After 25 batches: [time:4.0m 1.0834014415740967s, Accuracy: 66.82692307692307]\n",
      "After 30 batches: [time:4.0m 45.74786329269409s, Accuracy: 68.54838709677419]\n",
      "After 35 batches: [time:5.0m 30.453490734100342s, Accuracy: 69.09722222222221]\n",
      "After 40 batches: [time:6.0m 17.971296787261963s, Accuracy: 68.90243902439023]\n",
      "After 45 batches: [time:7.0m 1.509767770767212s, Accuracy: 70.38043478260869]\n",
      "After 50 batches: [time:7.0m 44.682547092437744s, Accuracy: 70.34313725490196]\n"
     ]
    },
    {
     "name": "stdout",
     "output_type": "stream",
     "text": [
      "After 55 batches: [time:8.0m 29.129517078399658s, Accuracy: 70.98214285714286]\n",
      "After 60 batches: [time:9.0m 11.942581176757812s, Accuracy: 71.31147540983606]\n",
      "After 65 batches: [time:9.0m 54.56153106689453s, Accuracy: 71.5909090909091]\n",
      "After 70 batches: [time:10.0m 37.83346748352051s, Accuracy: 71.65492957746478]\n",
      "After 75 batches: [time:11.0m 21.002382516860962s, Accuracy: 71.05263157894737]\n",
      "After 80 batches: [time:12.0m 4.61480450630188s, Accuracy: 71.4506172839506]\n",
      "After 85 batches: [time:12.0m 48.51694321632385s, Accuracy: 71.80232558139535]\n",
      "After 90 batches: [time:13.0m 29.329492330551147s, Accuracy: 72.52747252747253]\n",
      "After 95 batches: [time:14.0m 4.019189357757568s, Accuracy: 72.78645833333334]\n",
      "After 100 batches: [time:14.0m 39.50917387008667s, Accuracy: 73.01980198019803]\n",
      "After 105 batches: [time:15.0m 14.641855001449585s, Accuracy: 72.75943396226415]\n",
      "After 110 batches: [time:15.0m 52.67934441566467s, Accuracy: 72.63513513513513]\n",
      "After 115 batches: [time:16.0m 30.37817621231079s, Accuracy: 73.0603448275862]\n",
      "After 120 batches: [time:17.0m 6.207077264785767s, Accuracy: 72.93388429752066]\n",
      "After 125 batches: [time:17.0m 42.87396693229675s, Accuracy: 72.42063492063492]\n",
      "After 130 batches: [time:18.0m 17.29419207572937s, Accuracy: 72.42366412213741]\n",
      "After 135 batches: [time:18.0m 55.010629177093506s, Accuracy: 72.15073529411765]\n",
      "After 140 batches: [time:19.0m 29.36929702758789s, Accuracy: 71.98581560283688]\n",
      "After 145 batches: [time:20.0m 1.152278184890747s, Accuracy: 71.91780821917808]\n",
      "After 150 batches: [time:20.0m 28.774904012680054s, Accuracy: 72.01986754966887]\n",
      "After 155 batches: [time:20.0m 58.35237264633179s, Accuracy: 72.03525641025641]\n",
      "After 160 batches: [time:21.0m 30.921746492385864s, Accuracy: 72.28260869565217]\n",
      "After 165 batches: [time:22.0m 2.428792715072632s, Accuracy: 72.28915662650603]\n",
      "After 170 batches: [time:22.0m 31.538810968399048s, Accuracy: 72.44152046783626]\n",
      "After 175 batches: [time:22.0m 59.152774810791016s, Accuracy: 72.58522727272727]\n",
      "After 180 batches: [time:23.0m 26.99232506752014s, Accuracy: 72.37569060773481]\n",
      "After 185 batches: [time:23.0m 56.64174175262451s, Accuracy: 72.24462365591397]\n",
      "After 190 batches: [time:24.0m 27.237555027008057s, Accuracy: 72.4476439790576]\n",
      "Epoch 6: [time:24.0m 51.94471001625061s, Accuracy: 72.37179487179488]\n",
      "\n",
      "Epoch: 7\n",
      "After 0 batches: [time:0.0m 6.140592336654663s, Accuracy: 100.0]\n",
      "After 5 batches: [time:0.0m 35.52143716812134s, Accuracy: 81.25]\n",
      "After 10 batches: [time:1.0m 5.058527946472168s, Accuracy: 80.68181818181817]\n",
      "After 15 batches: [time:1.0m 36.38706064224243s, Accuracy: 78.90625]\n",
      "After 20 batches: [time:2.0m 5.949991703033447s, Accuracy: 79.16666666666666]\n",
      "After 25 batches: [time:2.0m 35.748088121414185s, Accuracy: 80.28846153846155]\n",
      "After 30 batches: [time:3.0m 4.72730278968811s, Accuracy: 80.24193548387096]\n",
      "After 35 batches: [time:3.0m 32.39478421211243s, Accuracy: 79.51388888888889]\n",
      "After 40 batches: [time:4.0m 1.8151881694793701s, Accuracy: 79.57317073170732]\n",
      "After 45 batches: [time:4.0m 29.95528244972229s, Accuracy: 78.80434782608695]\n",
      "After 50 batches: [time:4.0m 59.73809266090393s, Accuracy: 78.67647058823529]\n",
      "After 55 batches: [time:5.0m 32.348400592803955s, Accuracy: 78.34821428571429]\n",
      "After 60 batches: [time:6.0m 3.8827664852142334s, Accuracy: 76.63934426229508]\n",
      "After 65 batches: [time:6.0m 33.11367154121399s, Accuracy: 75.9469696969697]\n",
      "After 70 batches: [time:7.0m 3.822206735610962s, Accuracy: 77.11267605633803]\n",
      "After 75 batches: [time:7.0m 35.54728651046753s, Accuracy: 77.13815789473685]\n",
      "After 80 batches: [time:8.0m 2.8374433517456055s, Accuracy: 77.1604938271605]\n",
      "After 85 batches: [time:8.0m 31.74552273750305s, Accuracy: 77.18023255813954]\n",
      "After 90 batches: [time:9.0m 1.214475154876709s, Accuracy: 76.92307692307693]\n",
      "After 95 batches: [time:9.0m 32.56770992279053s, Accuracy: 76.82291666666666]\n",
      "After 100 batches: [time:10.0m 2.7347309589385986s, Accuracy: 76.85643564356435]\n",
      "After 105 batches: [time:10.0m 32.06089520454407s, Accuracy: 77.35849056603774]\n",
      "After 110 batches: [time:11.0m 2.5163118839263916s, Accuracy: 77.7027027027027]\n",
      "After 115 batches: [time:11.0m 29.91072988510132s, Accuracy: 77.15517241379311]\n",
      "After 120 batches: [time:11.0m 57.419153928756714s, Accuracy: 76.75619834710744]\n",
      "After 125 batches: [time:13.0m 2.3877816200256348s, Accuracy: 76.98412698412699]\n",
      "After 130 batches: [time:13.0m 52.261409759521484s, Accuracy: 76.81297709923665]\n",
      "After 135 batches: [time:14.0m 35.917423486709595s, Accuracy: 76.5625]\n",
      "After 140 batches: [time:15.0m 20.63643479347229s, Accuracy: 76.32978723404256]\n",
      "After 145 batches: [time:16.0m 8.295649766921997s, Accuracy: 76.28424657534246]\n",
      "After 150 batches: [time:16.0m 54.87270498275757s, Accuracy: 76.49006622516556]\n",
      "After 155 batches: [time:17.0m 41.9673810005188s, Accuracy: 76.4423076923077]\n",
      "After 160 batches: [time:18.0m 24.14061665534973s, Accuracy: 76.08695652173914]\n",
      "After 165 batches: [time:19.0m 7.67909574508667s, Accuracy: 75.75301204819277]\n",
      "After 170 batches: [time:19.0m 49.427019119262695s, Accuracy: 75.51169590643275]\n",
      "After 175 batches: [time:20.0m 32.93924021720886s, Accuracy: 75.4971590909091]\n",
      "After 180 batches: [time:21.0m 19.26972246170044s, Accuracy: 75.62154696132598]\n",
      "After 185 batches: [time:22.0m 6.270299911499023s, Accuracy: 75.20161290322581]\n",
      "After 190 batches: [time:22.0m 50.764509201049805s, Accuracy: 75.0]\n",
      "Epoch 7: [time:23.0m 27.546045780181885s, Accuracy: 75.12820512820512]\n",
      "\n",
      "Epoch: 8\n",
      "After 0 batches: [time:0.0m 8.96677303314209s, Accuracy: 75.0]\n",
      "After 5 batches: [time:0.0m 51.32327723503113s, Accuracy: 72.91666666666666]\n",
      "After 10 batches: [time:1.0m 35.55396056175232s, Accuracy: 75.0]\n",
      "After 15 batches: [time:2.0m 18.90787935256958s, Accuracy: 75.0]\n",
      "After 20 batches: [time:3.0m 4.922554016113281s, Accuracy: 73.80952380952381]\n",
      "After 25 batches: [time:3.0m 47.206698179244995s, Accuracy: 71.63461538461539]\n",
      "After 30 batches: [time:4.0m 34.22714138031006s, Accuracy: 72.58064516129032]\n",
      "After 35 batches: [time:5.0m 18.441610097885132s, Accuracy: 74.30555555555556]\n",
      "After 40 batches: [time:5.0m 59.968530893325806s, Accuracy: 74.6951219512195]\n",
      "After 45 batches: [time:6.0m 45.962361574172974s, Accuracy: 75.54347826086956]\n",
      "After 50 batches: [time:7.0m 30.147629737854004s, Accuracy: 75.49019607843137]\n",
      "After 55 batches: [time:8.0m 13.676628112792969s, Accuracy: 75.0]\n",
      "After 60 batches: [time:8.0m 56.713069438934326s, Accuracy: 75.0]\n",
      "After 65 batches: [time:9.0m 42.197643518447876s, Accuracy: 74.43181818181817]\n",
      "After 70 batches: [time:10.0m 29.26386070251465s, Accuracy: 74.64788732394366]\n",
      "After 75 batches: [time:11.0m 14.202366352081299s, Accuracy: 75.16447368421053]\n",
      "After 80 batches: [time:12.0m 1.0737476348876953s, Accuracy: 75.61728395061729]\n",
      "After 85 batches: [time:12.0m 47.56444716453552s, Accuracy: 75.87209302325581]\n",
      "After 90 batches: [time:13.0m 35.59325456619263s, Accuracy: 75.82417582417582]\n",
      "After 95 batches: [time:14.0m 24.593594789505005s, Accuracy: 76.5625]\n",
      "After 100 batches: [time:15.0m 14.354048252105713s, Accuracy: 76.36138613861387]\n",
      "After 105 batches: [time:16.0m 4.4604198932647705s, Accuracy: 75.8254716981132]\n",
      "After 110 batches: [time:16.0m 53.37181854248047s, Accuracy: 76.01351351351352]\n",
      "After 115 batches: [time:17.0m 42.442572832107544s, Accuracy: 76.50862068965517]\n",
      "After 120 batches: [time:18.0m 32.44568181037903s, Accuracy: 76.2396694214876]\n",
      "After 125 batches: [time:19.0m 17.880162000656128s, Accuracy: 76.19047619047619]\n",
      "After 130 batches: [time:20.0m 3.6597211360931396s, Accuracy: 76.04961832061069]\n",
      "After 135 batches: [time:20.0m 47.27078914642334s, Accuracy: 76.37867647058823]\n",
      "After 140 batches: [time:21.0m 33.50667333602905s, Accuracy: 76.32978723404256]\n",
      "After 145 batches: [time:22.0m 21.287447690963745s, Accuracy: 76.28424657534246]\n",
      "After 150 batches: [time:23.0m 5.178774356842041s, Accuracy: 76.40728476821192]\n",
      "After 155 batches: [time:23.0m 51.173500299453735s, Accuracy: 76.36217948717949]\n",
      "After 160 batches: [time:24.0m 39.86794948577881s, Accuracy: 76.63043478260869]\n",
      "After 165 batches: [time:25.0m 31.142377614974976s, Accuracy: 76.50602409638554]\n",
      "After 170 batches: [time:26.0m 21.965656757354736s, Accuracy: 76.24269005847954]\n",
      "After 175 batches: [time:27.0m 9.83925747871399s, Accuracy: 75.92329545454545]\n"
     ]
    },
    {
     "name": "stdout",
     "output_type": "stream",
     "text": [
      "After 180 batches: [time:27.0m 57.826990604400635s, Accuracy: 75.75966850828729]\n",
      "After 185 batches: [time:28.0m 45.722530364990234s, Accuracy: 75.8736559139785]\n",
      "After 190 batches: [time:29.0m 35.39851784706116s, Accuracy: 75.98167539267016]\n",
      "Epoch 8: [time:30.0m 15.813932657241821s, Accuracy: 76.15384615384615]\n",
      "\n",
      "Epoch: 9\n",
      "After 0 batches: [time:0.0m 9.978178977966309s, Accuracy: 87.5]\n",
      "After 5 batches: [time:1.0m 0.6009624004364014s, Accuracy: 79.16666666666666]\n",
      "After 10 batches: [time:2.0m 26.951995849609375s, Accuracy: 79.54545454545455]\n",
      "After 15 batches: [time:2.0m 56.807596921920776s, Accuracy: 78.125]\n",
      "After 20 batches: [time:3.0m 22.87855577468872s, Accuracy: 77.97619047619048]\n",
      "After 25 batches: [time:3.0m 48.280611991882324s, Accuracy: 77.40384615384616]\n",
      "After 30 batches: [time:4.0m 13.411540031433105s, Accuracy: 78.62903225806451]\n",
      "After 35 batches: [time:4.0m 38.83564853668213s, Accuracy: 78.81944444444444]\n",
      "After 40 batches: [time:5.0m 4.66265606880188s, Accuracy: 78.04878048780488]\n",
      "After 45 batches: [time:5.0m 29.981971502304077s, Accuracy: 77.17391304347827]\n",
      "After 50 batches: [time:5.0m 55.47536849975586s, Accuracy: 77.20588235294117]\n",
      "After 55 batches: [time:6.0m 21.262465238571167s, Accuracy: 76.78571428571429]\n",
      "After 60 batches: [time:6.0m 46.77973031997681s, Accuracy: 77.25409836065575]\n",
      "After 65 batches: [time:7.0m 12.338990688323975s, Accuracy: 76.70454545454545]\n",
      "After 70 batches: [time:7.0m 39.343793630599976s, Accuracy: 76.05633802816901]\n",
      "After 75 batches: [time:8.0m 5.0346410274505615s, Accuracy: 76.31578947368422]\n",
      "After 80 batches: [time:8.0m 30.929428339004517s, Accuracy: 76.5432098765432]\n",
      "After 85 batches: [time:8.0m 56.756840467453s, Accuracy: 76.59883720930233]\n",
      "After 90 batches: [time:9.0m 22.742876052856445s, Accuracy: 76.0989010989011]\n",
      "After 95 batches: [time:9.0m 48.20730996131897s, Accuracy: 75.91145833333334]\n",
      "After 100 batches: [time:10.0m 15.140362977981567s, Accuracy: 75.74257425742574]\n",
      "After 105 batches: [time:10.0m 40.78003931045532s, Accuracy: 75.8254716981132]\n",
      "After 110 batches: [time:11.0m 6.378829479217529s, Accuracy: 76.01351351351352]\n",
      "After 115 batches: [time:11.0m 35.60699439048767s, Accuracy: 75.53879310344827]\n",
      "After 120 batches: [time:12.0m 3.0728180408477783s, Accuracy: 76.13636363636364]\n",
      "After 125 batches: [time:12.0m 30.723081350326538s, Accuracy: 76.09126984126983]\n",
      "After 130 batches: [time:12.0m 57.318071365356445s, Accuracy: 76.04961832061069]\n",
      "After 135 batches: [time:13.0m 23.422789573669434s, Accuracy: 75.82720588235294]\n",
      "After 140 batches: [time:13.0m 49.68349552154541s, Accuracy: 75.62056737588652]\n",
      "After 145 batches: [time:14.0m 16.200557947158813s, Accuracy: 75.85616438356165]\n",
      "After 150 batches: [time:14.0m 42.70420956611633s, Accuracy: 75.82781456953643]\n",
      "After 155 batches: [time:15.0m 10.206539392471313s, Accuracy: 75.96153846153845]\n",
      "After 160 batches: [time:15.0m 36.88724899291992s, Accuracy: 75.93167701863354]\n",
      "After 165 batches: [time:16.0m 3.70005202293396s, Accuracy: 76.20481927710844]\n",
      "After 170 batches: [time:16.0m 30.459532260894775s, Accuracy: 75.87719298245614]\n",
      "After 175 batches: [time:16.0m 57.14126992225647s, Accuracy: 75.92329545454545]\n",
      "After 180 batches: [time:17.0m 23.51971983909607s, Accuracy: 75.82872928176796]\n",
      "After 185 batches: [time:17.0m 50.156153440475464s, Accuracy: 75.80645161290323]\n",
      "After 190 batches: [time:18.0m 16.457255125045776s, Accuracy: 75.78534031413614]\n",
      "Epoch 9: [time:18.0m 37.57649374008179s, Accuracy: 76.02564102564102]\n",
      "\n",
      "Epoch: 10\n",
      "After 0 batches: [time:0.0m 5.335845708847046s, Accuracy: 87.5]\n",
      "After 5 batches: [time:0.0m 31.909805059432983s, Accuracy: 81.25]\n",
      "After 10 batches: [time:0.0m 58.72585678100586s, Accuracy: 85.22727272727273]\n",
      "After 15 batches: [time:1.0m 25.42897939682007s, Accuracy: 83.59375]\n",
      "After 20 batches: [time:1.0m 52.08724069595337s, Accuracy: 83.92857142857143]\n",
      "After 25 batches: [time:2.0m 18.54907202720642s, Accuracy: 81.25]\n",
      "After 30 batches: [time:2.0m 45.81872916221619s, Accuracy: 81.45161290322581]\n",
      "After 35 batches: [time:3.0m 13.494267225265503s, Accuracy: 81.94444444444444]\n",
      "After 40 batches: [time:3.0m 40.02650713920593s, Accuracy: 82.3170731707317]\n",
      "After 45 batches: [time:4.0m 6.620770454406738s, Accuracy: 83.15217391304348]\n",
      "After 50 batches: [time:4.0m 33.8628716468811s, Accuracy: 82.35294117647058]\n",
      "After 55 batches: [time:5.0m 0.5828781127929688s, Accuracy: 81.91964285714286]\n",
      "After 60 batches: [time:5.0m 27.107515811920166s, Accuracy: 80.73770491803278]\n",
      "After 65 batches: [time:5.0m 53.39871549606323s, Accuracy: 80.49242424242425]\n",
      "After 70 batches: [time:6.0m 19.914716005325317s, Accuracy: 80.28169014084507]\n",
      "After 75 batches: [time:6.0m 46.78141379356384s, Accuracy: 79.93421052631578]\n",
      "After 80 batches: [time:7.0m 13.597258567810059s, Accuracy: 79.16666666666666]\n",
      "After 85 batches: [time:7.0m 40.26346039772034s, Accuracy: 78.77906976744185]\n",
      "After 90 batches: [time:8.0m 6.918317794799805s, Accuracy: 78.70879120879121]\n",
      "After 95 batches: [time:8.0m 33.56257367134094s, Accuracy: 78.64583333333334]\n",
      "After 100 batches: [time:9.0m 0.06377029418945312s, Accuracy: 78.96039603960396]\n",
      "After 105 batches: [time:9.0m 26.50110125541687s, Accuracy: 78.89150943396226]\n",
      "After 110 batches: [time:9.0m 53.50973701477051s, Accuracy: 79.16666666666666]\n",
      "After 115 batches: [time:10.0m 21.413750171661377s, Accuracy: 78.66379310344827]\n",
      "After 120 batches: [time:10.0m 49.16419458389282s, Accuracy: 78.20247933884298]\n",
      "After 125 batches: [time:11.0m 16.61101508140564s, Accuracy: 78.37301587301587]\n",
      "After 130 batches: [time:12.0m 4.881525993347168s, Accuracy: 78.2442748091603]\n",
      "After 135 batches: [time:13.0m 13.100300550460815s, Accuracy: 77.84926470588235]\n",
      "After 140 batches: [time:14.0m 1.9865248203277588s, Accuracy: 77.92553191489363]\n",
      "After 145 batches: [time:14.0m 48.662487268447876s, Accuracy: 77.91095890410958]\n",
      "After 150 batches: [time:15.0m 35.55089473724365s, Accuracy: 78.31125827814569]\n",
      "After 155 batches: [time:16.0m 22.861101627349854s, Accuracy: 78.36538461538461]\n",
      "After 160 batches: [time:17.0m 10.167625188827515s, Accuracy: 78.26086956521739]\n",
      "After 165 batches: [time:18.0m 2.31882905960083s, Accuracy: 77.78614457831326]\n",
      "After 170 batches: [time:18.0m 49.00416946411133s, Accuracy: 77.85087719298247]\n",
      "After 175 batches: [time:19.0m 36.11421465873718s, Accuracy: 77.6278409090909]\n",
      "After 180 batches: [time:20.0m 23.58010768890381s, Accuracy: 77.4171270718232]\n",
      "After 185 batches: [time:21.0m 10.66965365409851s, Accuracy: 77.21774193548387]\n",
      "After 190 batches: [time:21.0m 58.408305406570435s, Accuracy: 77.09424083769633]\n",
      "Epoch 10: [time:22.0m 36.211846351623535s, Accuracy: 77.24358974358975]\n",
      "\n",
      "Training time: 223.0m 42.615771532058716s\n"
     ]
    }
   ],
   "source": [
    "torch.manual_seed(6721)\n",
    "np.random.seed(6721)\n",
    "\n",
    "net.train()\n",
    "\n",
    "t = time.time()\n",
    "for i in range(num_epoch):\n",
    "    print(f'Epoch: {i+1}')\n",
    "    t_epoch = time.time()\n",
    "    total_labels = 0\n",
    "    correctly_pred = 0\n",
    "    t_batch = time.time()\n",
    "    for j, (data, labels) in enumerate(train_dataloader):\n",
    "        torch.cuda.empty_cache()\n",
    "        gc.collect()\n",
    "        data, labels = data.to(device), labels.to(device)\n",
    "        X, y = data, labels\n",
    "        optimizer.zero_grad()\n",
    "        output = net(X)\n",
    "        loss = loss_evaluater(output, y)\n",
    "        loss.backward()\n",
    "        optimizer.step()\n",
    "        y_pred = torch.argmax(output, dim=1)\n",
    "        total_labels += y.size(0)\n",
    "        correctly_pred += (y_pred==y).sum().item()\n",
    "        current_acc = (correctly_pred/total_labels)\n",
    "        if j%5==0:\n",
    "            seconds_passed = time.time()-t_batch\n",
    "            print(f'After {j} batches: [time:{seconds_passed//60}m {seconds_passed%60}s, Accuracy: {current_acc*100}]')\n",
    "    epoch_acc = (correctly_pred/total_labels)\n",
    "    seconds_passed = time.time()-t_epoch\n",
    "    print(f'Epoch {i+1}: [time:{seconds_passed//60}m {seconds_passed%60}s, Accuracy: {epoch_acc*100}]')\n",
    "    print()\n",
    "seconds_passed = time.time()-t\n",
    "print(f'Training time: {seconds_passed//60}m {seconds_passed%60}s')"
   ]
  },
  {
   "cell_type": "markdown",
   "metadata": {},
   "source": [
    "### 2.5. Training Evaluation"
   ]
  },
  {
   "cell_type": "code",
   "execution_count": 13,
   "metadata": {},
   "outputs": [
    {
     "name": "stdout",
     "output_type": "stream",
     "text": [
      "After 0 batches: [time:0.0m 3.6258797645568848s, Accuracy: 75.0]\n",
      "After 5 batches: [time:0.0m 20.573765516281128s, Accuracy: 77.08333333333334]\n",
      "After 10 batches: [time:0.0m 37.09815716743469s, Accuracy: 75.0]\n",
      "After 15 batches: [time:0.0m 54.15798044204712s, Accuracy: 76.5625]\n",
      "After 20 batches: [time:1.0m 11.288614749908447s, Accuracy: 73.80952380952381]\n",
      "After 25 batches: [time:1.0m 28.34348964691162s, Accuracy: 77.40384615384616]\n",
      "After 30 batches: [time:1.0m 45.439443588256836s, Accuracy: 75.80645161290323]\n",
      "After 35 batches: [time:2.0m 2.544782876968384s, Accuracy: 76.04166666666666]\n",
      "After 40 batches: [time:2.0m 19.7333242893219s, Accuracy: 75.91463414634147]\n",
      "After 45 batches: [time:2.0m 36.9036283493042s, Accuracy: 76.08695652173914]\n",
      "After 50 batches: [time:2.0m 54.0145742893219s, Accuracy: 75.98039215686273]\n",
      "After 55 batches: [time:3.0m 11.201019763946533s, Accuracy: 76.11607142857143]\n",
      "After 60 batches: [time:3.0m 28.41709876060486s, Accuracy: 76.22950819672131]\n",
      "After 65 batches: [time:3.0m 45.582897901535034s, Accuracy: 77.08333333333334]\n",
      "After 70 batches: [time:4.0m 1.6181199550628662s, Accuracy: 77.8169014084507]\n",
      "After 75 batches: [time:4.0m 17.318246364593506s, Accuracy: 78.125]\n",
      "After 80 batches: [time:4.0m 32.423503398895264s, Accuracy: 77.62345679012346]\n",
      "After 85 batches: [time:4.0m 47.45891761779785s, Accuracy: 77.61627906976744]\n",
      "After 90 batches: [time:5.0m 2.0699689388275146s, Accuracy: 77.1978021978022]\n",
      "After 95 batches: [time:5.0m 17.482606410980225s, Accuracy: 76.953125]\n",
      "After 100 batches: [time:5.0m 32.608558177948s, Accuracy: 76.60891089108911]\n",
      "After 105 batches: [time:5.0m 49.26948022842407s, Accuracy: 77.00471698113208]\n",
      "After 110 batches: [time:6.0m 4.958556890487671s, Accuracy: 77.36486486486487]\n",
      "After 115 batches: [time:6.0m 20.25945520401001s, Accuracy: 77.80172413793103]\n",
      "After 120 batches: [time:6.0m 35.60861825942993s, Accuracy: 77.1694214876033]\n",
      "After 125 batches: [time:6.0m 50.93157076835632s, Accuracy: 76.48809523809523]\n",
      "After 130 batches: [time:7.0m 6.310661792755127s, Accuracy: 76.7175572519084]\n",
      "After 135 batches: [time:7.0m 22.673229694366455s, Accuracy: 76.65441176470588]\n",
      "After 140 batches: [time:7.0m 37.89383292198181s, Accuracy: 76.68439716312056]\n",
      "After 145 batches: [time:7.0m 54.530864238739014s, Accuracy: 76.36986301369863]\n",
      "After 150 batches: [time:8.0m 9.793399810791016s, Accuracy: 76.65562913907284]\n",
      "After 155 batches: [time:8.0m 24.828875303268433s, Accuracy: 76.6826923076923]\n",
      "After 160 batches: [time:8.0m 40.231301069259644s, Accuracy: 76.63043478260869]\n",
      "After 165 batches: [time:8.0m 56.01401710510254s, Accuracy: 76.88253012048193]\n",
      "After 170 batches: [time:9.0m 11.129920482635498s, Accuracy: 77.3391812865497]\n",
      "After 175 batches: [time:9.0m 26.085238695144653s, Accuracy: 77.41477272727273]\n",
      "After 180 batches: [time:9.0m 40.977941274642944s, Accuracy: 77.69337016574586]\n",
      "After 185 batches: [time:9.0m 55.71613144874573s, Accuracy: 77.88978494623656]\n",
      "After 190 batches: [time:10.0m 14.242112398147583s, Accuracy: 78.20680628272252]\n",
      "Training accuracy: 78.2051282051282\n",
      "Trainig evaluation time: 10.0m 27.223520755767822s\n"
     ]
    }
   ],
   "source": [
    "torch.manual_seed(6721)\n",
    "np.random.seed(6721)\n",
    "\n",
    "t = time.time()\n",
    "device = torch.device('cuda' if torch.cuda.is_available() else 'cpu')\n",
    "device = torch.device('cpu')\n",
    "\n",
    "net.eval()\n",
    "\n",
    "with torch.no_grad():\n",
    "    total_labels = 0\n",
    "    correctly_pred = 0\n",
    "    t_batch = time.time()\n",
    "    for i, (data, labels) in enumerate(train_dataloader):\n",
    "        data,labels = data.to(device), labels.to(device)\n",
    "        gc.collect()\n",
    "        X, y = data, labels\n",
    "        output = net(X)\n",
    "        y_pred = torch.argmax(output, dim=1)\n",
    "        total_labels += y.size(0)\n",
    "        correctly_pred += (y_pred==y).sum().item()\n",
    "        current_acc = (correctly_pred/total_labels)\n",
    "        if i%5==0:\n",
    "            seconds_passed = time.time()-t_batch\n",
    "            print(f'After {i} batches: [time:{seconds_passed//60}m {seconds_passed%60}s, Accuracy: {current_acc*100}]')\n",
    "    train_acc = (correctly_pred/total_labels)\n",
    "    print(f'Training accuracy: {train_acc*100}')\n",
    "seconds_passed = time.time()-t\n",
    "\n",
    "print(f'Trainig evaluation time: {seconds_passed//60}m {seconds_passed%60}s')"
   ]
  },
  {
   "cell_type": "markdown",
   "metadata": {},
   "source": [
    "### 2.6. Testing Evaluation"
   ]
  },
  {
   "cell_type": "code",
   "execution_count": 31,
   "metadata": {},
   "outputs": [
    {
     "name": "stdout",
     "output_type": "stream",
     "text": [
      "After 0 batches: [time:0.0m 4.113535404205322s, Accuracy: 50.0]\n",
      "After 5 batches: [time:3.0m 7.448493719100952s, Accuracy: 64.58333333333334]\n",
      "After 10 batches: [time:3.0m 19.95995545387268s, Accuracy: 69.31818181818183]\n",
      "After 15 batches: [time:3.0m 30.79904794692993s, Accuracy: 67.96875]\n",
      "After 20 batches: [time:3.0m 42.44376254081726s, Accuracy: 70.83333333333334]\n",
      "After 25 batches: [time:3.0m 53.27671027183533s, Accuracy: 69.23076923076923]\n",
      "After 30 batches: [time:4.0m 5.461142301559448s, Accuracy: 68.54838709677419]\n",
      "After 35 batches: [time:4.0m 15.99108099937439s, Accuracy: 69.44444444444444]\n",
      "Test accuracy: 70.0\n",
      "Test time: 4.0m 19.457459449768066s\n"
     ]
    }
   ],
   "source": [
    "torch.manual_seed(6721)\n",
    "np.random.seed(6721)\n",
    "\n",
    "net.eval()\n",
    "\n",
    "t = time.time()\n",
    "device = torch.device('cuda' if torch.cuda.is_available() else 'cpu')\n",
    "device = torch.device('cpu')\n",
    "\n",
    "total_labels = 0\n",
    "correctly_pred = 0\n",
    "t_batch = time.time()\n",
    "test_batch=[]\n",
    "pred_batch=[]\n",
    "\n",
    "for i, (data, labels) in enumerate(test_dataloader):\n",
    "    torch.cuda.empty_cache()\n",
    "    data, labels = data.to(device), labels.to(device)\n",
    "    gc.collect()\n",
    "    X, y = data, labels\n",
    "    test_batch.extend(y.tolist())\n",
    "    output = net(X)\n",
    "    y_pred = torch.argmax(output, dim=1)\n",
    "    pred_batch.extend(y_pred.tolist())\n",
    "    total_labels += y.size(0)\n",
    "    correctly_pred += (y_pred==y).sum().item()\n",
    "    current_acc = (correctly_pred/total_labels)\n",
    "    if i%5==0:\n",
    "        seconds_passed = time.time()-t_batch\n",
    "        print(f'After {i} batches: [time:{seconds_passed//60}m {seconds_passed%60}s, Accuracy: {current_acc*100}]')\n",
    "\n",
    "test_acc = (correctly_pred/total_labels)\n",
    "print(f'Test accuracy: {test_acc*100}')\n",
    "seconds_passed = time.time()-t\n",
    "print(f'Test time: {seconds_passed//60}m {seconds_passed%60}s')"
   ]
  },
  {
   "cell_type": "code",
   "execution_count": 26,
   "metadata": {},
   "outputs": [
    {
     "data": {
      "text/plain": [
       "[]"
      ]
     },
     "execution_count": 26,
     "metadata": {},
     "output_type": "execute_result"
    }
   ],
   "source": []
  },
  {
   "cell_type": "markdown",
   "metadata": {},
   "source": [
    "### 2.7. Saving pretrained Model"
   ]
  },
  {
   "cell_type": "code",
   "execution_count": 15,
   "metadata": {},
   "outputs": [],
   "source": [
    "torch.manual_seed(6721)\n",
    "np.random.seed(6721)\n",
    "\n",
    "file_path = './temp/2.pt'\n",
    "\n",
    "state = {\n",
    "    'epoch': num_epoch,\n",
    "    'state_dict': net.state_dict(),\n",
    "    'optimizer': optimizer.state_dict(),\n",
    "    'lr': lr\n",
    "}\n",
    "\n",
    "torch.save(state, file_path)"
   ]
  },
  {
   "cell_type": "markdown",
   "metadata": {},
   "source": [
    "### 2.8. Loading Pretrained Model"
   ]
  },
  {
   "cell_type": "markdown",
   "metadata": {},
   "source": [
    "Loading Pretrained Model"
   ]
  },
  {
   "cell_type": "code",
   "execution_count": 17,
   "metadata": {},
   "outputs": [
    {
     "name": "stdout",
     "output_type": "stream",
     "text": [
      "Model Loaded Successfully\n"
     ]
    }
   ],
   "source": [
    "torch.manual_seed(6721)\n",
    "np.random.seed(6721)\n",
    "\n",
    "from torch.optim import SGD, Adam\n",
    "from torch.nn import CrossEntropyLoss\n",
    "import time\n",
    "from sklearn import metrics\n",
    "from torch.nn import Sequential, Module, Conv2d, MaxPool2d, Linear, ReLU, Dropout, BatchNorm2d, LeakyReLU, AdaptiveAvgPool2d, Flatten\n",
    "from torchvision.transforms import ToTensor, Compose, Normalize\n",
    "import torch\n",
    "from torch.utils.data import DataLoader, Subset\n",
    "from torchvision.datasets import ImageFolder\n",
    "from torchvision.transforms import ToTensor, Compose, Normalize\n",
    "from torch.utils.data import DataLoader, Subset\n",
    "from torchvision.datasets import ImageFolder\n",
    "import gc\n",
    "from PIL import Image\n",
    "from torchvision.datasets import VisionDataset\n",
    "import pandas as pd\n",
    "import os\n",
    "from skimage import io as sk_io, transform as sk_transform\n",
    "import numpy as np\n",
    "from sklearn.utils import shuffle\n",
    "from PIL import Image\n",
    "\n",
    "file_path = './temp/2.pt'\n",
    "\n",
    "state = torch.load(file_path)\n",
    "\n",
    "loaded_net = ProjectModel()\n",
    "loaded_net.load_state_dict(state['state_dict'])\n",
    "\n",
    "loaded_lr = state['lr']\n",
    "loaded_loss_evaluater = CrossEntropyLoss()\n",
    "loaded_optimizer = Adam(loaded_net.parameters(), lr=loaded_lr)\n",
    "loaded_optimizer.load_state_dict(state['optimizer'])\n",
    "\n",
    "loaded_num_epoch = state['epoch']\n",
    "print('Model Loaded Successfully')"
   ]
  },
  {
   "cell_type": "markdown",
   "metadata": {},
   "source": [
    "Testing loaded pretrained Model"
   ]
  },
  {
   "cell_type": "code",
   "execution_count": null,
   "metadata": {},
   "outputs": [],
   "source": [
    "data_dir_test_female = './data/2/test_female/'\n",
    "\n",
    "test_dataset_female = ImageFolder(\n",
    "    root=data_dir_test_female\n",
    "    ,transform=data_transform\n",
    ")\n",
    "print(f'Test dataset: size: {len(test_dataset_female)}')\n",
    "\n",
    "test_dataloader_female = DataLoader(test_dataset_female, batch_size=8, shuffle=True)\n",
    "for data, labels in test_dataloader:\n",
    "    print(f'Test X | y batch shapes : {data.shape, labels.shape}')\n",
    "    break"
   ]
  },
  {
   "cell_type": "code",
   "execution_count": 18,
   "metadata": {},
   "outputs": [
    {
     "ename": "NameError",
     "evalue": "name 'test_dataloader_female' is not defined",
     "output_type": "error",
     "traceback": [
      "\u001b[1;31m---------------------------------------------------------------------------\u001b[0m",
      "\u001b[1;31mNameError\u001b[0m                                 Traceback (most recent call last)",
      "\u001b[1;32m<ipython-input-18-4cf2318233e8>\u001b[0m in \u001b[0;36m<module>\u001b[1;34m\u001b[0m\n\u001b[0;32m     12\u001b[0m \u001b[0mpred_batch\u001b[0m\u001b[1;33m=\u001b[0m\u001b[1;33m[\u001b[0m\u001b[1;33m]\u001b[0m\u001b[1;33m\u001b[0m\u001b[1;33m\u001b[0m\u001b[0m\n\u001b[0;32m     13\u001b[0m \u001b[1;33m\u001b[0m\u001b[0m\n\u001b[1;32m---> 14\u001b[1;33m \u001b[1;32mfor\u001b[0m \u001b[0mi\u001b[0m\u001b[1;33m,\u001b[0m \u001b[1;33m(\u001b[0m\u001b[0mdata\u001b[0m\u001b[1;33m,\u001b[0m \u001b[0mlabels\u001b[0m\u001b[1;33m)\u001b[0m \u001b[1;32min\u001b[0m \u001b[0menumerate\u001b[0m\u001b[1;33m(\u001b[0m\u001b[0mtest_dataloader_female\u001b[0m\u001b[1;33m)\u001b[0m\u001b[1;33m:\u001b[0m\u001b[1;33m\u001b[0m\u001b[1;33m\u001b[0m\u001b[0m\n\u001b[0m\u001b[0;32m     15\u001b[0m     \u001b[0mtorch\u001b[0m\u001b[1;33m.\u001b[0m\u001b[0mcuda\u001b[0m\u001b[1;33m.\u001b[0m\u001b[0mempty_cache\u001b[0m\u001b[1;33m(\u001b[0m\u001b[1;33m)\u001b[0m\u001b[1;33m\u001b[0m\u001b[1;33m\u001b[0m\u001b[0m\n\u001b[0;32m     16\u001b[0m     \u001b[0mdata\u001b[0m\u001b[1;33m,\u001b[0m \u001b[0mlabels\u001b[0m \u001b[1;33m=\u001b[0m \u001b[0mdata\u001b[0m\u001b[1;33m.\u001b[0m\u001b[0mto\u001b[0m\u001b[1;33m(\u001b[0m\u001b[0mdevice\u001b[0m\u001b[1;33m)\u001b[0m\u001b[1;33m,\u001b[0m \u001b[0mlabels\u001b[0m\u001b[1;33m.\u001b[0m\u001b[0mto\u001b[0m\u001b[1;33m(\u001b[0m\u001b[0mdevice\u001b[0m\u001b[1;33m)\u001b[0m\u001b[1;33m\u001b[0m\u001b[1;33m\u001b[0m\u001b[0m\n",
      "\u001b[1;31mNameError\u001b[0m: name 'test_dataloader_female' is not defined"
     ]
    }
   ],
   "source": [
    "torch.manual_seed(6721)\n",
    "np.random.seed(6721)\n",
    "\n",
    "loaded_net.eval()\n",
    "\n",
    "t = time.time()\n",
    "\n",
    "total_labels = 0\n",
    "correctly_pred = 0\n",
    "t_batch = time.time()\n",
    "test_batch=[]\n",
    "pred_batch=[]\n",
    "\n",
    "for i, (data, labels) in enumerate(test_dataloader_female):\n",
    "    torch.cuda.empty_cache()\n",
    "    data, labels = data.to(device), labels.to(device)\n",
    "    gc.collect()\n",
    "    X, y = data, labels\n",
    "    test_batch.extend(y.tolist())\n",
    "    output = loaded_net(X)\n",
    "    y_pred = torch.argmax(output, dim=1)\n",
    "    pred_batch.extend(y_pred.tolist())\n",
    "    total_labels += y.size(0)\n",
    "    correctly_pred += (y_pred==y).sum().item()\n",
    "    current_acc = (correctly_pred/total_labels)\n",
    "    if i%5==0:\n",
    "        seconds_passed = time.time()-t_batch\n",
    "        print(f'After {i} batches: [time:{seconds_passed//60}m {seconds_passed%60}s, Accuracy: {current_acc*100}]')\n",
    "\n",
    "test_acc = (correctly_pred/total_labels)\n",
    "print(f'Test accuracy: {test_acc*100}')\n",
    "seconds_passed = time.time()-t\n",
    "print(f'Test time: {seconds_passed//60}m {seconds_passed%60}s')"
   ]
  },
  {
   "cell_type": "markdown",
   "metadata": {},
   "source": [
    "# 3. Model Evaluation"
   ]
  },
  {
   "cell_type": "markdown",
   "metadata": {},
   "source": [
    "### 3.1 Initialization"
   ]
  },
  {
   "cell_type": "code",
   "execution_count": 32,
   "metadata": {},
   "outputs": [],
   "source": [
    "torch.manual_seed(6721)\n",
    "np.random.seed(6721)\n",
    "\n",
    "from sklearn import metrics\n",
    "\n",
    "mask_index=test_dataset.class_to_idx['mask']\n",
    "no_mask_index=test_dataset.class_to_idx['no_mask']\n",
    "not_person_index=test_dataset.class_to_idx['not_person']\n",
    "\n",
    "confusion_metrics_final=metrics.confusion_matrix(test_batch,pred_batch)\n",
    "precision_final=metrics.precision_score(test_batch, pred_batch, average=None)\n",
    "recall_final=metrics.recall_score(test_batch, pred_batch, average=None)\n",
    "f1_final=metrics.f1_score(test_batch, pred_batch, average=None)"
   ]
  },
  {
   "cell_type": "markdown",
   "metadata": {},
   "source": [
    "### 3.2. Accuracy"
   ]
  },
  {
   "cell_type": "code",
   "execution_count": 33,
   "metadata": {},
   "outputs": [
    {
     "name": "stdout",
     "output_type": "stream",
     "text": [
      "Accuracy for the model is 70.0 %\n"
     ]
    }
   ],
   "source": [
    "print(f'Accuracy for the model is {test_acc*100} %')"
   ]
  },
  {
   "cell_type": "markdown",
   "metadata": {},
   "source": [
    "### 3.3. Precision"
   ]
  },
  {
   "cell_type": "code",
   "execution_count": 34,
   "metadata": {},
   "outputs": [
    {
     "name": "stdout",
     "output_type": "stream",
     "text": [
      "Precision for the class mask is 66.66666666666666 %\n",
      "Precision for the class no_mask is 57.89473684210527 %\n",
      "Precision for the class not_person is 97.1830985915493 %\n"
     ]
    }
   ],
   "source": [
    "print(f'Precision for the class mask is {precision_final[mask_index]*100} %')\n",
    "print(f'Precision for the class no_mask is {precision_final[no_mask_index]*100} %')\n",
    "print(f'Precision for the class not_person is {precision_final[not_person_index]*100} %')"
   ]
  },
  {
   "cell_type": "markdown",
   "metadata": {},
   "source": [
    "### 3.4. Recall"
   ]
  },
  {
   "cell_type": "code",
   "execution_count": 35,
   "metadata": {},
   "outputs": [
    {
     "name": "stdout",
     "output_type": "stream",
     "text": [
      "Recall for the class mask is 64.0 %\n",
      "Recall for the class no_mask is 77.0 %\n",
      "Recall for the class not_person is 69.0 %\n"
     ]
    }
   ],
   "source": [
    "print(f'Recall for the class mask is {recall_final[mask_index]*100} %')\n",
    "print(f'Recall for the class no_mask is {recall_final[no_mask_index]*100} %')\n",
    "print(f'Recall for the class not_person is {recall_final[not_person_index]*100} %')"
   ]
  },
  {
   "cell_type": "markdown",
   "metadata": {},
   "source": [
    "### 3.5. F1 Score"
   ]
  },
  {
   "cell_type": "code",
   "execution_count": 36,
   "metadata": {},
   "outputs": [
    {
     "name": "stdout",
     "output_type": "stream",
     "text": [
      "F1 Score for the class mask is 65.3061224489796 %\n",
      "F1 Score for the class no_mask is 66.09442060085837 %\n",
      "F1 Score for the class not_person is 80.70175438596492 %\n"
     ]
    }
   ],
   "source": [
    "print(f'F1 Score for the class mask is {f1_final[mask_index]*100} %')\n",
    "print(f'F1 Score for the class no_mask is {f1_final[no_mask_index]*100} %')\n",
    "print(f'F1 Score for the class not_person is {f1_final[not_person_index]*100} %')"
   ]
  },
  {
   "cell_type": "markdown",
   "metadata": {},
   "source": [
    "### 3.6. Confusion Matrix"
   ]
  },
  {
   "cell_type": "code",
   "execution_count": 37,
   "metadata": {},
   "outputs": [
    {
     "data": {
      "text/plain": [
       "<sklearn.metrics._plot.confusion_matrix.ConfusionMatrixDisplay at 0x1d47adc8eb0>"
      ]
     },
     "execution_count": 37,
     "metadata": {},
     "output_type": "execute_result"
    },
    {
     "data": {
      "image/png": "[encoded data removed]",
      "text/plain": [
       "<Figure size 432x288 with 2 Axes>"
      ]
     },
     "metadata": {
      "needs_background": "light"
     },
     "output_type": "display_data"
    }
   ],
   "source": [
    "import matplotlib.pyplot as plt\n",
    "from sklearn.metrics import confusion_matrix, ConfusionMatrixDisplay\n",
    "torch.manual_seed(6721)\n",
    "np.random.seed(6721)\n",
    "\n",
    "cm = confusion_matrix(test_batch, pred_batch, normalize='all')*100\n",
    "cmd = ConfusionMatrixDisplay(cm, display_labels=['mask', 'no_mask', 'not_person'])\n",
    "fig = plt.figure()\n",
    "ax = fig.add_subplot(111)\n",
    "ax.set_title('Confusion Matrix(%)')\n",
    "cmd.plot(ax=ax)\n"
   ]
  },
  {
   "cell_type": "markdown",
   "metadata": {},
   "source": [
    "# == End =="
   ]
  },
  {
   "cell_type": "code",
   "execution_count": null,
   "metadata": {},
   "outputs": [],
   "source": []
  }
 ],
 "metadata": {
  "kernelspec": {
   "display_name": "Python [conda env:comp6721]",
   "language": "python",
   "name": "conda-env-comp6721-py"
  },
  "language_info": {
   "codemirror_mode": {
    "name": "ipython",
    "version": 3
   },
   "file_extension": ".py",
   "mimetype": "text/x-python",
   "name": "python",
   "nbconvert_exporter": "python",
   "pygments_lexer": "ipython3",
   "version": "3.9.4"
  }
 },
 "nbformat": 4,
 "nbformat_minor": 4
}
